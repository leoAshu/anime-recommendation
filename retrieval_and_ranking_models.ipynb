{
 "cells": [
  {
   "cell_type": "code",
   "execution_count": 1,
   "id": "04fbe67c",
   "metadata": {
    "execution": {
     "iopub.execute_input": "2023-04-30T06:43:48.970658Z",
     "iopub.status.busy": "2023-04-30T06:43:48.969702Z",
     "iopub.status.idle": "2023-04-30T06:44:14.039071Z",
     "shell.execute_reply": "2023-04-30T06:44:14.037590Z"
    },
    "papermill": {
     "duration": 25.092965,
     "end_time": "2023-04-30T06:44:14.042130",
     "exception": false,
     "start_time": "2023-04-30T06:43:48.949165",
     "status": "completed"
    },
    "tags": []
   },
   "outputs": [
    {
     "name": "stdout",
     "output_type": "stream",
     "text": [
      "Collecting tensorflow-recommenders\r\n",
      "  Downloading tensorflow_recommenders-0.7.3-py3-none-any.whl (96 kB)\r\n",
      "\u001b[2K     \u001b[90m━━━━━━━━━━━━━━━━━━━━━━━━━━━━━━━━━━━━━━━━\u001b[0m \u001b[32m96.2/96.2 kB\u001b[0m \u001b[31m4.4 MB/s\u001b[0m eta \u001b[36m0:00:00\u001b[0m\r\n",
      "\u001b[?25hRequirement already satisfied: tensorflow>=2.9.0 in /opt/conda/lib/python3.7/site-packages (from tensorflow-recommenders) (2.11.0)\r\n",
      "Requirement already satisfied: absl-py>=0.1.6 in /opt/conda/lib/python3.7/site-packages (from tensorflow-recommenders) (1.4.0)\r\n",
      "Requirement already satisfied: wrapt>=1.11.0 in /opt/conda/lib/python3.7/site-packages (from tensorflow>=2.9.0->tensorflow-recommenders) (1.14.1)\r\n",
      "Requirement already satisfied: grpcio<2.0,>=1.24.3 in /opt/conda/lib/python3.7/site-packages (from tensorflow>=2.9.0->tensorflow-recommenders) (1.51.1)\r\n",
      "Requirement already satisfied: typing-extensions>=3.6.6 in /opt/conda/lib/python3.7/site-packages (from tensorflow>=2.9.0->tensorflow-recommenders) (4.4.0)\r\n",
      "Collecting protobuf<3.20,>=3.9.2\r\n",
      "  Downloading protobuf-3.19.6-cp37-cp37m-manylinux_2_17_x86_64.manylinux2014_x86_64.whl (1.1 MB)\r\n",
      "\u001b[2K     \u001b[90m━━━━━━━━━━━━━━━━━━━━━━━━━━━━━━━━━━━━━━━━\u001b[0m \u001b[32m1.1/1.1 MB\u001b[0m \u001b[31m26.4 MB/s\u001b[0m eta \u001b[36m0:00:00\u001b[0m\r\n",
      "\u001b[?25hRequirement already satisfied: flatbuffers>=2.0 in /opt/conda/lib/python3.7/site-packages (from tensorflow>=2.9.0->tensorflow-recommenders) (23.1.21)\r\n",
      "Requirement already satisfied: astunparse>=1.6.0 in /opt/conda/lib/python3.7/site-packages (from tensorflow>=2.9.0->tensorflow-recommenders) (1.6.3)\r\n",
      "Requirement already satisfied: google-pasta>=0.1.1 in /opt/conda/lib/python3.7/site-packages (from tensorflow>=2.9.0->tensorflow-recommenders) (0.2.0)\r\n",
      "Requirement already satisfied: libclang>=13.0.0 in /opt/conda/lib/python3.7/site-packages (from tensorflow>=2.9.0->tensorflow-recommenders) (15.0.6.1)\r\n",
      "Requirement already satisfied: termcolor>=1.1.0 in /opt/conda/lib/python3.7/site-packages (from tensorflow>=2.9.0->tensorflow-recommenders) (2.2.0)\r\n",
      "Requirement already satisfied: h5py>=2.9.0 in /opt/conda/lib/python3.7/site-packages (from tensorflow>=2.9.0->tensorflow-recommenders) (3.8.0)\r\n",
      "Requirement already satisfied: keras<2.12,>=2.11.0 in /opt/conda/lib/python3.7/site-packages (from tensorflow>=2.9.0->tensorflow-recommenders) (2.11.0)\r\n",
      "Requirement already satisfied: numpy>=1.20 in /opt/conda/lib/python3.7/site-packages (from tensorflow>=2.9.0->tensorflow-recommenders) (1.21.6)\r\n",
      "Requirement already satisfied: tensorflow-estimator<2.12,>=2.11.0 in /opt/conda/lib/python3.7/site-packages (from tensorflow>=2.9.0->tensorflow-recommenders) (2.11.0)\r\n",
      "Requirement already satisfied: tensorflow-io-gcs-filesystem>=0.23.1 in /opt/conda/lib/python3.7/site-packages (from tensorflow>=2.9.0->tensorflow-recommenders) (0.29.0)\r\n",
      "Requirement already satisfied: opt-einsum>=2.3.2 in /opt/conda/lib/python3.7/site-packages (from tensorflow>=2.9.0->tensorflow-recommenders) (3.3.0)\r\n",
      "Requirement already satisfied: packaging in /opt/conda/lib/python3.7/site-packages (from tensorflow>=2.9.0->tensorflow-recommenders) (23.0)\r\n",
      "Requirement already satisfied: setuptools in /opt/conda/lib/python3.7/site-packages (from tensorflow>=2.9.0->tensorflow-recommenders) (59.8.0)\r\n",
      "Requirement already satisfied: gast<=0.4.0,>=0.2.1 in /opt/conda/lib/python3.7/site-packages (from tensorflow>=2.9.0->tensorflow-recommenders) (0.4.0)\r\n",
      "Requirement already satisfied: tensorboard<2.12,>=2.11 in /opt/conda/lib/python3.7/site-packages (from tensorflow>=2.9.0->tensorflow-recommenders) (2.11.2)\r\n",
      "Requirement already satisfied: six>=1.12.0 in /opt/conda/lib/python3.7/site-packages (from tensorflow>=2.9.0->tensorflow-recommenders) (1.16.0)\r\n",
      "Requirement already satisfied: wheel<1.0,>=0.23.0 in /opt/conda/lib/python3.7/site-packages (from astunparse>=1.6.0->tensorflow>=2.9.0->tensorflow-recommenders) (0.38.4)\r\n",
      "Requirement already satisfied: werkzeug>=1.0.1 in /opt/conda/lib/python3.7/site-packages (from tensorboard<2.12,>=2.11->tensorflow>=2.9.0->tensorflow-recommenders) (2.2.3)\r\n",
      "Requirement already satisfied: tensorboard-data-server<0.7.0,>=0.6.0 in /opt/conda/lib/python3.7/site-packages (from tensorboard<2.12,>=2.11->tensorflow>=2.9.0->tensorflow-recommenders) (0.6.1)\r\n",
      "Requirement already satisfied: tensorboard-plugin-wit>=1.6.0 in /opt/conda/lib/python3.7/site-packages (from tensorboard<2.12,>=2.11->tensorflow>=2.9.0->tensorflow-recommenders) (1.8.1)\r\n",
      "Requirement already satisfied: google-auth<3,>=1.6.3 in /opt/conda/lib/python3.7/site-packages (from tensorboard<2.12,>=2.11->tensorflow>=2.9.0->tensorflow-recommenders) (1.35.0)\r\n",
      "Requirement already satisfied: markdown>=2.6.8 in /opt/conda/lib/python3.7/site-packages (from tensorboard<2.12,>=2.11->tensorflow>=2.9.0->tensorflow-recommenders) (3.4.1)\r\n",
      "Requirement already satisfied: google-auth-oauthlib<0.5,>=0.4.1 in /opt/conda/lib/python3.7/site-packages (from tensorboard<2.12,>=2.11->tensorflow>=2.9.0->tensorflow-recommenders) (0.4.6)\r\n",
      "Requirement already satisfied: requests<3,>=2.21.0 in /opt/conda/lib/python3.7/site-packages (from tensorboard<2.12,>=2.11->tensorflow>=2.9.0->tensorflow-recommenders) (2.28.2)\r\n",
      "Requirement already satisfied: pyasn1-modules>=0.2.1 in /opt/conda/lib/python3.7/site-packages (from google-auth<3,>=1.6.3->tensorboard<2.12,>=2.11->tensorflow>=2.9.0->tensorflow-recommenders) (0.2.8)\r\n",
      "Requirement already satisfied: cachetools<5.0,>=2.0.0 in /opt/conda/lib/python3.7/site-packages (from google-auth<3,>=1.6.3->tensorboard<2.12,>=2.11->tensorflow>=2.9.0->tensorflow-recommenders) (4.2.4)\r\n",
      "Requirement already satisfied: rsa<5,>=3.1.4 in /opt/conda/lib/python3.7/site-packages (from google-auth<3,>=1.6.3->tensorboard<2.12,>=2.11->tensorflow>=2.9.0->tensorflow-recommenders) (4.9)\r\n",
      "Requirement already satisfied: requests-oauthlib>=0.7.0 in /opt/conda/lib/python3.7/site-packages (from google-auth-oauthlib<0.5,>=0.4.1->tensorboard<2.12,>=2.11->tensorflow>=2.9.0->tensorflow-recommenders) (1.3.1)\r\n",
      "Requirement already satisfied: importlib-metadata>=4.4 in /opt/conda/lib/python3.7/site-packages (from markdown>=2.6.8->tensorboard<2.12,>=2.11->tensorflow>=2.9.0->tensorflow-recommenders) (4.11.4)\r\n",
      "Requirement already satisfied: charset-normalizer<4,>=2 in /opt/conda/lib/python3.7/site-packages (from requests<3,>=2.21.0->tensorboard<2.12,>=2.11->tensorflow>=2.9.0->tensorflow-recommenders) (2.1.1)\r\n",
      "Requirement already satisfied: certifi>=2017.4.17 in /opt/conda/lib/python3.7/site-packages (from requests<3,>=2.21.0->tensorboard<2.12,>=2.11->tensorflow>=2.9.0->tensorflow-recommenders) (2022.12.7)\r\n",
      "Requirement already satisfied: urllib3<1.27,>=1.21.1 in /opt/conda/lib/python3.7/site-packages (from requests<3,>=2.21.0->tensorboard<2.12,>=2.11->tensorflow>=2.9.0->tensorflow-recommenders) (1.26.14)\r\n",
      "Requirement already satisfied: idna<4,>=2.5 in /opt/conda/lib/python3.7/site-packages (from requests<3,>=2.21.0->tensorboard<2.12,>=2.11->tensorflow>=2.9.0->tensorflow-recommenders) (3.4)\r\n",
      "Requirement already satisfied: MarkupSafe>=2.1.1 in /opt/conda/lib/python3.7/site-packages (from werkzeug>=1.0.1->tensorboard<2.12,>=2.11->tensorflow>=2.9.0->tensorflow-recommenders) (2.1.1)\r\n",
      "Requirement already satisfied: zipp>=0.5 in /opt/conda/lib/python3.7/site-packages (from importlib-metadata>=4.4->markdown>=2.6.8->tensorboard<2.12,>=2.11->tensorflow>=2.9.0->tensorflow-recommenders) (3.11.0)\r\n",
      "Requirement already satisfied: pyasn1<0.5.0,>=0.4.6 in /opt/conda/lib/python3.7/site-packages (from pyasn1-modules>=0.2.1->google-auth<3,>=1.6.3->tensorboard<2.12,>=2.11->tensorflow>=2.9.0->tensorflow-recommenders) (0.4.8)\r\n",
      "Requirement already satisfied: oauthlib>=3.0.0 in /opt/conda/lib/python3.7/site-packages (from requests-oauthlib>=0.7.0->google-auth-oauthlib<0.5,>=0.4.1->tensorboard<2.12,>=2.11->tensorflow>=2.9.0->tensorflow-recommenders) (3.2.2)\r\n",
      "Installing collected packages: protobuf, tensorflow-recommenders\r\n",
      "  Attempting uninstall: protobuf\r\n",
      "    Found existing installation: protobuf 3.20.3\r\n",
      "    Uninstalling protobuf-3.20.3:\r\n",
      "      Successfully uninstalled protobuf-3.20.3\r\n",
      "\u001b[31mERROR: pip's dependency resolver does not currently take into account all the packages that are installed. This behaviour is the source of the following dependency conflicts.\r\n",
      "tfx-bsl 1.12.0 requires google-api-python-client<2,>=1.7.11, but you have google-api-python-client 2.83.0 which is incompatible.\r\n",
      "onnx 1.13.1 requires protobuf<4,>=3.20.2, but you have protobuf 3.19.6 which is incompatible.\r\n",
      "apache-beam 2.44.0 requires dill<0.3.2,>=0.3.1.1, but you have dill 0.3.6 which is incompatible.\u001b[0m\u001b[31m\r\n",
      "\u001b[0mSuccessfully installed protobuf-3.19.6 tensorflow-recommenders-0.7.3\r\n",
      "\u001b[33mWARNING: Running pip as the 'root' user can result in broken permissions and conflicting behaviour with the system package manager. It is recommended to use a virtual environment instead: https://pip.pypa.io/warnings/venv\u001b[0m\u001b[33m\r\n",
      "\u001b[0m"
     ]
    }
   ],
   "source": [
    "!pip install tensorflow-recommenders"
   ]
  },
  {
   "cell_type": "code",
   "execution_count": 2,
   "id": "f40df876",
   "metadata": {
    "execution": {
     "iopub.execute_input": "2023-04-30T06:44:14.071633Z",
     "iopub.status.busy": "2023-04-30T06:44:14.071159Z",
     "iopub.status.idle": "2023-04-30T06:44:21.830121Z",
     "shell.execute_reply": "2023-04-30T06:44:21.828721Z"
    },
    "papermill": {
     "duration": 7.776904,
     "end_time": "2023-04-30T06:44:21.833121",
     "exception": false,
     "start_time": "2023-04-30T06:44:14.056217",
     "status": "completed"
    },
    "tags": []
   },
   "outputs": [],
   "source": [
    "# import required packages\n",
    "# utility\n",
    "import html\n",
    "import pprint\n",
    "import numpy as np\n",
    "import pandas as pd\n",
    "from typing import Dict, Text\n",
    "\n",
    "# tensorflow\n",
    "import tensorflow as tf\n",
    "import tensorflow_recommenders as tfrs"
   ]
  },
  {
   "cell_type": "code",
   "execution_count": 3,
   "id": "866c48ca",
   "metadata": {
    "execution": {
     "iopub.execute_input": "2023-04-30T06:44:21.861838Z",
     "iopub.status.busy": "2023-04-30T06:44:21.860979Z",
     "iopub.status.idle": "2023-04-30T06:44:21.866628Z",
     "shell.execute_reply": "2023-04-30T06:44:21.865485Z"
    },
    "papermill": {
     "duration": 0.022693,
     "end_time": "2023-04-30T06:44:21.869042",
     "exception": false,
     "start_time": "2023-04-30T06:44:21.846349",
     "status": "completed"
    },
    "tags": []
   },
   "outputs": [],
   "source": [
    "# # configure gpu\n",
    "# gpus = tf.config.list_physical_devices(\"GPU\")\n",
    "\n",
    "# print(\"Num GPUs Available: \", len(gpus))\n",
    "\n",
    "# # if gpus:\n",
    "# #     # Create 2 virtual GPUs with 4GB memory each\n",
    "# #     try:\n",
    "# #         tf.config.set_logical_device_configuration(gpus[0],[tf.config.LogicalDeviceConfiguration(memory_limit=4096), tf.config.LogicalDeviceConfiguration(memory_limit=4096)])\n",
    "# #         logical_gpus = tf.config.list_logical_devices(\"GPU\")\n",
    "# #         print(len(gpus), \"Physical GPU,\", len(logical_gpus), \"Logical GPUs\")\n",
    "# #     except RuntimeError as e:\n",
    "# #         # Virtual devices must be set before GPUs have been initialized\n",
    "# #         print(e)\n",
    "\n",
    "# strategy = tf.distribute.MirroredStrategy()"
   ]
  },
  {
   "cell_type": "markdown",
   "id": "6d6fb422",
   "metadata": {
    "papermill": {
     "duration": 0.015892,
     "end_time": "2023-04-30T06:44:21.899167",
     "exception": false,
     "start_time": "2023-04-30T06:44:21.883275",
     "status": "completed"
    },
    "tags": []
   },
   "source": [
    "## EDA and Preprocessing: Anime Recommendations Dataset"
   ]
  },
  {
   "cell_type": "code",
   "execution_count": 4,
   "id": "5d84bafa",
   "metadata": {
    "execution": {
     "iopub.execute_input": "2023-04-30T06:44:21.937752Z",
     "iopub.status.busy": "2023-04-30T06:44:21.936659Z",
     "iopub.status.idle": "2023-04-30T06:44:25.001190Z",
     "shell.execute_reply": "2023-04-30T06:44:24.999955Z"
    },
    "papermill": {
     "duration": 3.085822,
     "end_time": "2023-04-30T06:44:25.003798",
     "exception": false,
     "start_time": "2023-04-30T06:44:21.917976",
     "status": "completed"
    },
    "tags": []
   },
   "outputs": [
    {
     "data": {
      "text/plain": [
       "(7813737, 3)"
      ]
     },
     "execution_count": 4,
     "metadata": {},
     "output_type": "execute_result"
    }
   ],
   "source": [
    "# load ratings dataset\n",
    "rating_df = pd.read_csv('/kaggle/input/anime-recommendations-database/rating.csv')\n",
    "\n",
    "rating_df.shape"
   ]
  },
  {
   "cell_type": "code",
   "execution_count": 5,
   "id": "d295f708",
   "metadata": {
    "execution": {
     "iopub.execute_input": "2023-04-30T06:44:25.032303Z",
     "iopub.status.busy": "2023-04-30T06:44:25.031559Z",
     "iopub.status.idle": "2023-04-30T06:44:25.055916Z",
     "shell.execute_reply": "2023-04-30T06:44:25.054713Z"
    },
    "papermill": {
     "duration": 0.041206,
     "end_time": "2023-04-30T06:44:25.058185",
     "exception": false,
     "start_time": "2023-04-30T06:44:25.016979",
     "status": "completed"
    },
    "tags": []
   },
   "outputs": [
    {
     "data": {
      "text/html": [
       "<div>\n",
       "<style scoped>\n",
       "    .dataframe tbody tr th:only-of-type {\n",
       "        vertical-align: middle;\n",
       "    }\n",
       "\n",
       "    .dataframe tbody tr th {\n",
       "        vertical-align: top;\n",
       "    }\n",
       "\n",
       "    .dataframe thead th {\n",
       "        text-align: right;\n",
       "    }\n",
       "</style>\n",
       "<table border=\"1\" class=\"dataframe\">\n",
       "  <thead>\n",
       "    <tr style=\"text-align: right;\">\n",
       "      <th></th>\n",
       "      <th>user_id</th>\n",
       "      <th>anime_id</th>\n",
       "      <th>rating</th>\n",
       "    </tr>\n",
       "  </thead>\n",
       "  <tbody>\n",
       "    <tr>\n",
       "      <th>0</th>\n",
       "      <td>1</td>\n",
       "      <td>20</td>\n",
       "      <td>-1</td>\n",
       "    </tr>\n",
       "    <tr>\n",
       "      <th>1</th>\n",
       "      <td>1</td>\n",
       "      <td>24</td>\n",
       "      <td>-1</td>\n",
       "    </tr>\n",
       "    <tr>\n",
       "      <th>2</th>\n",
       "      <td>1</td>\n",
       "      <td>79</td>\n",
       "      <td>-1</td>\n",
       "    </tr>\n",
       "    <tr>\n",
       "      <th>3</th>\n",
       "      <td>1</td>\n",
       "      <td>226</td>\n",
       "      <td>-1</td>\n",
       "    </tr>\n",
       "    <tr>\n",
       "      <th>4</th>\n",
       "      <td>1</td>\n",
       "      <td>241</td>\n",
       "      <td>-1</td>\n",
       "    </tr>\n",
       "  </tbody>\n",
       "</table>\n",
       "</div>"
      ],
      "text/plain": [
       "   user_id  anime_id  rating\n",
       "0        1        20      -1\n",
       "1        1        24      -1\n",
       "2        1        79      -1\n",
       "3        1       226      -1\n",
       "4        1       241      -1"
      ]
     },
     "execution_count": 5,
     "metadata": {},
     "output_type": "execute_result"
    }
   ],
   "source": [
    "# first 5 data points\n",
    "rating_df.head()"
   ]
  },
  {
   "cell_type": "code",
   "execution_count": 6,
   "id": "0970c8be",
   "metadata": {
    "execution": {
     "iopub.execute_input": "2023-04-30T06:44:25.086262Z",
     "iopub.status.busy": "2023-04-30T06:44:25.085859Z",
     "iopub.status.idle": "2023-04-30T06:44:25.109033Z",
     "shell.execute_reply": "2023-04-30T06:44:25.107601Z"
    },
    "papermill": {
     "duration": 0.040356,
     "end_time": "2023-04-30T06:44:25.111828",
     "exception": false,
     "start_time": "2023-04-30T06:44:25.071472",
     "status": "completed"
    },
    "tags": []
   },
   "outputs": [
    {
     "name": "stdout",
     "output_type": "stream",
     "text": [
      "<class 'pandas.core.frame.DataFrame'>\n",
      "RangeIndex: 7813737 entries, 0 to 7813736\n",
      "Data columns (total 3 columns):\n",
      " #   Column    Dtype\n",
      "---  ------    -----\n",
      " 0   user_id   int64\n",
      " 1   anime_id  int64\n",
      " 2   rating    int64\n",
      "dtypes: int64(3)\n",
      "memory usage: 178.8 MB\n"
     ]
    }
   ],
   "source": [
    "# info\n",
    "rating_df.info()"
   ]
  },
  {
   "cell_type": "code",
   "execution_count": 7,
   "id": "f87f71c3",
   "metadata": {
    "execution": {
     "iopub.execute_input": "2023-04-30T06:44:25.141954Z",
     "iopub.status.busy": "2023-04-30T06:44:25.141528Z",
     "iopub.status.idle": "2023-04-30T06:44:32.323097Z",
     "shell.execute_reply": "2023-04-30T06:44:32.322006Z"
    },
    "papermill": {
     "duration": 7.200427,
     "end_time": "2023-04-30T06:44:32.325789",
     "exception": false,
     "start_time": "2023-04-30T06:44:25.125362",
     "status": "completed"
    },
    "tags": []
   },
   "outputs": [],
   "source": [
    "# convert id columns to string\n",
    "rating_df['user_id'] = rating_df['user_id'].map(lambda x: str(x))\n",
    "rating_df['anime_id'] = rating_df['anime_id'].map(lambda x: str(x))"
   ]
  },
  {
   "cell_type": "code",
   "execution_count": 8,
   "id": "105d44e0",
   "metadata": {
    "execution": {
     "iopub.execute_input": "2023-04-30T06:44:32.355237Z",
     "iopub.status.busy": "2023-04-30T06:44:32.354590Z",
     "iopub.status.idle": "2023-04-30T06:44:33.247413Z",
     "shell.execute_reply": "2023-04-30T06:44:33.245957Z"
    },
    "papermill": {
     "duration": 0.913336,
     "end_time": "2023-04-30T06:44:33.252655",
     "exception": false,
     "start_time": "2023-04-30T06:44:32.339319",
     "status": "completed"
    },
    "tags": []
   },
   "outputs": [
    {
     "data": {
      "text/plain": [
       "user_id     0\n",
       "anime_id    0\n",
       "rating      0\n",
       "dtype: int64"
      ]
     },
     "execution_count": 8,
     "metadata": {},
     "output_type": "execute_result"
    }
   ],
   "source": [
    "rating_df.isna().sum()"
   ]
  },
  {
   "cell_type": "code",
   "execution_count": 9,
   "id": "d56fb584",
   "metadata": {
    "execution": {
     "iopub.execute_input": "2023-04-30T06:44:33.289085Z",
     "iopub.status.busy": "2023-04-30T06:44:33.288700Z",
     "iopub.status.idle": "2023-04-30T06:44:33.340532Z",
     "shell.execute_reply": "2023-04-30T06:44:33.339290Z"
    },
    "papermill": {
     "duration": 0.069541,
     "end_time": "2023-04-30T06:44:33.343298",
     "exception": false,
     "start_time": "2023-04-30T06:44:33.273757",
     "status": "completed"
    },
    "tags": []
   },
   "outputs": [
    {
     "data": {
      "text/plain": [
       "(12294, 7)"
      ]
     },
     "execution_count": 9,
     "metadata": {},
     "output_type": "execute_result"
    }
   ],
   "source": [
    "# load anime metadata\n",
    "anime_df = pd.read_csv('/kaggle/input/anime-recommendations-database/anime.csv')\n",
    "\n",
    "anime_df.shape"
   ]
  },
  {
   "cell_type": "code",
   "execution_count": 10,
   "id": "84ca5831",
   "metadata": {
    "execution": {
     "iopub.execute_input": "2023-04-30T06:44:33.372574Z",
     "iopub.status.busy": "2023-04-30T06:44:33.372114Z",
     "iopub.status.idle": "2023-04-30T06:44:33.387568Z",
     "shell.execute_reply": "2023-04-30T06:44:33.386316Z"
    },
    "papermill": {
     "duration": 0.032857,
     "end_time": "2023-04-30T06:44:33.389944",
     "exception": false,
     "start_time": "2023-04-30T06:44:33.357087",
     "status": "completed"
    },
    "tags": []
   },
   "outputs": [
    {
     "data": {
      "text/html": [
       "<div>\n",
       "<style scoped>\n",
       "    .dataframe tbody tr th:only-of-type {\n",
       "        vertical-align: middle;\n",
       "    }\n",
       "\n",
       "    .dataframe tbody tr th {\n",
       "        vertical-align: top;\n",
       "    }\n",
       "\n",
       "    .dataframe thead th {\n",
       "        text-align: right;\n",
       "    }\n",
       "</style>\n",
       "<table border=\"1\" class=\"dataframe\">\n",
       "  <thead>\n",
       "    <tr style=\"text-align: right;\">\n",
       "      <th></th>\n",
       "      <th>anime_id</th>\n",
       "      <th>name</th>\n",
       "      <th>genre</th>\n",
       "      <th>type</th>\n",
       "      <th>episodes</th>\n",
       "      <th>rating</th>\n",
       "      <th>members</th>\n",
       "    </tr>\n",
       "  </thead>\n",
       "  <tbody>\n",
       "    <tr>\n",
       "      <th>0</th>\n",
       "      <td>32281</td>\n",
       "      <td>Kimi no Na wa.</td>\n",
       "      <td>Drama, Romance, School, Supernatural</td>\n",
       "      <td>Movie</td>\n",
       "      <td>1</td>\n",
       "      <td>9.37</td>\n",
       "      <td>200630</td>\n",
       "    </tr>\n",
       "    <tr>\n",
       "      <th>1</th>\n",
       "      <td>5114</td>\n",
       "      <td>Fullmetal Alchemist: Brotherhood</td>\n",
       "      <td>Action, Adventure, Drama, Fantasy, Magic, Mili...</td>\n",
       "      <td>TV</td>\n",
       "      <td>64</td>\n",
       "      <td>9.26</td>\n",
       "      <td>793665</td>\n",
       "    </tr>\n",
       "    <tr>\n",
       "      <th>2</th>\n",
       "      <td>28977</td>\n",
       "      <td>Gintama°</td>\n",
       "      <td>Action, Comedy, Historical, Parody, Samurai, S...</td>\n",
       "      <td>TV</td>\n",
       "      <td>51</td>\n",
       "      <td>9.25</td>\n",
       "      <td>114262</td>\n",
       "    </tr>\n",
       "    <tr>\n",
       "      <th>3</th>\n",
       "      <td>9253</td>\n",
       "      <td>Steins;Gate</td>\n",
       "      <td>Sci-Fi, Thriller</td>\n",
       "      <td>TV</td>\n",
       "      <td>24</td>\n",
       "      <td>9.17</td>\n",
       "      <td>673572</td>\n",
       "    </tr>\n",
       "    <tr>\n",
       "      <th>4</th>\n",
       "      <td>9969</td>\n",
       "      <td>Gintama&amp;#039;</td>\n",
       "      <td>Action, Comedy, Historical, Parody, Samurai, S...</td>\n",
       "      <td>TV</td>\n",
       "      <td>51</td>\n",
       "      <td>9.16</td>\n",
       "      <td>151266</td>\n",
       "    </tr>\n",
       "  </tbody>\n",
       "</table>\n",
       "</div>"
      ],
      "text/plain": [
       "   anime_id                              name  \\\n",
       "0     32281                    Kimi no Na wa.   \n",
       "1      5114  Fullmetal Alchemist: Brotherhood   \n",
       "2     28977                          Gintama°   \n",
       "3      9253                       Steins;Gate   \n",
       "4      9969                     Gintama&#039;   \n",
       "\n",
       "                                               genre   type episodes  rating  \\\n",
       "0               Drama, Romance, School, Supernatural  Movie        1    9.37   \n",
       "1  Action, Adventure, Drama, Fantasy, Magic, Mili...     TV       64    9.26   \n",
       "2  Action, Comedy, Historical, Parody, Samurai, S...     TV       51    9.25   \n",
       "3                                   Sci-Fi, Thriller     TV       24    9.17   \n",
       "4  Action, Comedy, Historical, Parody, Samurai, S...     TV       51    9.16   \n",
       "\n",
       "   members  \n",
       "0   200630  \n",
       "1   793665  \n",
       "2   114262  \n",
       "3   673572  \n",
       "4   151266  "
      ]
     },
     "execution_count": 10,
     "metadata": {},
     "output_type": "execute_result"
    }
   ],
   "source": [
    "# first 5 data points\n",
    "anime_df.head()"
   ]
  },
  {
   "cell_type": "code",
   "execution_count": 11,
   "id": "1e0d2458",
   "metadata": {
    "execution": {
     "iopub.execute_input": "2023-04-30T06:44:33.419881Z",
     "iopub.status.busy": "2023-04-30T06:44:33.419044Z",
     "iopub.status.idle": "2023-04-30T06:44:33.436295Z",
     "shell.execute_reply": "2023-04-30T06:44:33.434680Z"
    },
    "papermill": {
     "duration": 0.035832,
     "end_time": "2023-04-30T06:44:33.439680",
     "exception": false,
     "start_time": "2023-04-30T06:44:33.403848",
     "status": "completed"
    },
    "tags": []
   },
   "outputs": [
    {
     "name": "stdout",
     "output_type": "stream",
     "text": [
      "<class 'pandas.core.frame.DataFrame'>\n",
      "RangeIndex: 12294 entries, 0 to 12293\n",
      "Data columns (total 7 columns):\n",
      " #   Column    Non-Null Count  Dtype  \n",
      "---  ------    --------------  -----  \n",
      " 0   anime_id  12294 non-null  int64  \n",
      " 1   name      12294 non-null  object \n",
      " 2   genre     12232 non-null  object \n",
      " 3   type      12269 non-null  object \n",
      " 4   episodes  12294 non-null  object \n",
      " 5   rating    12064 non-null  float64\n",
      " 6   members   12294 non-null  int64  \n",
      "dtypes: float64(1), int64(2), object(4)\n",
      "memory usage: 672.5+ KB\n"
     ]
    }
   ],
   "source": [
    "# info\n",
    "anime_df.info()"
   ]
  },
  {
   "cell_type": "code",
   "execution_count": 12,
   "id": "154acde9",
   "metadata": {
    "execution": {
     "iopub.execute_input": "2023-04-30T06:44:33.474514Z",
     "iopub.status.busy": "2023-04-30T06:44:33.473553Z",
     "iopub.status.idle": "2023-04-30T06:44:33.485325Z",
     "shell.execute_reply": "2023-04-30T06:44:33.484421Z"
    },
    "papermill": {
     "duration": 0.030056,
     "end_time": "2023-04-30T06:44:33.487597",
     "exception": false,
     "start_time": "2023-04-30T06:44:33.457541",
     "status": "completed"
    },
    "tags": []
   },
   "outputs": [],
   "source": [
    "# convert id column to string\n",
    "anime_df['anime_id'] = anime_df['anime_id'].apply(lambda x: str(x))"
   ]
  },
  {
   "cell_type": "code",
   "execution_count": 13,
   "id": "116b5716",
   "metadata": {
    "execution": {
     "iopub.execute_input": "2023-04-30T06:44:33.518610Z",
     "iopub.status.busy": "2023-04-30T06:44:33.517384Z",
     "iopub.status.idle": "2023-04-30T06:44:33.525164Z",
     "shell.execute_reply": "2023-04-30T06:44:33.524199Z"
    },
    "papermill": {
     "duration": 0.025811,
     "end_time": "2023-04-30T06:44:33.527463",
     "exception": false,
     "start_time": "2023-04-30T06:44:33.501652",
     "status": "completed"
    },
    "tags": []
   },
   "outputs": [
    {
     "data": {
      "text/plain": [
       "'Dennou Sentai Voogie&#039;s★Angel: Forever and Ever'"
      ]
     },
     "execution_count": 13,
     "metadata": {},
     "output_type": "execute_result"
    }
   ],
   "source": [
    "# sample anime name with invalid characters\n",
    "anime_df['name'].loc[8441]"
   ]
  },
  {
   "cell_type": "code",
   "execution_count": 14,
   "id": "05476f3e",
   "metadata": {
    "execution": {
     "iopub.execute_input": "2023-04-30T06:44:33.558719Z",
     "iopub.status.busy": "2023-04-30T06:44:33.557717Z",
     "iopub.status.idle": "2023-04-30T06:44:33.583176Z",
     "shell.execute_reply": "2023-04-30T06:44:33.581904Z"
    },
    "papermill": {
     "duration": 0.044051,
     "end_time": "2023-04-30T06:44:33.585631",
     "exception": false,
     "start_time": "2023-04-30T06:44:33.541580",
     "status": "completed"
    },
    "tags": []
   },
   "outputs": [],
   "source": [
    "# clean anime name column\n",
    "# remove html encodings\n",
    "# convert to regular characters\n",
    "anime_df['name'] = anime_df['name'].apply(html.unescape)\n",
    "\n",
    "# remove emojis and other miscellaneous unicode characters\n",
    "# encode as ascii to remove miscellaneous unicode characters\n",
    "# replaces the characters with '?'\n",
    "# converts str to array of bytes\n",
    "anime_df['name'] = anime_df['name'].map(lambda x: x.encode('ascii', 'replace'))\n",
    "\n",
    "# decode to convert to str\n",
    "anime_df['name'] = anime_df['name'].map(lambda x: x.decode())\n",
    "\n",
    "# replace '?' with a space\n",
    "anime_df['name'] = anime_df['name'].map(lambda x: x.replace('?', ' '))"
   ]
  },
  {
   "cell_type": "code",
   "execution_count": 15,
   "id": "392f89db",
   "metadata": {
    "execution": {
     "iopub.execute_input": "2023-04-30T06:44:33.615868Z",
     "iopub.status.busy": "2023-04-30T06:44:33.615411Z",
     "iopub.status.idle": "2023-04-30T06:44:33.622615Z",
     "shell.execute_reply": "2023-04-30T06:44:33.621373Z"
    },
    "papermill": {
     "duration": 0.025345,
     "end_time": "2023-04-30T06:44:33.625115",
     "exception": false,
     "start_time": "2023-04-30T06:44:33.599770",
     "status": "completed"
    },
    "tags": []
   },
   "outputs": [
    {
     "data": {
      "text/plain": [
       "\"Dennou Sentai Voogie's Angel: Forever and Ever\""
      ]
     },
     "execution_count": 15,
     "metadata": {},
     "output_type": "execute_result"
    }
   ],
   "source": [
    "# verify cleaning\n",
    "anime_df['name'].loc[8441]"
   ]
  },
  {
   "cell_type": "code",
   "execution_count": 16,
   "id": "e281246f",
   "metadata": {
    "execution": {
     "iopub.execute_input": "2023-04-30T06:44:33.655537Z",
     "iopub.status.busy": "2023-04-30T06:44:33.655080Z",
     "iopub.status.idle": "2023-04-30T06:44:38.697204Z",
     "shell.execute_reply": "2023-04-30T06:44:38.696008Z"
    },
    "papermill": {
     "duration": 5.060595,
     "end_time": "2023-04-30T06:44:38.699907",
     "exception": false,
     "start_time": "2023-04-30T06:44:33.639312",
     "status": "completed"
    },
    "tags": []
   },
   "outputs": [
    {
     "data": {
      "text/plain": [
       "(7813727, 4)"
      ]
     },
     "execution_count": 16,
     "metadata": {},
     "output_type": "execute_result"
    }
   ],
   "source": [
    "# add anime name column from anime dataframe to rating dataframe\n",
    "rating_df = pd.merge(rating_df, anime_df.loc[:, ['anime_id', 'name']], on='anime_id')\n",
    "\n",
    "rating_df.shape"
   ]
  },
  {
   "cell_type": "code",
   "execution_count": 17,
   "id": "b6dbee40",
   "metadata": {
    "execution": {
     "iopub.execute_input": "2023-04-30T06:44:38.731370Z",
     "iopub.status.busy": "2023-04-30T06:44:38.730912Z",
     "iopub.status.idle": "2023-04-30T06:44:38.743516Z",
     "shell.execute_reply": "2023-04-30T06:44:38.742332Z"
    },
    "papermill": {
     "duration": 0.031337,
     "end_time": "2023-04-30T06:44:38.745970",
     "exception": false,
     "start_time": "2023-04-30T06:44:38.714633",
     "status": "completed"
    },
    "tags": []
   },
   "outputs": [
    {
     "data": {
      "text/html": [
       "<div>\n",
       "<style scoped>\n",
       "    .dataframe tbody tr th:only-of-type {\n",
       "        vertical-align: middle;\n",
       "    }\n",
       "\n",
       "    .dataframe tbody tr th {\n",
       "        vertical-align: top;\n",
       "    }\n",
       "\n",
       "    .dataframe thead th {\n",
       "        text-align: right;\n",
       "    }\n",
       "</style>\n",
       "<table border=\"1\" class=\"dataframe\">\n",
       "  <thead>\n",
       "    <tr style=\"text-align: right;\">\n",
       "      <th></th>\n",
       "      <th>user_id</th>\n",
       "      <th>anime_id</th>\n",
       "      <th>rating</th>\n",
       "      <th>name</th>\n",
       "    </tr>\n",
       "  </thead>\n",
       "  <tbody>\n",
       "    <tr>\n",
       "      <th>0</th>\n",
       "      <td>1</td>\n",
       "      <td>20</td>\n",
       "      <td>-1</td>\n",
       "      <td>Naruto</td>\n",
       "    </tr>\n",
       "    <tr>\n",
       "      <th>1</th>\n",
       "      <td>3</td>\n",
       "      <td>20</td>\n",
       "      <td>8</td>\n",
       "      <td>Naruto</td>\n",
       "    </tr>\n",
       "    <tr>\n",
       "      <th>2</th>\n",
       "      <td>5</td>\n",
       "      <td>20</td>\n",
       "      <td>6</td>\n",
       "      <td>Naruto</td>\n",
       "    </tr>\n",
       "    <tr>\n",
       "      <th>3</th>\n",
       "      <td>6</td>\n",
       "      <td>20</td>\n",
       "      <td>-1</td>\n",
       "      <td>Naruto</td>\n",
       "    </tr>\n",
       "    <tr>\n",
       "      <th>4</th>\n",
       "      <td>10</td>\n",
       "      <td>20</td>\n",
       "      <td>-1</td>\n",
       "      <td>Naruto</td>\n",
       "    </tr>\n",
       "  </tbody>\n",
       "</table>\n",
       "</div>"
      ],
      "text/plain": [
       "  user_id anime_id  rating    name\n",
       "0       1       20      -1  Naruto\n",
       "1       3       20       8  Naruto\n",
       "2       5       20       6  Naruto\n",
       "3       6       20      -1  Naruto\n",
       "4      10       20      -1  Naruto"
      ]
     },
     "execution_count": 17,
     "metadata": {},
     "output_type": "execute_result"
    }
   ],
   "source": [
    "# first 5 data points\n",
    "rating_df.head()"
   ]
  },
  {
   "cell_type": "code",
   "execution_count": 18,
   "id": "cba2a673",
   "metadata": {
    "execution": {
     "iopub.execute_input": "2023-04-30T06:44:38.778183Z",
     "iopub.status.busy": "2023-04-30T06:44:38.777237Z",
     "iopub.status.idle": "2023-04-30T06:44:42.826930Z",
     "shell.execute_reply": "2023-04-30T06:44:42.825531Z"
    },
    "papermill": {
     "duration": 4.068899,
     "end_time": "2023-04-30T06:44:42.829512",
     "exception": false,
     "start_time": "2023-04-30T06:44:38.760613",
     "status": "completed"
    },
    "tags": []
   },
   "outputs": [
    {
     "name": "stdout",
     "output_type": "stream",
     "text": [
      "{'anime_title': b'Naruto', 'user_id': b'1'}\n",
      "{'anime_title': b'Naruto', 'user_id': b'3'}\n",
      "{'anime_title': b'Naruto', 'user_id': b'5'}\n",
      "{'anime_title': b'Naruto', 'user_id': b'6'}\n",
      "{'anime_title': b'Naruto', 'user_id': b'10'}\n"
     ]
    }
   ],
   "source": [
    "# convert rating data from dataframe to tensorflow Dataset\n",
    "ratings = tf.data.Dataset.from_tensor_slices(dict(rating_df))\n",
    "\n",
    "# keep only user_id and anime_name column\n",
    "ratings = ratings.map(lambda x: {\n",
    "    'anime_title': x['name'],\n",
    "    'user_id': x['user_id']\n",
    "})\n",
    "\n",
    "for x in ratings.take(5).as_numpy_iterator():\n",
    "    pprint.pprint(x)"
   ]
  },
  {
   "cell_type": "code",
   "execution_count": 19,
   "id": "204045c6",
   "metadata": {
    "execution": {
     "iopub.execute_input": "2023-04-30T06:44:42.861641Z",
     "iopub.status.busy": "2023-04-30T06:44:42.861196Z",
     "iopub.status.idle": "2023-04-30T06:44:42.883778Z",
     "shell.execute_reply": "2023-04-30T06:44:42.882546Z"
    },
    "papermill": {
     "duration": 0.041885,
     "end_time": "2023-04-30T06:44:42.886777",
     "exception": false,
     "start_time": "2023-04-30T06:44:42.844892",
     "status": "completed"
    },
    "tags": []
   },
   "outputs": [
    {
     "name": "stdout",
     "output_type": "stream",
     "text": [
      "b'Kimi no Na wa.'\n",
      "b'Fullmetal Alchemist: Brotherhood'\n",
      "b'Gintama '\n",
      "b'Steins;Gate'\n",
      "b\"Gintama'\"\n"
     ]
    }
   ],
   "source": [
    "# convert anime metadata from dataframe to tensorflow Dataset\n",
    "# keep only anime name\n",
    "animes = tf.data.Dataset.from_tensor_slices(anime_df['name'])\n",
    "\n",
    "for x in animes.take(5).as_numpy_iterator():\n",
    "    pprint.pprint(x)"
   ]
  },
  {
   "cell_type": "code",
   "execution_count": 20,
   "id": "838a92c7",
   "metadata": {
    "execution": {
     "iopub.execute_input": "2023-04-30T06:44:42.921565Z",
     "iopub.status.busy": "2023-04-30T06:44:42.920527Z",
     "iopub.status.idle": "2023-04-30T06:44:42.973874Z",
     "shell.execute_reply": "2023-04-30T06:44:42.972586Z"
    },
    "papermill": {
     "duration": 0.073046,
     "end_time": "2023-04-30T06:44:42.976666",
     "exception": false,
     "start_time": "2023-04-30T06:44:42.903620",
     "status": "completed"
    },
    "tags": []
   },
   "outputs": [],
   "source": [
    "# shuffle and split data: train, valid, test\n",
    "# set seed\n",
    "tf.random.set_seed(42)\n",
    "\n",
    "# total data points\n",
    "N = rating_df.shape[0]\n",
    "\n",
    "# total train data points\n",
    "N_train = int(0.6 * N)\n",
    "\n",
    "# total valid data points\n",
    "N_valid = int(0.2 * N)\n",
    "\n",
    "# total test data points\n",
    "N_test = N - (N_train + N_valid)\n",
    "\n",
    "# shuffle data\n",
    "shuffled = ratings.shuffle(N, seed=42, reshuffle_each_iteration=False)\n",
    "\n",
    "# # split data\n",
    "train = shuffled.take(N_train)\n",
    "valid = shuffled.skip(N_train).take(N_valid)\n",
    "test = shuffled.skip((N_train + N_valid)).take(N_test)"
   ]
  },
  {
   "cell_type": "code",
   "execution_count": 21,
   "id": "b5c93761",
   "metadata": {
    "execution": {
     "iopub.execute_input": "2023-04-30T06:44:43.008292Z",
     "iopub.status.busy": "2023-04-30T06:44:43.007413Z",
     "iopub.status.idle": "2023-04-30T06:44:43.058103Z",
     "shell.execute_reply": "2023-04-30T06:44:43.057178Z"
    },
    "papermill": {
     "duration": 0.069222,
     "end_time": "2023-04-30T06:44:43.060581",
     "exception": false,
     "start_time": "2023-04-30T06:44:42.991359",
     "status": "completed"
    },
    "tags": []
   },
   "outputs": [
    {
     "data": {
      "text/plain": [
       "array([b'Kimi no Na wa.', b'Fullmetal Alchemist: Brotherhood',\n",
       "       b'Gintama ', b'Steins;Gate', b\"Gintama'\",\n",
       "       b'Haikyuu!!: Karasuno Koukou VS Shiratorizawa Gakuen Koukou',\n",
       "       b'Hunter x Hunter (2011)', b'Ginga Eiyuu Densetsu',\n",
       "       b'Gintama Movie: Kanketsu-hen - Yorozuya yo Eien Nare',\n",
       "       b\"Gintama': Enchousen\"], dtype=object)"
      ]
     },
     "execution_count": 21,
     "metadata": {},
     "output_type": "execute_result"
    }
   ],
   "source": [
    "# extract list of unique anime titles\n",
    "unique_anime_titles = np.concatenate(list(animes.apply(tf.data.experimental.unique()).batch(1000)))\n",
    "\n",
    "unique_anime_titles[:10]"
   ]
  },
  {
   "cell_type": "code",
   "execution_count": 22,
   "id": "4b441aa0",
   "metadata": {
    "execution": {
     "iopub.execute_input": "2023-04-30T06:44:43.092394Z",
     "iopub.status.busy": "2023-04-30T06:44:43.091656Z",
     "iopub.status.idle": "2023-04-30T06:46:40.672503Z",
     "shell.execute_reply": "2023-04-30T06:46:40.671220Z"
    },
    "papermill": {
     "duration": 117.614172,
     "end_time": "2023-04-30T06:46:40.689539",
     "exception": false,
     "start_time": "2023-04-30T06:44:43.075367",
     "status": "completed"
    },
    "tags": []
   },
   "outputs": [
    {
     "data": {
      "text/plain": [
       "array([b'1', b'10', b'100', b'1000'], dtype=object)"
      ]
     },
     "execution_count": 22,
     "metadata": {},
     "output_type": "execute_result"
    }
   ],
   "source": [
    "# extract list of unique user ids\n",
    "user_ids = ratings.batch(1_000_000).map(lambda x: x['user_id'])\n",
    "unique_user_ids = np.unique(np.concatenate(list(user_ids)))\n",
    "\n",
    "unique_user_ids[:4]"
   ]
  },
  {
   "cell_type": "markdown",
   "id": "e7c2a39b",
   "metadata": {
    "papermill": {
     "duration": 0.014427,
     "end_time": "2023-04-30T06:46:40.718585",
     "exception": false,
     "start_time": "2023-04-30T06:46:40.704158",
     "status": "completed"
    },
    "tags": []
   },
   "source": [
    "## Retrieval Model: Two Tower Architecture\n",
    "- Query Tower\n",
    "- Candidate Tower\n",
    "\n",
    "### Model Architecture"
   ]
  },
  {
   "cell_type": "code",
   "execution_count": 23,
   "id": "3118a4af",
   "metadata": {
    "execution": {
     "iopub.execute_input": "2023-04-30T06:46:40.750498Z",
     "iopub.status.busy": "2023-04-30T06:46:40.749804Z",
     "iopub.status.idle": "2023-04-30T06:46:40.754640Z",
     "shell.execute_reply": "2023-04-30T06:46:40.753800Z"
    },
    "papermill": {
     "duration": 0.023504,
     "end_time": "2023-04-30T06:46:40.756824",
     "exception": false,
     "start_time": "2023-04-30T06:46:40.733320",
     "status": "completed"
    },
    "tags": []
   },
   "outputs": [],
   "source": [
    "# query and candidate embedding dimension\n",
    "embedding_dimension = 32"
   ]
  },
  {
   "cell_type": "markdown",
   "id": "f642b40c",
   "metadata": {
    "papermill": {
     "duration": 0.014262,
     "end_time": "2023-04-30T06:46:40.785875",
     "exception": false,
     "start_time": "2023-04-30T06:46:40.771613",
     "status": "completed"
    },
    "tags": []
   },
   "source": [
    "- ### Query Tower"
   ]
  },
  {
   "cell_type": "code",
   "execution_count": 24,
   "id": "3d1b2b92",
   "metadata": {
    "execution": {
     "iopub.execute_input": "2023-04-30T06:46:40.818565Z",
     "iopub.status.busy": "2023-04-30T06:46:40.817876Z",
     "iopub.status.idle": "2023-04-30T06:46:40.918742Z",
     "shell.execute_reply": "2023-04-30T06:46:40.917495Z"
    },
    "papermill": {
     "duration": 0.120397,
     "end_time": "2023-04-30T06:46:40.921757",
     "exception": false,
     "start_time": "2023-04-30T06:46:40.801360",
     "status": "completed"
    },
    "tags": []
   },
   "outputs": [],
   "source": [
    "# query tower\n",
    "# with strategy.scope():\n",
    "\n",
    "user_model = tf.keras.Sequential([\n",
    "    tf.keras.layers.StringLookup(vocabulary=unique_user_ids, mask_token=None),\n",
    "\n",
    "    # add an additional embedding to account for unknown tokens\n",
    "    tf.keras.layers.Embedding(len(unique_user_ids) + 1, embedding_dimension)\n",
    "])"
   ]
  },
  {
   "cell_type": "markdown",
   "id": "683be522",
   "metadata": {
    "papermill": {
     "duration": 0.014384,
     "end_time": "2023-04-30T06:46:40.951006",
     "exception": false,
     "start_time": "2023-04-30T06:46:40.936622",
     "status": "completed"
    },
    "tags": []
   },
   "source": [
    "- ### Candidate Tower"
   ]
  },
  {
   "cell_type": "code",
   "execution_count": 25,
   "id": "0addf5e4",
   "metadata": {
    "execution": {
     "iopub.execute_input": "2023-04-30T06:46:40.982722Z",
     "iopub.status.busy": "2023-04-30T06:46:40.981986Z",
     "iopub.status.idle": "2023-04-30T06:46:41.001110Z",
     "shell.execute_reply": "2023-04-30T06:46:41.000078Z"
    },
    "papermill": {
     "duration": 0.038176,
     "end_time": "2023-04-30T06:46:41.003870",
     "exception": false,
     "start_time": "2023-04-30T06:46:40.965694",
     "status": "completed"
    },
    "tags": []
   },
   "outputs": [],
   "source": [
    "# candidate tower\n",
    "# with strategy.scope():\n",
    "\n",
    "anime_model = tf.keras.Sequential([\n",
    "    tf.keras.layers.StringLookup(vocabulary=unique_anime_titles, mask_token=None),\n",
    "\n",
    "    # add an additional embedding to account for unknown tokens\n",
    "    tf.keras.layers.Embedding(len(unique_anime_titles) + 1, embedding_dimension)\n",
    "])"
   ]
  },
  {
   "cell_type": "markdown",
   "id": "5e8dda4a",
   "metadata": {
    "papermill": {
     "duration": 0.014396,
     "end_time": "2023-04-30T06:46:41.033136",
     "exception": false,
     "start_time": "2023-04-30T06:46:41.018740",
     "status": "completed"
    },
    "tags": []
   },
   "source": [
    "- ### Metrics and Loss"
   ]
  },
  {
   "cell_type": "code",
   "execution_count": 26,
   "id": "f693bb75",
   "metadata": {
    "execution": {
     "iopub.execute_input": "2023-04-30T06:46:41.064997Z",
     "iopub.status.busy": "2023-04-30T06:46:41.064161Z",
     "iopub.status.idle": "2023-04-30T06:46:41.159188Z",
     "shell.execute_reply": "2023-04-30T06:46:41.157966Z"
    },
    "papermill": {
     "duration": 0.114359,
     "end_time": "2023-04-30T06:46:41.162171",
     "exception": false,
     "start_time": "2023-04-30T06:46:41.047812",
     "status": "completed"
    },
    "tags": []
   },
   "outputs": [],
   "source": [
    "# with strategy.scope():\n",
    "\n",
    "# metrics\n",
    "metrics = tfrs.metrics.FactorizedTopK(\n",
    "  candidates=animes.batch(1024).map(anime_model)\n",
    ")\n",
    "\n",
    "# loss\n",
    "task = tfrs.tasks.Retrieval(\n",
    "  metrics=metrics\n",
    ")"
   ]
  },
  {
   "cell_type": "markdown",
   "id": "e16a9a66",
   "metadata": {
    "papermill": {
     "duration": 0.014438,
     "end_time": "2023-04-30T06:46:41.191328",
     "exception": false,
     "start_time": "2023-04-30T06:46:41.176890",
     "status": "completed"
    },
    "tags": []
   },
   "source": [
    "- ### Retrieval Model"
   ]
  },
  {
   "cell_type": "code",
   "execution_count": 27,
   "id": "0b90412c",
   "metadata": {
    "execution": {
     "iopub.execute_input": "2023-04-30T06:46:41.223270Z",
     "iopub.status.busy": "2023-04-30T06:46:41.222350Z",
     "iopub.status.idle": "2023-04-30T06:46:41.230685Z",
     "shell.execute_reply": "2023-04-30T06:46:41.229805Z"
    },
    "papermill": {
     "duration": 0.027232,
     "end_time": "2023-04-30T06:46:41.233225",
     "exception": false,
     "start_time": "2023-04-30T06:46:41.205993",
     "status": "completed"
    },
    "tags": []
   },
   "outputs": [],
   "source": [
    "# retrieval model\n",
    "class AnimeRetrievalModel(tfrs.Model):\n",
    "\n",
    "    def __init__(self, user_model, anime_model):\n",
    "        super().__init__()\n",
    "        self.user_model: tf.keras.Model = user_model\n",
    "        self.anime_model: tf.keras.Model = anime_model\n",
    "        self.task: tf.keras.layers.Layer = task\n",
    "\n",
    "    def compute_loss(self, features: Dict[Text, tf.Tensor], training=False):\n",
    "        # pass the user features into the user model\n",
    "        # returns the embeddings\n",
    "        user_embeddings = self.user_model(features[\"user_id\"])\n",
    "        \n",
    "        # pass the movie features into the movie model\n",
    "        # returns the embeddings\n",
    "        positive_anime_embeddings = self.anime_model(features[\"anime_title\"])\n",
    "\n",
    "        # the task computes the loss and the metrics\n",
    "        # compute_metrics=not training:\n",
    "        # - turns metric calculation off while training\n",
    "        # - speeds up training\n",
    "        return self.task(user_embeddings, positive_anime_embeddings, compute_metrics=not training)"
   ]
  },
  {
   "cell_type": "code",
   "execution_count": 28,
   "id": "0b981c1f",
   "metadata": {
    "execution": {
     "iopub.execute_input": "2023-04-30T06:46:41.264847Z",
     "iopub.status.busy": "2023-04-30T06:46:41.264022Z",
     "iopub.status.idle": "2023-04-30T06:46:41.283820Z",
     "shell.execute_reply": "2023-04-30T06:46:41.282732Z"
    },
    "papermill": {
     "duration": 0.038559,
     "end_time": "2023-04-30T06:46:41.286394",
     "exception": false,
     "start_time": "2023-04-30T06:46:41.247835",
     "status": "completed"
    },
    "tags": []
   },
   "outputs": [],
   "source": [
    "# with strategy.scope():\n",
    "\n",
    "# initialize model\n",
    "model = AnimeRetrievalModel(user_model, anime_model)\n",
    "\n",
    "# compile model\n",
    "model.compile(optimizer=tf.keras.optimizers.Adam(learning_rate=0.01))"
   ]
  },
  {
   "cell_type": "code",
   "execution_count": 29,
   "id": "530e2239",
   "metadata": {
    "execution": {
     "iopub.execute_input": "2023-04-30T06:46:41.318874Z",
     "iopub.status.busy": "2023-04-30T06:46:41.318454Z",
     "iopub.status.idle": "2023-04-30T06:46:41.333475Z",
     "shell.execute_reply": "2023-04-30T06:46:41.332548Z"
    },
    "papermill": {
     "duration": 0.034834,
     "end_time": "2023-04-30T06:46:41.336025",
     "exception": false,
     "start_time": "2023-04-30T06:46:41.301191",
     "status": "completed"
    },
    "tags": []
   },
   "outputs": [],
   "source": [
    "# prepare train and validation sets for training\n",
    "cached_train = train.shuffle(N_train).batch(8192).cache()\n",
    "cached_valid = valid.batch(4096).cache()"
   ]
  },
  {
   "cell_type": "markdown",
   "id": "8df04263",
   "metadata": {
    "papermill": {
     "duration": 0.015041,
     "end_time": "2023-04-30T06:46:41.366599",
     "exception": false,
     "start_time": "2023-04-30T06:46:41.351558",
     "status": "completed"
    },
    "tags": []
   },
   "source": [
    "### Train and Evaluate Model"
   ]
  },
  {
   "cell_type": "code",
   "execution_count": 30,
   "id": "5d994d1b",
   "metadata": {
    "execution": {
     "iopub.execute_input": "2023-04-30T06:46:41.401100Z",
     "iopub.status.busy": "2023-04-30T06:46:41.399494Z",
     "iopub.status.idle": "2023-04-30T07:26:25.825762Z",
     "shell.execute_reply": "2023-04-30T07:26:25.823900Z"
    },
    "papermill": {
     "duration": 2384.44779,
     "end_time": "2023-04-30T07:26:25.829408",
     "exception": false,
     "start_time": "2023-04-30T06:46:41.381618",
     "status": "completed"
    },
    "tags": []
   },
   "outputs": [
    {
     "name": "stdout",
     "output_type": "stream",
     "text": [
      "Epoch 1/5\n",
      "573/573 [==============================] - 568s 759ms/step - factorized_top_k/top_1_categorical_accuracy: 0.0000e+00 - factorized_top_k/top_5_categorical_accuracy: 0.0000e+00 - factorized_top_k/top_10_categorical_accuracy: 0.0000e+00 - factorized_top_k/top_50_categorical_accuracy: 0.0000e+00 - factorized_top_k/top_100_categorical_accuracy: 0.0000e+00 - loss: 70035.9034 - regularization_loss: 0.0000e+00 - total_loss: 70035.9034\n",
      "Epoch 2/5\n",
      "573/573 [==============================] - 433s 755ms/step - factorized_top_k/top_1_categorical_accuracy: 0.0000e+00 - factorized_top_k/top_5_categorical_accuracy: 0.0000e+00 - factorized_top_k/top_10_categorical_accuracy: 0.0000e+00 - factorized_top_k/top_50_categorical_accuracy: 0.0000e+00 - factorized_top_k/top_100_categorical_accuracy: 0.0000e+00 - loss: 66938.9428 - regularization_loss: 0.0000e+00 - total_loss: 66938.9428\n",
      "Epoch 3/5\n",
      "573/573 [==============================] - 432s 753ms/step - factorized_top_k/top_1_categorical_accuracy: 0.0000e+00 - factorized_top_k/top_5_categorical_accuracy: 0.0000e+00 - factorized_top_k/top_10_categorical_accuracy: 0.0000e+00 - factorized_top_k/top_50_categorical_accuracy: 0.0000e+00 - factorized_top_k/top_100_categorical_accuracy: 0.0000e+00 - loss: 66042.0344 - regularization_loss: 0.0000e+00 - total_loss: 66042.0344\n",
      "Epoch 4/5\n",
      "573/573 [==============================] - 433s 756ms/step - factorized_top_k/top_1_categorical_accuracy: 0.0000e+00 - factorized_top_k/top_5_categorical_accuracy: 0.0000e+00 - factorized_top_k/top_10_categorical_accuracy: 0.0000e+00 - factorized_top_k/top_50_categorical_accuracy: 0.0000e+00 - factorized_top_k/top_100_categorical_accuracy: 0.0000e+00 - loss: 65610.5693 - regularization_loss: 0.0000e+00 - total_loss: 65610.5693\n",
      "Epoch 5/5\n",
      "573/573 [==============================] - 435s 759ms/step - factorized_top_k/top_1_categorical_accuracy: 0.0000e+00 - factorized_top_k/top_5_categorical_accuracy: 0.0000e+00 - factorized_top_k/top_10_categorical_accuracy: 0.0000e+00 - factorized_top_k/top_50_categorical_accuracy: 0.0000e+00 - factorized_top_k/top_100_categorical_accuracy: 0.0000e+00 - loss: 65356.8531 - regularization_loss: 0.0000e+00 - total_loss: 65356.8531\n"
     ]
    }
   ],
   "source": [
    "# train model\n",
    "history = model.fit(cached_train, epochs=5)"
   ]
  },
  {
   "cell_type": "code",
   "execution_count": 31,
   "id": "47a4edc8",
   "metadata": {
    "execution": {
     "iopub.execute_input": "2023-04-30T07:26:26.296816Z",
     "iopub.status.busy": "2023-04-30T07:26:26.296347Z",
     "iopub.status.idle": "2023-04-30T07:34:50.323057Z",
     "shell.execute_reply": "2023-04-30T07:34:50.321714Z"
    },
    "papermill": {
     "duration": 504.265059,
     "end_time": "2023-04-30T07:34:50.325806",
     "exception": false,
     "start_time": "2023-04-30T07:26:26.060747",
     "status": "completed"
    },
    "tags": []
   },
   "outputs": [
    {
     "name": "stdout",
     "output_type": "stream",
     "text": [
      "382/382 [==============================] - 498s 951ms/step - factorized_top_k/top_1_categorical_accuracy: 8.8370e-04 - factorized_top_k/top_5_categorical_accuracy: 0.0082 - factorized_top_k/top_10_categorical_accuracy: 0.0182 - factorized_top_k/top_50_categorical_accuracy: 0.0877 - factorized_top_k/top_100_categorical_accuracy: 0.1561 - loss: 30742.1143 - regularization_loss: 0.0000e+00 - total_loss: 30742.1143\n"
     ]
    },
    {
     "data": {
      "text/plain": [
       "{'factorized_top_k/top_1_categorical_accuracy': 0.000883701432030648,\n",
       " 'factorized_top_k/top_5_categorical_accuracy': 0.008170238696038723,\n",
       " 'factorized_top_k/top_10_categorical_accuracy': 0.018187228590250015,\n",
       " 'factorized_top_k/top_50_categorical_accuracy': 0.08765153586864471,\n",
       " 'factorized_top_k/top_100_categorical_accuracy': 0.15612207353115082,\n",
       " 'loss': 14864.486328125,\n",
       " 'regularization_loss': 0,\n",
       " 'total_loss': 14864.486328125}"
      ]
     },
     "execution_count": 31,
     "metadata": {},
     "output_type": "execute_result"
    }
   ],
   "source": [
    "# evaluate model\n",
    "model.evaluate(cached_valid, return_dict=True)"
   ]
  },
  {
   "cell_type": "markdown",
   "id": "e80a81f3",
   "metadata": {
    "papermill": {
     "duration": 0.254154,
     "end_time": "2023-04-30T07:34:50.840844",
     "exception": false,
     "start_time": "2023-04-30T07:34:50.586690",
     "status": "completed"
    },
    "tags": []
   },
   "source": [
    "### Making Predictions"
   ]
  },
  {
   "cell_type": "code",
   "execution_count": 32,
   "id": "886b30ad",
   "metadata": {
    "execution": {
     "iopub.execute_input": "2023-04-30T07:34:51.353220Z",
     "iopub.status.busy": "2023-04-30T07:34:51.351549Z",
     "iopub.status.idle": "2023-04-30T07:34:53.251568Z",
     "shell.execute_reply": "2023-04-30T07:34:53.250050Z"
    },
    "papermill": {
     "duration": 2.160491,
     "end_time": "2023-04-30T07:34:53.254216",
     "exception": false,
     "start_time": "2023-04-30T07:34:51.093725",
     "status": "completed"
    },
    "tags": []
   },
   "outputs": [
    {
     "name": "stdout",
     "output_type": "stream",
     "text": [
      "Recommendations for user 42: [b'Blue Drop: Tenshi-tachi no Gikyoku' b'Kyoufu Shinbun (2014)'\n",
      " b'Maria-sama ga Miteru 3rd']\n"
     ]
    }
   ],
   "source": [
    "# use fatorized_top_k.BruteForce layer to make predictions\n",
    "# facilitates input raw query features,\n",
    "# embedding it and recommending movies out of the entire dataset\n",
    "\n",
    "# create the single layer model\n",
    "index = tfrs.layers.factorized_top_k.BruteForce(model.user_model)\n",
    "\n",
    "# generate recommendations\n",
    "index.index_from_dataset(\n",
    "  tf.data.Dataset.zip((animes.batch(100), animes.batch(100).map(model.anime_model)))\n",
    ")\n",
    "\n",
    "# get recommendation for specific user\n",
    "# user_id: 42\n",
    "_, titles = index(tf.constant([\"42\"]))\n",
    "print(f\"Recommendations for user 42: {titles[0, :3]}\")"
   ]
  },
  {
   "cell_type": "markdown",
   "id": "8bce5cb9",
   "metadata": {
    "papermill": {
     "duration": 0.254293,
     "end_time": "2023-04-30T07:34:53.764511",
     "exception": false,
     "start_time": "2023-04-30T07:34:53.510218",
     "status": "completed"
    },
    "tags": []
   },
   "source": [
    "## Ranking Model\n",
    "\n",
    "### Prepare data for Ranking Model:\n",
    "- Add the rating column to the data used for Retrieval Model"
   ]
  },
  {
   "cell_type": "code",
   "execution_count": 33,
   "id": "d6373549",
   "metadata": {
    "execution": {
     "iopub.execute_input": "2023-04-30T07:34:54.284210Z",
     "iopub.status.busy": "2023-04-30T07:34:54.283803Z",
     "iopub.status.idle": "2023-04-30T07:34:58.253991Z",
     "shell.execute_reply": "2023-04-30T07:34:58.252285Z"
    },
    "papermill": {
     "duration": 4.230976,
     "end_time": "2023-04-30T07:34:58.256512",
     "exception": false,
     "start_time": "2023-04-30T07:34:54.025536",
     "status": "completed"
    },
    "tags": []
   },
   "outputs": [
    {
     "name": "stdout",
     "output_type": "stream",
     "text": [
      "{'anime_title': b'Naruto', 'user_id': b'1', 'user_rating': -1}\n",
      "{'anime_title': b'Naruto', 'user_id': b'3', 'user_rating': 8}\n",
      "{'anime_title': b'Naruto', 'user_id': b'5', 'user_rating': 6}\n",
      "{'anime_title': b'Naruto', 'user_id': b'6', 'user_rating': -1}\n",
      "{'anime_title': b'Naruto', 'user_id': b'10', 'user_rating': -1}\n"
     ]
    }
   ],
   "source": [
    "# convert rating data from dataframe to tensorflow Dataset\n",
    "ratings = tf.data.Dataset.from_tensor_slices(dict(rating_df))\n",
    "\n",
    "# keep only user_id and anime_name column\n",
    "ratings = ratings.map(lambda x: {\n",
    "    'anime_title': x['name'],\n",
    "    'user_id': x['user_id'],\n",
    "    'user_rating': x['rating']\n",
    "})\n",
    "\n",
    "for x in ratings.take(5).as_numpy_iterator():\n",
    "    pprint.pprint(x)"
   ]
  },
  {
   "cell_type": "code",
   "execution_count": 34,
   "id": "02c6c597",
   "metadata": {
    "execution": {
     "iopub.execute_input": "2023-04-30T07:34:58.837596Z",
     "iopub.status.busy": "2023-04-30T07:34:58.836723Z",
     "iopub.status.idle": "2023-04-30T07:34:58.850931Z",
     "shell.execute_reply": "2023-04-30T07:34:58.849778Z"
    },
    "papermill": {
     "duration": 0.340354,
     "end_time": "2023-04-30T07:34:58.853649",
     "exception": false,
     "start_time": "2023-04-30T07:34:58.513295",
     "status": "completed"
    },
    "tags": []
   },
   "outputs": [],
   "source": [
    "# shuffle and split data: train, valid, test\n",
    "# total data points\n",
    "N = rating_df.shape[0]\n",
    "\n",
    "# total train data points\n",
    "N_train = int(0.6 * N)\n",
    "\n",
    "# total valid data points\n",
    "N_valid = int(0.2 * N)\n",
    "\n",
    "# total test data points\n",
    "N_test = N - (N_train + N_valid)\n",
    "\n",
    "# shuffle data\n",
    "shuffled = ratings.shuffle(N, seed=42, reshuffle_each_iteration=False)\n",
    "\n",
    "# # split data\n",
    "train = shuffled.take(N_train)\n",
    "valid = shuffled.skip(N_train).take(N_valid)\n",
    "test = shuffled.skip((N_train + N_valid)).take(N_test)"
   ]
  },
  {
   "cell_type": "markdown",
   "id": "b5f1f933",
   "metadata": {
    "papermill": {
     "duration": 0.256668,
     "end_time": "2023-04-30T07:34:59.366029",
     "exception": false,
     "start_time": "2023-04-30T07:34:59.109361",
     "status": "completed"
    },
    "tags": []
   },
   "source": [
    "### Model Architecture\n",
    "\n",
    "#### Base Ranking Model"
   ]
  },
  {
   "cell_type": "code",
   "execution_count": 35,
   "id": "1ad1c75c",
   "metadata": {
    "execution": {
     "iopub.execute_input": "2023-04-30T07:34:59.878270Z",
     "iopub.status.busy": "2023-04-30T07:34:59.877333Z",
     "iopub.status.idle": "2023-04-30T07:34:59.888204Z",
     "shell.execute_reply": "2023-04-30T07:34:59.887125Z"
    },
    "papermill": {
     "duration": 0.270338,
     "end_time": "2023-04-30T07:34:59.890881",
     "exception": false,
     "start_time": "2023-04-30T07:34:59.620543",
     "status": "completed"
    },
    "tags": []
   },
   "outputs": [],
   "source": [
    "class RankingModel(tf.keras.Model):\n",
    "\n",
    "    def __init__(self):\n",
    "        super().__init__()\n",
    "        embedding_dimension = 32\n",
    "\n",
    "        # user model\n",
    "        # computes user embeddings\n",
    "        self.user_embeddings = tf.keras.Sequential([\n",
    "          tf.keras.layers.StringLookup(vocabulary=unique_user_ids, mask_token=None),\n",
    "          tf.keras.layers.Embedding(len(unique_user_ids) + 1, embedding_dimension)\n",
    "        ])\n",
    "\n",
    "        # anime model\n",
    "        # computes anime embeddings\n",
    "        self.anime_embeddings = tf.keras.Sequential([\n",
    "          tf.keras.layers.StringLookup(vocabulary=unique_anime_titles, mask_token=None),\n",
    "          tf.keras.layers.Embedding(len(unique_anime_titles) + 1, embedding_dimension)\n",
    "        ])\n",
    "\n",
    "        # ratings model\n",
    "        # predicts ratings\n",
    "        self.ratings = tf.keras.Sequential([\n",
    "          tf.keras.layers.Dense(256, activation=\"relu\"),\n",
    "          tf.keras.layers.Dense(64, activation=\"relu\"),\n",
    "          tf.keras.layers.Dense(1)\n",
    "        ])\n",
    "\n",
    "    def call(self, inputs):\n",
    "        user_id, anime_title = inputs\n",
    "        \n",
    "        # generate embeddings for the user id\n",
    "        user_embedding = self.user_embeddings(user_id)\n",
    "        \n",
    "        # generate embeddings for the anime title\n",
    "        anime_embedding = self.anime_embeddings(anime_title)\n",
    "        \n",
    "        # predict and return the ratings for user id and anime title pair\n",
    "        return self.ratings(tf.concat([user_embedding, anime_embedding], axis=1))"
   ]
  },
  {
   "cell_type": "markdown",
   "id": "393675f3",
   "metadata": {
    "papermill": {
     "duration": 0.25815,
     "end_time": "2023-04-30T07:35:00.400001",
     "exception": false,
     "start_time": "2023-04-30T07:35:00.141851",
     "status": "completed"
    },
    "tags": []
   },
   "source": [
    "#### Loss and Metrics"
   ]
  },
  {
   "cell_type": "code",
   "execution_count": 36,
   "id": "ed58950d",
   "metadata": {
    "execution": {
     "iopub.execute_input": "2023-04-30T07:35:00.946220Z",
     "iopub.status.busy": "2023-04-30T07:35:00.945530Z",
     "iopub.status.idle": "2023-04-30T07:35:00.958477Z",
     "shell.execute_reply": "2023-04-30T07:35:00.957277Z"
    },
    "papermill": {
     "duration": 0.287812,
     "end_time": "2023-04-30T07:35:00.961508",
     "exception": false,
     "start_time": "2023-04-30T07:35:00.673696",
     "status": "completed"
    },
    "tags": []
   },
   "outputs": [],
   "source": [
    "# with strategy.scope():\n",
    "\n",
    "task = tfrs.tasks.Ranking(\n",
    "    loss = tf.keras.losses.MeanSquaredError(),\n",
    "    metrics=[tf.keras.metrics.RootMeanSquaredError()]\n",
    ")"
   ]
  },
  {
   "cell_type": "markdown",
   "id": "ca8758b7",
   "metadata": {
    "papermill": {
     "duration": 0.254678,
     "end_time": "2023-04-30T07:35:01.474488",
     "exception": false,
     "start_time": "2023-04-30T07:35:01.219810",
     "status": "completed"
    },
    "tags": []
   },
   "source": [
    "#### Anime Ranking Model"
   ]
  },
  {
   "cell_type": "code",
   "execution_count": 37,
   "id": "b0e9d5e6",
   "metadata": {
    "execution": {
     "iopub.execute_input": "2023-04-30T07:35:02.057611Z",
     "iopub.status.busy": "2023-04-30T07:35:02.057176Z",
     "iopub.status.idle": "2023-04-30T07:35:02.066311Z",
     "shell.execute_reply": "2023-04-30T07:35:02.064948Z"
    },
    "papermill": {
     "duration": 0.275241,
     "end_time": "2023-04-30T07:35:02.069108",
     "exception": false,
     "start_time": "2023-04-30T07:35:01.793867",
     "status": "completed"
    },
    "tags": []
   },
   "outputs": [],
   "source": [
    "class AnimeRankingModel(tfrs.models.Model):\n",
    "\n",
    "    def __init__(self):\n",
    "        super().__init__()\n",
    "        \n",
    "        self.ranking_model: tf.keras.Model = RankingModel()\n",
    "            \n",
    "        self.task: tf.keras.layers.Layer = tfrs.tasks.Ranking(\n",
    "          loss = tf.keras.losses.MeanSquaredError(),\n",
    "          metrics=[tf.keras.metrics.RootMeanSquaredError()]\n",
    "        )\n",
    "\n",
    "    def call(self, features: Dict[str, tf.Tensor]):\n",
    "        return self.ranking_model((features[\"user_id\"], features[\"anime_title\"]))\n",
    "\n",
    "    def compute_loss(self, features: Dict[Text, tf.Tensor], training=False):\n",
    "        labels = features.pop(\"user_rating\")\n",
    "\n",
    "        rating_predictions = self(features)\n",
    "\n",
    "        # The task computes the loss and the metrics.\n",
    "        return self.task(labels=labels, predictions=rating_predictions)"
   ]
  },
  {
   "cell_type": "code",
   "execution_count": 38,
   "id": "34d745b6",
   "metadata": {
    "execution": {
     "iopub.execute_input": "2023-04-30T07:35:02.583386Z",
     "iopub.status.busy": "2023-04-30T07:35:02.582933Z",
     "iopub.status.idle": "2023-04-30T07:35:02.682548Z",
     "shell.execute_reply": "2023-04-30T07:35:02.681199Z"
    },
    "papermill": {
     "duration": 0.362987,
     "end_time": "2023-04-30T07:35:02.685554",
     "exception": false,
     "start_time": "2023-04-30T07:35:02.322567",
     "status": "completed"
    },
    "tags": []
   },
   "outputs": [],
   "source": [
    "# with strategy.scope():\n",
    "\n",
    "# initialize model\n",
    "model = AnimeRankingModel()\n",
    "\n",
    "# compile model\n",
    "model.compile(optimizer=tf.keras.optimizers.Adam(learning_rate=0.01))"
   ]
  },
  {
   "cell_type": "code",
   "execution_count": 39,
   "id": "23bb970e",
   "metadata": {
    "execution": {
     "iopub.execute_input": "2023-04-30T07:35:03.198769Z",
     "iopub.status.busy": "2023-04-30T07:35:03.197645Z",
     "iopub.status.idle": "2023-04-30T07:35:03.410075Z",
     "shell.execute_reply": "2023-04-30T07:35:03.409145Z"
    },
    "papermill": {
     "duration": 0.470741,
     "end_time": "2023-04-30T07:35:03.412601",
     "exception": false,
     "start_time": "2023-04-30T07:35:02.941860",
     "status": "completed"
    },
    "tags": []
   },
   "outputs": [],
   "source": [
    "# prepare train and test sets for training\n",
    "cached_train = train.shuffle(N_train).batch(8192).cache()\n",
    "cached_valid = valid.batch(4096).cache()"
   ]
  },
  {
   "cell_type": "markdown",
   "id": "a19c6ca6",
   "metadata": {
    "papermill": {
     "duration": 0.257594,
     "end_time": "2023-04-30T07:35:03.926814",
     "exception": false,
     "start_time": "2023-04-30T07:35:03.669220",
     "status": "completed"
    },
    "tags": []
   },
   "source": [
    "### Train and Evaluate Model"
   ]
  },
  {
   "cell_type": "code",
   "execution_count": 40,
   "id": "a85fd613",
   "metadata": {
    "execution": {
     "iopub.execute_input": "2023-04-30T07:35:04.441882Z",
     "iopub.status.busy": "2023-04-30T07:35:04.440610Z",
     "iopub.status.idle": "2023-04-30T07:40:11.130153Z",
     "shell.execute_reply": "2023-04-30T07:40:11.128954Z"
    },
    "papermill": {
     "duration": 306.95288,
     "end_time": "2023-04-30T07:40:11.132997",
     "exception": false,
     "start_time": "2023-04-30T07:35:04.180117",
     "status": "completed"
    },
    "tags": []
   },
   "outputs": [
    {
     "name": "stdout",
     "output_type": "stream",
     "text": [
      "Epoch 1/5\n",
      "573/573 [==============================] - 173s 54ms/step - root_mean_squared_error: 2.3910 - loss: 5.7133 - regularization_loss: 0.0000e+00 - total_loss: 5.7133\n",
      "Epoch 2/5\n",
      "573/573 [==============================] - 25s 44ms/step - root_mean_squared_error: 2.1244 - loss: 4.5108 - regularization_loss: 0.0000e+00 - total_loss: 4.5108\n",
      "Epoch 3/5\n",
      "573/573 [==============================] - 25s 44ms/step - root_mean_squared_error: 2.0679 - loss: 4.2723 - regularization_loss: 0.0000e+00 - total_loss: 4.2723\n",
      "Epoch 4/5\n",
      "573/573 [==============================] - 25s 44ms/step - root_mean_squared_error: 2.0310 - loss: 4.1213 - regularization_loss: 0.0000e+00 - total_loss: 4.1213\n",
      "Epoch 5/5\n",
      "573/573 [==============================] - 26s 45ms/step - root_mean_squared_error: 1.9875 - loss: 3.9467 - regularization_loss: 0.0000e+00 - total_loss: 3.9467\n"
     ]
    }
   ],
   "source": [
    "# train the model\n",
    "history = model.fit(cached_train, epochs=5)"
   ]
  },
  {
   "cell_type": "code",
   "execution_count": 41,
   "id": "cc5aefde",
   "metadata": {
    "execution": {
     "iopub.execute_input": "2023-04-30T07:40:11.962468Z",
     "iopub.status.busy": "2023-04-30T07:40:11.960930Z",
     "iopub.status.idle": "2023-04-30T07:42:39.209401Z",
     "shell.execute_reply": "2023-04-30T07:42:39.207852Z"
    },
    "papermill": {
     "duration": 147.697183,
     "end_time": "2023-04-30T07:42:39.212210",
     "exception": false,
     "start_time": "2023-04-30T07:40:11.515027",
     "status": "completed"
    },
    "tags": []
   },
   "outputs": [
    {
     "name": "stdout",
     "output_type": "stream",
     "text": [
      "382/382 [==============================] - 147s 26ms/step - root_mean_squared_error: 2.1794 - loss: 4.7498 - regularization_loss: 0.0000e+00 - total_loss: 4.7498\n"
     ]
    },
    {
     "data": {
      "text/plain": [
       "{'root_mean_squared_error': 2.179445505142212,\n",
       " 'loss': 4.694512367248535,\n",
       " 'regularization_loss': 0,\n",
       " 'total_loss': 4.694512367248535}"
      ]
     },
     "execution_count": 41,
     "metadata": {},
     "output_type": "execute_result"
    }
   ],
   "source": [
    "# evaluate the model\n",
    "model.evaluate(cached_valid, return_dict=True)"
   ]
  },
  {
   "cell_type": "markdown",
   "id": "68188614",
   "metadata": {
    "papermill": {
     "duration": 0.403891,
     "end_time": "2023-04-30T07:42:40.009133",
     "exception": false,
     "start_time": "2023-04-30T07:42:39.605242",
     "status": "completed"
    },
    "tags": []
   },
   "source": [
    "### Making Predictions"
   ]
  },
  {
   "cell_type": "code",
   "execution_count": 42,
   "id": "93b9c522",
   "metadata": {
    "execution": {
     "iopub.execute_input": "2023-04-30T07:42:40.841017Z",
     "iopub.status.busy": "2023-04-30T07:42:40.840052Z",
     "iopub.status.idle": "2023-04-30T07:45:05.234074Z",
     "shell.execute_reply": "2023-04-30T07:45:05.232725Z"
    },
    "papermill": {
     "duration": 144.843885,
     "end_time": "2023-04-30T07:45:05.237426",
     "exception": false,
     "start_time": "2023-04-30T07:42:40.393541",
     "status": "completed"
    },
    "tags": []
   },
   "outputs": [
    {
     "name": "stdout",
     "output_type": "stream",
     "text": [
      "{'anime_title': b'Zettai Bouei Leviathan',\n",
      " 'user_id': b'58604',\n",
      " 'user_rating': 7}\n",
      "{'anime_title': b'Zero no Tsukaima F', 'user_id': b'40390', 'user_rating': 10}\n",
      "{'anime_title': b'Steins;Gate', 'user_id': b'4262', 'user_rating': 10}\n",
      "{'anime_title': b'Higashi no Eden', 'user_id': b'47739', 'user_rating': 10}\n",
      "{'anime_title': b'Trigun', 'user_id': b'45901', 'user_rating': 10}\n"
     ]
    }
   ],
   "source": [
    "for x in test.take(5).as_numpy_iterator():\n",
    "    pprint.pprint(x)"
   ]
  },
  {
   "cell_type": "code",
   "execution_count": 43,
   "id": "264e1588",
   "metadata": {
    "execution": {
     "iopub.execute_input": "2023-04-30T07:45:06.013225Z",
     "iopub.status.busy": "2023-04-30T07:45:06.012766Z",
     "iopub.status.idle": "2023-04-30T07:45:06.064383Z",
     "shell.execute_reply": "2023-04-30T07:45:06.063024Z"
    },
    "papermill": {
     "duration": 0.440913,
     "end_time": "2023-04-30T07:45:06.067323",
     "exception": false,
     "start_time": "2023-04-30T07:45:05.626410",
     "status": "completed"
    },
    "tags": []
   },
   "outputs": [
    {
     "name": "stdout",
     "output_type": "stream",
     "text": [
      "Ratings:\n",
      "Steins;Gate: [[10.153532]]\n",
      "Higashi no Eden: [[8.536829]]\n",
      "Oppai Infinity ! The Animation: [[5.9849634]]\n"
     ]
    }
   ],
   "source": [
    "test_ratings = {}\n",
    "test_anime_titles = ['Oppai Infinity ! The Animation', 'Steins;Gate', 'Higashi no Eden']\n",
    "for anime_title in test_anime_titles:\n",
    "    test_ratings[anime_title] = model({\n",
    "        \"user_id\": np.array([\"4262\"]),\n",
    "        \"anime_title\": np.array([anime_title])\n",
    "    })\n",
    "\n",
    "print(\"Ratings:\")\n",
    "for title, score in sorted(test_ratings.items(), key=lambda x: x[1], reverse=True):\n",
    "  print(f\"{title}: {score}\")"
   ]
  }
 ],
 "metadata": {
  "kernelspec": {
   "display_name": "Python 3 (ipykernel)",
   "language": "python",
   "name": "python3"
  },
  "language_info": {
   "codemirror_mode": {
    "name": "ipython",
    "version": 3
   },
   "file_extension": ".py",
   "mimetype": "text/x-python",
   "name": "python",
   "nbconvert_exporter": "python",
   "pygments_lexer": "ipython3",
   "version": "3.7.0"
  },
  "papermill": {
   "default_parameters": {},
   "duration": 3690.801843,
   "end_time": "2023-04-30T07:45:09.783523",
   "environment_variables": {},
   "exception": null,
   "input_path": "__notebook__.ipynb",
   "output_path": "__notebook__.ipynb",
   "parameters": {},
   "start_time": "2023-04-30T06:43:38.981680",
   "version": "2.4.0"
  }
 },
 "nbformat": 4,
 "nbformat_minor": 5
}

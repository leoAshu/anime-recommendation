{
 "cells": [
  {
   "cell_type": "code",
   "execution_count": 1,
   "id": "0959b8a5",
   "metadata": {
    "_cell_guid": "b1076dfc-b9ad-4769-8c92-a6c4dae69d19",
    "_uuid": "8f2839f25d086af736a60e9eeb907d3b93b6e0e5",
    "execution": {
     "iopub.execute_input": "2023-05-01T03:42:18.756605Z",
     "iopub.status.busy": "2023-05-01T03:42:18.756171Z",
     "iopub.status.idle": "2023-05-01T03:43:01.148606Z",
     "shell.execute_reply": "2023-05-01T03:43:01.147253Z",
     "shell.execute_reply.started": "2023-05-01T03:42:18.756567Z"
    },
    "papermill": {
     "duration": 12.750026,
     "end_time": "2023-05-01T02:00:11.249806",
     "exception": false,
     "start_time": "2023-05-01T01:59:58.499780",
     "status": "completed"
    },
    "tags": []
   },
   "outputs": [
    {
     "name": "stdout",
     "output_type": "stream",
     "text": [
      "Collecting tensorflow-recommenders\n",
      "  Downloading tensorflow_recommenders-0.7.3-py3-none-any.whl (96 kB)\n",
      "\u001b[2K     \u001b[90m━━━━━━━━━━━━━━━━━━━━━━━━━━━━━━━━━━━━━━━━\u001b[0m \u001b[32m96.2/96.2 kB\u001b[0m \u001b[31m4.5 MB/s\u001b[0m eta \u001b[36m0:00:00\u001b[0m\n",
      "\u001b[?25hRequirement already satisfied: absl-py>=0.1.6 in /opt/conda/lib/python3.7/site-packages (from tensorflow-recommenders) (1.4.0)\n",
      "Requirement already satisfied: tensorflow>=2.9.0 in /opt/conda/lib/python3.7/site-packages (from tensorflow-recommenders) (2.11.0)\n",
      "Requirement already satisfied: typing-extensions>=3.6.6 in /opt/conda/lib/python3.7/site-packages (from tensorflow>=2.9.0->tensorflow-recommenders) (4.4.0)\n",
      "Requirement already satisfied: tensorflow-estimator<2.12,>=2.11.0 in /opt/conda/lib/python3.7/site-packages (from tensorflow>=2.9.0->tensorflow-recommenders) (2.11.0)\n",
      "Requirement already satisfied: flatbuffers>=2.0 in /opt/conda/lib/python3.7/site-packages (from tensorflow>=2.9.0->tensorflow-recommenders) (23.1.21)\n",
      "Requirement already satisfied: libclang>=13.0.0 in /opt/conda/lib/python3.7/site-packages (from tensorflow>=2.9.0->tensorflow-recommenders) (15.0.6.1)\n",
      "Requirement already satisfied: six>=1.12.0 in /opt/conda/lib/python3.7/site-packages (from tensorflow>=2.9.0->tensorflow-recommenders) (1.16.0)\n",
      "Collecting protobuf<3.20,>=3.9.2\n",
      "  Downloading protobuf-3.19.6-cp37-cp37m-manylinux_2_17_x86_64.manylinux2014_x86_64.whl (1.1 MB)\n",
      "\u001b[2K     \u001b[90m━━━━━━━━━━━━━━━━━━━━━━━━━━━━━━━━━━━━━━━━\u001b[0m \u001b[32m1.1/1.1 MB\u001b[0m \u001b[31m32.1 MB/s\u001b[0m eta \u001b[36m0:00:00\u001b[0m\n",
      "\u001b[?25hRequirement already satisfied: packaging in /opt/conda/lib/python3.7/site-packages (from tensorflow>=2.9.0->tensorflow-recommenders) (23.0)\n",
      "Requirement already satisfied: termcolor>=1.1.0 in /opt/conda/lib/python3.7/site-packages (from tensorflow>=2.9.0->tensorflow-recommenders) (2.2.0)\n",
      "Requirement already satisfied: gast<=0.4.0,>=0.2.1 in /opt/conda/lib/python3.7/site-packages (from tensorflow>=2.9.0->tensorflow-recommenders) (0.4.0)\n",
      "Requirement already satisfied: google-pasta>=0.1.1 in /opt/conda/lib/python3.7/site-packages (from tensorflow>=2.9.0->tensorflow-recommenders) (0.2.0)\n",
      "Requirement already satisfied: tensorboard<2.12,>=2.11 in /opt/conda/lib/python3.7/site-packages (from tensorflow>=2.9.0->tensorflow-recommenders) (2.11.2)\n",
      "Requirement already satisfied: h5py>=2.9.0 in /opt/conda/lib/python3.7/site-packages (from tensorflow>=2.9.0->tensorflow-recommenders) (3.8.0)\n",
      "Requirement already satisfied: grpcio<2.0,>=1.24.3 in /opt/conda/lib/python3.7/site-packages (from tensorflow>=2.9.0->tensorflow-recommenders) (1.51.1)\n",
      "Requirement already satisfied: tensorflow-io-gcs-filesystem>=0.23.1 in /opt/conda/lib/python3.7/site-packages (from tensorflow>=2.9.0->tensorflow-recommenders) (0.29.0)\n",
      "Requirement already satisfied: setuptools in /opt/conda/lib/python3.7/site-packages (from tensorflow>=2.9.0->tensorflow-recommenders) (59.8.0)\n",
      "Requirement already satisfied: opt-einsum>=2.3.2 in /opt/conda/lib/python3.7/site-packages (from tensorflow>=2.9.0->tensorflow-recommenders) (3.3.0)\n",
      "Requirement already satisfied: keras<2.12,>=2.11.0 in /opt/conda/lib/python3.7/site-packages (from tensorflow>=2.9.0->tensorflow-recommenders) (2.11.0)\n",
      "Requirement already satisfied: numpy>=1.20 in /opt/conda/lib/python3.7/site-packages (from tensorflow>=2.9.0->tensorflow-recommenders) (1.21.6)\n",
      "Requirement already satisfied: wrapt>=1.11.0 in /opt/conda/lib/python3.7/site-packages (from tensorflow>=2.9.0->tensorflow-recommenders) (1.14.1)\n",
      "Requirement already satisfied: astunparse>=1.6.0 in /opt/conda/lib/python3.7/site-packages (from tensorflow>=2.9.0->tensorflow-recommenders) (1.6.3)\n",
      "Requirement already satisfied: wheel<1.0,>=0.23.0 in /opt/conda/lib/python3.7/site-packages (from astunparse>=1.6.0->tensorflow>=2.9.0->tensorflow-recommenders) (0.38.4)\n",
      "Requirement already satisfied: tensorboard-plugin-wit>=1.6.0 in /opt/conda/lib/python3.7/site-packages (from tensorboard<2.12,>=2.11->tensorflow>=2.9.0->tensorflow-recommenders) (1.8.1)\n",
      "Requirement already satisfied: requests<3,>=2.21.0 in /opt/conda/lib/python3.7/site-packages (from tensorboard<2.12,>=2.11->tensorflow>=2.9.0->tensorflow-recommenders) (2.28.2)\n",
      "Requirement already satisfied: werkzeug>=1.0.1 in /opt/conda/lib/python3.7/site-packages (from tensorboard<2.12,>=2.11->tensorflow>=2.9.0->tensorflow-recommenders) (2.2.3)\n",
      "Requirement already satisfied: google-auth-oauthlib<0.5,>=0.4.1 in /opt/conda/lib/python3.7/site-packages (from tensorboard<2.12,>=2.11->tensorflow>=2.9.0->tensorflow-recommenders) (0.4.6)\n",
      "Requirement already satisfied: markdown>=2.6.8 in /opt/conda/lib/python3.7/site-packages (from tensorboard<2.12,>=2.11->tensorflow>=2.9.0->tensorflow-recommenders) (3.4.1)\n",
      "Requirement already satisfied: tensorboard-data-server<0.7.0,>=0.6.0 in /opt/conda/lib/python3.7/site-packages (from tensorboard<2.12,>=2.11->tensorflow>=2.9.0->tensorflow-recommenders) (0.6.1)\n",
      "Requirement already satisfied: google-auth<3,>=1.6.3 in /opt/conda/lib/python3.7/site-packages (from tensorboard<2.12,>=2.11->tensorflow>=2.9.0->tensorflow-recommenders) (1.35.0)\n",
      "Requirement already satisfied: pyasn1-modules>=0.2.1 in /opt/conda/lib/python3.7/site-packages (from google-auth<3,>=1.6.3->tensorboard<2.12,>=2.11->tensorflow>=2.9.0->tensorflow-recommenders) (0.2.8)\n",
      "Requirement already satisfied: rsa<5,>=3.1.4 in /opt/conda/lib/python3.7/site-packages (from google-auth<3,>=1.6.3->tensorboard<2.12,>=2.11->tensorflow>=2.9.0->tensorflow-recommenders) (4.9)\n",
      "Requirement already satisfied: cachetools<5.0,>=2.0.0 in /opt/conda/lib/python3.7/site-packages (from google-auth<3,>=1.6.3->tensorboard<2.12,>=2.11->tensorflow>=2.9.0->tensorflow-recommenders) (4.2.4)\n",
      "Requirement already satisfied: requests-oauthlib>=0.7.0 in /opt/conda/lib/python3.7/site-packages (from google-auth-oauthlib<0.5,>=0.4.1->tensorboard<2.12,>=2.11->tensorflow>=2.9.0->tensorflow-recommenders) (1.3.1)\n",
      "Requirement already satisfied: importlib-metadata>=4.4 in /opt/conda/lib/python3.7/site-packages (from markdown>=2.6.8->tensorboard<2.12,>=2.11->tensorflow>=2.9.0->tensorflow-recommenders) (4.11.4)\n",
      "Requirement already satisfied: urllib3<1.27,>=1.21.1 in /opt/conda/lib/python3.7/site-packages (from requests<3,>=2.21.0->tensorboard<2.12,>=2.11->tensorflow>=2.9.0->tensorflow-recommenders) (1.26.14)\n",
      "Requirement already satisfied: idna<4,>=2.5 in /opt/conda/lib/python3.7/site-packages (from requests<3,>=2.21.0->tensorboard<2.12,>=2.11->tensorflow>=2.9.0->tensorflow-recommenders) (3.4)\n",
      "Requirement already satisfied: certifi>=2017.4.17 in /opt/conda/lib/python3.7/site-packages (from requests<3,>=2.21.0->tensorboard<2.12,>=2.11->tensorflow>=2.9.0->tensorflow-recommenders) (2022.12.7)\n",
      "Requirement already satisfied: charset-normalizer<4,>=2 in /opt/conda/lib/python3.7/site-packages (from requests<3,>=2.21.0->tensorboard<2.12,>=2.11->tensorflow>=2.9.0->tensorflow-recommenders) (2.1.1)\n",
      "Requirement already satisfied: MarkupSafe>=2.1.1 in /opt/conda/lib/python3.7/site-packages (from werkzeug>=1.0.1->tensorboard<2.12,>=2.11->tensorflow>=2.9.0->tensorflow-recommenders) (2.1.1)\n",
      "Requirement already satisfied: zipp>=0.5 in /opt/conda/lib/python3.7/site-packages (from importlib-metadata>=4.4->markdown>=2.6.8->tensorboard<2.12,>=2.11->tensorflow>=2.9.0->tensorflow-recommenders) (3.11.0)\n",
      "Requirement already satisfied: pyasn1<0.5.0,>=0.4.6 in /opt/conda/lib/python3.7/site-packages (from pyasn1-modules>=0.2.1->google-auth<3,>=1.6.3->tensorboard<2.12,>=2.11->tensorflow>=2.9.0->tensorflow-recommenders) (0.4.8)\n",
      "Requirement already satisfied: oauthlib>=3.0.0 in /opt/conda/lib/python3.7/site-packages (from requests-oauthlib>=0.7.0->google-auth-oauthlib<0.5,>=0.4.1->tensorboard<2.12,>=2.11->tensorflow>=2.9.0->tensorflow-recommenders) (3.2.2)\n",
      "Installing collected packages: protobuf, tensorflow-recommenders\n",
      "  Attempting uninstall: protobuf\n",
      "    Found existing installation: protobuf 3.20.3\n",
      "    Uninstalling protobuf-3.20.3:\n",
      "      Successfully uninstalled protobuf-3.20.3\n",
      "\u001b[31mERROR: pip's dependency resolver does not currently take into account all the packages that are installed. This behaviour is the source of the following dependency conflicts.\n",
      "tfx-bsl 1.12.0 requires google-api-python-client<2,>=1.7.11, but you have google-api-python-client 2.83.0 which is incompatible.\n",
      "onnx 1.13.1 requires protobuf<4,>=3.20.2, but you have protobuf 3.19.6 which is incompatible.\n",
      "apache-beam 2.44.0 requires dill<0.3.2,>=0.3.1.1, but you have dill 0.3.6 which is incompatible.\u001b[0m\u001b[31m\n",
      "\u001b[0mSuccessfully installed protobuf-3.19.6 tensorflow-recommenders-0.7.3\n",
      "\u001b[33mWARNING: Running pip as the 'root' user can result in broken permissions and conflicting behaviour with the system package manager. It is recommended to use a virtual environment instead: https://pip.pypa.io/warnings/venv\u001b[0m\u001b[33m\n",
      "\u001b[0mRequirement already satisfied: scikit-learn in /opt/conda/lib/python3.7/site-packages (1.0.2)\n",
      "Requirement already satisfied: threadpoolctl>=2.0.0 in /opt/conda/lib/python3.7/site-packages (from scikit-learn) (3.1.0)\n",
      "Requirement already satisfied: joblib>=0.11 in /opt/conda/lib/python3.7/site-packages (from scikit-learn) (1.2.0)\n",
      "Requirement already satisfied: scipy>=1.1.0 in /opt/conda/lib/python3.7/site-packages (from scikit-learn) (1.7.3)\n",
      "Requirement already satisfied: numpy>=1.14.6 in /opt/conda/lib/python3.7/site-packages (from scikit-learn) (1.21.6)\n",
      "\u001b[33mWARNING: Running pip as the 'root' user can result in broken permissions and conflicting behaviour with the system package manager. It is recommended to use a virtual environment instead: https://pip.pypa.io/warnings/venv\u001b[0m\u001b[33m\n",
      "\u001b[0m"
     ]
    }
   ],
   "source": [
    "!pip install tensorflow-recommenders\n",
    "!pip install scikit-learn"
   ]
  },
  {
   "cell_type": "code",
   "execution_count": 2,
   "id": "70fe3b88",
   "metadata": {
    "execution": {
     "iopub.execute_input": "2023-05-01T03:43:01.151857Z",
     "iopub.status.busy": "2023-05-01T03:43:01.151454Z",
     "iopub.status.idle": "2023-05-01T03:43:09.724607Z",
     "shell.execute_reply": "2023-05-01T03:43:09.723061Z",
     "shell.execute_reply.started": "2023-05-01T03:43:01.151815Z"
    },
    "papermill": {
     "duration": 40.118552,
     "end_time": "2023-05-01T02:00:51.394590",
     "exception": false,
     "start_time": "2023-05-01T02:00:11.276038",
     "status": "completed"
    },
    "tags": []
   },
   "outputs": [],
   "source": [
    "# import required packages\n",
    "# utility\n",
    "import re\n",
    "import sys\n",
    "import html\n",
    "import pprint\n",
    "import numpy as np\n",
    "import pandas as pd\n",
    "from typing import Dict, Text\n",
    "\n",
    "# tensorflow\n",
    "import tensorflow as tf\n",
    "import tensorflow_recommenders as tfrs"
   ]
  },
  {
   "cell_type": "code",
   "execution_count": 3,
   "id": "b0d45c9d",
   "metadata": {
    "execution": {
     "iopub.execute_input": "2023-05-01T03:43:09.726967Z",
     "iopub.status.busy": "2023-05-01T03:43:09.726191Z",
     "iopub.status.idle": "2023-05-01T03:43:09.734657Z",
     "shell.execute_reply": "2023-05-01T03:43:09.733124Z",
     "shell.execute_reply.started": "2023-05-01T03:43:09.726925Z"
    },
    "papermill": {
     "duration": 0.0353,
     "end_time": "2023-05-01T02:00:51.457978",
     "exception": false,
     "start_time": "2023-05-01T02:00:51.422678",
     "status": "completed"
    },
    "tags": []
   },
   "outputs": [],
   "source": [
    "# # configure gpu\n",
    "# gpus = tf.config.list_physical_devices(\"GPU\")\n",
    "\n",
    "# print(\"Num GPUs Available: \", len(gpus))\n",
    "\n",
    "# # if gpus:\n",
    "# #     # Create 2 virtual GPUs with 4GB memory each\n",
    "# #     try:\n",
    "# #         tf.config.set_logical_device_configuration(gpus[0],[tf.config.LogicalDeviceConfiguration(memory_limit=4096), tf.config.LogicalDeviceConfiguration(memory_limit=4096)])\n",
    "# #         logical_gpus = tf.config.list_logical_devices(\"GPU\")\n",
    "# #         print(len(gpus), \"Physical GPU,\", len(logical_gpus), \"Logical GPUs\")\n",
    "# #     except RuntimeError as e:\n",
    "# #         # Virtual devices must be set before GPUs have been initialized\n",
    "# #         print(e)\n",
    "\n",
    "# strategy = tf.distribute.MirroredStrategy()"
   ]
  },
  {
   "cell_type": "code",
   "execution_count": 4,
   "id": "4a0482b7",
   "metadata": {
    "execution": {
     "iopub.execute_input": "2023-05-01T03:43:09.737692Z",
     "iopub.status.busy": "2023-05-01T03:43:09.737330Z",
     "iopub.status.idle": "2023-05-01T03:43:09.754307Z",
     "shell.execute_reply": "2023-05-01T03:43:09.752865Z",
     "shell.execute_reply.started": "2023-05-01T03:43:09.737657Z"
    },
    "papermill": {
     "duration": 0.033377,
     "end_time": "2023-05-01T02:00:51.517577",
     "exception": false,
     "start_time": "2023-05-01T02:00:51.484200",
     "status": "completed"
    },
    "tags": []
   },
   "outputs": [],
   "source": [
    "# # configure tpu\n",
    "# resolver = tf.distribute.cluster_resolver.TPUClusterResolver()\n",
    "# tf.config.experimental_connect_to_cluster(resolver)\n",
    "\n",
    "# tf.tpu.experimental.initialize_tpu_system(resolver)\n",
    "# print(\"All devices: \", tf.config.list_logical_devices('TPU'))\n",
    "\n",
    "# strategy = tf.distribute.TPUStrategy(resolver)"
   ]
  },
  {
   "cell_type": "markdown",
   "id": "5b5b7db6",
   "metadata": {
    "papermill": {
     "duration": 0.026035,
     "end_time": "2023-05-01T02:00:51.569739",
     "exception": false,
     "start_time": "2023-05-01T02:00:51.543704",
     "status": "completed"
    },
    "tags": []
   },
   "source": [
    "## EDA and Preprocessing: Anime Recommendations Dataset\n",
    "- Ratings data\n",
    "- Metadata\n",
    "\n",
    "### Ratings data"
   ]
  },
  {
   "cell_type": "code",
   "execution_count": 5,
   "id": "0fe0a960",
   "metadata": {
    "execution": {
     "iopub.execute_input": "2023-05-01T03:43:09.756495Z",
     "iopub.status.busy": "2023-05-01T03:43:09.756130Z",
     "iopub.status.idle": "2023-05-01T03:43:13.053127Z",
     "shell.execute_reply": "2023-05-01T03:43:13.051686Z",
     "shell.execute_reply.started": "2023-05-01T03:43:09.756462Z"
    },
    "papermill": {
     "duration": 3.288885,
     "end_time": "2023-05-01T02:00:54.884590",
     "exception": false,
     "start_time": "2023-05-01T02:00:51.595705",
     "status": "completed"
    },
    "tags": []
   },
   "outputs": [
    {
     "data": {
      "text/plain": [
       "(7813737, 3)"
      ]
     },
     "execution_count": 5,
     "metadata": {},
     "output_type": "execute_result"
    }
   ],
   "source": [
    "# load ratings dataset\n",
    "# kaggle path\n",
    "# rating_df = pd.read_csv('/kaggle/input/anime-recommendations-database/rating.csv')\n",
    "\n",
    "# local path\n",
    "rating_df = pd.read_csv('../data/rating.csv')\n",
    "\n",
    "rating_df.shape"
   ]
  },
  {
   "cell_type": "code",
   "execution_count": 6,
   "id": "87446cbc",
   "metadata": {
    "execution": {
     "iopub.execute_input": "2023-05-01T03:43:13.055174Z",
     "iopub.status.busy": "2023-05-01T03:43:13.054733Z",
     "iopub.status.idle": "2023-05-01T03:43:13.085772Z",
     "shell.execute_reply": "2023-05-01T03:43:13.084490Z",
     "shell.execute_reply.started": "2023-05-01T03:43:13.055140Z"
    },
    "papermill": {
     "duration": 0.040584,
     "end_time": "2023-05-01T02:00:54.951417",
     "exception": false,
     "start_time": "2023-05-01T02:00:54.910833",
     "status": "completed"
    },
    "tags": []
   },
   "outputs": [
    {
     "data": {
      "text/html": [
       "<div>\n",
       "<style scoped>\n",
       "    .dataframe tbody tr th:only-of-type {\n",
       "        vertical-align: middle;\n",
       "    }\n",
       "\n",
       "    .dataframe tbody tr th {\n",
       "        vertical-align: top;\n",
       "    }\n",
       "\n",
       "    .dataframe thead th {\n",
       "        text-align: right;\n",
       "    }\n",
       "</style>\n",
       "<table border=\"1\" class=\"dataframe\">\n",
       "  <thead>\n",
       "    <tr style=\"text-align: right;\">\n",
       "      <th></th>\n",
       "      <th>user_id</th>\n",
       "      <th>anime_id</th>\n",
       "      <th>rating</th>\n",
       "    </tr>\n",
       "  </thead>\n",
       "  <tbody>\n",
       "    <tr>\n",
       "      <th>0</th>\n",
       "      <td>1</td>\n",
       "      <td>20</td>\n",
       "      <td>-1</td>\n",
       "    </tr>\n",
       "    <tr>\n",
       "      <th>1</th>\n",
       "      <td>1</td>\n",
       "      <td>24</td>\n",
       "      <td>-1</td>\n",
       "    </tr>\n",
       "    <tr>\n",
       "      <th>2</th>\n",
       "      <td>1</td>\n",
       "      <td>79</td>\n",
       "      <td>-1</td>\n",
       "    </tr>\n",
       "    <tr>\n",
       "      <th>3</th>\n",
       "      <td>1</td>\n",
       "      <td>226</td>\n",
       "      <td>-1</td>\n",
       "    </tr>\n",
       "    <tr>\n",
       "      <th>4</th>\n",
       "      <td>1</td>\n",
       "      <td>241</td>\n",
       "      <td>-1</td>\n",
       "    </tr>\n",
       "  </tbody>\n",
       "</table>\n",
       "</div>"
      ],
      "text/plain": [
       "   user_id  anime_id  rating\n",
       "0        1        20      -1\n",
       "1        1        24      -1\n",
       "2        1        79      -1\n",
       "3        1       226      -1\n",
       "4        1       241      -1"
      ]
     },
     "execution_count": 6,
     "metadata": {},
     "output_type": "execute_result"
    }
   ],
   "source": [
    "# first 5 data points\n",
    "rating_df.head()"
   ]
  },
  {
   "cell_type": "code",
   "execution_count": 7,
   "id": "8973ac78",
   "metadata": {
    "execution": {
     "iopub.execute_input": "2023-05-01T03:43:13.088051Z",
     "iopub.status.busy": "2023-05-01T03:43:13.087676Z",
     "iopub.status.idle": "2023-05-01T03:43:13.113713Z",
     "shell.execute_reply": "2023-05-01T03:43:13.112177Z",
     "shell.execute_reply.started": "2023-05-01T03:43:13.088014Z"
    },
    "papermill": {
     "duration": 0.039123,
     "end_time": "2023-05-01T02:00:55.016712",
     "exception": false,
     "start_time": "2023-05-01T02:00:54.977589",
     "status": "completed"
    },
    "tags": []
   },
   "outputs": [
    {
     "name": "stdout",
     "output_type": "stream",
     "text": [
      "<class 'pandas.core.frame.DataFrame'>\n",
      "RangeIndex: 7813737 entries, 0 to 7813736\n",
      "Data columns (total 3 columns):\n",
      " #   Column    Dtype\n",
      "---  ------    -----\n",
      " 0   user_id   int64\n",
      " 1   anime_id  int64\n",
      " 2   rating    int64\n",
      "dtypes: int64(3)\n",
      "memory usage: 178.8 MB\n"
     ]
    }
   ],
   "source": [
    "# info\n",
    "rating_df.info()"
   ]
  },
  {
   "cell_type": "code",
   "execution_count": 8,
   "id": "bdb46c31",
   "metadata": {
    "execution": {
     "iopub.execute_input": "2023-05-01T03:43:13.116240Z",
     "iopub.status.busy": "2023-05-01T03:43:13.115732Z",
     "iopub.status.idle": "2023-05-01T03:43:20.177618Z",
     "shell.execute_reply": "2023-05-01T03:43:20.176226Z",
     "shell.execute_reply.started": "2023-05-01T03:43:13.116190Z"
    },
    "papermill": {
     "duration": 8.931069,
     "end_time": "2023-05-01T02:01:03.974075",
     "exception": false,
     "start_time": "2023-05-01T02:00:55.043006",
     "status": "completed"
    },
    "tags": []
   },
   "outputs": [],
   "source": [
    "# convert id columns to string\n",
    "rating_df['user_id'] = rating_df['user_id'].map(lambda x: str(x))\n",
    "rating_df['anime_id'] = rating_df['anime_id'].map(lambda x: str(x))"
   ]
  },
  {
   "cell_type": "code",
   "execution_count": 9,
   "id": "f2bbc011",
   "metadata": {
    "execution": {
     "iopub.execute_input": "2023-05-01T03:43:20.179769Z",
     "iopub.status.busy": "2023-05-01T03:43:20.179296Z",
     "iopub.status.idle": "2023-05-01T03:43:20.963292Z",
     "shell.execute_reply": "2023-05-01T03:43:20.962125Z",
     "shell.execute_reply.started": "2023-05-01T03:43:20.179719Z"
    },
    "papermill": {
     "duration": 1.603102,
     "end_time": "2023-05-01T02:01:05.604190",
     "exception": false,
     "start_time": "2023-05-01T02:01:04.001088",
     "status": "completed"
    },
    "tags": []
   },
   "outputs": [
    {
     "data": {
      "text/plain": [
       "user_id     0\n",
       "anime_id    0\n",
       "rating      0\n",
       "dtype: int64"
      ]
     },
     "execution_count": 9,
     "metadata": {},
     "output_type": "execute_result"
    }
   ],
   "source": [
    "rating_df.isna().sum()"
   ]
  },
  {
   "cell_type": "markdown",
   "id": "ead3566b",
   "metadata": {
    "papermill": {
     "duration": 0.026822,
     "end_time": "2023-05-01T02:01:05.659084",
     "exception": false,
     "start_time": "2023-05-01T02:01:05.632262",
     "status": "completed"
    },
    "tags": []
   },
   "source": [
    "### Metadata"
   ]
  },
  {
   "cell_type": "code",
   "execution_count": 10,
   "id": "4da89f91",
   "metadata": {
    "execution": {
     "iopub.execute_input": "2023-05-01T03:43:20.969382Z",
     "iopub.status.busy": "2023-05-01T03:43:20.968769Z",
     "iopub.status.idle": "2023-05-01T03:43:21.025108Z",
     "shell.execute_reply": "2023-05-01T03:43:21.024001Z",
     "shell.execute_reply.started": "2023-05-01T03:43:20.969341Z"
    },
    "papermill": {
     "duration": 0.085046,
     "end_time": "2023-05-01T02:01:05.770990",
     "exception": false,
     "start_time": "2023-05-01T02:01:05.685944",
     "status": "completed"
    },
    "tags": []
   },
   "outputs": [
    {
     "data": {
      "text/plain": [
       "(12294, 7)"
      ]
     },
     "execution_count": 10,
     "metadata": {},
     "output_type": "execute_result"
    }
   ],
   "source": [
    "# load anime metadata\n",
    "# kaggle path\n",
    "# anime_df = pd.read_csv('/kaggle/input/anime-recommendations-database/anime.csv')\n",
    "\n",
    "# local path\n",
    "rating_df = pd.read_csv('../data/anime.csv')\n",
    "\n",
    "anime_df.shape"
   ]
  },
  {
   "cell_type": "code",
   "execution_count": 11,
   "id": "8b31d9b6",
   "metadata": {
    "execution": {
     "iopub.execute_input": "2023-05-01T03:43:21.027236Z",
     "iopub.status.busy": "2023-05-01T03:43:21.026478Z",
     "iopub.status.idle": "2023-05-01T03:43:21.042240Z",
     "shell.execute_reply": "2023-05-01T03:43:21.041027Z",
     "shell.execute_reply.started": "2023-05-01T03:43:21.027193Z"
    },
    "papermill": {
     "duration": 0.042541,
     "end_time": "2023-05-01T02:01:05.840355",
     "exception": false,
     "start_time": "2023-05-01T02:01:05.797814",
     "status": "completed"
    },
    "tags": []
   },
   "outputs": [
    {
     "data": {
      "text/html": [
       "<div>\n",
       "<style scoped>\n",
       "    .dataframe tbody tr th:only-of-type {\n",
       "        vertical-align: middle;\n",
       "    }\n",
       "\n",
       "    .dataframe tbody tr th {\n",
       "        vertical-align: top;\n",
       "    }\n",
       "\n",
       "    .dataframe thead th {\n",
       "        text-align: right;\n",
       "    }\n",
       "</style>\n",
       "<table border=\"1\" class=\"dataframe\">\n",
       "  <thead>\n",
       "    <tr style=\"text-align: right;\">\n",
       "      <th></th>\n",
       "      <th>anime_id</th>\n",
       "      <th>name</th>\n",
       "      <th>genre</th>\n",
       "      <th>type</th>\n",
       "      <th>episodes</th>\n",
       "      <th>rating</th>\n",
       "      <th>members</th>\n",
       "    </tr>\n",
       "  </thead>\n",
       "  <tbody>\n",
       "    <tr>\n",
       "      <th>0</th>\n",
       "      <td>32281</td>\n",
       "      <td>Kimi no Na wa.</td>\n",
       "      <td>Drama, Romance, School, Supernatural</td>\n",
       "      <td>Movie</td>\n",
       "      <td>1</td>\n",
       "      <td>9.37</td>\n",
       "      <td>200630</td>\n",
       "    </tr>\n",
       "    <tr>\n",
       "      <th>1</th>\n",
       "      <td>5114</td>\n",
       "      <td>Fullmetal Alchemist: Brotherhood</td>\n",
       "      <td>Action, Adventure, Drama, Fantasy, Magic, Mili...</td>\n",
       "      <td>TV</td>\n",
       "      <td>64</td>\n",
       "      <td>9.26</td>\n",
       "      <td>793665</td>\n",
       "    </tr>\n",
       "    <tr>\n",
       "      <th>2</th>\n",
       "      <td>28977</td>\n",
       "      <td>Gintama°</td>\n",
       "      <td>Action, Comedy, Historical, Parody, Samurai, S...</td>\n",
       "      <td>TV</td>\n",
       "      <td>51</td>\n",
       "      <td>9.25</td>\n",
       "      <td>114262</td>\n",
       "    </tr>\n",
       "    <tr>\n",
       "      <th>3</th>\n",
       "      <td>9253</td>\n",
       "      <td>Steins;Gate</td>\n",
       "      <td>Sci-Fi, Thriller</td>\n",
       "      <td>TV</td>\n",
       "      <td>24</td>\n",
       "      <td>9.17</td>\n",
       "      <td>673572</td>\n",
       "    </tr>\n",
       "    <tr>\n",
       "      <th>4</th>\n",
       "      <td>9969</td>\n",
       "      <td>Gintama&amp;#039;</td>\n",
       "      <td>Action, Comedy, Historical, Parody, Samurai, S...</td>\n",
       "      <td>TV</td>\n",
       "      <td>51</td>\n",
       "      <td>9.16</td>\n",
       "      <td>151266</td>\n",
       "    </tr>\n",
       "  </tbody>\n",
       "</table>\n",
       "</div>"
      ],
      "text/plain": [
       "   anime_id                              name  \\\n",
       "0     32281                    Kimi no Na wa.   \n",
       "1      5114  Fullmetal Alchemist: Brotherhood   \n",
       "2     28977                          Gintama°   \n",
       "3      9253                       Steins;Gate   \n",
       "4      9969                     Gintama&#039;   \n",
       "\n",
       "                                               genre   type episodes  rating  \\\n",
       "0               Drama, Romance, School, Supernatural  Movie        1    9.37   \n",
       "1  Action, Adventure, Drama, Fantasy, Magic, Mili...     TV       64    9.26   \n",
       "2  Action, Comedy, Historical, Parody, Samurai, S...     TV       51    9.25   \n",
       "3                                   Sci-Fi, Thriller     TV       24    9.17   \n",
       "4  Action, Comedy, Historical, Parody, Samurai, S...     TV       51    9.16   \n",
       "\n",
       "   members  \n",
       "0   200630  \n",
       "1   793665  \n",
       "2   114262  \n",
       "3   673572  \n",
       "4   151266  "
      ]
     },
     "execution_count": 11,
     "metadata": {},
     "output_type": "execute_result"
    }
   ],
   "source": [
    "# first 5 data points\n",
    "anime_df.head()"
   ]
  },
  {
   "cell_type": "code",
   "execution_count": 12,
   "id": "a4fd5311",
   "metadata": {
    "execution": {
     "iopub.execute_input": "2023-05-01T03:43:21.043644Z",
     "iopub.status.busy": "2023-05-01T03:43:21.043282Z",
     "iopub.status.idle": "2023-05-01T03:43:21.053062Z",
     "shell.execute_reply": "2023-05-01T03:43:21.051862Z",
     "shell.execute_reply.started": "2023-05-01T03:43:21.043608Z"
    },
    "papermill": {
     "duration": 0.037906,
     "end_time": "2023-05-01T02:01:05.906022",
     "exception": false,
     "start_time": "2023-05-01T02:01:05.868116",
     "status": "completed"
    },
    "tags": []
   },
   "outputs": [],
   "source": [
    "# drop useless columns\n",
    "# members\n",
    "anime_df = anime_df.drop(['members'], axis=1)"
   ]
  },
  {
   "cell_type": "code",
   "execution_count": 13,
   "id": "e6c561f6",
   "metadata": {
    "execution": {
     "iopub.execute_input": "2023-05-01T03:43:21.055443Z",
     "iopub.status.busy": "2023-05-01T03:43:21.054985Z",
     "iopub.status.idle": "2023-05-01T03:43:21.074949Z",
     "shell.execute_reply": "2023-05-01T03:43:21.073499Z",
     "shell.execute_reply.started": "2023-05-01T03:43:21.055402Z"
    },
    "papermill": {
     "duration": 0.046864,
     "end_time": "2023-05-01T02:01:05.981256",
     "exception": false,
     "start_time": "2023-05-01T02:01:05.934392",
     "status": "completed"
    },
    "tags": []
   },
   "outputs": [
    {
     "data": {
      "text/plain": [
       "anime_id      0\n",
       "name          0\n",
       "genre        62\n",
       "type         25\n",
       "episodes      0\n",
       "rating      230\n",
       "dtype: int64"
      ]
     },
     "execution_count": 13,
     "metadata": {},
     "output_type": "execute_result"
    }
   ],
   "source": [
    "# check null values\n",
    "anime_df.isna().sum()"
   ]
  },
  {
   "cell_type": "code",
   "execution_count": 14,
   "id": "81b6cb98",
   "metadata": {
    "execution": {
     "iopub.execute_input": "2023-05-01T03:43:21.077145Z",
     "iopub.status.busy": "2023-05-01T03:43:21.076762Z",
     "iopub.status.idle": "2023-05-01T03:43:21.094648Z",
     "shell.execute_reply": "2023-05-01T03:43:21.093254Z",
     "shell.execute_reply.started": "2023-05-01T03:43:21.077112Z"
    },
    "papermill": {
     "duration": 0.049646,
     "end_time": "2023-05-01T02:01:06.059690",
     "exception": false,
     "start_time": "2023-05-01T02:01:06.010044",
     "status": "completed"
    },
    "tags": []
   },
   "outputs": [],
   "source": [
    "# replace null values for genre with mode\n",
    "anime_df['genre'] = anime_df['genre'].fillna(anime_df['genre'].mode()[0])\n",
    "\n",
    "# replace null values for type with mode\n",
    "anime_df['type'] = anime_df['type'].fillna(anime_df['type'].mode()[0])\n",
    "\n",
    "# replace null value for rating with mean\n",
    "anime_df['rating'] = anime_df['rating'].fillna(anime_df['rating'].mean())"
   ]
  },
  {
   "cell_type": "code",
   "execution_count": 15,
   "id": "a5138461",
   "metadata": {
    "execution": {
     "iopub.execute_input": "2023-05-01T03:43:21.097349Z",
     "iopub.status.busy": "2023-05-01T03:43:21.096494Z",
     "iopub.status.idle": "2023-05-01T03:43:21.112845Z",
     "shell.execute_reply": "2023-05-01T03:43:21.111395Z",
     "shell.execute_reply.started": "2023-05-01T03:43:21.097300Z"
    },
    "papermill": {
     "duration": 0.044025,
     "end_time": "2023-05-01T02:01:06.131864",
     "exception": false,
     "start_time": "2023-05-01T02:01:06.087839",
     "status": "completed"
    },
    "tags": []
   },
   "outputs": [
    {
     "data": {
      "text/plain": [
       "anime_id    0\n",
       "name        0\n",
       "genre       0\n",
       "type        0\n",
       "episodes    0\n",
       "rating      0\n",
       "dtype: int64"
      ]
     },
     "execution_count": 15,
     "metadata": {},
     "output_type": "execute_result"
    }
   ],
   "source": [
    "# verify null values handling\n",
    "anime_df.isna().sum()"
   ]
  },
  {
   "cell_type": "code",
   "execution_count": 16,
   "id": "e9670c69",
   "metadata": {
    "execution": {
     "iopub.execute_input": "2023-05-01T03:43:21.115814Z",
     "iopub.status.busy": "2023-05-01T03:43:21.114826Z",
     "iopub.status.idle": "2023-05-01T03:43:21.132987Z",
     "shell.execute_reply": "2023-05-01T03:43:21.131806Z",
     "shell.execute_reply.started": "2023-05-01T03:43:21.115742Z"
    },
    "papermill": {
     "duration": 0.048344,
     "end_time": "2023-05-01T02:01:06.208335",
     "exception": false,
     "start_time": "2023-05-01T02:01:06.159991",
     "status": "completed"
    },
    "tags": []
   },
   "outputs": [
    {
     "name": "stdout",
     "output_type": "stream",
     "text": [
      "<class 'pandas.core.frame.DataFrame'>\n",
      "RangeIndex: 12294 entries, 0 to 12293\n",
      "Data columns (total 6 columns):\n",
      " #   Column    Non-Null Count  Dtype  \n",
      "---  ------    --------------  -----  \n",
      " 0   anime_id  12294 non-null  int64  \n",
      " 1   name      12294 non-null  object \n",
      " 2   genre     12294 non-null  object \n",
      " 3   type      12294 non-null  object \n",
      " 4   episodes  12294 non-null  object \n",
      " 5   rating    12294 non-null  float64\n",
      "dtypes: float64(1), int64(1), object(4)\n",
      "memory usage: 576.4+ KB\n"
     ]
    }
   ],
   "source": [
    "# info\n",
    "anime_df.info()"
   ]
  },
  {
   "cell_type": "code",
   "execution_count": 17,
   "id": "25952b63",
   "metadata": {
    "execution": {
     "iopub.execute_input": "2023-05-01T03:43:21.135308Z",
     "iopub.status.busy": "2023-05-01T03:43:21.134554Z",
     "iopub.status.idle": "2023-05-01T03:43:21.147544Z",
     "shell.execute_reply": "2023-05-01T03:43:21.146568Z",
     "shell.execute_reply.started": "2023-05-01T03:43:21.135250Z"
    },
    "papermill": {
     "duration": 0.043697,
     "end_time": "2023-05-01T02:01:06.279467",
     "exception": false,
     "start_time": "2023-05-01T02:01:06.235770",
     "status": "completed"
    },
    "tags": []
   },
   "outputs": [],
   "source": [
    "# convert anime_id column to string\n",
    "anime_df['anime_id'] = anime_df['anime_id'].apply(lambda x: str(x))"
   ]
  },
  {
   "cell_type": "code",
   "execution_count": 18,
   "id": "6c21d160",
   "metadata": {
    "execution": {
     "iopub.execute_input": "2023-05-01T03:43:21.149369Z",
     "iopub.status.busy": "2023-05-01T03:43:21.149017Z",
     "iopub.status.idle": "2023-05-01T03:43:21.163649Z",
     "shell.execute_reply": "2023-05-01T03:43:21.162705Z",
     "shell.execute_reply.started": "2023-05-01T03:43:21.149334Z"
    },
    "papermill": {
     "duration": 0.035683,
     "end_time": "2023-05-01T02:01:06.342692",
     "exception": false,
     "start_time": "2023-05-01T02:01:06.307009",
     "status": "completed"
    },
    "tags": []
   },
   "outputs": [
    {
     "data": {
      "text/plain": [
       "'Dennou Sentai Voogie&#039;s★Angel: Forever and Ever'"
      ]
     },
     "execution_count": 18,
     "metadata": {},
     "output_type": "execute_result"
    }
   ],
   "source": [
    "# sample anime name with invalid characters\n",
    "anime_df['name'].loc[8441]"
   ]
  },
  {
   "cell_type": "code",
   "execution_count": 19,
   "id": "517a716f",
   "metadata": {
    "execution": {
     "iopub.execute_input": "2023-05-01T03:43:21.165185Z",
     "iopub.status.busy": "2023-05-01T03:43:21.164831Z",
     "iopub.status.idle": "2023-05-01T03:43:21.280689Z",
     "shell.execute_reply": "2023-05-01T03:43:21.279404Z",
     "shell.execute_reply.started": "2023-05-01T03:43:21.165152Z"
    },
    "papermill": {
     "duration": 0.181277,
     "end_time": "2023-05-01T02:01:06.552521",
     "exception": false,
     "start_time": "2023-05-01T02:01:06.371244",
     "status": "completed"
    },
    "tags": []
   },
   "outputs": [],
   "source": [
    "# clean anime name column\n",
    "# remove html encodings\n",
    "# convert to regular characters\n",
    "anime_df['name'] = anime_df['name'].apply(html.unescape)\n",
    "\n",
    "# remove emojis and other miscellaneous unicode characters\n",
    "# encode as ascii to remove miscellaneous unicode characters\n",
    "# replaces the characters with '?'\n",
    "# converts str to array of bytes\n",
    "anime_df['name'] = anime_df['name'].map(lambda x: x.encode('ascii', 'replace'))\n",
    "\n",
    "# decode to convert to str\n",
    "anime_df['name'] = anime_df['name'].map(lambda x: x.decode())\n",
    "\n",
    "# replace '?' with a space\n",
    "anime_df['name'] = anime_df['name'].map(lambda x: x.replace('?', ' '))\n",
    "\n",
    "# convert to lower case\n",
    "anime_df['name'] = anime_df['name'].map(lambda x: x.lower())\n",
    "\n",
    "# remove punctuations\n",
    "anime_df['name'] = anime_df['name'].map(lambda x: re.sub(r'[^\\w\\s]', ' ', x))\n",
    "\n",
    "# remove single length words\n",
    "anime_df['name'] = anime_df['name'].map(lambda x: re.sub(r'\\b\\w{1}\\b', '', x))\n",
    "\n",
    "# remove extra spaces\n",
    "anime_df['name'] = anime_df['name'].map(lambda x: re.sub(r' +', ' ', x))"
   ]
  },
  {
   "cell_type": "code",
   "execution_count": 20,
   "id": "c846aa4a",
   "metadata": {
    "execution": {
     "iopub.execute_input": "2023-05-01T03:43:21.282243Z",
     "iopub.status.busy": "2023-05-01T03:43:21.281931Z",
     "iopub.status.idle": "2023-05-01T03:43:21.290771Z",
     "shell.execute_reply": "2023-05-01T03:43:21.289196Z",
     "shell.execute_reply.started": "2023-05-01T03:43:21.282214Z"
    },
    "papermill": {
     "duration": 0.037065,
     "end_time": "2023-05-01T02:01:06.617442",
     "exception": false,
     "start_time": "2023-05-01T02:01:06.580377",
     "status": "completed"
    },
    "tags": []
   },
   "outputs": [
    {
     "data": {
      "text/plain": [
       "'dennou sentai voogie angel forever and ever'"
      ]
     },
     "execution_count": 20,
     "metadata": {},
     "output_type": "execute_result"
    }
   ],
   "source": [
    "# verify cleaning of anime name column\n",
    "anime_df['name'].loc[8441]"
   ]
  },
  {
   "cell_type": "code",
   "execution_count": 21,
   "id": "2c21a4c0",
   "metadata": {
    "execution": {
     "iopub.execute_input": "2023-05-01T03:43:21.293207Z",
     "iopub.status.busy": "2023-05-01T03:43:21.292539Z",
     "iopub.status.idle": "2023-05-01T03:43:21.394181Z",
     "shell.execute_reply": "2023-05-01T03:43:21.392814Z",
     "shell.execute_reply.started": "2023-05-01T03:43:21.293160Z"
    },
    "papermill": {
     "duration": 0.158791,
     "end_time": "2023-05-01T02:01:06.804161",
     "exception": false,
     "start_time": "2023-05-01T02:01:06.645370",
     "status": "completed"
    },
    "tags": []
   },
   "outputs": [],
   "source": [
    "# clean and normalize genre column\n",
    "# convert to lower case\n",
    "anime_df['genre'] = anime_df['genre'].map(lambda x: x.lower())\n",
    "\n",
    "# remove punctuations\n",
    "# keep hyphen(-) for sci-fi\n",
    "anime_df['genre'] = anime_df['genre'].map(lambda x: re.sub(r'[^\\w\\s-]', ' ', x))\n",
    "\n",
    "# remove single length characters\n",
    "anime_df['genre'] = anime_df['genre'].map(lambda x: re.sub(r'\\b\\w{1}\\b', '', x))\n",
    "\n",
    "# remove extra spaces\n",
    "anime_df['genre'] = anime_df['genre'].map(lambda x: re.sub(r' +', ' ', x))"
   ]
  },
  {
   "cell_type": "code",
   "execution_count": 22,
   "id": "8b6d84ca",
   "metadata": {
    "execution": {
     "iopub.execute_input": "2023-05-01T03:43:21.396408Z",
     "iopub.status.busy": "2023-05-01T03:43:21.396030Z",
     "iopub.status.idle": "2023-05-01T03:43:21.407440Z",
     "shell.execute_reply": "2023-05-01T03:43:21.405756Z",
     "shell.execute_reply.started": "2023-05-01T03:43:21.396370Z"
    },
    "papermill": {
     "duration": 0.042708,
     "end_time": "2023-05-01T02:01:06.875722",
     "exception": false,
     "start_time": "2023-05-01T02:01:06.833014",
     "status": "completed"
    },
    "tags": []
   },
   "outputs": [],
   "source": [
    "# normalize type column\n",
    "# convert to lower case\n",
    "anime_df['type'] = anime_df['type'].map(lambda x: x.lower())\n",
    "\n",
    "# no further cleaning required for type column"
   ]
  },
  {
   "cell_type": "code",
   "execution_count": 23,
   "id": "2f542870",
   "metadata": {
    "execution": {
     "iopub.execute_input": "2023-05-01T03:43:21.410017Z",
     "iopub.status.busy": "2023-05-01T03:43:21.409553Z",
     "iopub.status.idle": "2023-05-01T03:43:21.438602Z",
     "shell.execute_reply": "2023-05-01T03:43:21.437531Z",
     "shell.execute_reply.started": "2023-05-01T03:43:21.409975Z"
    },
    "papermill": {
     "duration": 0.05437,
     "end_time": "2023-05-01T02:01:06.959461",
     "exception": false,
     "start_time": "2023-05-01T02:01:06.905091",
     "status": "completed"
    },
    "tags": []
   },
   "outputs": [
    {
     "data": {
      "text/html": [
       "<div>\n",
       "<style scoped>\n",
       "    .dataframe tbody tr th:only-of-type {\n",
       "        vertical-align: middle;\n",
       "    }\n",
       "\n",
       "    .dataframe tbody tr th {\n",
       "        vertical-align: top;\n",
       "    }\n",
       "\n",
       "    .dataframe thead th {\n",
       "        text-align: right;\n",
       "    }\n",
       "</style>\n",
       "<table border=\"1\" class=\"dataframe\">\n",
       "  <thead>\n",
       "    <tr style=\"text-align: right;\">\n",
       "      <th></th>\n",
       "      <th>anime_id</th>\n",
       "      <th>name</th>\n",
       "      <th>genre</th>\n",
       "      <th>type</th>\n",
       "      <th>episodes</th>\n",
       "      <th>rating</th>\n",
       "    </tr>\n",
       "  </thead>\n",
       "  <tbody>\n",
       "    <tr>\n",
       "      <th>74</th>\n",
       "      <td>21</td>\n",
       "      <td>one piece</td>\n",
       "      <td>action adventure comedy drama fantasy shounen ...</td>\n",
       "      <td>tv</td>\n",
       "      <td>Unknown</td>\n",
       "      <td>8.580000</td>\n",
       "    </tr>\n",
       "    <tr>\n",
       "      <th>252</th>\n",
       "      <td>235</td>\n",
       "      <td>detective conan</td>\n",
       "      <td>adventure comedy mystery police shounen</td>\n",
       "      <td>tv</td>\n",
       "      <td>Unknown</td>\n",
       "      <td>8.250000</td>\n",
       "    </tr>\n",
       "    <tr>\n",
       "      <th>615</th>\n",
       "      <td>1735</td>\n",
       "      <td>naruto shippuuden</td>\n",
       "      <td>action comedy martial arts shounen super power</td>\n",
       "      <td>tv</td>\n",
       "      <td>Unknown</td>\n",
       "      <td>7.940000</td>\n",
       "    </tr>\n",
       "    <tr>\n",
       "      <th>991</th>\n",
       "      <td>966</td>\n",
       "      <td>crayon shin chan</td>\n",
       "      <td>comedy ecchi kids school shounen slice of life</td>\n",
       "      <td>tv</td>\n",
       "      <td>Unknown</td>\n",
       "      <td>7.730000</td>\n",
       "    </tr>\n",
       "    <tr>\n",
       "      <th>1021</th>\n",
       "      <td>33157</td>\n",
       "      <td>tanaka kun wa itsumo kedaruge specials</td>\n",
       "      <td>comedy school slice of life</td>\n",
       "      <td>special</td>\n",
       "      <td>Unknown</td>\n",
       "      <td>7.720000</td>\n",
       "    </tr>\n",
       "    <tr>\n",
       "      <th>...</th>\n",
       "      <td>...</td>\n",
       "      <td>...</td>\n",
       "      <td>...</td>\n",
       "      <td>...</td>\n",
       "      <td>...</td>\n",
       "      <td>...</td>\n",
       "    </tr>\n",
       "    <tr>\n",
       "      <th>12265</th>\n",
       "      <td>34361</td>\n",
       "      <td>kyonyuu reijou mc gakuen</td>\n",
       "      <td>hentai</td>\n",
       "      <td>ova</td>\n",
       "      <td>Unknown</td>\n",
       "      <td>6.473902</td>\n",
       "    </tr>\n",
       "    <tr>\n",
       "      <th>12274</th>\n",
       "      <td>34492</td>\n",
       "      <td>nuki doki tenshi to akuma no sakusei battle re...</td>\n",
       "      <td>hentai</td>\n",
       "      <td>ova</td>\n",
       "      <td>Unknown</td>\n",
       "      <td>6.473902</td>\n",
       "    </tr>\n",
       "    <tr>\n",
       "      <th>12280</th>\n",
       "      <td>34312</td>\n",
       "      <td>saimin class</td>\n",
       "      <td>hentai</td>\n",
       "      <td>ova</td>\n",
       "      <td>Unknown</td>\n",
       "      <td>6.473902</td>\n",
       "    </tr>\n",
       "    <tr>\n",
       "      <th>12282</th>\n",
       "      <td>34388</td>\n",
       "      <td>shikkoku no shaga the animation</td>\n",
       "      <td>hentai</td>\n",
       "      <td>ova</td>\n",
       "      <td>Unknown</td>\n",
       "      <td>6.473902</td>\n",
       "    </tr>\n",
       "    <tr>\n",
       "      <th>12285</th>\n",
       "      <td>34399</td>\n",
       "      <td>taimanin asagi</td>\n",
       "      <td>demons hentai supernatural</td>\n",
       "      <td>ova</td>\n",
       "      <td>Unknown</td>\n",
       "      <td>6.473902</td>\n",
       "    </tr>\n",
       "  </tbody>\n",
       "</table>\n",
       "<p>340 rows × 6 columns</p>\n",
       "</div>"
      ],
      "text/plain": [
       "      anime_id                                               name  \\\n",
       "74          21                                          one piece   \n",
       "252        235                                    detective conan   \n",
       "615       1735                                  naruto shippuuden   \n",
       "991        966                                   crayon shin chan   \n",
       "1021     33157             tanaka kun wa itsumo kedaruge specials   \n",
       "...        ...                                                ...   \n",
       "12265    34361                           kyonyuu reijou mc gakuen   \n",
       "12274    34492  nuki doki tenshi to akuma no sakusei battle re...   \n",
       "12280    34312                                       saimin class   \n",
       "12282    34388                    shikkoku no shaga the animation   \n",
       "12285    34399                                    taimanin asagi    \n",
       "\n",
       "                                                   genre     type episodes  \\\n",
       "74     action adventure comedy drama fantasy shounen ...       tv  Unknown   \n",
       "252              adventure comedy mystery police shounen       tv  Unknown   \n",
       "615       action comedy martial arts shounen super power       tv  Unknown   \n",
       "991       comedy ecchi kids school shounen slice of life       tv  Unknown   \n",
       "1021                         comedy school slice of life  special  Unknown   \n",
       "...                                                  ...      ...      ...   \n",
       "12265                                             hentai      ova  Unknown   \n",
       "12274                                             hentai      ova  Unknown   \n",
       "12280                                             hentai      ova  Unknown   \n",
       "12282                                             hentai      ova  Unknown   \n",
       "12285                         demons hentai supernatural      ova  Unknown   \n",
       "\n",
       "         rating  \n",
       "74     8.580000  \n",
       "252    8.250000  \n",
       "615    7.940000  \n",
       "991    7.730000  \n",
       "1021   7.720000  \n",
       "...         ...  \n",
       "12265  6.473902  \n",
       "12274  6.473902  \n",
       "12280  6.473902  \n",
       "12282  6.473902  \n",
       "12285  6.473902  \n",
       "\n",
       "[340 rows x 6 columns]"
      ]
     },
     "execution_count": 23,
     "metadata": {},
     "output_type": "execute_result"
    }
   ],
   "source": [
    "# anime_df['episodes'] = anime_df['episodes'].apply(lambda x: float(x))\n",
    "# errorneous value for episodes column\n",
    "anime_df[anime_df['episodes'] == 'Unknown']"
   ]
  },
  {
   "cell_type": "code",
   "execution_count": 24,
   "id": "32eba36d",
   "metadata": {
    "execution": {
     "iopub.execute_input": "2023-05-01T03:43:21.440958Z",
     "iopub.status.busy": "2023-05-01T03:43:21.440268Z",
     "iopub.status.idle": "2023-05-01T03:43:21.455317Z",
     "shell.execute_reply": "2023-05-01T03:43:21.453736Z",
     "shell.execute_reply.started": "2023-05-01T03:43:21.440920Z"
    },
    "papermill": {
     "duration": 0.048364,
     "end_time": "2023-05-01T02:01:07.037764",
     "exception": false,
     "start_time": "2023-05-01T02:01:06.989400",
     "status": "completed"
    },
    "tags": []
   },
   "outputs": [],
   "source": [
    "# handle errorneous value for episodes column\n",
    "anime_df['episodes'] = anime_df['episodes'].replace('Unknown', str(sys.maxsize))\n",
    "\n",
    "# convert episodes column from string to float\n",
    "anime_df['episodes'] = anime_df['episodes'].apply(lambda x: float(x))"
   ]
  },
  {
   "cell_type": "code",
   "execution_count": 25,
   "id": "78ac6998",
   "metadata": {
    "execution": {
     "iopub.execute_input": "2023-05-01T03:43:21.457323Z",
     "iopub.status.busy": "2023-05-01T03:43:21.456965Z",
     "iopub.status.idle": "2023-05-01T03:43:21.464801Z",
     "shell.execute_reply": "2023-05-01T03:43:21.463611Z",
     "shell.execute_reply.started": "2023-05-01T03:43:21.457289Z"
    },
    "papermill": {
     "duration": 0.040781,
     "end_time": "2023-05-01T02:01:07.108339",
     "exception": false,
     "start_time": "2023-05-01T02:01:07.067558",
     "status": "completed"
    },
    "tags": []
   },
   "outputs": [],
   "source": [
    "# rename rating column to avoid confusion with user rating column\n",
    "anime_df = anime_df.rename({'rating': 'score'}, axis=1)"
   ]
  },
  {
   "cell_type": "code",
   "execution_count": 26,
   "id": "4b74dcc3",
   "metadata": {
    "execution": {
     "iopub.execute_input": "2023-05-01T03:43:21.466681Z",
     "iopub.status.busy": "2023-05-01T03:43:21.466244Z",
     "iopub.status.idle": "2023-05-01T03:43:26.659609Z",
     "shell.execute_reply": "2023-05-01T03:43:26.658276Z",
     "shell.execute_reply.started": "2023-05-01T03:43:21.466646Z"
    },
    "papermill": {
     "duration": 5.648629,
     "end_time": "2023-05-01T02:01:12.787454",
     "exception": false,
     "start_time": "2023-05-01T02:01:07.138825",
     "status": "completed"
    },
    "tags": []
   },
   "outputs": [
    {
     "data": {
      "text/plain": [
       "(7813727, 8)"
      ]
     },
     "execution_count": 26,
     "metadata": {},
     "output_type": "execute_result"
    }
   ],
   "source": [
    "# add columns from metadata to ratings dataframe\n",
    "rating_df = pd.merge(rating_df, anime_df, on='anime_id')\n",
    "\n",
    "rating_df.shape"
   ]
  },
  {
   "cell_type": "code",
   "execution_count": 27,
   "id": "173b1a93",
   "metadata": {
    "execution": {
     "iopub.execute_input": "2023-05-01T03:43:26.661835Z",
     "iopub.status.busy": "2023-05-01T03:43:26.661328Z",
     "iopub.status.idle": "2023-05-01T03:43:26.678704Z",
     "shell.execute_reply": "2023-05-01T03:43:26.677609Z",
     "shell.execute_reply.started": "2023-05-01T03:43:26.661764Z"
    },
    "papermill": {
     "duration": 0.046309,
     "end_time": "2023-05-01T02:01:12.861842",
     "exception": false,
     "start_time": "2023-05-01T02:01:12.815533",
     "status": "completed"
    },
    "tags": []
   },
   "outputs": [
    {
     "data": {
      "text/html": [
       "<div>\n",
       "<style scoped>\n",
       "    .dataframe tbody tr th:only-of-type {\n",
       "        vertical-align: middle;\n",
       "    }\n",
       "\n",
       "    .dataframe tbody tr th {\n",
       "        vertical-align: top;\n",
       "    }\n",
       "\n",
       "    .dataframe thead th {\n",
       "        text-align: right;\n",
       "    }\n",
       "</style>\n",
       "<table border=\"1\" class=\"dataframe\">\n",
       "  <thead>\n",
       "    <tr style=\"text-align: right;\">\n",
       "      <th></th>\n",
       "      <th>user_id</th>\n",
       "      <th>anime_id</th>\n",
       "      <th>rating</th>\n",
       "      <th>name</th>\n",
       "      <th>genre</th>\n",
       "      <th>type</th>\n",
       "      <th>episodes</th>\n",
       "      <th>score</th>\n",
       "    </tr>\n",
       "  </thead>\n",
       "  <tbody>\n",
       "    <tr>\n",
       "      <th>0</th>\n",
       "      <td>1</td>\n",
       "      <td>20</td>\n",
       "      <td>-1</td>\n",
       "      <td>naruto</td>\n",
       "      <td>action comedy martial arts shounen super power</td>\n",
       "      <td>tv</td>\n",
       "      <td>220.0</td>\n",
       "      <td>7.81</td>\n",
       "    </tr>\n",
       "    <tr>\n",
       "      <th>1</th>\n",
       "      <td>3</td>\n",
       "      <td>20</td>\n",
       "      <td>8</td>\n",
       "      <td>naruto</td>\n",
       "      <td>action comedy martial arts shounen super power</td>\n",
       "      <td>tv</td>\n",
       "      <td>220.0</td>\n",
       "      <td>7.81</td>\n",
       "    </tr>\n",
       "    <tr>\n",
       "      <th>2</th>\n",
       "      <td>5</td>\n",
       "      <td>20</td>\n",
       "      <td>6</td>\n",
       "      <td>naruto</td>\n",
       "      <td>action comedy martial arts shounen super power</td>\n",
       "      <td>tv</td>\n",
       "      <td>220.0</td>\n",
       "      <td>7.81</td>\n",
       "    </tr>\n",
       "    <tr>\n",
       "      <th>3</th>\n",
       "      <td>6</td>\n",
       "      <td>20</td>\n",
       "      <td>-1</td>\n",
       "      <td>naruto</td>\n",
       "      <td>action comedy martial arts shounen super power</td>\n",
       "      <td>tv</td>\n",
       "      <td>220.0</td>\n",
       "      <td>7.81</td>\n",
       "    </tr>\n",
       "    <tr>\n",
       "      <th>4</th>\n",
       "      <td>10</td>\n",
       "      <td>20</td>\n",
       "      <td>-1</td>\n",
       "      <td>naruto</td>\n",
       "      <td>action comedy martial arts shounen super power</td>\n",
       "      <td>tv</td>\n",
       "      <td>220.0</td>\n",
       "      <td>7.81</td>\n",
       "    </tr>\n",
       "  </tbody>\n",
       "</table>\n",
       "</div>"
      ],
      "text/plain": [
       "  user_id anime_id  rating    name  \\\n",
       "0       1       20      -1  naruto   \n",
       "1       3       20       8  naruto   \n",
       "2       5       20       6  naruto   \n",
       "3       6       20      -1  naruto   \n",
       "4      10       20      -1  naruto   \n",
       "\n",
       "                                            genre type  episodes  score  \n",
       "0  action comedy martial arts shounen super power   tv     220.0   7.81  \n",
       "1  action comedy martial arts shounen super power   tv     220.0   7.81  \n",
       "2  action comedy martial arts shounen super power   tv     220.0   7.81  \n",
       "3  action comedy martial arts shounen super power   tv     220.0   7.81  \n",
       "4  action comedy martial arts shounen super power   tv     220.0   7.81  "
      ]
     },
     "execution_count": 27,
     "metadata": {},
     "output_type": "execute_result"
    }
   ],
   "source": [
    "# first 5 data points\n",
    "rating_df.head()"
   ]
  },
  {
   "cell_type": "code",
   "execution_count": 28,
   "id": "055e0f23",
   "metadata": {
    "execution": {
     "iopub.execute_input": "2023-05-01T03:43:26.685206Z",
     "iopub.status.busy": "2023-05-01T03:43:26.684808Z",
     "iopub.status.idle": "2023-05-01T03:43:31.472675Z",
     "shell.execute_reply": "2023-05-01T03:43:31.471336Z",
     "shell.execute_reply.started": "2023-05-01T03:43:26.685173Z"
    },
    "papermill": {
     "duration": 4.567064,
     "end_time": "2023-05-01T02:01:17.457787",
     "exception": false,
     "start_time": "2023-05-01T02:01:12.890723",
     "status": "completed"
    },
    "tags": []
   },
   "outputs": [],
   "source": [
    "# create vocabulary of all features\n",
    "# vocabulary of user ids\n",
    "vocab_user_ids = rating_df['user_id'].unique().astype(str)\n",
    "\n",
    "# vocabulary of anime titles\n",
    "vocab_anime_titles = rating_df['name'].unique().astype(str)\n",
    "\n",
    "# vocabulary of genres\n",
    "vocab_genres = rating_df['genre'].unique().astype(str)\n",
    "\n",
    "# vocabulary of type\n",
    "vocab_types = rating_df['type'].unique().astype(str)\n",
    "\n",
    "# vocabulary of episodes\n",
    "vocab_episodes = rating_df['episodes'].unique().astype(float)\n",
    "\n",
    "# vocabulary of score\n",
    "vocab_scores = rating_df['score'].unique().astype(float)"
   ]
  },
  {
   "cell_type": "code",
   "execution_count": 29,
   "id": "6a794bc2",
   "metadata": {
    "execution": {
     "iopub.execute_input": "2023-05-01T03:43:31.475499Z",
     "iopub.status.busy": "2023-05-01T03:43:31.475008Z",
     "iopub.status.idle": "2023-05-01T03:43:31.783116Z",
     "shell.execute_reply": "2023-05-01T03:43:31.781755Z",
     "shell.execute_reply.started": "2023-05-01T03:43:31.475451Z"
    },
    "papermill": {
     "duration": 3.937572,
     "end_time": "2023-05-01T02:01:21.424044",
     "exception": false,
     "start_time": "2023-05-01T02:01:17.486472",
     "status": "completed"
    },
    "tags": []
   },
   "outputs": [
    {
     "name": "stdout",
     "output_type": "stream",
     "text": [
      "b'kimi no na wa '\n"
     ]
    }
   ],
   "source": [
    "# create vocabulary of animes\n",
    "# convert anime metadata from dataframe to tensorflow Dataset\n",
    "animes = tf.data.Dataset.from_tensor_slices(dict(anime_df[['name', 'genre', 'type', 'episodes', 'score']].rename({'name': 'anime_title'}, axis=1)))\n",
    "\n",
    "# keep only anime title column\n",
    "animes = animes.map(lambda x: x['anime_title'])\n",
    "\n",
    "for x in animes.take(1).as_numpy_iterator():\n",
    "    pprint.pprint(x)"
   ]
  },
  {
   "cell_type": "markdown",
   "id": "dfcc5ef5",
   "metadata": {
    "papermill": {
     "duration": 0.282536,
     "end_time": "2023-05-01T02:20:20.090003",
     "exception": false,
     "start_time": "2023-05-01T02:20:19.807467",
     "status": "completed"
    },
    "tags": []
   },
   "source": [
    "## Multitask Recommenders Model"
   ]
  },
  {
   "cell_type": "markdown",
   "id": "6e1a1176",
   "metadata": {
    "papermill": {
     "duration": 0.228129,
     "end_time": "2023-05-01T02:20:20.556882",
     "exception": false,
     "start_time": "2023-05-01T02:20:20.328753",
     "status": "completed"
    },
    "tags": []
   },
   "source": [
    "### Prepare Data"
   ]
  },
  {
   "cell_type": "code",
   "execution_count": 30,
   "id": "8bef2efc",
   "metadata": {
    "execution": {
     "iopub.execute_input": "2023-05-01T03:43:31.785579Z",
     "iopub.status.busy": "2023-05-01T03:43:31.784853Z",
     "iopub.status.idle": "2023-05-01T03:43:37.672645Z",
     "shell.execute_reply": "2023-05-01T03:43:37.671251Z",
     "shell.execute_reply.started": "2023-05-01T03:43:31.785538Z"
    },
    "papermill": {
     "duration": 6.785978,
     "end_time": "2023-05-01T02:20:27.570997",
     "exception": false,
     "start_time": "2023-05-01T02:20:20.785019",
     "status": "completed"
    },
    "tags": []
   },
   "outputs": [
    {
     "name": "stdout",
     "output_type": "stream",
     "text": [
      "{'anime_title': b'naruto',\n",
      " 'episodes': 220.0,\n",
      " 'genre': b'action comedy martial arts shounen super power',\n",
      " 'score': 7.81,\n",
      " 'type': b'tv',\n",
      " 'user_id': b'1',\n",
      " 'user_rating': -1}\n"
     ]
    }
   ],
   "source": [
    "# convert rating data from dataframe to tensorflow Dataset\n",
    "ratings = tf.data.Dataset.from_tensor_slices(dict(rating_df))\n",
    "\n",
    "# keep all columns\n",
    "ratings = ratings.map(lambda x: {\n",
    "    'anime_title': x['name'],\n",
    "    'user_id': x['user_id'],\n",
    "    'genre': x['genre'],\n",
    "    'type': x['type'],\n",
    "    'episodes': x['episodes'],\n",
    "    'score': x['score'],\n",
    "    'user_rating': x['rating']\n",
    "})\n",
    "\n",
    "for x in ratings.take(1).as_numpy_iterator():\n",
    "    pprint.pprint(x)"
   ]
  },
  {
   "cell_type": "code",
   "execution_count": 31,
   "id": "33e0876d",
   "metadata": {
    "execution": {
     "iopub.execute_input": "2023-05-01T03:43:37.676937Z",
     "iopub.status.busy": "2023-05-01T03:43:37.675939Z",
     "iopub.status.idle": "2023-05-01T03:43:37.729261Z",
     "shell.execute_reply": "2023-05-01T03:43:37.728081Z",
     "shell.execute_reply.started": "2023-05-01T03:43:37.676892Z"
    },
    "papermill": {
     "duration": 0.287893,
     "end_time": "2023-05-01T02:20:28.095255",
     "exception": false,
     "start_time": "2023-05-01T02:20:27.807362",
     "status": "completed"
    },
    "tags": []
   },
   "outputs": [],
   "source": [
    "# shuffle and split data: train, valid, test\n",
    "# set seed\n",
    "tf.random.set_seed(42)\n",
    "\n",
    "# total data points\n",
    "N = rating_df.shape[0]\n",
    "\n",
    "# total train data points\n",
    "N_train = int(0.6 * N)\n",
    "\n",
    "# total valid data points\n",
    "N_valid = int(0.2 * N)\n",
    "\n",
    "# total test data points\n",
    "N_test = N - (N_train + N_valid)\n",
    "\n",
    "# shuffle data\n",
    "shuffled = ratings.shuffle(N, seed=42, reshuffle_each_iteration=False)\n",
    "\n",
    "# # split data\n",
    "train = shuffled.take(N_train)\n",
    "valid = shuffled.skip(N_train).take(N_valid)\n",
    "test = shuffled.skip((N_train + N_valid)).take(N_test)"
   ]
  },
  {
   "cell_type": "code",
   "execution_count": 32,
   "id": "f85e7e85",
   "metadata": {
    "execution": {
     "iopub.execute_input": "2023-05-01T03:43:37.731883Z",
     "iopub.status.busy": "2023-05-01T03:43:37.731397Z",
     "iopub.status.idle": "2023-05-01T03:43:37.754106Z",
     "shell.execute_reply": "2023-05-01T03:43:37.752520Z",
     "shell.execute_reply.started": "2023-05-01T03:43:37.731832Z"
    },
    "papermill": {
     "duration": 0.278021,
     "end_time": "2023-05-01T02:20:28.626611",
     "exception": false,
     "start_time": "2023-05-01T02:20:28.348590",
     "status": "completed"
    },
    "tags": []
   },
   "outputs": [],
   "source": [
    "class AnimeMultitaskModel(tfrs.models.Model):\n",
    "    \n",
    "    def __init__(self, rating_weight, retrieval_weight):\n",
    "        super().__init__()\n",
    "        \n",
    "        # dimension of all the embeddings\n",
    "        embedding_dimension = 32\n",
    "        \n",
    "        # user embedding model\n",
    "        # computes user embeddings based on user ids\n",
    "        self.user_embedding_model = tf.keras.Sequential([\n",
    "            tf.keras.layers.StringLookup(vocabulary=vocab_user_ids, mask_token=None),\n",
    "            tf.keras.layers.Embedding(len(vocab_user_ids) + 1, embedding_dimension)\n",
    "        ])\n",
    "        \n",
    "        # anime embedding model\n",
    "        # computes anime embeddings based on anime titles\n",
    "        self.anime_embedding_model = tf.keras.Sequential([\n",
    "            tf.keras.layers.StringLookup(vocabulary=vocab_anime_titles, mask_token=None),\n",
    "            tf.keras.layers.Embedding(len(vocab_anime_titles) + 1, embedding_dimension)\n",
    "        ])\n",
    "        \n",
    "        # metadata embedding models\n",
    "        # genre embedding model\n",
    "        self.genre_embedding_model = tf.keras.Sequential([\n",
    "            tf.keras.layers.StringLookup(vocabulary=vocab_genres, mask_token=None),\n",
    "            tf.keras.layers.Embedding(len(vocab_genres) + 1, embedding_dimension)\n",
    "        ])\n",
    "        # type embedding model\n",
    "        self.type_embedding_model = tf.keras.Sequential([\n",
    "            tf.keras.layers.StringLookup(vocabulary=vocab_types, mask_token=None),\n",
    "            tf.keras.layers.Embedding(len(vocab_types) + 1, embedding_dimension)\n",
    "        ])\n",
    "        # episodes embedding model\n",
    "        self.episodes_embedding_model = tf.keras.Sequential([\n",
    "            tf.keras.layers.IntegerLookup(vocabulary=vocab_episodes, mask_token=None),\n",
    "            tf.keras.layers.Embedding(len(vocab_episodes) + 1, embedding_dimension)\n",
    "        ])\n",
    "        # score embedding model\n",
    "        self.score_embedding_model = tf.keras.Sequential([\n",
    "            tf.keras.layers.Embedding(len(vocab_scores) + 1, embedding_dimension)\n",
    "        ])\n",
    "        \n",
    "        # rating model\n",
    "        # computes ratings\n",
    "        self.rating_model = tf.keras.Sequential([\n",
    "            tf.keras.layers.Dense(128, activation=\"relu\"),\n",
    "            tf.keras.layers.Dense(64, activation=\"relu\"),\n",
    "            tf.keras.layers.Dense(1)\n",
    "        ])\n",
    "        \n",
    "        # tasks\n",
    "        # ranking task\n",
    "        self.ranking_task = tfrs.tasks.Ranking(\n",
    "            loss = tf.keras.losses.MeanSquaredError(),\n",
    "            metrics=[tf.keras.metrics.RootMeanSquaredError()]\n",
    "        )\n",
    "        \n",
    "        # retrieval task\n",
    "        self.retrieval_task = tfrs.tasks.Retrieval(\n",
    "            metrics = tfrs.metrics.FactorizedTopK(\n",
    "                candidates=animes.batch(1024).map(self.anime_embedding_model)\n",
    "            )\n",
    "        )\n",
    "        \n",
    "        # loss weights\n",
    "        self.rating_weight = rating_weight\n",
    "        self.retrieval_weight = retrieval_weight\n",
    "        \n",
    "    def call(self, features):\n",
    "        # compute user embeddings\n",
    "        user_embeddings = self.user_embedding_model(features['user_id'])\n",
    "        \n",
    "        # compute anime embeddings\n",
    "        anime_embeddings = self.anime_embedding_model(features['anime_title'])\n",
    "        \n",
    "        # compute genre embeddings\n",
    "        genre_embeddings = self.genre_embedding_model(features['genre'])\n",
    "        \n",
    "        # compute type embeddings\n",
    "        type_embeddings = self.type_embedding_model(features['type'])\n",
    "        \n",
    "        # compute episodes embeddings\n",
    "        episodes_embeddings = self.episodes_embedding_model(features['episodes'])\n",
    "        \n",
    "        # compute score embeddings\n",
    "        score_embeddings = self.score_embedding_model(features['score'])\n",
    "        \n",
    "        return (\n",
    "            user_embeddings,\n",
    "            anime_embeddings,\n",
    "            self.rating_model(tf.concat([\n",
    "                user_embeddings,\n",
    "                anime_embeddings,\n",
    "                genre_embeddings,\n",
    "                type_embeddings,\n",
    "                episodes_embeddings,\n",
    "                score_embeddings\n",
    "            ], axis=1))\n",
    "        )\n",
    "    \n",
    "    def compute_loss(self, features, training=False):\n",
    "        # get the true ratings\n",
    "        ratings_true = features.pop('user_rating')\n",
    "        \n",
    "        # get the user embeddings, anime embeddings, and the predicted ratings\n",
    "        user_embeddings, anime_embeddings, ratings_predicted = self(features)\n",
    "        \n",
    "        # compute the loss and metrics for both the tasks\n",
    "        # rating loss\n",
    "        rating_loss = self.ranking_task(\n",
    "            labels=ratings_true,\n",
    "            predictions=ratings_predicted\n",
    "        )\n",
    "        # retrieval loss\n",
    "        retrieval_loss = self.retrieval_task(user_embeddings, anime_embeddings, compute_metrics=not training)\n",
    "        \n",
    "        # return the weighted combined losses\n",
    "        return (self.rating_weight * rating_loss + self.retrieval_weight * retrieval_loss)"
   ]
  },
  {
   "cell_type": "code",
   "execution_count": 33,
   "id": "56459bdf",
   "metadata": {
    "execution": {
     "iopub.execute_input": "2023-05-01T03:43:37.756374Z",
     "iopub.status.busy": "2023-05-01T03:43:37.755891Z",
     "iopub.status.idle": "2023-05-01T03:43:38.099698Z",
     "shell.execute_reply": "2023-05-01T03:43:38.098176Z",
     "shell.execute_reply.started": "2023-05-01T03:43:37.756320Z"
    },
    "papermill": {
     "duration": 0.495618,
     "end_time": "2023-05-01T02:20:29.368932",
     "exception": false,
     "start_time": "2023-05-01T02:20:28.873314",
     "status": "completed"
    },
    "tags": []
   },
   "outputs": [],
   "source": [
    "# initialize model\n",
    "model = AnimeMultitaskModel(rating_weight=1.0, retrieval_weight=1.0)\n",
    "\n",
    "# compile model\n",
    "model.compile(optimizer=tf.keras.optimizers.Adagrad(learning_rate=0.1))"
   ]
  },
  {
   "cell_type": "code",
   "execution_count": 34,
   "id": "4d32e9d3",
   "metadata": {
    "execution": {
     "iopub.execute_input": "2023-05-01T03:43:38.102425Z",
     "iopub.status.busy": "2023-05-01T03:43:38.101943Z",
     "iopub.status.idle": "2023-05-01T03:43:38.123769Z",
     "shell.execute_reply": "2023-05-01T03:43:38.122472Z",
     "shell.execute_reply.started": "2023-05-01T03:43:38.102373Z"
    },
    "papermill": {
     "duration": 15.344554,
     "end_time": "2023-05-01T02:20:44.983262",
     "exception": false,
     "start_time": "2023-05-01T02:20:29.638708",
     "status": "completed"
    },
    "tags": []
   },
   "outputs": [],
   "source": [
    "# cache data for training\n",
    "cached_train = train.shuffle(N_train).batch(8192).cache()\n",
    "cached_valid = valid.batch(4096).cache()"
   ]
  },
  {
   "cell_type": "markdown",
   "id": "3fefa943",
   "metadata": {
    "papermill": {
     "duration": 0.225685,
     "end_time": "2023-05-01T02:20:45.436613",
     "exception": false,
     "start_time": "2023-05-01T02:20:45.210928",
     "status": "completed"
    },
    "tags": []
   },
   "source": [
    "### Train & Evaluate Model"
   ]
  },
  {
   "cell_type": "code",
   "execution_count": 35,
   "id": "6355f9bc",
   "metadata": {
    "execution": {
     "iopub.execute_input": "2023-05-01T03:43:38.126661Z",
     "iopub.status.busy": "2023-05-01T03:43:38.125734Z",
     "iopub.status.idle": "2023-05-01T04:25:17.831080Z",
     "shell.execute_reply": "2023-05-01T04:25:17.829391Z",
     "shell.execute_reply.started": "2023-05-01T03:43:38.126613Z"
    },
    "papermill": {
     "duration": 244.68235,
     "end_time": "2023-05-01T02:24:50.343820",
     "exception": false,
     "start_time": "2023-05-01T02:20:45.661470",
     "status": "completed"
    },
    "tags": []
   },
   "outputs": [
    {
     "name": "stdout",
     "output_type": "stream",
     "text": [
      "Epoch 1/5\n",
      "573/573 [==============================] - 648s 820ms/step - root_mean_squared_error: 3.6887 - factorized_top_k/top_1_categorical_accuracy: 0.0000e+00 - factorized_top_k/top_5_categorical_accuracy: 0.0000e+00 - factorized_top_k/top_10_categorical_accuracy: 0.0000e+00 - factorized_top_k/top_50_categorical_accuracy: 0.0000e+00 - factorized_top_k/top_100_categorical_accuracy: 0.0000e+00 - loss: 70065.1867 - regularization_loss: 0.0000e+00 - total_loss: 70065.1867\n",
      "Epoch 2/5\n",
      "573/573 [==============================] - 448s 782ms/step - root_mean_squared_error: 3.5635 - factorized_top_k/top_1_categorical_accuracy: 0.0000e+00 - factorized_top_k/top_5_categorical_accuracy: 0.0000e+00 - factorized_top_k/top_10_categorical_accuracy: 0.0000e+00 - factorized_top_k/top_50_categorical_accuracy: 0.0000e+00 - factorized_top_k/top_100_categorical_accuracy: 0.0000e+00 - loss: 67289.2403 - regularization_loss: 0.0000e+00 - total_loss: 67289.2403\n",
      "Epoch 3/5\n",
      "573/573 [==============================] - 452s 788ms/step - root_mean_squared_error: 3.4899 - factorized_top_k/top_1_categorical_accuracy: 0.0000e+00 - factorized_top_k/top_5_categorical_accuracy: 0.0000e+00 - factorized_top_k/top_10_categorical_accuracy: 0.0000e+00 - factorized_top_k/top_50_categorical_accuracy: 0.0000e+00 - factorized_top_k/top_100_categorical_accuracy: 0.0000e+00 - loss: 66336.5999 - regularization_loss: 0.0000e+00 - total_loss: 66336.5999\n",
      "Epoch 4/5\n",
      "573/573 [==============================] - 448s 783ms/step - root_mean_squared_error: 3.4067 - factorized_top_k/top_1_categorical_accuracy: 0.0000e+00 - factorized_top_k/top_5_categorical_accuracy: 0.0000e+00 - factorized_top_k/top_10_categorical_accuracy: 0.0000e+00 - factorized_top_k/top_50_categorical_accuracy: 0.0000e+00 - factorized_top_k/top_100_categorical_accuracy: 0.0000e+00 - loss: 65778.2630 - regularization_loss: 0.0000e+00 - total_loss: 65778.2630\n",
      "Epoch 5/5\n",
      "573/573 [==============================] - 448s 782ms/step - root_mean_squared_error: 3.3307 - factorized_top_k/top_1_categorical_accuracy: 0.0000e+00 - factorized_top_k/top_5_categorical_accuracy: 0.0000e+00 - factorized_top_k/top_10_categorical_accuracy: 0.0000e+00 - factorized_top_k/top_50_categorical_accuracy: 0.0000e+00 - factorized_top_k/top_100_categorical_accuracy: 0.0000e+00 - loss: 65408.9373 - regularization_loss: 0.0000e+00 - total_loss: 65408.9373\n"
     ]
    }
   ],
   "source": [
    "# train model\n",
    "history = model.fit(cached_train, epochs=5)"
   ]
  },
  {
   "cell_type": "code",
   "execution_count": 36,
   "id": "d4292895",
   "metadata": {
    "execution": {
     "iopub.execute_input": "2023-05-01T04:25:17.834546Z",
     "iopub.status.busy": "2023-05-01T04:25:17.833652Z",
     "iopub.status.idle": "2023-05-01T04:35:42.565079Z",
     "shell.execute_reply": "2023-05-01T04:35:42.563429Z",
     "shell.execute_reply.started": "2023-05-01T04:25:17.834492Z"
    },
    "papermill": {
     "duration": 315.557237,
     "end_time": "2023-05-01T02:30:06.248489",
     "exception": false,
     "start_time": "2023-05-01T02:24:50.691252",
     "status": "completed"
    },
    "tags": []
   },
   "outputs": [
    {
     "name": "stdout",
     "output_type": "stream",
     "text": [
      "382/382 [==============================] - 582s 1s/step - root_mean_squared_error: 3.3545 - factorized_top_k/top_1_categorical_accuracy: 0.0018 - factorized_top_k/top_5_categorical_accuracy: 0.0137 - factorized_top_k/top_10_categorical_accuracy: 0.0280 - factorized_top_k/top_50_categorical_accuracy: 0.1141 - factorized_top_k/top_100_categorical_accuracy: 0.1897 - loss: 30771.8147 - regularization_loss: 0.0000e+00 - total_loss: 30771.8147\n"
     ]
    },
    {
     "data": {
      "text/plain": [
       "{'root_mean_squared_error': 3.354463815689087,\n",
       " 'factorized_top_k/top_1_categorical_accuracy': 0.0017699624877423048,\n",
       " 'factorized_top_k/top_5_categorical_accuracy': 0.013679134659469128,\n",
       " 'factorized_top_k/top_10_categorical_accuracy': 0.027950817719101906,\n",
       " 'factorized_top_k/top_50_categorical_accuracy': 0.11410178989171982,\n",
       " 'factorized_top_k/top_100_categorical_accuracy': 0.1896931380033493,\n",
       " 'loss': 14948.1279296875,\n",
       " 'regularization_loss': 0,\n",
       " 'total_loss': 14948.1279296875}"
      ]
     },
     "execution_count": 36,
     "metadata": {},
     "output_type": "execute_result"
    }
   ],
   "source": [
    "# evaluate model\n",
    "model.evaluate(cached_valid, return_dict=True)"
   ]
  },
  {
   "cell_type": "markdown",
   "id": "f3b32357",
   "metadata": {
    "papermill": {
     "duration": 0.340192,
     "end_time": "2023-05-01T02:30:06.998928",
     "exception": false,
     "start_time": "2023-05-01T02:30:06.658736",
     "status": "completed"
    },
    "tags": []
   },
   "source": [
    "### Making Predictions"
   ]
  },
  {
   "cell_type": "code",
   "execution_count": 37,
   "id": "af939727",
   "metadata": {
    "execution": {
     "iopub.execute_input": "2023-05-01T04:35:42.567317Z",
     "iopub.status.busy": "2023-05-01T04:35:42.566943Z",
     "iopub.status.idle": "2023-05-01T04:35:42.573627Z",
     "shell.execute_reply": "2023-05-01T04:35:42.572232Z",
     "shell.execute_reply.started": "2023-05-01T04:35:42.567281Z"
    },
    "papermill": {
     "duration": 0.325461,
     "end_time": "2023-05-01T02:30:07.650969",
     "exception": false,
     "start_time": "2023-05-01T02:30:07.325508",
     "status": "completed"
    },
    "tags": []
   },
   "outputs": [],
   "source": [
    "# trained_movie_embeddings, trained_user_embeddings, predicted_rating = model({\n",
    "#       \"user_id\": np.array(['42']),\n",
    "#       \"movie_title\": np.array(['yakusoku'])\n",
    "#   })\n",
    "# print(\"Predicted rating:\")\n",
    "# print(predicted_rating)"
   ]
  }
 ],
 "metadata": {
  "kernelspec": {
   "display_name": "Python 3 (ipykernel)",
   "language": "python",
   "name": "python3"
  },
  "language_info": {
   "codemirror_mode": {
    "name": "ipython",
    "version": 3
   },
   "file_extension": ".py",
   "mimetype": "text/x-python",
   "name": "python",
   "nbconvert_exporter": "python",
   "pygments_lexer": "ipython3",
   "version": "3.7.0"
  },
  "papermill": {
   "default_parameters": {},
   "duration": 2176.719212,
   "end_time": "2023-05-01T02:36:12.839477",
   "environment_variables": {},
   "exception": null,
   "input_path": "__notebook__.ipynb",
   "output_path": "__notebook__.ipynb",
   "parameters": {},
   "start_time": "2023-05-01T01:59:56.120265",
   "version": "2.4.0"
  }
 },
 "nbformat": 4,
 "nbformat_minor": 5
}

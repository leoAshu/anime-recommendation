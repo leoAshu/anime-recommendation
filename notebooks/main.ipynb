{
 "cells": [
  {
   "cell_type": "code",
   "execution_count": 1,
   "metadata": {
    "_cell_guid": "b1076dfc-b9ad-4769-8c92-a6c4dae69d19",
    "_uuid": "8f2839f25d086af736a60e9eeb907d3b93b6e0e5",
    "execution": {
     "iopub.execute_input": "2023-05-01T03:40:44.302391Z",
     "iopub.status.busy": "2023-05-01T03:40:44.301641Z",
     "iopub.status.idle": "2023-05-01T03:40:56.952517Z",
     "shell.execute_reply": "2023-05-01T03:40:56.951411Z",
     "shell.execute_reply.started": "2023-05-01T03:40:44.302358Z"
    }
   },
   "outputs": [
    {
     "name": "stdout",
     "output_type": "stream",
     "text": [
      "Collecting tensorflow-recommenders\n",
      "  Downloading tensorflow_recommenders-0.7.3-py3-none-any.whl (96 kB)\n",
      "\u001b[2K     \u001b[90m━━━━━━━━━━━━━━━━━━━━━━━━━━━━━━━━━━━━━━━━\u001b[0m \u001b[32m96.2/96.2 KB\u001b[0m \u001b[31m3.5 MB/s\u001b[0m eta \u001b[36m0:00:00\u001b[0m\n",
      "\u001b[?25hRequirement already satisfied: absl-py>=0.1.6 in /usr/local/lib/python3.8/site-packages (from tensorflow-recommenders) (1.4.0)\n",
      "Requirement already satisfied: tensorflow>=2.9.0 in /usr/local/lib/python3.8/site-packages (from tensorflow-recommenders) (2.12.0)\n",
      "Requirement already satisfied: jax>=0.3.15 in /usr/local/lib/python3.8/site-packages (from tensorflow>=2.9.0->tensorflow-recommenders) (0.4.6)\n",
      "Requirement already satisfied: keras<2.13,>=2.12.0 in /usr/local/lib/python3.8/site-packages (from tensorflow>=2.9.0->tensorflow-recommenders) (2.12.0)\n",
      "Requirement already satisfied: h5py>=2.9.0 in /usr/local/lib/python3.8/site-packages (from tensorflow>=2.9.0->tensorflow-recommenders) (3.8.0)\n",
      "Requirement already satisfied: google-pasta>=0.1.1 in /usr/local/lib/python3.8/site-packages (from tensorflow>=2.9.0->tensorflow-recommenders) (0.2.0)\n",
      "Requirement already satisfied: termcolor>=1.1.0 in /usr/local/lib/python3.8/site-packages (from tensorflow>=2.9.0->tensorflow-recommenders) (2.2.0)\n",
      "Requirement already satisfied: grpcio<2.0,>=1.24.3 in /usr/local/lib/python3.8/site-packages (from tensorflow>=2.9.0->tensorflow-recommenders) (1.53.0)\n",
      "Requirement already satisfied: gast<=0.4.0,>=0.2.1 in /usr/local/lib/python3.8/site-packages (from tensorflow>=2.9.0->tensorflow-recommenders) (0.4.0)\n",
      "Requirement already satisfied: tensorflow-io-gcs-filesystem>=0.23.1 in /usr/local/lib/python3.8/site-packages (from tensorflow>=2.9.0->tensorflow-recommenders) (0.32.0)\n",
      "Requirement already satisfied: protobuf!=4.21.0,!=4.21.1,!=4.21.2,!=4.21.3,!=4.21.4,!=4.21.5,<5.0.0dev,>=3.20.3 in /usr/local/lib/python3.8/site-packages (from tensorflow>=2.9.0->tensorflow-recommenders) (3.20.3)\n",
      "Requirement already satisfied: astunparse>=1.6.0 in /usr/local/lib/python3.8/site-packages (from tensorflow>=2.9.0->tensorflow-recommenders) (1.6.3)\n",
      "Requirement already satisfied: setuptools in /usr/local/lib/python3.8/site-packages (from tensorflow>=2.9.0->tensorflow-recommenders) (57.5.0)\n",
      "Requirement already satisfied: tensorflow-estimator<2.13,>=2.12.0 in /usr/local/lib/python3.8/site-packages (from tensorflow>=2.9.0->tensorflow-recommenders) (2.12.0)\n",
      "Requirement already satisfied: numpy<1.24,>=1.22 in /usr/local/lib/python3.8/site-packages (from tensorflow>=2.9.0->tensorflow-recommenders) (1.23.5)\n",
      "Requirement already satisfied: packaging in /usr/local/lib/python3.8/site-packages (from tensorflow>=2.9.0->tensorflow-recommenders) (23.0)\n",
      "Requirement already satisfied: typing-extensions>=3.6.6 in /usr/local/lib/python3.8/site-packages (from tensorflow>=2.9.0->tensorflow-recommenders) (4.5.0)\n",
      "Requirement already satisfied: libclang>=13.0.0 in /usr/local/lib/python3.8/site-packages (from tensorflow>=2.9.0->tensorflow-recommenders) (16.0.0)\n",
      "Requirement already satisfied: six>=1.12.0 in /usr/local/lib/python3.8/site-packages (from tensorflow>=2.9.0->tensorflow-recommenders) (1.16.0)\n",
      "Requirement already satisfied: tensorboard<2.13,>=2.12 in /usr/local/lib/python3.8/site-packages (from tensorflow>=2.9.0->tensorflow-recommenders) (2.12.1)\n",
      "Requirement already satisfied: flatbuffers>=2.0 in /usr/local/lib/python3.8/site-packages (from tensorflow>=2.9.0->tensorflow-recommenders) (23.3.3)\n",
      "Requirement already satisfied: wrapt<1.15,>=1.11.0 in /usr/local/lib/python3.8/site-packages (from tensorflow>=2.9.0->tensorflow-recommenders) (1.14.1)\n",
      "Requirement already satisfied: opt-einsum>=2.3.2 in /usr/local/lib/python3.8/site-packages (from tensorflow>=2.9.0->tensorflow-recommenders) (3.3.0)\n",
      "Requirement already satisfied: wheel<1.0,>=0.23.0 in /usr/local/lib/python3.8/site-packages (from astunparse>=1.6.0->tensorflow>=2.9.0->tensorflow-recommenders) (0.40.0)\n",
      "Requirement already satisfied: scipy>=1.5 in /usr/local/lib/python3.8/site-packages (from jax>=0.3.15->tensorflow>=2.9.0->tensorflow-recommenders) (1.10.1)\n",
      "Requirement already satisfied: tensorboard-plugin-wit>=1.6.0 in /usr/local/lib/python3.8/site-packages (from tensorboard<2.13,>=2.12->tensorflow>=2.9.0->tensorflow-recommenders) (1.8.1)\n",
      "Requirement already satisfied: werkzeug>=1.0.1 in /usr/local/lib/python3.8/site-packages (from tensorboard<2.13,>=2.12->tensorflow>=2.9.0->tensorflow-recommenders) (2.2.3)\n",
      "Requirement already satisfied: google-auth-oauthlib<1.1,>=0.5 in /usr/local/lib/python3.8/site-packages (from tensorboard<2.13,>=2.12->tensorflow>=2.9.0->tensorflow-recommenders) (1.0.0)\n",
      "Requirement already satisfied: google-auth<3,>=1.6.3 in /usr/local/lib/python3.8/site-packages (from tensorboard<2.13,>=2.12->tensorflow>=2.9.0->tensorflow-recommenders) (2.17.1)\n",
      "Requirement already satisfied: requests<3,>=2.21.0 in /usr/local/lib/python3.8/site-packages (from tensorboard<2.13,>=2.12->tensorflow>=2.9.0->tensorflow-recommenders) (2.28.2)\n",
      "Requirement already satisfied: markdown>=2.6.8 in /usr/local/lib/python3.8/site-packages (from tensorboard<2.13,>=2.12->tensorflow>=2.9.0->tensorflow-recommenders) (3.4.3)\n",
      "Requirement already satisfied: tensorboard-data-server<0.8.0,>=0.7.0 in /usr/local/lib/python3.8/site-packages (from tensorboard<2.13,>=2.12->tensorflow>=2.9.0->tensorflow-recommenders) (0.7.0)\n",
      "Requirement already satisfied: pyasn1-modules>=0.2.1 in /usr/local/lib/python3.8/site-packages (from google-auth<3,>=1.6.3->tensorboard<2.13,>=2.12->tensorflow>=2.9.0->tensorflow-recommenders) (0.2.8)\n",
      "Requirement already satisfied: rsa<5,>=3.1.4 in /usr/local/lib/python3.8/site-packages (from google-auth<3,>=1.6.3->tensorboard<2.13,>=2.12->tensorflow>=2.9.0->tensorflow-recommenders) (4.9)\n",
      "Requirement already satisfied: cachetools<6.0,>=2.0.0 in /usr/local/lib/python3.8/site-packages (from google-auth<3,>=1.6.3->tensorboard<2.13,>=2.12->tensorflow>=2.9.0->tensorflow-recommenders) (5.3.0)\n",
      "Requirement already satisfied: requests-oauthlib>=0.7.0 in /usr/local/lib/python3.8/site-packages (from google-auth-oauthlib<1.1,>=0.5->tensorboard<2.13,>=2.12->tensorflow>=2.9.0->tensorflow-recommenders) (1.3.1)\n",
      "Requirement already satisfied: importlib-metadata>=4.4 in /usr/local/lib/python3.8/site-packages (from markdown>=2.6.8->tensorboard<2.13,>=2.12->tensorflow>=2.9.0->tensorflow-recommenders) (6.1.0)\n",
      "Requirement already satisfied: idna<4,>=2.5 in /usr/local/lib/python3.8/site-packages (from requests<3,>=2.21.0->tensorboard<2.13,>=2.12->tensorflow>=2.9.0->tensorflow-recommenders) (3.4)\n",
      "Requirement already satisfied: charset-normalizer<4,>=2 in /usr/local/lib/python3.8/site-packages (from requests<3,>=2.21.0->tensorboard<2.13,>=2.12->tensorflow>=2.9.0->tensorflow-recommenders) (3.1.0)\n",
      "Requirement already satisfied: urllib3<1.27,>=1.21.1 in /usr/local/lib/python3.8/site-packages (from requests<3,>=2.21.0->tensorboard<2.13,>=2.12->tensorflow>=2.9.0->tensorflow-recommenders) (1.26.15)\n",
      "Requirement already satisfied: certifi>=2017.4.17 in /usr/local/lib/python3.8/site-packages (from requests<3,>=2.21.0->tensorboard<2.13,>=2.12->tensorflow>=2.9.0->tensorflow-recommenders) (2022.12.7)\n",
      "Requirement already satisfied: MarkupSafe>=2.1.1 in /usr/local/lib/python3.8/site-packages (from werkzeug>=1.0.1->tensorboard<2.13,>=2.12->tensorflow>=2.9.0->tensorflow-recommenders) (2.1.2)\n",
      "Requirement already satisfied: zipp>=0.5 in /usr/local/lib/python3.8/site-packages (from importlib-metadata>=4.4->markdown>=2.6.8->tensorboard<2.13,>=2.12->tensorflow>=2.9.0->tensorflow-recommenders) (3.15.0)\n",
      "Requirement already satisfied: pyasn1<0.5.0,>=0.4.6 in /usr/local/lib/python3.8/site-packages (from pyasn1-modules>=0.2.1->google-auth<3,>=1.6.3->tensorboard<2.13,>=2.12->tensorflow>=2.9.0->tensorflow-recommenders) (0.4.8)\n",
      "Requirement already satisfied: oauthlib>=3.0.0 in /usr/local/lib/python3.8/site-packages (from requests-oauthlib>=0.7.0->google-auth-oauthlib<1.1,>=0.5->tensorboard<2.13,>=2.12->tensorflow>=2.9.0->tensorflow-recommenders) (3.2.2)\n",
      "Installing collected packages: tensorflow-recommenders\n",
      "Successfully installed tensorflow-recommenders-0.7.3\n",
      "\u001b[33mWARNING: Running pip as the 'root' user can result in broken permissions and conflicting behaviour with the system package manager. It is recommended to use a virtual environment instead: https://pip.pypa.io/warnings/venv\u001b[0m\u001b[33m\n",
      "\u001b[0m\u001b[33mWARNING: You are using pip version 22.0.4; however, version 23.1.2 is available.\n",
      "You should consider upgrading via the '/usr/local/bin/python -m pip install --upgrade pip' command.\u001b[0m\u001b[33m\n",
      "\u001b[0mCollecting scikit-learn\n",
      "  Downloading scikit_learn-1.2.2-cp38-cp38-manylinux_2_17_x86_64.manylinux2014_x86_64.whl (9.8 MB)\n",
      "\u001b[2K     \u001b[90m━━━━━━━━━━━━━━━━━━━━━━━━━━━━━━━━━━━━━━━━\u001b[0m \u001b[32m9.8/9.8 MB\u001b[0m \u001b[31m47.5 MB/s\u001b[0m eta \u001b[36m0:00:00\u001b[0m00:01\u001b[0m00:01\u001b[0m\n",
      "\u001b[?25hCollecting joblib>=1.1.1\n",
      "  Downloading joblib-1.2.0-py3-none-any.whl (297 kB)\n",
      "\u001b[2K     \u001b[90m━━━━━━━━━━━━━━━━━━━━━━━━━━━━━━━━━━━━━━\u001b[0m \u001b[32m298.0/298.0 KB\u001b[0m \u001b[31m20.7 MB/s\u001b[0m eta \u001b[36m0:00:00\u001b[0m\n",
      "\u001b[?25hRequirement already satisfied: scipy>=1.3.2 in /usr/local/lib/python3.8/site-packages (from scikit-learn) (1.10.1)\n",
      "Requirement already satisfied: numpy>=1.17.3 in /usr/local/lib/python3.8/site-packages (from scikit-learn) (1.23.5)\n",
      "Collecting threadpoolctl>=2.0.0\n",
      "  Downloading threadpoolctl-3.1.0-py3-none-any.whl (14 kB)\n",
      "Installing collected packages: threadpoolctl, joblib, scikit-learn\n",
      "Successfully installed joblib-1.2.0 scikit-learn-1.2.2 threadpoolctl-3.1.0\n",
      "\u001b[33mWARNING: Running pip as the 'root' user can result in broken permissions and conflicting behaviour with the system package manager. It is recommended to use a virtual environment instead: https://pip.pypa.io/warnings/venv\u001b[0m\u001b[33m\n",
      "\u001b[0m\u001b[33mWARNING: You are using pip version 22.0.4; however, version 23.1.2 is available.\n",
      "You should consider upgrading via the '/usr/local/bin/python -m pip install --upgrade pip' command.\u001b[0m\u001b[33m\n",
      "\u001b[0m"
     ]
    }
   ],
   "source": [
    "!pip install tensorflow-recommenders\n",
    "!pip install scikit-learn"
   ]
  },
  {
   "cell_type": "code",
   "execution_count": 83,
   "metadata": {
    "execution": {
     "iopub.execute_input": "2023-05-01T04:42:12.868906Z",
     "iopub.status.busy": "2023-05-01T04:42:12.868100Z",
     "iopub.status.idle": "2023-05-01T04:42:12.874560Z",
     "shell.execute_reply": "2023-05-01T04:42:12.873407Z",
     "shell.execute_reply.started": "2023-05-01T04:42:12.868862Z"
    }
   },
   "outputs": [],
   "source": [
    "# import required packages\n",
    "# utility\n",
    "import re\n",
    "import sys\n",
    "import html\n",
    "import pprint\n",
    "import numpy as np\n",
    "import pandas as pd\n",
    "from typing import Dict, Text\n",
    "\n",
    "# plots\n",
    "import matplotlib.pyplot as plt\n",
    "\n",
    "# tensorflow\n",
    "import tensorflow as tf\n",
    "import tensorflow_recommenders as tfrs"
   ]
  },
  {
   "cell_type": "code",
   "execution_count": 3,
   "metadata": {
    "execution": {
     "iopub.execute_input": "2023-05-01T03:41:37.570108Z",
     "iopub.status.busy": "2023-05-01T03:41:37.569615Z",
     "iopub.status.idle": "2023-05-01T03:41:37.575143Z",
     "shell.execute_reply": "2023-05-01T03:41:37.574273Z",
     "shell.execute_reply.started": "2023-05-01T03:41:37.570080Z"
    }
   },
   "outputs": [],
   "source": [
    "# # configure gpu\n",
    "# gpus = tf.config.list_physical_devices(\"GPU\")\n",
    "\n",
    "# print(\"Num GPUs Available: \", len(gpus))\n",
    "\n",
    "# # if gpus:\n",
    "# #     # Create 2 virtual GPUs with 4GB memory each\n",
    "# #     try:\n",
    "# #         tf.config.set_logical_device_configuration(gpus[0],[tf.config.LogicalDeviceConfiguration(memory_limit=4096), tf.config.LogicalDeviceConfiguration(memory_limit=4096)])\n",
    "# #         logical_gpus = tf.config.list_logical_devices(\"GPU\")\n",
    "# #         print(len(gpus), \"Physical GPU,\", len(logical_gpus), \"Logical GPUs\")\n",
    "# #     except RuntimeError as e:\n",
    "# #         # Virtual devices must be set before GPUs have been initialized\n",
    "# #         print(e)\n",
    "\n",
    "# strategy = tf.distribute.MirroredStrategy()"
   ]
  },
  {
   "cell_type": "code",
   "execution_count": 4,
   "metadata": {
    "execution": {
     "iopub.execute_input": "2023-05-01T03:41:37.577632Z",
     "iopub.status.busy": "2023-05-01T03:41:37.577360Z",
     "iopub.status.idle": "2023-05-01T03:41:37.588668Z",
     "shell.execute_reply": "2023-05-01T03:41:37.587923Z",
     "shell.execute_reply.started": "2023-05-01T03:41:37.577609Z"
    }
   },
   "outputs": [],
   "source": [
    "# # configure tpu\n",
    "# resolver = tf.distribute.cluster_resolver.TPUClusterResolver()\n",
    "# tf.config.experimental_connect_to_cluster(resolver)\n",
    "\n",
    "# tf.tpu.experimental.initialize_tpu_system(resolver)\n",
    "# print(\"All devices: \", tf.config.list_logical_devices('TPU'))\n",
    "\n",
    "# strategy = tf.distribute.TPUStrategy(resolver)"
   ]
  },
  {
   "cell_type": "markdown",
   "metadata": {},
   "source": [
    "## EDA and Preprocessing: Anime Recommendations Dataset\n",
    "- Ratings data\n",
    "- Metadata\n",
    "\n",
    "### Ratings data"
   ]
  },
  {
   "cell_type": "code",
   "execution_count": 5,
   "metadata": {
    "execution": {
     "iopub.execute_input": "2023-05-01T03:41:37.589881Z",
     "iopub.status.busy": "2023-05-01T03:41:37.589609Z",
     "iopub.status.idle": "2023-05-01T03:41:41.003101Z",
     "shell.execute_reply": "2023-05-01T03:41:41.002291Z",
     "shell.execute_reply.started": "2023-05-01T03:41:37.589848Z"
    }
   },
   "outputs": [
    {
     "data": {
      "text/plain": [
       "(7813737, 3)"
      ]
     },
     "execution_count": 5,
     "metadata": {},
     "output_type": "execute_result"
    }
   ],
   "source": [
    "# load ratings dataset\n",
    "# kaggle path\n",
    "# rating_df = pd.read_csv('/kaggle/input/anime-recommendations-database/rating.csv')\n",
    "\n",
    "# local path\n",
    "rating_df = pd.read_csv('../data/rating.csv')\n",
    "\n",
    "rating_df.shape"
   ]
  },
  {
   "cell_type": "code",
   "execution_count": 6,
   "metadata": {
    "execution": {
     "iopub.execute_input": "2023-05-01T03:41:41.004565Z",
     "iopub.status.busy": "2023-05-01T03:41:41.004254Z",
     "iopub.status.idle": "2023-05-01T03:41:41.016546Z",
     "shell.execute_reply": "2023-05-01T03:41:41.015704Z",
     "shell.execute_reply.started": "2023-05-01T03:41:41.004540Z"
    }
   },
   "outputs": [
    {
     "data": {
      "text/html": [
       "<div>\n",
       "<style scoped>\n",
       "    .dataframe tbody tr th:only-of-type {\n",
       "        vertical-align: middle;\n",
       "    }\n",
       "\n",
       "    .dataframe tbody tr th {\n",
       "        vertical-align: top;\n",
       "    }\n",
       "\n",
       "    .dataframe thead th {\n",
       "        text-align: right;\n",
       "    }\n",
       "</style>\n",
       "<table border=\"1\" class=\"dataframe\">\n",
       "  <thead>\n",
       "    <tr style=\"text-align: right;\">\n",
       "      <th></th>\n",
       "      <th>user_id</th>\n",
       "      <th>anime_id</th>\n",
       "      <th>rating</th>\n",
       "    </tr>\n",
       "  </thead>\n",
       "  <tbody>\n",
       "    <tr>\n",
       "      <th>0</th>\n",
       "      <td>1</td>\n",
       "      <td>20</td>\n",
       "      <td>-1</td>\n",
       "    </tr>\n",
       "    <tr>\n",
       "      <th>1</th>\n",
       "      <td>1</td>\n",
       "      <td>24</td>\n",
       "      <td>-1</td>\n",
       "    </tr>\n",
       "    <tr>\n",
       "      <th>2</th>\n",
       "      <td>1</td>\n",
       "      <td>79</td>\n",
       "      <td>-1</td>\n",
       "    </tr>\n",
       "    <tr>\n",
       "      <th>3</th>\n",
       "      <td>1</td>\n",
       "      <td>226</td>\n",
       "      <td>-1</td>\n",
       "    </tr>\n",
       "    <tr>\n",
       "      <th>4</th>\n",
       "      <td>1</td>\n",
       "      <td>241</td>\n",
       "      <td>-1</td>\n",
       "    </tr>\n",
       "  </tbody>\n",
       "</table>\n",
       "</div>"
      ],
      "text/plain": [
       "   user_id  anime_id  rating\n",
       "0        1        20      -1\n",
       "1        1        24      -1\n",
       "2        1        79      -1\n",
       "3        1       226      -1\n",
       "4        1       241      -1"
      ]
     },
     "execution_count": 6,
     "metadata": {},
     "output_type": "execute_result"
    }
   ],
   "source": [
    "# first 5 data points\n",
    "rating_df.head()"
   ]
  },
  {
   "cell_type": "code",
   "execution_count": 7,
   "metadata": {
    "execution": {
     "iopub.execute_input": "2023-05-01T03:41:41.018329Z",
     "iopub.status.busy": "2023-05-01T03:41:41.017678Z",
     "iopub.status.idle": "2023-05-01T03:41:41.031676Z",
     "shell.execute_reply": "2023-05-01T03:41:41.030925Z",
     "shell.execute_reply.started": "2023-05-01T03:41:41.018291Z"
    }
   },
   "outputs": [
    {
     "name": "stdout",
     "output_type": "stream",
     "text": [
      "<class 'pandas.core.frame.DataFrame'>\n",
      "RangeIndex: 7813737 entries, 0 to 7813736\n",
      "Data columns (total 3 columns):\n",
      " #   Column    Dtype\n",
      "---  ------    -----\n",
      " 0   user_id   int64\n",
      " 1   anime_id  int64\n",
      " 2   rating    int64\n",
      "dtypes: int64(3)\n",
      "memory usage: 178.8 MB\n"
     ]
    }
   ],
   "source": [
    "# info\n",
    "rating_df.info()"
   ]
  },
  {
   "cell_type": "code",
   "execution_count": 8,
   "metadata": {
    "execution": {
     "iopub.execute_input": "2023-05-01T03:41:41.033404Z",
     "iopub.status.busy": "2023-05-01T03:41:41.032619Z",
     "iopub.status.idle": "2023-05-01T03:41:48.545552Z",
     "shell.execute_reply": "2023-05-01T03:41:48.544430Z",
     "shell.execute_reply.started": "2023-05-01T03:41:41.033377Z"
    }
   },
   "outputs": [],
   "source": [
    "# convert id columns to string\n",
    "rating_df['user_id'] = rating_df['user_id'].map(lambda x: str(x))\n",
    "rating_df['anime_id'] = rating_df['anime_id'].map(lambda x: str(x))"
   ]
  },
  {
   "cell_type": "code",
   "execution_count": 9,
   "metadata": {
    "execution": {
     "iopub.execute_input": "2023-05-01T03:41:48.547355Z",
     "iopub.status.busy": "2023-05-01T03:41:48.547009Z",
     "iopub.status.idle": "2023-05-01T03:41:49.087035Z",
     "shell.execute_reply": "2023-05-01T03:41:49.086098Z",
     "shell.execute_reply.started": "2023-05-01T03:41:48.547325Z"
    }
   },
   "outputs": [
    {
     "data": {
      "text/plain": [
       "user_id     0\n",
       "anime_id    0\n",
       "rating      0\n",
       "dtype: int64"
      ]
     },
     "execution_count": 9,
     "metadata": {},
     "output_type": "execute_result"
    }
   ],
   "source": [
    "rating_df.isna().sum()"
   ]
  },
  {
   "cell_type": "markdown",
   "metadata": {},
   "source": [
    "### Metadata"
   ]
  },
  {
   "cell_type": "code",
   "execution_count": 10,
   "metadata": {
    "execution": {
     "iopub.execute_input": "2023-05-01T03:41:49.091197Z",
     "iopub.status.busy": "2023-05-01T03:41:49.090891Z",
     "iopub.status.idle": "2023-05-01T03:41:49.134986Z",
     "shell.execute_reply": "2023-05-01T03:41:49.134191Z",
     "shell.execute_reply.started": "2023-05-01T03:41:49.091172Z"
    }
   },
   "outputs": [
    {
     "data": {
      "text/plain": [
       "(12294, 7)"
      ]
     },
     "execution_count": 10,
     "metadata": {},
     "output_type": "execute_result"
    }
   ],
   "source": [
    "# load anime metadata\n",
    "# kaggle path\n",
    "# anime_df = pd.read_csv('/kaggle/input/anime-recommendations-database/anime.csv')\n",
    "\n",
    "# local path\n",
    "rating_df = pd.read_csv('../data/anime.csv')\n",
    "\n",
    "anime_df.shape"
   ]
  },
  {
   "cell_type": "code",
   "execution_count": 11,
   "metadata": {
    "execution": {
     "iopub.execute_input": "2023-05-01T03:41:49.136411Z",
     "iopub.status.busy": "2023-05-01T03:41:49.136080Z",
     "iopub.status.idle": "2023-05-01T03:41:49.149652Z",
     "shell.execute_reply": "2023-05-01T03:41:49.148777Z",
     "shell.execute_reply.started": "2023-05-01T03:41:49.136381Z"
    }
   },
   "outputs": [
    {
     "data": {
      "text/html": [
       "<div>\n",
       "<style scoped>\n",
       "    .dataframe tbody tr th:only-of-type {\n",
       "        vertical-align: middle;\n",
       "    }\n",
       "\n",
       "    .dataframe tbody tr th {\n",
       "        vertical-align: top;\n",
       "    }\n",
       "\n",
       "    .dataframe thead th {\n",
       "        text-align: right;\n",
       "    }\n",
       "</style>\n",
       "<table border=\"1\" class=\"dataframe\">\n",
       "  <thead>\n",
       "    <tr style=\"text-align: right;\">\n",
       "      <th></th>\n",
       "      <th>anime_id</th>\n",
       "      <th>name</th>\n",
       "      <th>genre</th>\n",
       "      <th>type</th>\n",
       "      <th>episodes</th>\n",
       "      <th>rating</th>\n",
       "      <th>members</th>\n",
       "    </tr>\n",
       "  </thead>\n",
       "  <tbody>\n",
       "    <tr>\n",
       "      <th>0</th>\n",
       "      <td>32281</td>\n",
       "      <td>Kimi no Na wa.</td>\n",
       "      <td>Drama, Romance, School, Supernatural</td>\n",
       "      <td>Movie</td>\n",
       "      <td>1</td>\n",
       "      <td>9.37</td>\n",
       "      <td>200630</td>\n",
       "    </tr>\n",
       "    <tr>\n",
       "      <th>1</th>\n",
       "      <td>5114</td>\n",
       "      <td>Fullmetal Alchemist: Brotherhood</td>\n",
       "      <td>Action, Adventure, Drama, Fantasy, Magic, Mili...</td>\n",
       "      <td>TV</td>\n",
       "      <td>64</td>\n",
       "      <td>9.26</td>\n",
       "      <td>793665</td>\n",
       "    </tr>\n",
       "    <tr>\n",
       "      <th>2</th>\n",
       "      <td>28977</td>\n",
       "      <td>Gintama°</td>\n",
       "      <td>Action, Comedy, Historical, Parody, Samurai, S...</td>\n",
       "      <td>TV</td>\n",
       "      <td>51</td>\n",
       "      <td>9.25</td>\n",
       "      <td>114262</td>\n",
       "    </tr>\n",
       "    <tr>\n",
       "      <th>3</th>\n",
       "      <td>9253</td>\n",
       "      <td>Steins;Gate</td>\n",
       "      <td>Sci-Fi, Thriller</td>\n",
       "      <td>TV</td>\n",
       "      <td>24</td>\n",
       "      <td>9.17</td>\n",
       "      <td>673572</td>\n",
       "    </tr>\n",
       "    <tr>\n",
       "      <th>4</th>\n",
       "      <td>9969</td>\n",
       "      <td>Gintama&amp;#039;</td>\n",
       "      <td>Action, Comedy, Historical, Parody, Samurai, S...</td>\n",
       "      <td>TV</td>\n",
       "      <td>51</td>\n",
       "      <td>9.16</td>\n",
       "      <td>151266</td>\n",
       "    </tr>\n",
       "  </tbody>\n",
       "</table>\n",
       "</div>"
      ],
      "text/plain": [
       "   anime_id                              name   \n",
       "0     32281                    Kimi no Na wa.  \\\n",
       "1      5114  Fullmetal Alchemist: Brotherhood   \n",
       "2     28977                          Gintama°   \n",
       "3      9253                       Steins;Gate   \n",
       "4      9969                     Gintama&#039;   \n",
       "\n",
       "                                               genre   type episodes  rating   \n",
       "0               Drama, Romance, School, Supernatural  Movie        1    9.37  \\\n",
       "1  Action, Adventure, Drama, Fantasy, Magic, Mili...     TV       64    9.26   \n",
       "2  Action, Comedy, Historical, Parody, Samurai, S...     TV       51    9.25   \n",
       "3                                   Sci-Fi, Thriller     TV       24    9.17   \n",
       "4  Action, Comedy, Historical, Parody, Samurai, S...     TV       51    9.16   \n",
       "\n",
       "   members  \n",
       "0   200630  \n",
       "1   793665  \n",
       "2   114262  \n",
       "3   673572  \n",
       "4   151266  "
      ]
     },
     "execution_count": 11,
     "metadata": {},
     "output_type": "execute_result"
    }
   ],
   "source": [
    "# first 5 data points\n",
    "anime_df.head()"
   ]
  },
  {
   "cell_type": "code",
   "execution_count": 12,
   "metadata": {
    "execution": {
     "iopub.execute_input": "2023-05-01T03:41:49.151517Z",
     "iopub.status.busy": "2023-05-01T03:41:49.150750Z",
     "iopub.status.idle": "2023-05-01T03:41:49.161695Z",
     "shell.execute_reply": "2023-05-01T03:41:49.160825Z",
     "shell.execute_reply.started": "2023-05-01T03:41:49.151488Z"
    }
   },
   "outputs": [],
   "source": [
    "# drop useless columns\n",
    "# members\n",
    "anime_df = anime_df.drop(['members'], axis=1)"
   ]
  },
  {
   "cell_type": "code",
   "execution_count": 13,
   "metadata": {
    "execution": {
     "iopub.execute_input": "2023-05-01T03:41:49.162975Z",
     "iopub.status.busy": "2023-05-01T03:41:49.162694Z",
     "iopub.status.idle": "2023-05-01T03:41:49.174412Z",
     "shell.execute_reply": "2023-05-01T03:41:49.173567Z",
     "shell.execute_reply.started": "2023-05-01T03:41:49.162951Z"
    }
   },
   "outputs": [
    {
     "data": {
      "text/plain": [
       "anime_id      0\n",
       "name          0\n",
       "genre        62\n",
       "type         25\n",
       "episodes      0\n",
       "rating      230\n",
       "dtype: int64"
      ]
     },
     "execution_count": 13,
     "metadata": {},
     "output_type": "execute_result"
    }
   ],
   "source": [
    "# check null values\n",
    "anime_df.isna().sum()"
   ]
  },
  {
   "cell_type": "code",
   "execution_count": 14,
   "metadata": {
    "execution": {
     "iopub.execute_input": "2023-05-01T03:41:49.175776Z",
     "iopub.status.busy": "2023-05-01T03:41:49.175502Z",
     "iopub.status.idle": "2023-05-01T03:41:49.191650Z",
     "shell.execute_reply": "2023-05-01T03:41:49.190931Z",
     "shell.execute_reply.started": "2023-05-01T03:41:49.175752Z"
    }
   },
   "outputs": [],
   "source": [
    "# replace null values for genre with mode\n",
    "anime_df['genre'] = anime_df['genre'].fillna(anime_df['genre'].mode()[0])\n",
    "\n",
    "# replace null values for type with mode\n",
    "anime_df['type'] = anime_df['type'].fillna(anime_df['type'].mode()[0])\n",
    "\n",
    "# replace null value for rating with mean\n",
    "anime_df['rating'] = anime_df['rating'].fillna(anime_df['rating'].mean())"
   ]
  },
  {
   "cell_type": "code",
   "execution_count": 15,
   "metadata": {
    "execution": {
     "iopub.execute_input": "2023-05-01T03:41:49.192844Z",
     "iopub.status.busy": "2023-05-01T03:41:49.192581Z",
     "iopub.status.idle": "2023-05-01T03:41:49.204799Z",
     "shell.execute_reply": "2023-05-01T03:41:49.204085Z",
     "shell.execute_reply.started": "2023-05-01T03:41:49.192820Z"
    }
   },
   "outputs": [
    {
     "data": {
      "text/plain": [
       "anime_id    0\n",
       "name        0\n",
       "genre       0\n",
       "type        0\n",
       "episodes    0\n",
       "rating      0\n",
       "dtype: int64"
      ]
     },
     "execution_count": 15,
     "metadata": {},
     "output_type": "execute_result"
    }
   ],
   "source": [
    "# verify null values handling\n",
    "anime_df.isna().sum()"
   ]
  },
  {
   "cell_type": "code",
   "execution_count": 16,
   "metadata": {
    "execution": {
     "iopub.execute_input": "2023-05-01T03:41:49.206085Z",
     "iopub.status.busy": "2023-05-01T03:41:49.205776Z",
     "iopub.status.idle": "2023-05-01T03:41:49.221241Z",
     "shell.execute_reply": "2023-05-01T03:41:49.220495Z",
     "shell.execute_reply.started": "2023-05-01T03:41:49.206037Z"
    }
   },
   "outputs": [
    {
     "name": "stdout",
     "output_type": "stream",
     "text": [
      "<class 'pandas.core.frame.DataFrame'>\n",
      "RangeIndex: 12294 entries, 0 to 12293\n",
      "Data columns (total 6 columns):\n",
      " #   Column    Non-Null Count  Dtype  \n",
      "---  ------    --------------  -----  \n",
      " 0   anime_id  12294 non-null  int64  \n",
      " 1   name      12294 non-null  object \n",
      " 2   genre     12294 non-null  object \n",
      " 3   type      12294 non-null  object \n",
      " 4   episodes  12294 non-null  object \n",
      " 5   rating    12294 non-null  float64\n",
      "dtypes: float64(1), int64(1), object(4)\n",
      "memory usage: 576.4+ KB\n"
     ]
    }
   ],
   "source": [
    "# info\n",
    "anime_df.info()"
   ]
  },
  {
   "cell_type": "code",
   "execution_count": 17,
   "metadata": {
    "execution": {
     "iopub.execute_input": "2023-05-01T03:41:49.222465Z",
     "iopub.status.busy": "2023-05-01T03:41:49.222187Z",
     "iopub.status.idle": "2023-05-01T03:41:49.233402Z",
     "shell.execute_reply": "2023-05-01T03:41:49.232683Z",
     "shell.execute_reply.started": "2023-05-01T03:41:49.222440Z"
    }
   },
   "outputs": [],
   "source": [
    "# convert anime_id column to string\n",
    "anime_df['anime_id'] = anime_df['anime_id'].apply(lambda x: str(x))"
   ]
  },
  {
   "cell_type": "code",
   "execution_count": 18,
   "metadata": {
    "execution": {
     "iopub.execute_input": "2023-05-01T03:41:49.234985Z",
     "iopub.status.busy": "2023-05-01T03:41:49.234682Z",
     "iopub.status.idle": "2023-05-01T03:41:49.244961Z",
     "shell.execute_reply": "2023-05-01T03:41:49.244281Z",
     "shell.execute_reply.started": "2023-05-01T03:41:49.234959Z"
    }
   },
   "outputs": [
    {
     "data": {
      "text/plain": [
       "'Dennou Sentai Voogie&#039;s★Angel: Forever and Ever'"
      ]
     },
     "execution_count": 18,
     "metadata": {},
     "output_type": "execute_result"
    }
   ],
   "source": [
    "# sample anime name with invalid characters\n",
    "anime_df['name'].loc[8441]"
   ]
  },
  {
   "cell_type": "code",
   "execution_count": 19,
   "metadata": {
    "execution": {
     "iopub.execute_input": "2023-05-01T03:41:49.246215Z",
     "iopub.status.busy": "2023-05-01T03:41:49.245887Z",
     "iopub.status.idle": "2023-05-01T03:41:49.381355Z",
     "shell.execute_reply": "2023-05-01T03:41:49.380574Z",
     "shell.execute_reply.started": "2023-05-01T03:41:49.246189Z"
    }
   },
   "outputs": [],
   "source": [
    "# clean anime name column\n",
    "# remove html encodings\n",
    "# convert to regular characters\n",
    "anime_df['name'] = anime_df['name'].apply(html.unescape)\n",
    "\n",
    "# remove emojis and other miscellaneous unicode characters\n",
    "# encode as ascii to remove miscellaneous unicode characters\n",
    "# replaces the characters with '?'\n",
    "# converts str to array of bytes\n",
    "anime_df['name'] = anime_df['name'].map(lambda x: x.encode('ascii', 'replace'))\n",
    "\n",
    "# decode to convert to str\n",
    "anime_df['name'] = anime_df['name'].map(lambda x: x.decode())\n",
    "\n",
    "# replace '?' with a space\n",
    "anime_df['name'] = anime_df['name'].map(lambda x: x.replace('?', ' '))\n",
    "\n",
    "# convert to lower case\n",
    "anime_df['name'] = anime_df['name'].map(lambda x: x.lower())\n",
    "\n",
    "# remove punctuations\n",
    "anime_df['name'] = anime_df['name'].map(lambda x: re.sub(r'[^\\w\\s]', ' ', x))\n",
    "\n",
    "# remove single length words\n",
    "anime_df['name'] = anime_df['name'].map(lambda x: re.sub(r'\\b\\w{1}\\b', '', x))\n",
    "\n",
    "# remove extra spaces\n",
    "anime_df['name'] = anime_df['name'].map(lambda x: re.sub(r' +', ' ', x))"
   ]
  },
  {
   "cell_type": "code",
   "execution_count": 20,
   "metadata": {
    "execution": {
     "iopub.execute_input": "2023-05-01T03:41:49.382577Z",
     "iopub.status.busy": "2023-05-01T03:41:49.382319Z",
     "iopub.status.idle": "2023-05-01T03:41:49.387996Z",
     "shell.execute_reply": "2023-05-01T03:41:49.387166Z",
     "shell.execute_reply.started": "2023-05-01T03:41:49.382555Z"
    }
   },
   "outputs": [
    {
     "data": {
      "text/plain": [
       "'dennou sentai voogie angel forever and ever'"
      ]
     },
     "execution_count": 20,
     "metadata": {},
     "output_type": "execute_result"
    }
   ],
   "source": [
    "# verify cleaning of anime name column\n",
    "anime_df['name'].loc[8441]"
   ]
  },
  {
   "cell_type": "code",
   "execution_count": 21,
   "metadata": {
    "execution": {
     "iopub.execute_input": "2023-05-01T03:41:49.389205Z",
     "iopub.status.busy": "2023-05-01T03:41:49.388953Z",
     "iopub.status.idle": "2023-05-01T03:41:49.508531Z",
     "shell.execute_reply": "2023-05-01T03:41:49.507757Z",
     "shell.execute_reply.started": "2023-05-01T03:41:49.389183Z"
    }
   },
   "outputs": [],
   "source": [
    "# clean and normalize genre column\n",
    "# convert to lower case\n",
    "anime_df['genre'] = anime_df['genre'].map(lambda x: x.lower())\n",
    "\n",
    "# remove punctuations\n",
    "# keep hyphen(-) for sci-fi\n",
    "anime_df['genre'] = anime_df['genre'].map(lambda x: re.sub(r'[^\\w\\s-]', ' ', x))\n",
    "\n",
    "# remove single length characters\n",
    "anime_df['genre'] = anime_df['genre'].map(lambda x: re.sub(r'\\b\\w{1}\\b', '', x))\n",
    "\n",
    "# remove extra spaces\n",
    "anime_df['genre'] = anime_df['genre'].map(lambda x: re.sub(r' +', ' ', x))"
   ]
  },
  {
   "cell_type": "code",
   "execution_count": 22,
   "metadata": {
    "execution": {
     "iopub.execute_input": "2023-05-01T03:41:49.509717Z",
     "iopub.status.busy": "2023-05-01T03:41:49.509466Z",
     "iopub.status.idle": "2023-05-01T03:41:50.481667Z",
     "shell.execute_reply": "2023-05-01T03:41:50.480715Z",
     "shell.execute_reply.started": "2023-05-01T03:41:49.509694Z"
    }
   },
   "outputs": [
    {
     "data": {
      "image/png": "[encoded data removed]",
      "text/plain": [
       "<Figure size 1000x600 with 1 Axes>"
      ]
     },
     "metadata": {},
     "output_type": "display_data"
    }
   ],
   "source": [
    "# plot the count of each genre\n",
    "\n",
    "# extract unique genres\n",
    "unique_genres = set()\n",
    "for genres in anime_df['genre']:\n",
    "    unique_genres.update(genres.split())\n",
    "\n",
    "# count the number of anime for each genre\n",
    "genre_counts = {}\n",
    "for genre in unique_genres:\n",
    "    genre_counts[genre] = sum(anime_df['genre'].str.contains(genre))\n",
    "\n",
    "# plot the genre counts\n",
    "plt.figure(figsize=(10,6))\n",
    "plt.bar(genre_counts.keys(), genre_counts.values())\n",
    "plt.xticks(rotation=90)\n",
    "plt.xlabel('Genres')\n",
    "plt.ylabel('Counts')\n",
    "plt.title('Counts of Unique Genres');\n",
    "\n",
    "del unique_genres\n",
    "del genre_counts"
   ]
  },
  {
   "cell_type": "code",
   "execution_count": 23,
   "metadata": {
    "execution": {
     "iopub.execute_input": "2023-05-01T03:41:50.483072Z",
     "iopub.status.busy": "2023-05-01T03:41:50.482781Z",
     "iopub.status.idle": "2023-05-01T03:41:50.491832Z",
     "shell.execute_reply": "2023-05-01T03:41:50.491095Z",
     "shell.execute_reply.started": "2023-05-01T03:41:50.483045Z"
    }
   },
   "outputs": [],
   "source": [
    "# normalize type column\n",
    "# convert to lower case\n",
    "anime_df['type'] = anime_df['type'].map(lambda x: x.lower())\n",
    "\n",
    "# no further cleaning required for type column"
   ]
  },
  {
   "cell_type": "code",
   "execution_count": 24,
   "metadata": {
    "execution": {
     "iopub.execute_input": "2023-05-01T03:41:50.493082Z",
     "iopub.status.busy": "2023-05-01T03:41:50.492809Z",
     "iopub.status.idle": "2023-05-01T03:41:50.518681Z",
     "shell.execute_reply": "2023-05-01T03:41:50.517816Z",
     "shell.execute_reply.started": "2023-05-01T03:41:50.493059Z"
    }
   },
   "outputs": [
    {
     "data": {
      "text/html": [
       "<div>\n",
       "<style scoped>\n",
       "    .dataframe tbody tr th:only-of-type {\n",
       "        vertical-align: middle;\n",
       "    }\n",
       "\n",
       "    .dataframe tbody tr th {\n",
       "        vertical-align: top;\n",
       "    }\n",
       "\n",
       "    .dataframe thead th {\n",
       "        text-align: right;\n",
       "    }\n",
       "</style>\n",
       "<table border=\"1\" class=\"dataframe\">\n",
       "  <thead>\n",
       "    <tr style=\"text-align: right;\">\n",
       "      <th></th>\n",
       "      <th>anime_id</th>\n",
       "      <th>name</th>\n",
       "      <th>genre</th>\n",
       "      <th>type</th>\n",
       "      <th>episodes</th>\n",
       "      <th>rating</th>\n",
       "    </tr>\n",
       "  </thead>\n",
       "  <tbody>\n",
       "    <tr>\n",
       "      <th>74</th>\n",
       "      <td>21</td>\n",
       "      <td>one piece</td>\n",
       "      <td>action adventure comedy drama fantasy shounen ...</td>\n",
       "      <td>tv</td>\n",
       "      <td>Unknown</td>\n",
       "      <td>8.580000</td>\n",
       "    </tr>\n",
       "    <tr>\n",
       "      <th>252</th>\n",
       "      <td>235</td>\n",
       "      <td>detective conan</td>\n",
       "      <td>adventure comedy mystery police shounen</td>\n",
       "      <td>tv</td>\n",
       "      <td>Unknown</td>\n",
       "      <td>8.250000</td>\n",
       "    </tr>\n",
       "    <tr>\n",
       "      <th>615</th>\n",
       "      <td>1735</td>\n",
       "      <td>naruto shippuuden</td>\n",
       "      <td>action comedy martial arts shounen super power</td>\n",
       "      <td>tv</td>\n",
       "      <td>Unknown</td>\n",
       "      <td>7.940000</td>\n",
       "    </tr>\n",
       "    <tr>\n",
       "      <th>991</th>\n",
       "      <td>966</td>\n",
       "      <td>crayon shin chan</td>\n",
       "      <td>comedy ecchi kids school shounen slice of life</td>\n",
       "      <td>tv</td>\n",
       "      <td>Unknown</td>\n",
       "      <td>7.730000</td>\n",
       "    </tr>\n",
       "    <tr>\n",
       "      <th>1021</th>\n",
       "      <td>33157</td>\n",
       "      <td>tanaka kun wa itsumo kedaruge specials</td>\n",
       "      <td>comedy school slice of life</td>\n",
       "      <td>special</td>\n",
       "      <td>Unknown</td>\n",
       "      <td>7.720000</td>\n",
       "    </tr>\n",
       "    <tr>\n",
       "      <th>...</th>\n",
       "      <td>...</td>\n",
       "      <td>...</td>\n",
       "      <td>...</td>\n",
       "      <td>...</td>\n",
       "      <td>...</td>\n",
       "      <td>...</td>\n",
       "    </tr>\n",
       "    <tr>\n",
       "      <th>12265</th>\n",
       "      <td>34361</td>\n",
       "      <td>kyonyuu reijou mc gakuen</td>\n",
       "      <td>hentai</td>\n",
       "      <td>ova</td>\n",
       "      <td>Unknown</td>\n",
       "      <td>6.473902</td>\n",
       "    </tr>\n",
       "    <tr>\n",
       "      <th>12274</th>\n",
       "      <td>34492</td>\n",
       "      <td>nuki doki tenshi to akuma no sakusei battle re...</td>\n",
       "      <td>hentai</td>\n",
       "      <td>ova</td>\n",
       "      <td>Unknown</td>\n",
       "      <td>6.473902</td>\n",
       "    </tr>\n",
       "    <tr>\n",
       "      <th>12280</th>\n",
       "      <td>34312</td>\n",
       "      <td>saimin class</td>\n",
       "      <td>hentai</td>\n",
       "      <td>ova</td>\n",
       "      <td>Unknown</td>\n",
       "      <td>6.473902</td>\n",
       "    </tr>\n",
       "    <tr>\n",
       "      <th>12282</th>\n",
       "      <td>34388</td>\n",
       "      <td>shikkoku no shaga the animation</td>\n",
       "      <td>hentai</td>\n",
       "      <td>ova</td>\n",
       "      <td>Unknown</td>\n",
       "      <td>6.473902</td>\n",
       "    </tr>\n",
       "    <tr>\n",
       "      <th>12285</th>\n",
       "      <td>34399</td>\n",
       "      <td>taimanin asagi</td>\n",
       "      <td>demons hentai supernatural</td>\n",
       "      <td>ova</td>\n",
       "      <td>Unknown</td>\n",
       "      <td>6.473902</td>\n",
       "    </tr>\n",
       "  </tbody>\n",
       "</table>\n",
       "<p>340 rows × 6 columns</p>\n",
       "</div>"
      ],
      "text/plain": [
       "      anime_id                                               name   \n",
       "74          21                                          one piece  \\\n",
       "252        235                                    detective conan   \n",
       "615       1735                                  naruto shippuuden   \n",
       "991        966                                   crayon shin chan   \n",
       "1021     33157             tanaka kun wa itsumo kedaruge specials   \n",
       "...        ...                                                ...   \n",
       "12265    34361                           kyonyuu reijou mc gakuen   \n",
       "12274    34492  nuki doki tenshi to akuma no sakusei battle re...   \n",
       "12280    34312                                       saimin class   \n",
       "12282    34388                    shikkoku no shaga the animation   \n",
       "12285    34399                                    taimanin asagi    \n",
       "\n",
       "                                                   genre     type episodes   \n",
       "74     action adventure comedy drama fantasy shounen ...       tv  Unknown  \\\n",
       "252              adventure comedy mystery police shounen       tv  Unknown   \n",
       "615       action comedy martial arts shounen super power       tv  Unknown   \n",
       "991       comedy ecchi kids school shounen slice of life       tv  Unknown   \n",
       "1021                         comedy school slice of life  special  Unknown   \n",
       "...                                                  ...      ...      ...   \n",
       "12265                                             hentai      ova  Unknown   \n",
       "12274                                             hentai      ova  Unknown   \n",
       "12280                                             hentai      ova  Unknown   \n",
       "12282                                             hentai      ova  Unknown   \n",
       "12285                         demons hentai supernatural      ova  Unknown   \n",
       "\n",
       "         rating  \n",
       "74     8.580000  \n",
       "252    8.250000  \n",
       "615    7.940000  \n",
       "991    7.730000  \n",
       "1021   7.720000  \n",
       "...         ...  \n",
       "12265  6.473902  \n",
       "12274  6.473902  \n",
       "12280  6.473902  \n",
       "12282  6.473902  \n",
       "12285  6.473902  \n",
       "\n",
       "[340 rows x 6 columns]"
      ]
     },
     "execution_count": 24,
     "metadata": {},
     "output_type": "execute_result"
    }
   ],
   "source": [
    "# anime_df['episodes'] = anime_df['episodes'].apply(lambda x: float(x))\n",
    "# errorneous value for episodes column\n",
    "anime_df[anime_df['episodes'] == 'Unknown']"
   ]
  },
  {
   "cell_type": "code",
   "execution_count": 25,
   "metadata": {
    "execution": {
     "iopub.execute_input": "2023-05-01T03:41:50.520071Z",
     "iopub.status.busy": "2023-05-01T03:41:50.519767Z",
     "iopub.status.idle": "2023-05-01T03:41:50.535830Z",
     "shell.execute_reply": "2023-05-01T03:41:50.535062Z",
     "shell.execute_reply.started": "2023-05-01T03:41:50.520045Z"
    }
   },
   "outputs": [],
   "source": [
    "# handle errorneous value for episodes column\n",
    "anime_df['episodes'] = anime_df['episodes'].replace('Unknown', str(sys.maxsize))\n",
    "\n",
    "# convert episodes column from string to float\n",
    "anime_df['episodes'] = anime_df['episodes'].apply(lambda x: float(x))"
   ]
  },
  {
   "cell_type": "code",
   "execution_count": 26,
   "metadata": {
    "execution": {
     "iopub.execute_input": "2023-05-01T03:41:50.537244Z",
     "iopub.status.busy": "2023-05-01T03:41:50.536947Z",
     "iopub.status.idle": "2023-05-01T03:41:50.543532Z",
     "shell.execute_reply": "2023-05-01T03:41:50.542833Z",
     "shell.execute_reply.started": "2023-05-01T03:41:50.537218Z"
    }
   },
   "outputs": [],
   "source": [
    "# rename rating column to avoid confusion with user rating column\n",
    "anime_df = anime_df.rename({'rating': 'score'}, axis=1)"
   ]
  },
  {
   "cell_type": "code",
   "execution_count": 27,
   "metadata": {
    "execution": {
     "iopub.execute_input": "2023-05-01T03:41:50.544715Z",
     "iopub.status.busy": "2023-05-01T03:41:50.544463Z",
     "iopub.status.idle": "2023-05-01T03:41:51.370955Z",
     "shell.execute_reply": "2023-05-01T03:41:51.370082Z",
     "shell.execute_reply.started": "2023-05-01T03:41:50.544693Z"
    }
   },
   "outputs": [
    {
     "data": {
      "image/png": "[encoded data removed]",
      "text/plain": [
       "<Figure size 1000x800 with 2 Axes>"
      ]
     },
     "metadata": {},
     "output_type": "display_data"
    }
   ],
   "source": [
    "# filter for movies and sort by score\n",
    "movies_df = anime_df[anime_df[\"type\"] == \"movie\"].sort_values(by=\"score\", ascending=False).head(20)\n",
    "\n",
    "# Filter for TV series and sort by score\n",
    "tv_df = anime_df[anime_df[\"type\"] == \"tv\"].sort_values(by=\"score\", ascending=False).head(20)\n",
    "\n",
    "# Plot the data\n",
    "fig, ax = plt.subplots(2, 1, figsize=(10, 8))\n",
    "ax[0].barh(movies_df[\"name\"], movies_df[\"score\"])\n",
    "ax[0].set_title(\"Top 20 Highest Scoring Movies\")\n",
    "ax[0].set_xlabel(\"Score\")\n",
    "ax[0].set_ylabel(\"Movies\")\n",
    "\n",
    "ax[1].barh(tv_df[\"name\"], tv_df[\"score\"])\n",
    "ax[1].set_title(\"Top 20 Highest Scoring TV Series\")\n",
    "ax[1].set_xlabel(\"Score\")\n",
    "ax[1].set_ylabel(\"TV Series\")\n",
    "\n",
    "plt.tight_layout();\n",
    "\n",
    "del movies_df\n",
    "del tv_df"
   ]
  },
  {
   "cell_type": "code",
   "execution_count": 28,
   "metadata": {
    "execution": {
     "iopub.execute_input": "2023-05-01T03:41:51.378911Z",
     "iopub.status.busy": "2023-05-01T03:41:51.378596Z",
     "iopub.status.idle": "2023-05-01T03:41:52.484849Z",
     "shell.execute_reply": "2023-05-01T03:41:52.484009Z",
     "shell.execute_reply.started": "2023-05-01T03:41:51.378884Z"
    }
   },
   "outputs": [
    {
     "data": {
      "image/png": "[encoded data removed]",
      "text/plain": [
       "<Figure size 1000x600 with 1 Axes>"
      ]
     },
     "metadata": {},
     "output_type": "display_data"
    }
   ],
   "source": [
    "num_ratings = rating_df.groupby(\"user_id\").size().reset_index(name=\"num_ratings\")\n",
    "num_ratings = num_ratings.sort_values(by=\"num_ratings\", ascending=False)[:15]\n",
    "\n",
    "plt.figure(figsize=(10,6))\n",
    "plt.bar(num_ratings[\"user_id\"], num_ratings[\"num_ratings\"])\n",
    "plt.xlabel(\"User ID\")\n",
    "plt.ylabel(\"Number of Ratings\")\n",
    "plt.title('Users with highest ratings')\n",
    "plt.subplots_adjust(bottom=0.3);\n",
    "\n",
    "del num_ratings"
   ]
  },
  {
   "cell_type": "code",
   "execution_count": 29,
   "metadata": {
    "execution": {
     "iopub.execute_input": "2023-05-01T03:41:52.486390Z",
     "iopub.status.busy": "2023-05-01T03:41:52.486045Z",
     "iopub.status.idle": "2023-05-01T03:41:57.341644Z",
     "shell.execute_reply": "2023-05-01T03:41:57.340802Z",
     "shell.execute_reply.started": "2023-05-01T03:41:52.486359Z"
    }
   },
   "outputs": [
    {
     "data": {
      "text/plain": [
       "(7813727, 8)"
      ]
     },
     "execution_count": 29,
     "metadata": {},
     "output_type": "execute_result"
    }
   ],
   "source": [
    "# add columns from metadata to ratings dataframe\n",
    "rating_df = pd.merge(rating_df, anime_df, on='anime_id')\n",
    "\n",
    "rating_df.shape"
   ]
  },
  {
   "cell_type": "code",
   "execution_count": 30,
   "metadata": {
    "execution": {
     "iopub.execute_input": "2023-05-01T03:41:57.343107Z",
     "iopub.status.busy": "2023-05-01T03:41:57.342805Z",
     "iopub.status.idle": "2023-05-01T03:41:57.357503Z",
     "shell.execute_reply": "2023-05-01T03:41:57.356607Z",
     "shell.execute_reply.started": "2023-05-01T03:41:57.343081Z"
    }
   },
   "outputs": [
    {
     "data": {
      "text/html": [
       "<div>\n",
       "<style scoped>\n",
       "    .dataframe tbody tr th:only-of-type {\n",
       "        vertical-align: middle;\n",
       "    }\n",
       "\n",
       "    .dataframe tbody tr th {\n",
       "        vertical-align: top;\n",
       "    }\n",
       "\n",
       "    .dataframe thead th {\n",
       "        text-align: right;\n",
       "    }\n",
       "</style>\n",
       "<table border=\"1\" class=\"dataframe\">\n",
       "  <thead>\n",
       "    <tr style=\"text-align: right;\">\n",
       "      <th></th>\n",
       "      <th>user_id</th>\n",
       "      <th>anime_id</th>\n",
       "      <th>rating</th>\n",
       "      <th>name</th>\n",
       "      <th>genre</th>\n",
       "      <th>type</th>\n",
       "      <th>episodes</th>\n",
       "      <th>score</th>\n",
       "    </tr>\n",
       "  </thead>\n",
       "  <tbody>\n",
       "    <tr>\n",
       "      <th>0</th>\n",
       "      <td>1</td>\n",
       "      <td>20</td>\n",
       "      <td>-1</td>\n",
       "      <td>naruto</td>\n",
       "      <td>action comedy martial arts shounen super power</td>\n",
       "      <td>tv</td>\n",
       "      <td>220.0</td>\n",
       "      <td>7.81</td>\n",
       "    </tr>\n",
       "    <tr>\n",
       "      <th>1</th>\n",
       "      <td>3</td>\n",
       "      <td>20</td>\n",
       "      <td>8</td>\n",
       "      <td>naruto</td>\n",
       "      <td>action comedy martial arts shounen super power</td>\n",
       "      <td>tv</td>\n",
       "      <td>220.0</td>\n",
       "      <td>7.81</td>\n",
       "    </tr>\n",
       "    <tr>\n",
       "      <th>2</th>\n",
       "      <td>5</td>\n",
       "      <td>20</td>\n",
       "      <td>6</td>\n",
       "      <td>naruto</td>\n",
       "      <td>action comedy martial arts shounen super power</td>\n",
       "      <td>tv</td>\n",
       "      <td>220.0</td>\n",
       "      <td>7.81</td>\n",
       "    </tr>\n",
       "    <tr>\n",
       "      <th>3</th>\n",
       "      <td>6</td>\n",
       "      <td>20</td>\n",
       "      <td>-1</td>\n",
       "      <td>naruto</td>\n",
       "      <td>action comedy martial arts shounen super power</td>\n",
       "      <td>tv</td>\n",
       "      <td>220.0</td>\n",
       "      <td>7.81</td>\n",
       "    </tr>\n",
       "    <tr>\n",
       "      <th>4</th>\n",
       "      <td>10</td>\n",
       "      <td>20</td>\n",
       "      <td>-1</td>\n",
       "      <td>naruto</td>\n",
       "      <td>action comedy martial arts shounen super power</td>\n",
       "      <td>tv</td>\n",
       "      <td>220.0</td>\n",
       "      <td>7.81</td>\n",
       "    </tr>\n",
       "  </tbody>\n",
       "</table>\n",
       "</div>"
      ],
      "text/plain": [
       "  user_id anime_id  rating    name   \n",
       "0       1       20      -1  naruto  \\\n",
       "1       3       20       8  naruto   \n",
       "2       5       20       6  naruto   \n",
       "3       6       20      -1  naruto   \n",
       "4      10       20      -1  naruto   \n",
       "\n",
       "                                            genre type  episodes  score  \n",
       "0  action comedy martial arts shounen super power   tv     220.0   7.81  \n",
       "1  action comedy martial arts shounen super power   tv     220.0   7.81  \n",
       "2  action comedy martial arts shounen super power   tv     220.0   7.81  \n",
       "3  action comedy martial arts shounen super power   tv     220.0   7.81  \n",
       "4  action comedy martial arts shounen super power   tv     220.0   7.81  "
      ]
     },
     "execution_count": 30,
     "metadata": {},
     "output_type": "execute_result"
    }
   ],
   "source": [
    "# first 5 data points\n",
    "rating_df.head()"
   ]
  },
  {
   "cell_type": "code",
   "execution_count": 31,
   "metadata": {
    "execution": {
     "iopub.execute_input": "2023-05-01T03:41:57.359306Z",
     "iopub.status.busy": "2023-05-01T03:41:57.358719Z",
     "iopub.status.idle": "2023-05-01T03:42:01.038120Z",
     "shell.execute_reply": "2023-05-01T03:42:01.037014Z",
     "shell.execute_reply.started": "2023-05-01T03:41:57.359277Z"
    }
   },
   "outputs": [],
   "source": [
    "# create vocabulary of all features\n",
    "# vocabulary of user ids\n",
    "vocab_user_ids = rating_df['user_id'].unique().astype(str)\n",
    "\n",
    "# vocabulary of anime titles\n",
    "vocab_anime_titles = rating_df['name'].unique().astype(str)\n",
    "\n",
    "# vocabulary of genres\n",
    "vocab_genres = rating_df['genre'].unique().astype(str)\n",
    "\n",
    "# vocabulary of type\n",
    "vocab_types = rating_df['type'].unique().astype(str)\n",
    "\n",
    "# vocabulary of episodes\n",
    "vocab_episodes = rating_df['episodes'].unique().astype(float)\n",
    "\n",
    "# vocabulary of score\n",
    "vocab_scores = rating_df['score'].unique().astype(float)"
   ]
  },
  {
   "cell_type": "code",
   "execution_count": 32,
   "metadata": {
    "execution": {
     "iopub.execute_input": "2023-05-01T03:42:01.039815Z",
     "iopub.status.busy": "2023-05-01T03:42:01.039512Z",
     "iopub.status.idle": "2023-05-01T03:42:04.921689Z",
     "shell.execute_reply": "2023-05-01T03:42:04.920533Z",
     "shell.execute_reply.started": "2023-05-01T03:42:01.039788Z"
    }
   },
   "outputs": [
    {
     "name": "stdout",
     "output_type": "stream",
     "text": [
      "b'kimi no na wa '\n"
     ]
    }
   ],
   "source": [
    "# create vocabulary of animes\n",
    "# convert anime metadata from dataframe to tensorflow Dataset\n",
    "animes = tf.data.Dataset.from_tensor_slices(dict(anime_df[['name', 'genre', 'type', 'episodes', 'score']].rename({'name': 'anime_title'}, axis=1)))\n",
    "\n",
    "# keep only anime title column\n",
    "animes = animes.map(lambda x: x['anime_title'])\n",
    "\n",
    "for x in animes.take(1).as_numpy_iterator():\n",
    "    pprint.pprint(x)"
   ]
  },
  {
   "cell_type": "markdown",
   "metadata": {},
   "source": [
    "## Retrieval Model"
   ]
  },
  {
   "cell_type": "markdown",
   "metadata": {},
   "source": [
    "### Prepare Data\n"
   ]
  },
  {
   "cell_type": "code",
   "execution_count": 33,
   "metadata": {
    "execution": {
     "iopub.execute_input": "2023-05-01T03:42:04.923593Z",
     "iopub.status.busy": "2023-05-01T03:42:04.923203Z",
     "iopub.status.idle": "2023-05-01T03:42:09.622615Z",
     "shell.execute_reply": "2023-05-01T03:42:09.621470Z",
     "shell.execute_reply.started": "2023-05-01T03:42:04.923559Z"
    }
   },
   "outputs": [
    {
     "name": "stdout",
     "output_type": "stream",
     "text": [
      "{'anime_title': b'naruto', 'user_id': b'1'}\n"
     ]
    }
   ],
   "source": [
    "# convert rating data from dataframe to tensorflow Dataset\n",
    "ratings = tf.data.Dataset.from_tensor_slices(dict(rating_df))\n",
    "\n",
    "# keep only user_id and anime_name column\n",
    "ratings = ratings.map(lambda x: {\n",
    "    'user_id': x['user_id'],\n",
    "    'anime_title': x['name'],\n",
    "})\n",
    "\n",
    "for x in ratings.take(1).as_numpy_iterator():\n",
    "    pprint.pprint(x)"
   ]
  },
  {
   "cell_type": "code",
   "execution_count": 34,
   "metadata": {
    "execution": {
     "iopub.execute_input": "2023-05-01T03:42:09.624450Z",
     "iopub.status.busy": "2023-05-01T03:42:09.624045Z",
     "iopub.status.idle": "2023-05-01T03:42:09.646347Z",
     "shell.execute_reply": "2023-05-01T03:42:09.645419Z",
     "shell.execute_reply.started": "2023-05-01T03:42:09.624416Z"
    }
   },
   "outputs": [],
   "source": [
    "# shuffle and split data: train, valid, test\n",
    "# set seed\n",
    "tf.random.set_seed(42)\n",
    "\n",
    "# total data points\n",
    "N = rating_df.shape[0]\n",
    "\n",
    "# total train data points\n",
    "N_train = int(0.6 * N)\n",
    "\n",
    "# total valid data points\n",
    "N_valid = int(0.2 * N)\n",
    "\n",
    "# total test data points\n",
    "N_test = N - (N_train + N_valid)\n",
    "\n",
    "# shuffle data\n",
    "shuffled = ratings.shuffle(N, seed=42, reshuffle_each_iteration=False)\n",
    "\n",
    "# split data\n",
    "train = shuffled.take(N_train)\n",
    "valid = shuffled.skip(N_train).take(N_valid)\n",
    "test = shuffled.skip((N_train + N_valid)).take(N_test)"
   ]
  },
  {
   "cell_type": "markdown",
   "metadata": {},
   "source": [
    "### Model Architecture"
   ]
  },
  {
   "cell_type": "code",
   "execution_count": 35,
   "metadata": {
    "execution": {
     "iopub.execute_input": "2023-05-01T03:42:09.648041Z",
     "iopub.status.busy": "2023-05-01T03:42:09.647518Z",
     "iopub.status.idle": "2023-05-01T03:42:09.659291Z",
     "shell.execute_reply": "2023-05-01T03:42:09.658305Z",
     "shell.execute_reply.started": "2023-05-01T03:42:09.648011Z"
    }
   },
   "outputs": [],
   "source": [
    "class AnimeRetrievalModel(tfrs.Model):\n",
    "    \n",
    "    def __init__(self):\n",
    "        super().__init__()\n",
    "        \n",
    "        # dimension of all the embeddings\n",
    "        embedding_dimension = 32\n",
    "        \n",
    "        # user embedding model\n",
    "        # computes user embeddings\n",
    "        self.user_embedding_model = tf.keras.Sequential([\n",
    "            tf.keras.layers.StringLookup(vocabulary=vocab_user_ids, mask_token=None),\n",
    "            tf.keras.layers.Embedding(len(vocab_user_ids) + 1, embedding_dimension)\n",
    "        ])\n",
    "        \n",
    "        # anime embedding model\n",
    "        # computes anime embeddings\n",
    "        self.anime_embedding_model = tf.keras.Sequential([\n",
    "            tf.keras.layers.StringLookup(vocabulary=vocab_anime_titles, mask_token=None),\n",
    "            tf.keras.layers.Embedding(len(vocab_anime_titles) + 1, embedding_dimension)\n",
    "        ])\n",
    "        \n",
    "        # retrieval task\n",
    "        self.task = tfrs.tasks.Retrieval(\n",
    "            metrics = tfrs.metrics.FactorizedTopK(\n",
    "                candidates=animes.batch(1024).map(self.anime_embedding_model)\n",
    "            )\n",
    "        )\n",
    "        \n",
    "    def compute_loss(self, features, training=False):\n",
    "        # compute user embeddings\n",
    "        user_embeddings = self.user_embedding_model(features['user_id'])\n",
    "        \n",
    "        # compute anime embeddings\n",
    "        anime_embeddings = self.anime_embedding_model(features['anime_title'])\n",
    "        \n",
    "        # computes the loss and the metrics\n",
    "        # compute_metrics=not training:\n",
    "        # - turns metric calculation off while training\n",
    "        # - speeds up training\n",
    "        return self.task(user_embeddings, anime_embeddings, compute_metrics=not training)"
   ]
  },
  {
   "cell_type": "code",
   "execution_count": 36,
   "metadata": {
    "execution": {
     "iopub.execute_input": "2023-05-01T03:42:09.660960Z",
     "iopub.status.busy": "2023-05-01T03:42:09.660432Z",
     "iopub.status.idle": "2023-05-01T03:42:09.855886Z",
     "shell.execute_reply": "2023-05-01T03:42:09.854734Z",
     "shell.execute_reply.started": "2023-05-01T03:42:09.660932Z"
    }
   },
   "outputs": [],
   "source": [
    "# initialize model\n",
    "model = AnimeRetrievalModel()\n",
    "\n",
    "# compile model\n",
    "model.compile(optimizer=tf.keras.optimizers.Adam(learning_rate=0.1))"
   ]
  },
  {
   "cell_type": "code",
   "execution_count": 37,
   "metadata": {
    "execution": {
     "iopub.execute_input": "2023-05-01T03:42:09.857380Z",
     "iopub.status.busy": "2023-05-01T03:42:09.857075Z",
     "iopub.status.idle": "2023-05-01T03:42:09.870353Z",
     "shell.execute_reply": "2023-05-01T03:42:09.869414Z",
     "shell.execute_reply.started": "2023-05-01T03:42:09.857354Z"
    }
   },
   "outputs": [],
   "source": [
    "# cache data for training\n",
    "cached_train = train.shuffle(N_train).batch(8192).cache()\n",
    "cached_valid = valid.batch(4096).cache()"
   ]
  },
  {
   "cell_type": "markdown",
   "metadata": {},
   "source": [
    "### Train & Evaluate Model"
   ]
  },
  {
   "cell_type": "code",
   "execution_count": 38,
   "metadata": {
    "execution": {
     "iopub.execute_input": "2023-05-01T03:42:09.871714Z",
     "iopub.status.busy": "2023-05-01T03:42:09.871434Z",
     "iopub.status.idle": "2023-05-01T03:45:44.178600Z",
     "shell.execute_reply": "2023-05-01T03:45:44.177249Z",
     "shell.execute_reply.started": "2023-05-01T03:42:09.871689Z"
    }
   },
   "outputs": [
    {
     "name": "stdout",
     "output_type": "stream",
     "text": [
      "573/573 [==============================] - 213s 188ms/step - factorized_top_k/top_1_categorical_accuracy: 0.0000e+00 - factorized_top_k/top_5_categorical_accuracy: 0.0000e+00 - factorized_top_k/top_10_categorical_accuracy: 0.0000e+00 - factorized_top_k/top_50_categorical_accuracy: 0.0000e+00 - factorized_top_k/top_100_categorical_accuracy: 0.0000e+00 - loss: 74701.4941 - regularization_loss: 0.0000e+00 - total_loss: 74701.4941\n"
     ]
    }
   ],
   "source": [
    "# train model\n",
    "history = model.fit(cached_train, epochs=1)"
   ]
  },
  {
   "cell_type": "code",
   "execution_count": 39,
   "metadata": {
    "execution": {
     "iopub.execute_input": "2023-05-01T03:45:44.180390Z",
     "iopub.status.busy": "2023-05-01T03:45:44.180051Z",
     "iopub.status.idle": "2023-05-01T03:49:47.909790Z",
     "shell.execute_reply": "2023-05-01T03:49:47.908591Z",
     "shell.execute_reply.started": "2023-05-01T03:45:44.180360Z"
    }
   },
   "outputs": [
    {
     "name": "stdout",
     "output_type": "stream",
     "text": [
      "382/382 [==============================] - 244s 369ms/step - factorized_top_k/top_1_categorical_accuracy: 0.0000e+00 - factorized_top_k/top_5_categorical_accuracy: 1.5358e-05 - factorized_top_k/top_10_categorical_accuracy: 2.7644e-04 - factorized_top_k/top_50_categorical_accuracy: 0.0190 - factorized_top_k/top_100_categorical_accuracy: 0.0550 - loss: 34509.3952 - regularization_loss: 0.0000e+00 - total_loss: 34509.3952\n"
     ]
    },
    {
     "data": {
      "text/plain": [
       "{'factorized_top_k/top_1_categorical_accuracy': 0.0,\n",
       " 'factorized_top_k/top_5_categorical_accuracy': 1.53575911099324e-05,\n",
       " 'factorized_top_k/top_10_categorical_accuracy': 0.0002764366508927196,\n",
       " 'factorized_top_k/top_50_categorical_accuracy': 0.01896662637591362,\n",
       " 'factorized_top_k/top_100_categorical_accuracy': 0.05496034398674965,\n",
       " 'loss': 16727.46484375,\n",
       " 'regularization_loss': 0,\n",
       " 'total_loss': 16727.46484375}"
      ]
     },
     "execution_count": 39,
     "metadata": {},
     "output_type": "execute_result"
    }
   ],
   "source": [
    "# evaluate model\n",
    "model.evaluate(cached_valid, return_dict=True)"
   ]
  },
  {
   "cell_type": "markdown",
   "metadata": {},
   "source": [
    "### Making Predictions"
   ]
  },
  {
   "cell_type": "code",
   "execution_count": 40,
   "metadata": {
    "execution": {
     "iopub.execute_input": "2023-05-01T03:49:47.912119Z",
     "iopub.status.busy": "2023-05-01T03:49:47.911236Z",
     "iopub.status.idle": "2023-05-01T03:49:49.583914Z",
     "shell.execute_reply": "2023-05-01T03:49:49.582839Z",
     "shell.execute_reply.started": "2023-05-01T03:49:47.912086Z"
    }
   },
   "outputs": [
    {
     "name": "stdout",
     "output_type": "stream",
     "text": [
      "Recommendations for user 42: [b'hungry to win' b'nulu chan to boku' b'fruity samurai']\n"
     ]
    }
   ],
   "source": [
    "# use fatorized_top_k.BruteForce layer to make predictions\n",
    "# facilitates input raw query features,\n",
    "# embedding it and recommending movies out of the entire dataset\n",
    "\n",
    "# create the single layer model\n",
    "index = tfrs.layers.factorized_top_k.BruteForce(model.user_embedding_model)\n",
    "\n",
    "# generate recommendations\n",
    "index.index_from_dataset(\n",
    "  tf.data.Dataset.zip((animes.batch(100), animes.batch(100).map(model.anime_embedding_model)))\n",
    ")\n",
    "\n",
    "# get recommendation for specific user\n",
    "# user_id: 42\n",
    "_, titles = index(tf.constant([\"42\"]))\n",
    "print(f\"Recommendations for user 42: {titles[0, :3]}\")"
   ]
  },
  {
   "cell_type": "markdown",
   "metadata": {},
   "source": [
    "## Ranking Model"
   ]
  },
  {
   "cell_type": "markdown",
   "metadata": {},
   "source": [
    "### Prepare Data"
   ]
  },
  {
   "cell_type": "code",
   "execution_count": 41,
   "metadata": {
    "execution": {
     "iopub.execute_input": "2023-05-01T03:49:49.585584Z",
     "iopub.status.busy": "2023-05-01T03:49:49.585232Z",
     "iopub.status.idle": "2023-05-01T03:49:54.665932Z",
     "shell.execute_reply": "2023-05-01T03:49:54.664526Z",
     "shell.execute_reply.started": "2023-05-01T03:49:49.585554Z"
    }
   },
   "outputs": [
    {
     "name": "stdout",
     "output_type": "stream",
     "text": [
      "{'anime_title': b'naruto', 'user_id': b'1', 'user_rating': -1}\n",
      "{'anime_title': b'naruto', 'user_id': b'3', 'user_rating': 8}\n",
      "{'anime_title': b'naruto', 'user_id': b'5', 'user_rating': 6}\n",
      "{'anime_title': b'naruto', 'user_id': b'6', 'user_rating': -1}\n",
      "{'anime_title': b'naruto', 'user_id': b'10', 'user_rating': -1}\n"
     ]
    }
   ],
   "source": [
    "# convert rating data from dataframe to tensorflow Dataset\n",
    "ratings = tf.data.Dataset.from_tensor_slices(dict(rating_df))\n",
    "\n",
    "# keep only user_id, anime_name and rating columns\n",
    "ratings = ratings.map(lambda x: {\n",
    "    'anime_title': x['name'],\n",
    "    'user_id': x['user_id'],\n",
    "    'user_rating': x['rating']\n",
    "})\n",
    "\n",
    "for x in ratings.take(5).as_numpy_iterator():\n",
    "    pprint.pprint(x)"
   ]
  },
  {
   "cell_type": "code",
   "execution_count": 42,
   "metadata": {
    "execution": {
     "iopub.execute_input": "2023-05-01T03:49:54.667946Z",
     "iopub.status.busy": "2023-05-01T03:49:54.667507Z",
     "iopub.status.idle": "2023-05-01T03:49:54.680563Z",
     "shell.execute_reply": "2023-05-01T03:49:54.679395Z",
     "shell.execute_reply.started": "2023-05-01T03:49:54.667916Z"
    }
   },
   "outputs": [],
   "source": [
    "# shuffle and split data: train, valid, test\n",
    "# total data points\n",
    "N = rating_df.shape[0]\n",
    "\n",
    "# total train data points\n",
    "N_train = int(0.6 * N)\n",
    "\n",
    "# total valid data points\n",
    "N_valid = int(0.2 * N)\n",
    "\n",
    "# total test data points\n",
    "N_test = N - (N_train + N_valid)\n",
    "\n",
    "# shuffle data\n",
    "shuffled = ratings.shuffle(N, seed=42, reshuffle_each_iteration=False)\n",
    "\n",
    "# # split data\n",
    "train = shuffled.take(N_train)\n",
    "valid = shuffled.skip(N_train).take(N_valid)\n",
    "test = shuffled.skip((N_train + N_valid)).take(N_test)"
   ]
  },
  {
   "cell_type": "markdown",
   "metadata": {},
   "source": [
    "### Model Architecture: Base Ranking Model"
   ]
  },
  {
   "cell_type": "code",
   "execution_count": 43,
   "metadata": {
    "execution": {
     "iopub.execute_input": "2023-05-01T03:49:54.682114Z",
     "iopub.status.busy": "2023-05-01T03:49:54.681818Z",
     "iopub.status.idle": "2023-05-01T03:49:54.694335Z",
     "shell.execute_reply": "2023-05-01T03:49:54.693235Z",
     "shell.execute_reply.started": "2023-05-01T03:49:54.682088Z"
    }
   },
   "outputs": [],
   "source": [
    "class BaseRankingModel(tf.keras.Model):\n",
    "    \n",
    "    def __init__(self):\n",
    "        super().__init__()\n",
    "        \n",
    "        # dimension of all the embeddings\n",
    "        embedding_dimension = 32\n",
    "        \n",
    "        # user embedding model\n",
    "        # computes user embeddings\n",
    "        self.user_embedding_model = tf.keras.Sequential([\n",
    "            tf.keras.layers.StringLookup(vocabulary=vocab_user_ids, mask_token=None),\n",
    "            tf.keras.layers.Embedding(len(vocab_user_ids) + 1, embedding_dimension)\n",
    "        ])\n",
    "        \n",
    "        # anime embedding model\n",
    "        # computes anime embeddings\n",
    "        self.anime_embedding_model = tf.keras.Sequential([\n",
    "            tf.keras.layers.StringLookup(vocabulary=vocab_anime_titles, mask_token=None),\n",
    "            tf.keras.layers.Embedding(len(vocab_anime_titles) + 1, embedding_dimension)\n",
    "        ])\n",
    "        \n",
    "        # rating model\n",
    "        # computes ratings\n",
    "        self.rating_model = tf.keras.Sequential([\n",
    "            tf.keras.layers.Dense(128, activation=\"relu\"),\n",
    "            tf.keras.layers.Dense(64, activation=\"relu\"),\n",
    "            tf.keras.layers.Dense(1)\n",
    "        ])\n",
    "        \n",
    "    def call(self, features):\n",
    "        # compute user embeddings\n",
    "        user_embeddings = self.user_embedding_model(features['user_id'])\n",
    "        \n",
    "        # compute anime embeddings\n",
    "        anime_embeddings = self.anime_embedding_model(features['anime_title'])\n",
    "        \n",
    "        # compute and return the ratings\n",
    "        return self.rating_model(tf.concat([\n",
    "            user_embeddings, \n",
    "            anime_embeddings\n",
    "        ], axis=1))"
   ]
  },
  {
   "cell_type": "markdown",
   "metadata": {},
   "source": [
    "### Model Architecture: Anime Ranking Model"
   ]
  },
  {
   "cell_type": "code",
   "execution_count": 44,
   "metadata": {
    "execution": {
     "iopub.execute_input": "2023-05-01T03:49:54.695745Z",
     "iopub.status.busy": "2023-05-01T03:49:54.695490Z",
     "iopub.status.idle": "2023-05-01T03:49:54.708834Z",
     "shell.execute_reply": "2023-05-01T03:49:54.707752Z",
     "shell.execute_reply.started": "2023-05-01T03:49:54.695722Z"
    }
   },
   "outputs": [],
   "source": [
    "class AnimeRankingModel(tfrs.models.Model):\n",
    "    \n",
    "    def __init__(self):\n",
    "        super().__init__()\n",
    "        \n",
    "        # the base ranking model\n",
    "        self.base_ranking_model = BaseRankingModel()\n",
    "        \n",
    "        # ranking task\n",
    "        self.task = tfrs.tasks.Ranking(\n",
    "            loss = tf.keras.losses.MeanSquaredError(),\n",
    "            metrics=[tf.keras.metrics.RootMeanSquaredError()]\n",
    "        )\n",
    "    \n",
    "    def call(self, features):\n",
    "        # computes and returns the ratings\n",
    "        # using the base ranking model\n",
    "        return self.base_ranking_model({\n",
    "            'user_id': features['user_id'],\n",
    "            'anime_title': features['anime_title']\n",
    "        })\n",
    "    \n",
    "    def compute_loss(self, features, training=False):\n",
    "        # get the true ratings\n",
    "        ratings_true = features.pop('user_rating')\n",
    "        \n",
    "        # get the predicted ratings\n",
    "        ratings_predicted = self(features)\n",
    "        \n",
    "        # compute and return the loss and metrics\n",
    "        return self.task(\n",
    "            labels=ratings_true,\n",
    "            predictions=ratings_predicted\n",
    "        )"
   ]
  },
  {
   "cell_type": "code",
   "execution_count": 45,
   "metadata": {
    "execution": {
     "iopub.execute_input": "2023-05-01T03:49:54.710630Z",
     "iopub.status.busy": "2023-05-01T03:49:54.710040Z",
     "iopub.status.idle": "2023-05-01T03:49:54.835127Z",
     "shell.execute_reply": "2023-05-01T03:49:54.833990Z",
     "shell.execute_reply.started": "2023-05-01T03:49:54.710600Z"
    }
   },
   "outputs": [],
   "source": [
    "# initialize model\n",
    "model = AnimeRankingModel()\n",
    "\n",
    "# compile model\n",
    "model.compile(optimizer=tf.keras.optimizers.Adam(learning_rate=0.01))"
   ]
  },
  {
   "cell_type": "code",
   "execution_count": 46,
   "metadata": {
    "execution": {
     "iopub.execute_input": "2023-05-01T03:49:54.836681Z",
     "iopub.status.busy": "2023-05-01T03:49:54.836393Z",
     "iopub.status.idle": "2023-05-01T03:49:55.400519Z",
     "shell.execute_reply": "2023-05-01T03:49:55.399097Z",
     "shell.execute_reply.started": "2023-05-01T03:49:54.836656Z"
    }
   },
   "outputs": [],
   "source": [
    "# cache data for training\n",
    "cached_train = train.shuffle(N_train).batch(8192).cache()\n",
    "cached_valid = valid.batch(4096).cache()"
   ]
  },
  {
   "cell_type": "markdown",
   "metadata": {},
   "source": [
    "### Train & Evaluate Model"
   ]
  },
  {
   "cell_type": "code",
   "execution_count": 47,
   "metadata": {
    "execution": {
     "iopub.execute_input": "2023-05-01T03:49:55.495853Z",
     "iopub.status.busy": "2023-05-01T03:49:55.495440Z",
     "iopub.status.idle": "2023-05-01T03:52:08.866305Z",
     "shell.execute_reply": "2023-05-01T03:52:08.864852Z",
     "shell.execute_reply.started": "2023-05-01T03:49:55.495826Z"
    }
   },
   "outputs": [
    {
     "name": "stdout",
     "output_type": "stream",
     "text": [
      "573/573 [==============================] - 133s 34ms/step - root_mean_squared_error: 2.3986 - loss: 5.7496 - regularization_loss: 0.0000e+00 - total_loss: 5.7496\n"
     ]
    }
   ],
   "source": [
    "# train the model\n",
    "history = model.fit(cached_train, epochs=1)"
   ]
  },
  {
   "cell_type": "code",
   "execution_count": 48,
   "metadata": {
    "execution": {
     "iopub.execute_input": "2023-05-01T03:52:08.868508Z",
     "iopub.status.busy": "2023-05-01T03:52:08.868020Z",
     "iopub.status.idle": "2023-05-01T03:54:02.229406Z",
     "shell.execute_reply": "2023-05-01T03:54:02.228251Z",
     "shell.execute_reply.started": "2023-05-01T03:52:08.868474Z"
    }
   },
   "outputs": [
    {
     "name": "stdout",
     "output_type": "stream",
     "text": [
      "382/382 [==============================] - 113s 22ms/step - root_mean_squared_error: 2.1737 - loss: 4.7250 - regularization_loss: 0.0000e+00 - total_loss: 4.7250\n"
     ]
    },
    {
     "data": {
      "text/plain": [
       "{'root_mean_squared_error': 2.1736867427825928,\n",
       " 'loss': 4.750378131866455,\n",
       " 'regularization_loss': 0,\n",
       " 'total_loss': 4.750378131866455}"
      ]
     },
     "execution_count": 48,
     "metadata": {},
     "output_type": "execute_result"
    }
   ],
   "source": [
    "# evaluate the model\n",
    "model.evaluate(cached_valid, return_dict=True)"
   ]
  },
  {
   "cell_type": "markdown",
   "metadata": {},
   "source": [
    "### Making Predictions"
   ]
  },
  {
   "cell_type": "code",
   "execution_count": 49,
   "metadata": {
    "execution": {
     "iopub.execute_input": "2023-05-01T03:54:02.231099Z",
     "iopub.status.busy": "2023-05-01T03:54:02.230698Z",
     "iopub.status.idle": "2023-05-01T03:54:02.273154Z",
     "shell.execute_reply": "2023-05-01T03:54:02.272096Z",
     "shell.execute_reply.started": "2023-05-01T03:54:02.231069Z"
    }
   },
   "outputs": [
    {
     "name": "stdout",
     "output_type": "stream",
     "text": [
      "Ratings:\n",
      "Naruto: [[-0.90611917]]\n",
      "Steins;Gate: [[-0.90611917]]\n",
      "Higashi no Eden: [[-0.90611917]]\n"
     ]
    }
   ],
   "source": [
    "test_ratings = {}\n",
    "test_anime_titles = ['Naruto', 'Steins;Gate', 'Higashi no Eden']\n",
    "for anime_title in test_anime_titles:\n",
    "    test_ratings[anime_title] = model({\n",
    "        \"user_id\": np.array([\"1\"]),\n",
    "        \"anime_title\": np.array([anime_title])\n",
    "    })\n",
    "\n",
    "print(\"Ratings:\")\n",
    "for title, score in sorted(test_ratings.items(), key=lambda x: x[1], reverse=True):\n",
    "  print(f\"{title}: {score}\")"
   ]
  },
  {
   "cell_type": "markdown",
   "metadata": {},
   "source": [
    "## Ranking Model: Using Metadata"
   ]
  },
  {
   "cell_type": "markdown",
   "metadata": {},
   "source": [
    "### Prepare Data"
   ]
  },
  {
   "cell_type": "code",
   "execution_count": 74,
   "metadata": {
    "execution": {
     "iopub.execute_input": "2023-05-01T04:32:16.545049Z",
     "iopub.status.busy": "2023-05-01T04:32:16.544611Z",
     "iopub.status.idle": "2023-05-01T04:32:20.789427Z",
     "shell.execute_reply": "2023-05-01T04:32:20.788019Z",
     "shell.execute_reply.started": "2023-05-01T04:32:16.545016Z"
    }
   },
   "outputs": [
    {
     "name": "stdout",
     "output_type": "stream",
     "text": [
      "{'anime_title': b'naruto',\n",
      " 'episodes': 220.0,\n",
      " 'genre': b'action comedy martial arts shounen super power',\n",
      " 'score': 7.81,\n",
      " 'type': b'tv',\n",
      " 'user_id': b'1',\n",
      " 'user_rating': -1}\n"
     ]
    }
   ],
   "source": [
    "# convert rating data from dataframe to tensorflow Dataset\n",
    "ratings = tf.data.Dataset.from_tensor_slices(dict(rating_df))\n",
    "\n",
    "# keep all columns\n",
    "ratings = ratings.map(lambda x: {\n",
    "    'user_id': x['user_id'],\n",
    "    'anime_title': x['name'],\n",
    "    'genre': x['genre'],\n",
    "    'type': x['type'],\n",
    "    'episodes': x['episodes'],\n",
    "    'score': x['score'],\n",
    "    'user_rating': x['rating']\n",
    "})\n",
    "\n",
    "for x in ratings.take(1).as_numpy_iterator():\n",
    "    pprint.pprint(x)"
   ]
  },
  {
   "cell_type": "code",
   "execution_count": 75,
   "metadata": {
    "execution": {
     "iopub.execute_input": "2023-05-01T04:32:20.791889Z",
     "iopub.status.busy": "2023-05-01T04:32:20.791543Z",
     "iopub.status.idle": "2023-05-01T04:32:20.821733Z",
     "shell.execute_reply": "2023-05-01T04:32:20.820472Z",
     "shell.execute_reply.started": "2023-05-01T04:32:20.791858Z"
    }
   },
   "outputs": [],
   "source": [
    "# shuffle and split data: train, valid, test\n",
    "# set seed\n",
    "tf.random.set_seed(42)\n",
    "\n",
    "# total data points\n",
    "N = rating_df.shape[0]\n",
    "\n",
    "# total train data points\n",
    "N_train = int(0.6 * N)\n",
    "\n",
    "# total valid data points\n",
    "N_valid = int(0.2 * N)\n",
    "\n",
    "# total test data points\n",
    "N_test = N - (N_train + N_valid)\n",
    "\n",
    "# shuffle data\n",
    "shuffled = ratings.shuffle(N, seed=42, reshuffle_each_iteration=False)\n",
    "\n",
    "# # split data\n",
    "train = shuffled.take(N_train)\n",
    "valid = shuffled.skip(N_train).take(N_valid)\n",
    "test = shuffled.skip((N_train + N_valid)).take(N_test)"
   ]
  },
  {
   "cell_type": "markdown",
   "metadata": {},
   "source": [
    "### Model Architecture: Base Ranking Model"
   ]
  },
  {
   "cell_type": "code",
   "execution_count": 76,
   "metadata": {
    "execution": {
     "iopub.execute_input": "2023-05-01T04:32:20.823491Z",
     "iopub.status.busy": "2023-05-01T04:32:20.823190Z",
     "iopub.status.idle": "2023-05-01T04:32:20.841208Z",
     "shell.execute_reply": "2023-05-01T04:32:20.840187Z",
     "shell.execute_reply.started": "2023-05-01T04:32:20.823466Z"
    }
   },
   "outputs": [],
   "source": [
    "class BaseRankingModel(tf.keras.Model):\n",
    "    \n",
    "    def __init__(self):\n",
    "        super().__init__()\n",
    "        \n",
    "        # dimension of all the embeddings\n",
    "        embedding_dimension = 32\n",
    "        \n",
    "        # user embedding model\n",
    "        # computes user embeddings based on user ids\n",
    "        self.user_embedding_model = tf.keras.Sequential([\n",
    "            tf.keras.layers.StringLookup(vocabulary=vocab_user_ids, mask_token=None),\n",
    "            tf.keras.layers.Embedding(len(vocab_user_ids) + 1, embedding_dimension)\n",
    "        ])\n",
    "        \n",
    "        # anime embedding model\n",
    "        # computes anime embeddings based on anime titles\n",
    "        self.anime_embedding_model = tf.keras.Sequential([\n",
    "            tf.keras.layers.StringLookup(vocabulary=vocab_anime_titles, mask_token=None),\n",
    "            tf.keras.layers.Embedding(len(vocab_anime_titles) + 1, embedding_dimension)\n",
    "        ])\n",
    "        \n",
    "        # metadata embedding models\n",
    "        # genre embedding model\n",
    "        self.genre_embedding_model = tf.keras.Sequential([\n",
    "            tf.keras.layers.StringLookup(vocabulary=vocab_genres, mask_token=None),\n",
    "            tf.keras.layers.Embedding(len(vocab_genres) + 1, embedding_dimension)\n",
    "        ])\n",
    "        \n",
    "        # type embedding model\n",
    "        self.type_embedding_model = tf.keras.Sequential([\n",
    "          tf.keras.layers.StringLookup(vocabulary=vocab_types, mask_token=None),\n",
    "          tf.keras.layers.Embedding(len(vocab_types) + 1, embedding_dimension)\n",
    "        ])\n",
    "        \n",
    "        # episodes embedding model\n",
    "        self.episodes_embedding_model = tf.keras.Sequential([\n",
    "            tf.keras.layers.IntegerLookup(vocabulary=vocab_episodes, mask_token=None),\n",
    "            tf.keras.layers.Embedding(len(vocab_episodes) + 1, embedding_dimension)\n",
    "        ])\n",
    "        \n",
    "        # score embedding model\n",
    "        self.score_embedding_model = tf.keras.Sequential([\n",
    "            tf.keras.layers.Embedding(len(vocab_scores) + 1, embedding_dimension)\n",
    "        ])\n",
    "        \n",
    "        # rating model\n",
    "        # computes ratings\n",
    "        self.rating_model = tf.keras.Sequential([\n",
    "            tf.keras.layers.Dense(128, activation=\"relu\"),\n",
    "            tf.keras.layers.Dense(64, activation=\"relu\"),\n",
    "            tf.keras.layers.Dense(1)\n",
    "        ])\n",
    "        \n",
    "    def call(self, features):\n",
    "        # compute user embeddings\n",
    "        user_embeddings = self.user_embedding_model(features['user_id'])\n",
    "        \n",
    "        # compute anime embeddings\n",
    "        anime_embeddings = self.anime_embedding_model(features['anime_title'])\n",
    "        \n",
    "        # compute genre embeddings\n",
    "        genre_embeddings = self.genre_embedding_model(features['genre'])\n",
    "        \n",
    "        # compute type embeddings\n",
    "        type_embeddings = self.type_embedding_model(features['type'])\n",
    "        \n",
    "        # compute episodes embeddings\n",
    "        episodes_embeddings = self.episodes_embedding_model(features['episodes'])\n",
    "        \n",
    "        # compute score embeddings\n",
    "        score_embeddings = self.score_embedding_model(features['score'])\n",
    "        \n",
    "        # compute and return the ratings\n",
    "        return self.rating_model(tf.concat([\n",
    "            user_embeddings,\n",
    "            anime_embeddings,\n",
    "            genre_embeddings,\n",
    "            type_embeddings,\n",
    "            episodes_embeddings,\n",
    "            score_embeddings\n",
    "        ], axis=1))"
   ]
  },
  {
   "cell_type": "markdown",
   "metadata": {},
   "source": [
    "### Model Architecture: Anime Ranking Model"
   ]
  },
  {
   "cell_type": "code",
   "execution_count": 77,
   "metadata": {
    "execution": {
     "iopub.execute_input": "2023-05-01T04:32:23.008854Z",
     "iopub.status.busy": "2023-05-01T04:32:23.008454Z",
     "iopub.status.idle": "2023-05-01T04:32:23.019238Z",
     "shell.execute_reply": "2023-05-01T04:32:23.018221Z",
     "shell.execute_reply.started": "2023-05-01T04:32:23.008825Z"
    }
   },
   "outputs": [],
   "source": [
    "class AnimeRankingModel(tfrs.models.Model):\n",
    "    \n",
    "    def __init__(self):\n",
    "        super().__init__()\n",
    "        \n",
    "        # the base ranking model\n",
    "        self.base_ranking_model = BaseRankingModel()\n",
    "        \n",
    "        # ranking task\n",
    "        self.task = tfrs.tasks.Ranking(\n",
    "            loss = tf.keras.losses.MeanSquaredError(),\n",
    "            metrics=[tf.keras.metrics.RootMeanSquaredError()]\n",
    "        )\n",
    "    \n",
    "    def call(self, features):\n",
    "        # computes and returns the ratings\n",
    "        # using the base ranking model\n",
    "        return self.base_ranking_model({\n",
    "            'user_id': features['user_id'],\n",
    "            'anime_title': features['anime_title'],\n",
    "            'genre': features['genre'],\n",
    "            'type': features['type'],\n",
    "            'episodes': features['episodes'],\n",
    "            'score': features['score']\n",
    "        })\n",
    "    \n",
    "    def compute_loss(self, features, training=False):\n",
    "        # get the true ratings\n",
    "        ratings_true = features.pop('user_rating')\n",
    "        \n",
    "        # get the predicted ratings\n",
    "        ratings_predicted = self(features)\n",
    "        \n",
    "        # compute and return the loss and metrics\n",
    "        return self.task(\n",
    "            labels=ratings_true,\n",
    "            predictions=ratings_predicted\n",
    "        )"
   ]
  },
  {
   "cell_type": "code",
   "execution_count": 78,
   "metadata": {
    "execution": {
     "iopub.execute_input": "2023-05-01T04:32:26.972674Z",
     "iopub.status.busy": "2023-05-01T04:32:26.972215Z",
     "iopub.status.idle": "2023-05-01T04:32:27.143833Z",
     "shell.execute_reply": "2023-05-01T04:32:27.142625Z",
     "shell.execute_reply.started": "2023-05-01T04:32:26.972641Z"
    }
   },
   "outputs": [],
   "source": [
    "# initialize model\n",
    "model = AnimeRankingModel()\n",
    "\n",
    "# compile model\n",
    "model.compile(optimizer=tf.keras.optimizers.Adam(learning_rate=0.01))"
   ]
  },
  {
   "cell_type": "code",
   "execution_count": 79,
   "metadata": {
    "execution": {
     "iopub.execute_input": "2023-05-01T04:32:28.488848Z",
     "iopub.status.busy": "2023-05-01T04:32:28.488423Z",
     "iopub.status.idle": "2023-05-01T04:32:29.354507Z",
     "shell.execute_reply": "2023-05-01T04:32:29.353367Z",
     "shell.execute_reply.started": "2023-05-01T04:32:28.488818Z"
    }
   },
   "outputs": [],
   "source": [
    "# cache data for training\n",
    "cached_train = train.shuffle(N_train).batch(8192).cache()\n",
    "cached_valid = valid.batch(4096).cache()"
   ]
  },
  {
   "cell_type": "markdown",
   "metadata": {},
   "source": [
    "### Train & Evaluate"
   ]
  },
  {
   "cell_type": "code",
   "execution_count": 80,
   "metadata": {
    "execution": {
     "iopub.execute_input": "2023-05-01T04:32:30.927094Z",
     "iopub.status.busy": "2023-05-01T04:32:30.926163Z",
     "iopub.status.idle": "2023-05-01T04:35:20.030262Z",
     "shell.execute_reply": "2023-05-01T04:35:20.028949Z",
     "shell.execute_reply.started": "2023-05-01T04:32:30.927062Z"
    }
   },
   "outputs": [
    {
     "name": "stdout",
     "output_type": "stream",
     "text": [
      "573/573 [==============================] - 168s 65ms/step - root_mean_squared_error: 2.3830 - loss: 5.6755 - regularization_loss: 0.0000e+00 - total_loss: 5.6755\n"
     ]
    }
   ],
   "source": [
    "# train the model\n",
    "history = model.fit(cached_train, epochs=1)"
   ]
  },
  {
   "cell_type": "code",
   "execution_count": 81,
   "metadata": {
    "execution": {
     "iopub.execute_input": "2023-05-01T04:37:46.940051Z",
     "iopub.status.busy": "2023-05-01T04:37:46.939621Z",
     "iopub.status.idle": "2023-05-01T04:40:08.280842Z",
     "shell.execute_reply": "2023-05-01T04:40:08.279706Z",
     "shell.execute_reply.started": "2023-05-01T04:37:46.940020Z"
    }
   },
   "outputs": [
    {
     "name": "stdout",
     "output_type": "stream",
     "text": [
      "382/382 [==============================] - 141s 41ms/step - root_mean_squared_error: 2.1642 - loss: 4.6842 - regularization_loss: 0.0000e+00 - total_loss: 4.6842\n"
     ]
    },
    {
     "data": {
      "text/plain": [
       "{'root_mean_squared_error': 2.1641924381256104,\n",
       " 'loss': 4.812535285949707,\n",
       " 'regularization_loss': 0,\n",
       " 'total_loss': 4.812535285949707}"
      ]
     },
     "execution_count": 81,
     "metadata": {},
     "output_type": "execute_result"
    }
   ],
   "source": [
    "# evaluate the model\n",
    "model.evaluate(cached_valid, return_dict=True)"
   ]
  },
  {
   "cell_type": "markdown",
   "metadata": {},
   "source": [
    "### Making Predictions"
   ]
  },
  {
   "cell_type": "code",
   "execution_count": 82,
   "metadata": {
    "execution": {
     "iopub.execute_input": "2023-05-01T04:40:08.282835Z",
     "iopub.status.busy": "2023-05-01T04:40:08.282525Z",
     "iopub.status.idle": "2023-05-01T04:40:08.328472Z",
     "shell.execute_reply": "2023-05-01T04:40:08.327333Z",
     "shell.execute_reply.started": "2023-05-01T04:40:08.282808Z"
    }
   },
   "outputs": [
    {
     "name": "stdout",
     "output_type": "stream",
     "text": [
      "Ratings:\n",
      "Oppai Infinity ! The Animation: [[8.183184]]\n"
     ]
    }
   ],
   "source": [
    "test_ratings = {}\n",
    "test_anime_titles = ['Oppai Infinity ! The Animation']\n",
    "for anime_title in test_anime_titles:\n",
    "    test_ratings[anime_title] = model({\n",
    "        \"user_id\": np.array([\"205\"]),\n",
    "        \"anime_title\": np.array([anime_title]),\n",
    "        \"genre\":np.array(['comedy romance']),\n",
    "        'type': np.array(['tv']),\n",
    "        'episodes': np.array([sys.maxsize]),\n",
    "        'score': np.array([9])\n",
    "    })\n",
    "\n",
    "print(\"Ratings:\")\n",
    "for title, score in sorted(test_ratings.items(), key=lambda x: x[1], reverse=True):\n",
    "  print(f\"{title}: {score}\")"
   ]
  },
  {
   "cell_type": "markdown",
   "metadata": {},
   "source": [
    "## Multitask Recommenders Model"
   ]
  },
  {
   "cell_type": "markdown",
   "metadata": {},
   "source": [
    "### Prepare Data"
   ]
  },
  {
   "cell_type": "code",
   "execution_count": 59,
   "metadata": {
    "execution": {
     "iopub.execute_input": "2023-05-01T03:59:25.833752Z",
     "iopub.status.busy": "2023-05-01T03:59:25.833417Z",
     "iopub.status.idle": "2023-05-01T03:59:31.134904Z",
     "shell.execute_reply": "2023-05-01T03:59:31.133541Z",
     "shell.execute_reply.started": "2023-05-01T03:59:25.833722Z"
    }
   },
   "outputs": [
    {
     "name": "stdout",
     "output_type": "stream",
     "text": [
      "{'anime_title': b'naruto',\n",
      " 'episodes': 220.0,\n",
      " 'genre': b'action comedy martial arts shounen super power',\n",
      " 'score': 7.81,\n",
      " 'type': b'tv',\n",
      " 'user_id': b'1',\n",
      " 'user_rating': -1}\n"
     ]
    }
   ],
   "source": [
    "# convert rating data from dataframe to tensorflow Dataset\n",
    "ratings = tf.data.Dataset.from_tensor_slices(dict(rating_df))\n",
    "\n",
    "# keep all columns\n",
    "ratings = ratings.map(lambda x: {\n",
    "    'anime_title': x['name'],\n",
    "    'user_id': x['user_id'],\n",
    "    'genre': x['genre'],\n",
    "    'type': x['type'],\n",
    "    'episodes': x['episodes'],\n",
    "    'score': x['score'],\n",
    "    'user_rating': x['rating']\n",
    "})\n",
    "\n",
    "for x in ratings.take(1).as_numpy_iterator():\n",
    "    pprint.pprint(x)"
   ]
  },
  {
   "cell_type": "code",
   "execution_count": 60,
   "metadata": {
    "execution": {
     "iopub.execute_input": "2023-05-01T03:59:31.137020Z",
     "iopub.status.busy": "2023-05-01T03:59:31.136383Z",
     "iopub.status.idle": "2023-05-01T03:59:31.246079Z",
     "shell.execute_reply": "2023-05-01T03:59:31.244544Z",
     "shell.execute_reply.started": "2023-05-01T03:59:31.136988Z"
    }
   },
   "outputs": [],
   "source": [
    "# shuffle and split data: train, valid, test\n",
    "# set seed\n",
    "tf.random.set_seed(42)\n",
    "\n",
    "# total data points\n",
    "N = rating_df.shape[0]\n",
    "\n",
    "# total train data points\n",
    "N_train = int(0.6 * N)\n",
    "\n",
    "# total valid data points\n",
    "N_valid = int(0.2 * N)\n",
    "\n",
    "# total test data points\n",
    "N_test = N - (N_train + N_valid)\n",
    "\n",
    "# shuffle data\n",
    "shuffled = ratings.shuffle(N, seed=42, reshuffle_each_iteration=False)\n",
    "\n",
    "# # split data\n",
    "train = shuffled.take(N_train)\n",
    "valid = shuffled.skip(N_train).take(N_valid)\n",
    "test = shuffled.skip((N_train + N_valid)).take(N_test)"
   ]
  },
  {
   "cell_type": "code",
   "execution_count": 61,
   "metadata": {
    "execution": {
     "iopub.execute_input": "2023-05-01T03:59:31.248182Z",
     "iopub.status.busy": "2023-05-01T03:59:31.247822Z",
     "iopub.status.idle": "2023-05-01T03:59:31.273809Z",
     "shell.execute_reply": "2023-05-01T03:59:31.272649Z",
     "shell.execute_reply.started": "2023-05-01T03:59:31.248153Z"
    }
   },
   "outputs": [],
   "source": [
    "class AnimeMultitaskModel(tfrs.models.Model):\n",
    "    \n",
    "    def __init__(self, rating_weight, retrieval_weight):\n",
    "        super().__init__()\n",
    "        \n",
    "        # dimension of all the embeddings\n",
    "        embedding_dimension = 32\n",
    "        \n",
    "        # user embedding model\n",
    "        # computes user embeddings based on user ids\n",
    "        self.user_embedding_model = tf.keras.Sequential([\n",
    "            tf.keras.layers.StringLookup(vocabulary=vocab_user_ids, mask_token=None),\n",
    "            tf.keras.layers.Embedding(len(vocab_user_ids) + 1, embedding_dimension)\n",
    "        ])\n",
    "        \n",
    "        # anime embedding model\n",
    "        # computes anime embeddings based on anime titles\n",
    "        self.anime_embedding_model = tf.keras.Sequential([\n",
    "            tf.keras.layers.StringLookup(vocabulary=vocab_anime_titles, mask_token=None),\n",
    "            tf.keras.layers.Embedding(len(vocab_anime_titles) + 1, embedding_dimension)\n",
    "        ])\n",
    "        \n",
    "        # metadata embedding models\n",
    "        # genre embedding model\n",
    "        self.genre_embedding_model = tf.keras.Sequential([\n",
    "            tf.keras.layers.StringLookup(vocabulary=vocab_genres, mask_token=None),\n",
    "            tf.keras.layers.Embedding(len(vocab_genres) + 1, embedding_dimension)\n",
    "        ])\n",
    "        # type embedding model\n",
    "        self.type_embedding_model = tf.keras.Sequential([\n",
    "            tf.keras.layers.StringLookup(vocabulary=vocab_types, mask_token=None),\n",
    "            tf.keras.layers.Embedding(len(vocab_types) + 1, embedding_dimension)\n",
    "        ])\n",
    "        # episodes embedding model\n",
    "        self.episodes_embedding_model = tf.keras.Sequential([\n",
    "            tf.keras.layers.IntegerLookup(vocabulary=vocab_episodes, mask_token=None),\n",
    "            tf.keras.layers.Embedding(len(vocab_episodes) + 1, embedding_dimension)\n",
    "        ])\n",
    "        # score embedding model\n",
    "        self.score_embedding_model = tf.keras.Sequential([\n",
    "            tf.keras.layers.Embedding(len(vocab_scores) + 1, embedding_dimension)\n",
    "        ])\n",
    "        \n",
    "        # rating model\n",
    "        # computes ratings\n",
    "        self.rating_model = tf.keras.Sequential([\n",
    "            tf.keras.layers.Dense(128, activation=\"relu\"),\n",
    "            tf.keras.layers.Dense(64, activation=\"relu\"),\n",
    "            tf.keras.layers.Dense(1)\n",
    "        ])\n",
    "        \n",
    "        # tasks\n",
    "        # ranking task\n",
    "        self.ranking_task = tfrs.tasks.Ranking(\n",
    "            loss = tf.keras.losses.MeanSquaredError(),\n",
    "            metrics=[tf.keras.metrics.RootMeanSquaredError()]\n",
    "        )\n",
    "        \n",
    "        # retrieval task\n",
    "        self.retrieval_task = tfrs.tasks.Retrieval(\n",
    "            metrics = tfrs.metrics.FactorizedTopK(\n",
    "                candidates=animes.batch(1024).map(self.anime_embedding_model)\n",
    "            )\n",
    "        )\n",
    "        \n",
    "        # loss weights\n",
    "        self.rating_weight = rating_weight\n",
    "        self.retrieval_weight = retrieval_weight\n",
    "        \n",
    "    def call(self, features):\n",
    "        # compute user embeddings\n",
    "        user_embeddings = self.user_embedding_model(features['user_id'])\n",
    "        \n",
    "        # compute anime embeddings\n",
    "        anime_embeddings = self.anime_embedding_model(features['anime_title'])\n",
    "        \n",
    "        # compute genre embeddings\n",
    "        genre_embeddings = self.genre_embedding_model(features['genre'])\n",
    "        \n",
    "        # compute type embeddings\n",
    "        type_embeddings = self.type_embedding_model(features['type'])\n",
    "        \n",
    "        # compute episodes embeddings\n",
    "        episodes_embeddings = self.episodes_embedding_model(features['episodes'])\n",
    "        \n",
    "        # compute score embeddings\n",
    "        score_embeddings = self.score_embedding_model(features['score'])\n",
    "        \n",
    "        return (\n",
    "            user_embeddings,\n",
    "            anime_embeddings,\n",
    "            self.rating_model(tf.concat([\n",
    "                user_embeddings,\n",
    "                anime_embeddings,\n",
    "                genre_embeddings,\n",
    "                type_embeddings,\n",
    "                episodes_embeddings,\n",
    "                score_embeddings\n",
    "            ], axis=1))\n",
    "        )\n",
    "    \n",
    "    def compute_loss(self, features, training=False):\n",
    "        # get the true ratings\n",
    "        ratings_true = features.pop('user_rating')\n",
    "        \n",
    "        # get the user embeddings, anime embeddings, and the predicted ratings\n",
    "        user_embeddings, anime_embeddings, ratings_predicted = self(features)\n",
    "        \n",
    "        # compute the loss and metrics for both the tasks\n",
    "        # rating loss\n",
    "        rating_loss = self.ranking_task(\n",
    "            labels=ratings_true,\n",
    "            predictions=ratings_predicted\n",
    "        )\n",
    "        # retrieval loss\n",
    "        retrieval_loss = self.retrieval_task(user_embeddings, anime_embeddings, compute_metrics=not training)\n",
    "        \n",
    "        # return the weighted combined losses\n",
    "        return (self.rating_weight * rating_loss + self.retrieval_weight * retrieval_loss)"
   ]
  },
  {
   "cell_type": "code",
   "execution_count": 62,
   "metadata": {
    "execution": {
     "iopub.execute_input": "2023-05-01T03:59:31.275596Z",
     "iopub.status.busy": "2023-05-01T03:59:31.275148Z",
     "iopub.status.idle": "2023-05-01T03:59:31.520100Z",
     "shell.execute_reply": "2023-05-01T03:59:31.518799Z",
     "shell.execute_reply.started": "2023-05-01T03:59:31.275566Z"
    }
   },
   "outputs": [],
   "source": [
    "# initialize model\n",
    "model = AnimeMultitaskModel(rating_weight=1.0, retrieval_weight=1.0)\n",
    "\n",
    "# compile model\n",
    "model.compile(optimizer=tf.keras.optimizers.Adagrad(learning_rate=0.1))"
   ]
  },
  {
   "cell_type": "code",
   "execution_count": 63,
   "metadata": {
    "execution": {
     "iopub.execute_input": "2023-05-01T03:59:31.521661Z",
     "iopub.status.busy": "2023-05-01T03:59:31.521382Z",
     "iopub.status.idle": "2023-05-01T03:59:32.226914Z",
     "shell.execute_reply": "2023-05-01T03:59:32.225612Z",
     "shell.execute_reply.started": "2023-05-01T03:59:31.521638Z"
    }
   },
   "outputs": [],
   "source": [
    "# cache data for training\n",
    "cached_train = train.shuffle(N_train).batch(8192).cache()\n",
    "cached_valid = valid.batch(4096).cache()"
   ]
  },
  {
   "cell_type": "markdown",
   "metadata": {},
   "source": [
    "### Train & Evaluate Model"
   ]
  },
  {
   "cell_type": "code",
   "execution_count": 64,
   "metadata": {
    "execution": {
     "iopub.execute_input": "2023-05-01T03:59:32.313995Z",
     "iopub.status.busy": "2023-05-01T03:59:32.313612Z",
     "iopub.status.idle": "2023-05-01T04:03:30.597085Z",
     "shell.execute_reply": "2023-05-01T04:03:30.595898Z",
     "shell.execute_reply.started": "2023-05-01T03:59:32.313964Z"
    }
   },
   "outputs": [
    {
     "name": "stdout",
     "output_type": "stream",
     "text": [
      "573/573 [==============================] - 238s 182ms/step - root_mean_squared_error: 3.6838 - factorized_top_k/top_1_categorical_accuracy: 0.0000e+00 - factorized_top_k/top_5_categorical_accuracy: 0.0000e+00 - factorized_top_k/top_10_categorical_accuracy: 0.0000e+00 - factorized_top_k/top_50_categorical_accuracy: 0.0000e+00 - factorized_top_k/top_100_categorical_accuracy: 0.0000e+00 - loss: 70096.7927 - regularization_loss: 0.0000e+00 - total_loss: 70096.7927\n"
     ]
    }
   ],
   "source": [
    "# train model\n",
    "history = model.fit(cached_train, epochs=1)"
   ]
  },
  {
   "cell_type": "code",
   "execution_count": 65,
   "metadata": {
    "execution": {
     "iopub.execute_input": "2023-05-01T04:03:30.599412Z",
     "iopub.status.busy": "2023-05-01T04:03:30.598489Z",
     "iopub.status.idle": "2023-05-01T04:08:40.720698Z",
     "shell.execute_reply": "2023-05-01T04:08:40.719550Z",
     "shell.execute_reply.started": "2023-05-01T04:03:30.599376Z"
    }
   },
   "outputs": [
    {
     "name": "stdout",
     "output_type": "stream",
     "text": [
      "382/382 [==============================] - 310s 484ms/step - root_mean_squared_error: 3.6285 - factorized_top_k/top_1_categorical_accuracy: 0.0023 - factorized_top_k/top_5_categorical_accuracy: 0.0154 - factorized_top_k/top_10_categorical_accuracy: 0.0304 - factorized_top_k/top_50_categorical_accuracy: 0.1157 - factorized_top_k/top_100_categorical_accuracy: 0.1891 - loss: 31338.0170 - regularization_loss: 0.0000e+00 - total_loss: 31338.0170\n"
     ]
    },
    {
     "data": {
      "text/plain": [
       "{'root_mean_squared_error': 3.628540277481079,\n",
       " 'factorized_top_k/top_1_categorical_accuracy': 0.002296599792316556,\n",
       " 'factorized_top_k/top_5_categorical_accuracy': 0.015446538105607033,\n",
       " 'factorized_top_k/top_10_categorical_accuracy': 0.030359400436282158,\n",
       " 'factorized_top_k/top_50_categorical_accuracy': 0.11570921540260315,\n",
       " 'factorized_top_k/top_100_categorical_accuracy': 0.1891012340784073,\n",
       " 'loss': 15272.681640625,\n",
       " 'regularization_loss': 0,\n",
       " 'total_loss': 15272.681640625}"
      ]
     },
     "execution_count": 65,
     "metadata": {},
     "output_type": "execute_result"
    }
   ],
   "source": [
    "# evaluate model\n",
    "model.evaluate(cached_valid, return_dict=True)"
   ]
  },
  {
   "cell_type": "markdown",
   "metadata": {},
   "source": [
    "### Making Predictions"
   ]
  },
  {
   "cell_type": "code",
   "execution_count": 66,
   "metadata": {
    "execution": {
     "iopub.execute_input": "2023-05-01T04:08:40.722394Z",
     "iopub.status.busy": "2023-05-01T04:08:40.722018Z",
     "iopub.status.idle": "2023-05-01T04:08:40.726690Z",
     "shell.execute_reply": "2023-05-01T04:08:40.725806Z",
     "shell.execute_reply.started": "2023-05-01T04:08:40.722365Z"
    }
   },
   "outputs": [],
   "source": [
    "# trained_movie_embeddings, trained_user_embeddings, predicted_rating = model({\n",
    "#       \"user_id\": np.array(['42']),\n",
    "#       \"movie_title\": np.array(['yakusoku'])\n",
    "#   })\n",
    "# print(\"Predicted rating:\")\n",
    "# print(predicted_rating)"
   ]
  },
  {
   "cell_type": "markdown",
   "metadata": {},
   "source": [
    "## Deep & Cross Network (DCN) Model"
   ]
  },
  {
   "cell_type": "markdown",
   "metadata": {},
   "source": [
    "### Prepare Data"
   ]
  },
  {
   "cell_type": "code",
   "execution_count": 67,
   "metadata": {
    "execution": {
     "iopub.execute_input": "2023-05-01T04:08:40.727947Z",
     "iopub.status.busy": "2023-05-01T04:08:40.727693Z",
     "iopub.status.idle": "2023-05-01T04:08:45.228590Z",
     "shell.execute_reply": "2023-05-01T04:08:45.227226Z",
     "shell.execute_reply.started": "2023-05-01T04:08:40.727924Z"
    }
   },
   "outputs": [
    {
     "name": "stdout",
     "output_type": "stream",
     "text": [
      "{'anime_title': b'naruto',\n",
      " 'episodes': 220.0,\n",
      " 'genre': b'action comedy martial arts shounen super power',\n",
      " 'score': 7.81,\n",
      " 'type': b'tv',\n",
      " 'user_id': b'1',\n",
      " 'user_rating': -1}\n"
     ]
    }
   ],
   "source": [
    "# convert rating data from dataframe to tensorflow Dataset\n",
    "ratings = tf.data.Dataset.from_tensor_slices(dict(rating_df))\n",
    "\n",
    "# keep only user_id and anime_name column\n",
    "ratings = ratings.map(lambda x: {\n",
    "    'user_id': x['user_id'],\n",
    "    'anime_title': x['name'],\n",
    "    'genre': x['genre'],\n",
    "    'type': x['type'],\n",
    "    'episodes': x['episodes'],\n",
    "    'score': x['score'],\n",
    "    'user_rating': x['rating']\n",
    "})\n",
    "\n",
    "for x in ratings.take(1).as_numpy_iterator():\n",
    "    pprint.pprint(x)"
   ]
  },
  {
   "cell_type": "code",
   "execution_count": 68,
   "metadata": {
    "execution": {
     "iopub.execute_input": "2023-05-01T04:08:45.230346Z",
     "iopub.status.busy": "2023-05-01T04:08:45.229979Z",
     "iopub.status.idle": "2023-05-01T04:08:45.276307Z",
     "shell.execute_reply": "2023-05-01T04:08:45.275281Z",
     "shell.execute_reply.started": "2023-05-01T04:08:45.230314Z"
    }
   },
   "outputs": [],
   "source": [
    "# shuffle and split data: train, valid, test\n",
    "# set seed\n",
    "tf.random.set_seed(42)\n",
    "\n",
    "# total data points\n",
    "N = rating_df.shape[0]\n",
    "\n",
    "# total train data points\n",
    "N_train = int(0.6 * N)\n",
    "\n",
    "# total valid data points\n",
    "N_valid = int(0.2 * N)\n",
    "\n",
    "# total test data points\n",
    "N_test = N - (N_train + N_valid)\n",
    "\n",
    "# shuffle data\n",
    "shuffled = ratings.shuffle(N, seed=42, reshuffle_each_iteration=False)\n",
    "\n",
    "# # split data\n",
    "train = shuffled.take(N_train)\n",
    "valid = shuffled.skip(N_train).take(N_valid)\n",
    "test = shuffled.skip((N_train + N_valid)).take(N_test)"
   ]
  },
  {
   "cell_type": "markdown",
   "metadata": {},
   "source": [
    "### Model Architecture"
   ]
  },
  {
   "cell_type": "code",
   "execution_count": 69,
   "metadata": {
    "execution": {
     "iopub.execute_input": "2023-05-01T04:08:45.278001Z",
     "iopub.status.busy": "2023-05-01T04:08:45.277602Z",
     "iopub.status.idle": "2023-05-01T04:08:45.298663Z",
     "shell.execute_reply": "2023-05-01T04:08:45.297740Z",
     "shell.execute_reply.started": "2023-05-01T04:08:45.277973Z"
    }
   },
   "outputs": [],
   "source": [
    "# DCN Model\n",
    "class DCN(tfrs.Model):\n",
    "    \n",
    "    def __init__(self):\n",
    "        super().__init__()\n",
    "        \n",
    "        # dimension of all the embeddings\n",
    "        embedding_dimension = 32\n",
    "        \n",
    "        # user embedding model\n",
    "        # computes user embeddings based on user ids\n",
    "        self.user_embedding_model = tf.keras.Sequential([\n",
    "            tf.keras.layers.StringLookup(vocabulary=vocab_user_ids, mask_token=None),\n",
    "            tf.keras.layers.Embedding(len(vocab_user_ids) + 1, embedding_dimension)\n",
    "        ])\n",
    "        \n",
    "        # anime embedding model\n",
    "        # computes anime embeddings based on anime titles\n",
    "        self.anime_embedding_model = tf.keras.Sequential([\n",
    "            tf.keras.layers.StringLookup(vocabulary=vocab_anime_titles, mask_token=None),\n",
    "            tf.keras.layers.Embedding(len(vocab_anime_titles) + 1, embedding_dimension)\n",
    "        ])\n",
    "        \n",
    "        # metadata embedding models\n",
    "        # genre embedding model\n",
    "        self.genre_embedding_model = tf.keras.Sequential([\n",
    "            tf.keras.layers.StringLookup(vocabulary=vocab_genres, mask_token=None),\n",
    "            tf.keras.layers.Embedding(len(vocab_genres) + 1, embedding_dimension)\n",
    "        ])\n",
    "        # type embedding model\n",
    "        self.type_embedding_model = tf.keras.Sequential([\n",
    "            tf.keras.layers.StringLookup(vocabulary=vocab_types, mask_token=None),\n",
    "            tf.keras.layers.Embedding(len(vocab_types) + 1, embedding_dimension)\n",
    "        ])\n",
    "        # episodes embedding model\n",
    "        self.episodes_embedding_model = tf.keras.Sequential([\n",
    "            tf.keras.layers.IntegerLookup(vocabulary=vocab_episodes, mask_token=None),\n",
    "            tf.keras.layers.Embedding(len(vocab_episodes) + 1, embedding_dimension)\n",
    "        ])\n",
    "        # score embedding model\n",
    "        self.score_embedding_model = tf.keras.Sequential([\n",
    "            tf.keras.layers.Embedding(len(vocab_scores) + 1, embedding_dimension)\n",
    "        ])\n",
    "        \n",
    "        # cross layer\n",
    "        self._cross_layer = tfrs.layers.dcn.Cross(projection_dim=None, kernel_initializer='glorot_uniform')\n",
    "        \n",
    "        # deep layers\n",
    "        self._deep_layers = [\n",
    "            tf.keras.layers.Dense(128, activation='relu'),\n",
    "            tf.keras.layers.Dense(128, activation='relu')\n",
    "        ]\n",
    "        \n",
    "        # output layer\n",
    "        self._logit_layer = tf.keras.layers.Dense(1)\n",
    "        \n",
    "        # task\n",
    "        self.task = tfrs.tasks.Ranking(\n",
    "            loss=tf.keras.losses.MeanSquaredError(),\n",
    "            metrics=[tf.keras.metrics.RootMeanSquaredError(\"RMSE\")]\n",
    "        )\n",
    "        \n",
    "    def call(self, features):\n",
    "        # concat embeddings\n",
    "        x = tf.concat([\n",
    "            self.user_embedding_model(features['user_id']),\n",
    "            self.anime_embedding_model(features['anime_title']),\n",
    "            self.genre_embedding_model(features['genre']),\n",
    "            self.type_embedding_model(features['type']),\n",
    "            self.episodes_embedding_model(features['episodes']),\n",
    "            self.score_embedding_model(features['score'])\n",
    "        ], axis=1)\n",
    "        \n",
    "        # build cross network\n",
    "        x = self._cross_layer(x)\n",
    "        \n",
    "        # build deep network\n",
    "        x = self._deep_layers[0](x)\n",
    "        x = self._deep_layers[1](x)\n",
    "        \n",
    "        return self._logit_layer(x)\n",
    "    \n",
    "    def compute_loss(self, features, training=False):\n",
    "        # get the true ratings\n",
    "        ratings_true = features.pop('user_rating')\n",
    "        \n",
    "        # get the predicted ratings\n",
    "        ratings_predicted = self(features)\n",
    "        \n",
    "        # compute the loss and metrics\n",
    "        return self.task(\n",
    "            labels=ratings_true,\n",
    "            predictions=ratings_predicted,\n",
    "        )"
   ]
  },
  {
   "cell_type": "code",
   "execution_count": 70,
   "metadata": {
    "execution": {
     "iopub.execute_input": "2023-05-01T04:08:45.299953Z",
     "iopub.status.busy": "2023-05-01T04:08:45.299689Z",
     "iopub.status.idle": "2023-05-01T04:08:45.744930Z",
     "shell.execute_reply": "2023-05-01T04:08:45.743608Z",
     "shell.execute_reply.started": "2023-05-01T04:08:45.299929Z"
    }
   },
   "outputs": [],
   "source": [
    "# initialize model\n",
    "model = DCN()\n",
    "\n",
    "# compile model\n",
    "model.compile(optimizer=tf.keras.optimizers.Adam(learning_rate=0.1))"
   ]
  },
  {
   "cell_type": "code",
   "execution_count": 71,
   "metadata": {
    "execution": {
     "iopub.execute_input": "2023-05-01T04:08:45.746942Z",
     "iopub.status.busy": "2023-05-01T04:08:45.746631Z",
     "iopub.status.idle": "2023-05-01T04:08:47.006465Z",
     "shell.execute_reply": "2023-05-01T04:08:47.005134Z",
     "shell.execute_reply.started": "2023-05-01T04:08:45.746917Z"
    }
   },
   "outputs": [],
   "source": [
    "# cache data for training\n",
    "cached_train = train.shuffle(N_train).batch(8192).cache()\n",
    "cached_valid = valid.batch(4096).cache()"
   ]
  },
  {
   "cell_type": "markdown",
   "metadata": {},
   "source": [
    "### Train & Evaluate Model"
   ]
  },
  {
   "cell_type": "code",
   "execution_count": 72,
   "metadata": {
    "execution": {
     "iopub.execute_input": "2023-05-01T04:08:47.043830Z",
     "iopub.status.busy": "2023-05-01T04:08:47.043456Z",
     "iopub.status.idle": "2023-05-01T04:11:40.804289Z",
     "shell.execute_reply": "2023-05-01T04:11:40.802839Z",
     "shell.execute_reply.started": "2023-05-01T04:08:47.043798Z"
    }
   },
   "outputs": [
    {
     "name": "stdout",
     "output_type": "stream",
     "text": [
      "573/573 [==============================] - 173s 70ms/step - RMSE: 5.2955 - loss: 28.0008 - regularization_loss: 0.0000e+00 - total_loss: 28.0008\n"
     ]
    }
   ],
   "source": [
    "# train model\n",
    "history = model.fit(cached_train, epochs=1)"
   ]
  },
  {
   "cell_type": "code",
   "execution_count": 73,
   "metadata": {
    "execution": {
     "iopub.execute_input": "2023-05-01T04:11:40.806359Z",
     "iopub.status.busy": "2023-05-01T04:11:40.805934Z",
     "iopub.status.idle": "2023-05-01T04:13:57.291393Z",
     "shell.execute_reply": "2023-05-01T04:13:57.290055Z",
     "shell.execute_reply.started": "2023-05-01T04:11:40.806322Z"
    }
   },
   "outputs": [
    {
     "name": "stdout",
     "output_type": "stream",
     "text": [
      "382/382 [==============================] - 136s 42ms/step - RMSE: 3.7272 - loss: 13.8932 - regularization_loss: 0.0000e+00 - total_loss: 13.8932\n"
     ]
    },
    {
     "data": {
      "text/plain": [
       "{'RMSE': 3.727184295654297,\n",
       " 'loss': 14.226537704467773,\n",
       " 'regularization_loss': 0,\n",
       " 'total_loss': 14.226537704467773}"
      ]
     },
     "execution_count": 73,
     "metadata": {},
     "output_type": "execute_result"
    }
   ],
   "source": [
    "# evaluate model\n",
    "model.evaluate(cached_valid, return_dict=True)"
   ]
  }
 ],
 "metadata": {
  "kernelspec": {
   "display_name": "Python 3 (ipykernel)",
   "language": "python",
   "name": "python3"
  },
  "language_info": {
   "codemirror_mode": {
    "name": "ipython",
    "version": 3
   },
   "file_extension": ".py",
   "mimetype": "text/x-python",
   "name": "python",
   "nbconvert_exporter": "python",
   "pygments_lexer": "ipython3",
   "version": "3.7.0"
  }
 },
 "nbformat": 4,
 "nbformat_minor": 4
}

{
 "cells": [
  {
   "cell_type": "code",
   "execution_count": 1,
   "id": "e7883001",
   "metadata": {
    "_cell_guid": "b1076dfc-b9ad-4769-8c92-a6c4dae69d19",
    "_uuid": "8f2839f25d086af736a60e9eeb907d3b93b6e0e5",
    "execution": {
     "iopub.execute_input": "2023-04-30T19:13:59.398528Z",
     "iopub.status.busy": "2023-04-30T19:13:59.398116Z",
     "iopub.status.idle": "2023-04-30T19:14:40.507760Z",
     "shell.execute_reply": "2023-04-30T19:14:40.505562Z"
    },
    "papermill": {
     "duration": 41.128895,
     "end_time": "2023-04-30T19:14:40.512568",
     "exception": false,
     "start_time": "2023-04-30T19:13:59.383673",
     "status": "completed"
    },
    "scrolled": false,
    "tags": []
   },
   "outputs": [
    {
     "name": "stdout",
     "output_type": "stream",
     "text": [
      "Collecting tensorflow-recommenders\r\n",
      "  Downloading tensorflow_recommenders-0.7.3-py3-none-any.whl (96 kB)\r\n",
      "\u001b[2K     \u001b[90m━━━━━━━━━━━━━━━━━━━━━━━━━━━━━━━━━━━━━━━━\u001b[0m \u001b[32m96.2/96.2 kB\u001b[0m \u001b[31m3.5 MB/s\u001b[0m eta \u001b[36m0:00:00\u001b[0m\r\n",
      "\u001b[?25hRequirement already satisfied: absl-py>=0.1.6 in /opt/conda/lib/python3.7/site-packages (from tensorflow-recommenders) (1.4.0)\r\n",
      "Requirement already satisfied: tensorflow>=2.9.0 in /opt/conda/lib/python3.7/site-packages (from tensorflow-recommenders) (2.11.0)\r\n",
      "Requirement already satisfied: numpy>=1.20 in /opt/conda/lib/python3.7/site-packages (from tensorflow>=2.9.0->tensorflow-recommenders) (1.21.6)\r\n",
      "Requirement already satisfied: setuptools in /opt/conda/lib/python3.7/site-packages (from tensorflow>=2.9.0->tensorflow-recommenders) (59.8.0)\r\n",
      "Requirement already satisfied: tensorboard<2.12,>=2.11 in /opt/conda/lib/python3.7/site-packages (from tensorflow>=2.9.0->tensorflow-recommenders) (2.11.2)\r\n",
      "Requirement already satisfied: tensorflow-io-gcs-filesystem>=0.23.1 in /opt/conda/lib/python3.7/site-packages (from tensorflow>=2.9.0->tensorflow-recommenders) (0.29.0)\r\n",
      "Collecting protobuf<3.20,>=3.9.2\r\n",
      "  Downloading protobuf-3.19.6-cp37-cp37m-manylinux_2_17_x86_64.manylinux2014_x86_64.whl (1.1 MB)\r\n",
      "\u001b[2K     \u001b[90m━━━━━━━━━━━━━━━━━━━━━━━━━━━━━━━━━━━━━━━━\u001b[0m \u001b[32m1.1/1.1 MB\u001b[0m \u001b[31m20.1 MB/s\u001b[0m eta \u001b[36m0:00:00\u001b[0m\r\n",
      "\u001b[?25hRequirement already satisfied: tensorflow-estimator<2.12,>=2.11.0 in /opt/conda/lib/python3.7/site-packages (from tensorflow>=2.9.0->tensorflow-recommenders) (2.11.0)\r\n",
      "Requirement already satisfied: gast<=0.4.0,>=0.2.1 in /opt/conda/lib/python3.7/site-packages (from tensorflow>=2.9.0->tensorflow-recommenders) (0.4.0)\r\n",
      "Requirement already satisfied: h5py>=2.9.0 in /opt/conda/lib/python3.7/site-packages (from tensorflow>=2.9.0->tensorflow-recommenders) (3.8.0)\r\n",
      "Requirement already satisfied: grpcio<2.0,>=1.24.3 in /opt/conda/lib/python3.7/site-packages (from tensorflow>=2.9.0->tensorflow-recommenders) (1.51.1)\r\n",
      "Requirement already satisfied: libclang>=13.0.0 in /opt/conda/lib/python3.7/site-packages (from tensorflow>=2.9.0->tensorflow-recommenders) (15.0.6.1)\r\n",
      "Requirement already satisfied: flatbuffers>=2.0 in /opt/conda/lib/python3.7/site-packages (from tensorflow>=2.9.0->tensorflow-recommenders) (23.1.21)\r\n",
      "Requirement already satisfied: wrapt>=1.11.0 in /opt/conda/lib/python3.7/site-packages (from tensorflow>=2.9.0->tensorflow-recommenders) (1.14.1)\r\n",
      "Requirement already satisfied: typing-extensions>=3.6.6 in /opt/conda/lib/python3.7/site-packages (from tensorflow>=2.9.0->tensorflow-recommenders) (4.4.0)\r\n",
      "Requirement already satisfied: packaging in /opt/conda/lib/python3.7/site-packages (from tensorflow>=2.9.0->tensorflow-recommenders) (23.0)\r\n",
      "Requirement already satisfied: six>=1.12.0 in /opt/conda/lib/python3.7/site-packages (from tensorflow>=2.9.0->tensorflow-recommenders) (1.16.0)\r\n",
      "Requirement already satisfied: google-pasta>=0.1.1 in /opt/conda/lib/python3.7/site-packages (from tensorflow>=2.9.0->tensorflow-recommenders) (0.2.0)\r\n",
      "Requirement already satisfied: opt-einsum>=2.3.2 in /opt/conda/lib/python3.7/site-packages (from tensorflow>=2.9.0->tensorflow-recommenders) (3.3.0)\r\n",
      "Requirement already satisfied: keras<2.12,>=2.11.0 in /opt/conda/lib/python3.7/site-packages (from tensorflow>=2.9.0->tensorflow-recommenders) (2.11.0)\r\n",
      "Requirement already satisfied: termcolor>=1.1.0 in /opt/conda/lib/python3.7/site-packages (from tensorflow>=2.9.0->tensorflow-recommenders) (2.2.0)\r\n",
      "Requirement already satisfied: astunparse>=1.6.0 in /opt/conda/lib/python3.7/site-packages (from tensorflow>=2.9.0->tensorflow-recommenders) (1.6.3)\r\n",
      "Requirement already satisfied: wheel<1.0,>=0.23.0 in /opt/conda/lib/python3.7/site-packages (from astunparse>=1.6.0->tensorflow>=2.9.0->tensorflow-recommenders) (0.38.4)\r\n",
      "Requirement already satisfied: requests<3,>=2.21.0 in /opt/conda/lib/python3.7/site-packages (from tensorboard<2.12,>=2.11->tensorflow>=2.9.0->tensorflow-recommenders) (2.28.2)\r\n",
      "Requirement already satisfied: tensorboard-plugin-wit>=1.6.0 in /opt/conda/lib/python3.7/site-packages (from tensorboard<2.12,>=2.11->tensorflow>=2.9.0->tensorflow-recommenders) (1.8.1)\r\n",
      "Requirement already satisfied: werkzeug>=1.0.1 in /opt/conda/lib/python3.7/site-packages (from tensorboard<2.12,>=2.11->tensorflow>=2.9.0->tensorflow-recommenders) (2.2.3)\r\n",
      "Requirement already satisfied: google-auth-oauthlib<0.5,>=0.4.1 in /opt/conda/lib/python3.7/site-packages (from tensorboard<2.12,>=2.11->tensorflow>=2.9.0->tensorflow-recommenders) (0.4.6)\r\n",
      "Requirement already satisfied: tensorboard-data-server<0.7.0,>=0.6.0 in /opt/conda/lib/python3.7/site-packages (from tensorboard<2.12,>=2.11->tensorflow>=2.9.0->tensorflow-recommenders) (0.6.1)\r\n",
      "Requirement already satisfied: google-auth<3,>=1.6.3 in /opt/conda/lib/python3.7/site-packages (from tensorboard<2.12,>=2.11->tensorflow>=2.9.0->tensorflow-recommenders) (1.35.0)\r\n",
      "Requirement already satisfied: markdown>=2.6.8 in /opt/conda/lib/python3.7/site-packages (from tensorboard<2.12,>=2.11->tensorflow>=2.9.0->tensorflow-recommenders) (3.4.1)\r\n",
      "Requirement already satisfied: rsa<5,>=3.1.4 in /opt/conda/lib/python3.7/site-packages (from google-auth<3,>=1.6.3->tensorboard<2.12,>=2.11->tensorflow>=2.9.0->tensorflow-recommenders) (4.9)\r\n",
      "Requirement already satisfied: cachetools<5.0,>=2.0.0 in /opt/conda/lib/python3.7/site-packages (from google-auth<3,>=1.6.3->tensorboard<2.12,>=2.11->tensorflow>=2.9.0->tensorflow-recommenders) (4.2.4)\r\n",
      "Requirement already satisfied: pyasn1-modules>=0.2.1 in /opt/conda/lib/python3.7/site-packages (from google-auth<3,>=1.6.3->tensorboard<2.12,>=2.11->tensorflow>=2.9.0->tensorflow-recommenders) (0.2.8)\r\n",
      "Requirement already satisfied: requests-oauthlib>=0.7.0 in /opt/conda/lib/python3.7/site-packages (from google-auth-oauthlib<0.5,>=0.4.1->tensorboard<2.12,>=2.11->tensorflow>=2.9.0->tensorflow-recommenders) (1.3.1)\r\n",
      "Requirement already satisfied: importlib-metadata>=4.4 in /opt/conda/lib/python3.7/site-packages (from markdown>=2.6.8->tensorboard<2.12,>=2.11->tensorflow>=2.9.0->tensorflow-recommenders) (4.11.4)\r\n",
      "Requirement already satisfied: idna<4,>=2.5 in /opt/conda/lib/python3.7/site-packages (from requests<3,>=2.21.0->tensorboard<2.12,>=2.11->tensorflow>=2.9.0->tensorflow-recommenders) (3.4)\r\n",
      "Requirement already satisfied: certifi>=2017.4.17 in /opt/conda/lib/python3.7/site-packages (from requests<3,>=2.21.0->tensorboard<2.12,>=2.11->tensorflow>=2.9.0->tensorflow-recommenders) (2022.12.7)\r\n",
      "Requirement already satisfied: urllib3<1.27,>=1.21.1 in /opt/conda/lib/python3.7/site-packages (from requests<3,>=2.21.0->tensorboard<2.12,>=2.11->tensorflow>=2.9.0->tensorflow-recommenders) (1.26.14)\r\n",
      "Requirement already satisfied: charset-normalizer<4,>=2 in /opt/conda/lib/python3.7/site-packages (from requests<3,>=2.21.0->tensorboard<2.12,>=2.11->tensorflow>=2.9.0->tensorflow-recommenders) (2.1.1)\r\n",
      "Requirement already satisfied: MarkupSafe>=2.1.1 in /opt/conda/lib/python3.7/site-packages (from werkzeug>=1.0.1->tensorboard<2.12,>=2.11->tensorflow>=2.9.0->tensorflow-recommenders) (2.1.1)\r\n",
      "Requirement already satisfied: zipp>=0.5 in /opt/conda/lib/python3.7/site-packages (from importlib-metadata>=4.4->markdown>=2.6.8->tensorboard<2.12,>=2.11->tensorflow>=2.9.0->tensorflow-recommenders) (3.11.0)\r\n",
      "Requirement already satisfied: pyasn1<0.5.0,>=0.4.6 in /opt/conda/lib/python3.7/site-packages (from pyasn1-modules>=0.2.1->google-auth<3,>=1.6.3->tensorboard<2.12,>=2.11->tensorflow>=2.9.0->tensorflow-recommenders) (0.4.8)\r\n",
      "Requirement already satisfied: oauthlib>=3.0.0 in /opt/conda/lib/python3.7/site-packages (from requests-oauthlib>=0.7.0->google-auth-oauthlib<0.5,>=0.4.1->tensorboard<2.12,>=2.11->tensorflow>=2.9.0->tensorflow-recommenders) (3.2.2)\r\n",
      "Installing collected packages: protobuf, tensorflow-recommenders\r\n",
      "  Attempting uninstall: protobuf\r\n",
      "    Found existing installation: protobuf 3.20.3\r\n",
      "    Uninstalling protobuf-3.20.3:\r\n",
      "      Successfully uninstalled protobuf-3.20.3\r\n",
      "\u001b[31mERROR: pip's dependency resolver does not currently take into account all the packages that are installed. This behaviour is the source of the following dependency conflicts.\r\n",
      "tfx-bsl 1.12.0 requires google-api-python-client<2,>=1.7.11, but you have google-api-python-client 2.83.0 which is incompatible.\r\n",
      "onnx 1.13.1 requires protobuf<4,>=3.20.2, but you have protobuf 3.19.6 which is incompatible.\r\n",
      "apache-beam 2.44.0 requires dill<0.3.2,>=0.3.1.1, but you have dill 0.3.6 which is incompatible.\u001b[0m\u001b[31m\r\n",
      "\u001b[0mSuccessfully installed protobuf-3.19.6 tensorflow-recommenders-0.7.3\r\n",
      "\u001b[33mWARNING: Running pip as the 'root' user can result in broken permissions and conflicting behaviour with the system package manager. It is recommended to use a virtual environment instead: https://pip.pypa.io/warnings/venv\u001b[0m\u001b[33m\r\n",
      "\u001b[0mRequirement already satisfied: scikit-learn in /opt/conda/lib/python3.7/site-packages (1.0.2)\r\n",
      "Requirement already satisfied: numpy>=1.14.6 in /opt/conda/lib/python3.7/site-packages (from scikit-learn) (1.21.6)\r\n",
      "Requirement already satisfied: scipy>=1.1.0 in /opt/conda/lib/python3.7/site-packages (from scikit-learn) (1.7.3)\r\n",
      "Requirement already satisfied: threadpoolctl>=2.0.0 in /opt/conda/lib/python3.7/site-packages (from scikit-learn) (3.1.0)\r\n",
      "Requirement already satisfied: joblib>=0.11 in /opt/conda/lib/python3.7/site-packages (from scikit-learn) (1.2.0)\r\n",
      "\u001b[33mWARNING: Running pip as the 'root' user can result in broken permissions and conflicting behaviour with the system package manager. It is recommended to use a virtual environment instead: https://pip.pypa.io/warnings/venv\u001b[0m\u001b[33m\r\n",
      "\u001b[0m"
     ]
    }
   ],
   "source": [
    "!pip install tensorflow-recommenders\n",
    "!pip install scikit-learn"
   ]
  },
  {
   "cell_type": "code",
   "execution_count": 2,
   "id": "f69e01f6",
   "metadata": {
    "execution": {
     "iopub.execute_input": "2023-04-30T19:14:40.540053Z",
     "iopub.status.busy": "2023-04-30T19:14:40.539530Z",
     "iopub.status.idle": "2023-04-30T19:14:49.977080Z",
     "shell.execute_reply": "2023-04-30T19:14:49.975560Z"
    },
    "papermill": {
     "duration": 9.455066,
     "end_time": "2023-04-30T19:14:49.980429",
     "exception": false,
     "start_time": "2023-04-30T19:14:40.525363",
     "status": "completed"
    },
    "tags": []
   },
   "outputs": [],
   "source": [
    "# import required packages\n",
    "# utility\n",
    "import sys\n",
    "import re\n",
    "import html\n",
    "import pprint\n",
    "import numpy as np\n",
    "import pandas as pd\n",
    "from typing import Dict, Text\n",
    "from sklearn.preprocessing import StandardScaler\n",
    "\n",
    "# tensorflow\n",
    "import tensorflow as tf\n",
    "import tensorflow_recommenders as tfrs"
   ]
  },
  {
   "cell_type": "code",
   "execution_count": 3,
   "id": "a975be69",
   "metadata": {
    "execution": {
     "iopub.execute_input": "2023-04-30T19:14:50.010264Z",
     "iopub.status.busy": "2023-04-30T19:14:50.009356Z",
     "iopub.status.idle": "2023-04-30T19:14:50.015749Z",
     "shell.execute_reply": "2023-04-30T19:14:50.014424Z"
    },
    "papermill": {
     "duration": 0.02561,
     "end_time": "2023-04-30T19:14:50.018443",
     "exception": false,
     "start_time": "2023-04-30T19:14:49.992833",
     "status": "completed"
    },
    "tags": []
   },
   "outputs": [],
   "source": [
    "# # configure gpu\n",
    "# gpus = tf.config.list_physical_devices(\"GPU\")\n",
    "\n",
    "# print(\"Num GPUs Available: \", len(gpus))\n",
    "\n",
    "# # if gpus:\n",
    "# #     # Create 2 virtual GPUs with 4GB memory each\n",
    "# #     try:\n",
    "# #         tf.config.set_logical_device_configuration(gpus[0],[tf.config.LogicalDeviceConfiguration(memory_limit=4096), tf.config.LogicalDeviceConfiguration(memory_limit=4096)])\n",
    "# #         logical_gpus = tf.config.list_logical_devices(\"GPU\")\n",
    "# #         print(len(gpus), \"Physical GPU,\", len(logical_gpus), \"Logical GPUs\")\n",
    "# #     except RuntimeError as e:\n",
    "# #         # Virtual devices must be set before GPUs have been initialized\n",
    "# #         print(e)\n",
    "\n",
    "# strategy = tf.distribute.MirroredStrategy()"
   ]
  },
  {
   "cell_type": "code",
   "execution_count": 4,
   "id": "1e017cb0",
   "metadata": {
    "execution": {
     "iopub.execute_input": "2023-04-30T19:14:50.046576Z",
     "iopub.status.busy": "2023-04-30T19:14:50.045758Z",
     "iopub.status.idle": "2023-04-30T19:14:50.050996Z",
     "shell.execute_reply": "2023-04-30T19:14:50.050122Z"
    },
    "papermill": {
     "duration": 0.022745,
     "end_time": "2023-04-30T19:14:50.053361",
     "exception": false,
     "start_time": "2023-04-30T19:14:50.030616",
     "status": "completed"
    },
    "tags": []
   },
   "outputs": [],
   "source": [
    "# # configure tpu\n",
    "# resolver = tf.distribute.cluster_resolver.TPUClusterResolver()\n",
    "# tf.config.experimental_connect_to_cluster(resolver)\n",
    "\n",
    "# tf.tpu.experimental.initialize_tpu_system(resolver)\n",
    "# print(\"All devices: \", tf.config.list_logical_devices('TPU'))\n",
    "\n",
    "# strategy = tf.distribute.TPUStrategy(resolver)"
   ]
  },
  {
   "cell_type": "markdown",
   "id": "48eafa05",
   "metadata": {
    "papermill": {
     "duration": 0.012585,
     "end_time": "2023-04-30T19:14:50.078396",
     "exception": false,
     "start_time": "2023-04-30T19:14:50.065811",
     "status": "completed"
    },
    "tags": []
   },
   "source": [
    "## EDA and Preprocessing: Anime Recommendations Dataset\n",
    "- Ratings data\n",
    "- Metadata\n",
    "\n",
    "### Ratings data"
   ]
  },
  {
   "cell_type": "code",
   "execution_count": 5,
   "id": "f963def3",
   "metadata": {
    "execution": {
     "iopub.execute_input": "2023-04-30T19:14:50.107850Z",
     "iopub.status.busy": "2023-04-30T19:14:50.107080Z",
     "iopub.status.idle": "2023-04-30T19:14:53.522133Z",
     "shell.execute_reply": "2023-04-30T19:14:53.520755Z"
    },
    "papermill": {
     "duration": 3.433168,
     "end_time": "2023-04-30T19:14:53.525354",
     "exception": false,
     "start_time": "2023-04-30T19:14:50.092186",
     "status": "completed"
    },
    "tags": []
   },
   "outputs": [
    {
     "data": {
      "text/plain": [
       "(7813737, 3)"
      ]
     },
     "execution_count": 5,
     "metadata": {},
     "output_type": "execute_result"
    }
   ],
   "source": [
    "# load ratings dataset\n",
    "# kaggle path\n",
    "# rating_df = pd.read_csv('/kaggle/input/anime-recommendations-database/rating.csv')\n",
    "\n",
    "# local path\n",
    "rating_df = pd.read_csv('../data/rating.csv')\n",
    "\n",
    "rating_df.shape"
   ]
  },
  {
   "cell_type": "code",
   "execution_count": 6,
   "id": "eeb14534",
   "metadata": {
    "execution": {
     "iopub.execute_input": "2023-04-30T19:14:53.552560Z",
     "iopub.status.busy": "2023-04-30T19:14:53.552164Z",
     "iopub.status.idle": "2023-04-30T19:14:53.580083Z",
     "shell.execute_reply": "2023-04-30T19:14:53.578637Z"
    },
    "papermill": {
     "duration": 0.044968,
     "end_time": "2023-04-30T19:14:53.583007",
     "exception": false,
     "start_time": "2023-04-30T19:14:53.538039",
     "status": "completed"
    },
    "tags": []
   },
   "outputs": [
    {
     "data": {
      "text/html": [
       "<div>\n",
       "<style scoped>\n",
       "    .dataframe tbody tr th:only-of-type {\n",
       "        vertical-align: middle;\n",
       "    }\n",
       "\n",
       "    .dataframe tbody tr th {\n",
       "        vertical-align: top;\n",
       "    }\n",
       "\n",
       "    .dataframe thead th {\n",
       "        text-align: right;\n",
       "    }\n",
       "</style>\n",
       "<table border=\"1\" class=\"dataframe\">\n",
       "  <thead>\n",
       "    <tr style=\"text-align: right;\">\n",
       "      <th></th>\n",
       "      <th>user_id</th>\n",
       "      <th>anime_id</th>\n",
       "      <th>rating</th>\n",
       "    </tr>\n",
       "  </thead>\n",
       "  <tbody>\n",
       "    <tr>\n",
       "      <th>0</th>\n",
       "      <td>1</td>\n",
       "      <td>20</td>\n",
       "      <td>-1</td>\n",
       "    </tr>\n",
       "    <tr>\n",
       "      <th>1</th>\n",
       "      <td>1</td>\n",
       "      <td>24</td>\n",
       "      <td>-1</td>\n",
       "    </tr>\n",
       "    <tr>\n",
       "      <th>2</th>\n",
       "      <td>1</td>\n",
       "      <td>79</td>\n",
       "      <td>-1</td>\n",
       "    </tr>\n",
       "    <tr>\n",
       "      <th>3</th>\n",
       "      <td>1</td>\n",
       "      <td>226</td>\n",
       "      <td>-1</td>\n",
       "    </tr>\n",
       "    <tr>\n",
       "      <th>4</th>\n",
       "      <td>1</td>\n",
       "      <td>241</td>\n",
       "      <td>-1</td>\n",
       "    </tr>\n",
       "  </tbody>\n",
       "</table>\n",
       "</div>"
      ],
      "text/plain": [
       "   user_id  anime_id  rating\n",
       "0        1        20      -1\n",
       "1        1        24      -1\n",
       "2        1        79      -1\n",
       "3        1       226      -1\n",
       "4        1       241      -1"
      ]
     },
     "execution_count": 6,
     "metadata": {},
     "output_type": "execute_result"
    }
   ],
   "source": [
    "# first 5 data points\n",
    "rating_df.head()"
   ]
  },
  {
   "cell_type": "code",
   "execution_count": 7,
   "id": "9dd4714f",
   "metadata": {
    "execution": {
     "iopub.execute_input": "2023-04-30T19:14:53.611401Z",
     "iopub.status.busy": "2023-04-30T19:14:53.610998Z",
     "iopub.status.idle": "2023-04-30T19:14:53.637054Z",
     "shell.execute_reply": "2023-04-30T19:14:53.635302Z"
    },
    "papermill": {
     "duration": 0.04402,
     "end_time": "2023-04-30T19:14:53.639935",
     "exception": false,
     "start_time": "2023-04-30T19:14:53.595915",
     "status": "completed"
    },
    "tags": []
   },
   "outputs": [
    {
     "name": "stdout",
     "output_type": "stream",
     "text": [
      "<class 'pandas.core.frame.DataFrame'>\n",
      "RangeIndex: 7813737 entries, 0 to 7813736\n",
      "Data columns (total 3 columns):\n",
      " #   Column    Dtype\n",
      "---  ------    -----\n",
      " 0   user_id   int64\n",
      " 1   anime_id  int64\n",
      " 2   rating    int64\n",
      "dtypes: int64(3)\n",
      "memory usage: 178.8 MB\n"
     ]
    }
   ],
   "source": [
    "# info\n",
    "rating_df.info()"
   ]
  },
  {
   "cell_type": "code",
   "execution_count": 8,
   "id": "8be97564",
   "metadata": {
    "execution": {
     "iopub.execute_input": "2023-04-30T19:14:53.667946Z",
     "iopub.status.busy": "2023-04-30T19:14:53.667435Z",
     "iopub.status.idle": "2023-04-30T19:15:00.972002Z",
     "shell.execute_reply": "2023-04-30T19:15:00.970602Z"
    },
    "papermill": {
     "duration": 7.322615,
     "end_time": "2023-04-30T19:15:00.975382",
     "exception": false,
     "start_time": "2023-04-30T19:14:53.652767",
     "status": "completed"
    },
    "tags": []
   },
   "outputs": [],
   "source": [
    "# convert id columns to string\n",
    "rating_df['user_id'] = rating_df['user_id'].map(lambda x: str(x))\n",
    "rating_df['anime_id'] = rating_df['anime_id'].map(lambda x: str(x))"
   ]
  },
  {
   "cell_type": "code",
   "execution_count": 9,
   "id": "25a59e88",
   "metadata": {
    "execution": {
     "iopub.execute_input": "2023-04-30T19:15:01.006152Z",
     "iopub.status.busy": "2023-04-30T19:15:01.005639Z",
     "iopub.status.idle": "2023-04-30T19:15:01.786598Z",
     "shell.execute_reply": "2023-04-30T19:15:01.785221Z"
    },
    "papermill": {
     "duration": 0.799811,
     "end_time": "2023-04-30T19:15:01.789308",
     "exception": false,
     "start_time": "2023-04-30T19:15:00.989497",
     "status": "completed"
    },
    "tags": []
   },
   "outputs": [
    {
     "data": {
      "text/plain": [
       "user_id     0\n",
       "anime_id    0\n",
       "rating      0\n",
       "dtype: int64"
      ]
     },
     "execution_count": 9,
     "metadata": {},
     "output_type": "execute_result"
    }
   ],
   "source": [
    "rating_df.isna().sum()"
   ]
  },
  {
   "cell_type": "markdown",
   "id": "babb660b",
   "metadata": {
    "papermill": {
     "duration": 0.012703,
     "end_time": "2023-04-30T19:15:01.815056",
     "exception": false,
     "start_time": "2023-04-30T19:15:01.802353",
     "status": "completed"
    },
    "tags": []
   },
   "source": [
    "### Metadata"
   ]
  },
  {
   "cell_type": "code",
   "execution_count": 10,
   "id": "b13eef9f",
   "metadata": {
    "execution": {
     "iopub.execute_input": "2023-04-30T19:15:01.843603Z",
     "iopub.status.busy": "2023-04-30T19:15:01.842645Z",
     "iopub.status.idle": "2023-04-30T19:15:01.914678Z",
     "shell.execute_reply": "2023-04-30T19:15:01.913773Z"
    },
    "papermill": {
     "duration": 0.088805,
     "end_time": "2023-04-30T19:15:01.917087",
     "exception": false,
     "start_time": "2023-04-30T19:15:01.828282",
     "status": "completed"
    },
    "tags": []
   },
   "outputs": [
    {
     "data": {
      "text/plain": [
       "(12294, 7)"
      ]
     },
     "execution_count": 10,
     "metadata": {},
     "output_type": "execute_result"
    }
   ],
   "source": [
    "# load anime metadata\n",
    "# kaggle path\n",
    "# anime_df = pd.read_csv('/kaggle/input/anime-recommendations-database/anime.csv')\n",
    "\n",
    "# local path\n",
    "rating_df = pd.read_csv('../data/anime.csv')\n",
    "\n",
    "anime_df.shape"
   ]
  },
  {
   "cell_type": "code",
   "execution_count": 11,
   "id": "e2210812",
   "metadata": {
    "execution": {
     "iopub.execute_input": "2023-04-30T19:15:01.945174Z",
     "iopub.status.busy": "2023-04-30T19:15:01.944674Z",
     "iopub.status.idle": "2023-04-30T19:15:01.961423Z",
     "shell.execute_reply": "2023-04-30T19:15:01.959973Z"
    },
    "papermill": {
     "duration": 0.03413,
     "end_time": "2023-04-30T19:15:01.964069",
     "exception": false,
     "start_time": "2023-04-30T19:15:01.929939",
     "status": "completed"
    },
    "tags": []
   },
   "outputs": [
    {
     "data": {
      "text/html": [
       "<div>\n",
       "<style scoped>\n",
       "    .dataframe tbody tr th:only-of-type {\n",
       "        vertical-align: middle;\n",
       "    }\n",
       "\n",
       "    .dataframe tbody tr th {\n",
       "        vertical-align: top;\n",
       "    }\n",
       "\n",
       "    .dataframe thead th {\n",
       "        text-align: right;\n",
       "    }\n",
       "</style>\n",
       "<table border=\"1\" class=\"dataframe\">\n",
       "  <thead>\n",
       "    <tr style=\"text-align: right;\">\n",
       "      <th></th>\n",
       "      <th>anime_id</th>\n",
       "      <th>name</th>\n",
       "      <th>genre</th>\n",
       "      <th>type</th>\n",
       "      <th>episodes</th>\n",
       "      <th>rating</th>\n",
       "      <th>members</th>\n",
       "    </tr>\n",
       "  </thead>\n",
       "  <tbody>\n",
       "    <tr>\n",
       "      <th>0</th>\n",
       "      <td>32281</td>\n",
       "      <td>Kimi no Na wa.</td>\n",
       "      <td>Drama, Romance, School, Supernatural</td>\n",
       "      <td>Movie</td>\n",
       "      <td>1</td>\n",
       "      <td>9.37</td>\n",
       "      <td>200630</td>\n",
       "    </tr>\n",
       "    <tr>\n",
       "      <th>1</th>\n",
       "      <td>5114</td>\n",
       "      <td>Fullmetal Alchemist: Brotherhood</td>\n",
       "      <td>Action, Adventure, Drama, Fantasy, Magic, Mili...</td>\n",
       "      <td>TV</td>\n",
       "      <td>64</td>\n",
       "      <td>9.26</td>\n",
       "      <td>793665</td>\n",
       "    </tr>\n",
       "    <tr>\n",
       "      <th>2</th>\n",
       "      <td>28977</td>\n",
       "      <td>Gintama°</td>\n",
       "      <td>Action, Comedy, Historical, Parody, Samurai, S...</td>\n",
       "      <td>TV</td>\n",
       "      <td>51</td>\n",
       "      <td>9.25</td>\n",
       "      <td>114262</td>\n",
       "    </tr>\n",
       "    <tr>\n",
       "      <th>3</th>\n",
       "      <td>9253</td>\n",
       "      <td>Steins;Gate</td>\n",
       "      <td>Sci-Fi, Thriller</td>\n",
       "      <td>TV</td>\n",
       "      <td>24</td>\n",
       "      <td>9.17</td>\n",
       "      <td>673572</td>\n",
       "    </tr>\n",
       "    <tr>\n",
       "      <th>4</th>\n",
       "      <td>9969</td>\n",
       "      <td>Gintama&amp;#039;</td>\n",
       "      <td>Action, Comedy, Historical, Parody, Samurai, S...</td>\n",
       "      <td>TV</td>\n",
       "      <td>51</td>\n",
       "      <td>9.16</td>\n",
       "      <td>151266</td>\n",
       "    </tr>\n",
       "  </tbody>\n",
       "</table>\n",
       "</div>"
      ],
      "text/plain": [
       "   anime_id                              name  \\\n",
       "0     32281                    Kimi no Na wa.   \n",
       "1      5114  Fullmetal Alchemist: Brotherhood   \n",
       "2     28977                          Gintama°   \n",
       "3      9253                       Steins;Gate   \n",
       "4      9969                     Gintama&#039;   \n",
       "\n",
       "                                               genre   type episodes  rating  \\\n",
       "0               Drama, Romance, School, Supernatural  Movie        1    9.37   \n",
       "1  Action, Adventure, Drama, Fantasy, Magic, Mili...     TV       64    9.26   \n",
       "2  Action, Comedy, Historical, Parody, Samurai, S...     TV       51    9.25   \n",
       "3                                   Sci-Fi, Thriller     TV       24    9.17   \n",
       "4  Action, Comedy, Historical, Parody, Samurai, S...     TV       51    9.16   \n",
       "\n",
       "   members  \n",
       "0   200630  \n",
       "1   793665  \n",
       "2   114262  \n",
       "3   673572  \n",
       "4   151266  "
      ]
     },
     "execution_count": 11,
     "metadata": {},
     "output_type": "execute_result"
    }
   ],
   "source": [
    "# first 5 data points\n",
    "anime_df.head()"
   ]
  },
  {
   "cell_type": "code",
   "execution_count": 12,
   "id": "231df28d",
   "metadata": {
    "execution": {
     "iopub.execute_input": "2023-04-30T19:15:01.993375Z",
     "iopub.status.busy": "2023-04-30T19:15:01.991975Z",
     "iopub.status.idle": "2023-04-30T19:15:02.003312Z",
     "shell.execute_reply": "2023-04-30T19:15:02.001892Z"
    },
    "papermill": {
     "duration": 0.029043,
     "end_time": "2023-04-30T19:15:02.006124",
     "exception": false,
     "start_time": "2023-04-30T19:15:01.977081",
     "status": "completed"
    },
    "tags": []
   },
   "outputs": [],
   "source": [
    "# drop useless columns\n",
    "# members\n",
    "anime_df = anime_df.drop(['members'], axis=1)"
   ]
  },
  {
   "cell_type": "code",
   "execution_count": 13,
   "id": "4375b820",
   "metadata": {
    "execution": {
     "iopub.execute_input": "2023-04-30T19:15:02.035011Z",
     "iopub.status.busy": "2023-04-30T19:15:02.034112Z",
     "iopub.status.idle": "2023-04-30T19:15:02.046458Z",
     "shell.execute_reply": "2023-04-30T19:15:02.045433Z"
    },
    "papermill": {
     "duration": 0.029551,
     "end_time": "2023-04-30T19:15:02.048795",
     "exception": false,
     "start_time": "2023-04-30T19:15:02.019244",
     "status": "completed"
    },
    "tags": []
   },
   "outputs": [
    {
     "data": {
      "text/plain": [
       "anime_id      0\n",
       "name          0\n",
       "genre        62\n",
       "type         25\n",
       "episodes      0\n",
       "rating      230\n",
       "dtype: int64"
      ]
     },
     "execution_count": 13,
     "metadata": {},
     "output_type": "execute_result"
    }
   ],
   "source": [
    "# check null values\n",
    "anime_df.isna().sum()"
   ]
  },
  {
   "cell_type": "code",
   "execution_count": 14,
   "id": "c2dc154a",
   "metadata": {
    "execution": {
     "iopub.execute_input": "2023-04-30T19:15:02.077271Z",
     "iopub.status.busy": "2023-04-30T19:15:02.076737Z",
     "iopub.status.idle": "2023-04-30T19:15:02.093648Z",
     "shell.execute_reply": "2023-04-30T19:15:02.092374Z"
    },
    "papermill": {
     "duration": 0.034731,
     "end_time": "2023-04-30T19:15:02.096385",
     "exception": false,
     "start_time": "2023-04-30T19:15:02.061654",
     "status": "completed"
    },
    "tags": []
   },
   "outputs": [],
   "source": [
    "# replace null values for genre with mode\n",
    "anime_df['genre'] = anime_df['genre'].fillna(anime_df['genre'].mode()[0])\n",
    "\n",
    "# replace null values for type with mode\n",
    "anime_df['type'] = anime_df['type'].fillna(anime_df['type'].mode()[0])\n",
    "\n",
    "# replace null value for rating with mean\n",
    "anime_df['rating'] = anime_df['rating'].fillna(anime_df['rating'].mean())"
   ]
  },
  {
   "cell_type": "code",
   "execution_count": 15,
   "id": "6f6cdf59",
   "metadata": {
    "execution": {
     "iopub.execute_input": "2023-04-30T19:15:02.124937Z",
     "iopub.status.busy": "2023-04-30T19:15:02.124482Z",
     "iopub.status.idle": "2023-04-30T19:15:02.139748Z",
     "shell.execute_reply": "2023-04-30T19:15:02.138087Z"
    },
    "papermill": {
     "duration": 0.033337,
     "end_time": "2023-04-30T19:15:02.142725",
     "exception": false,
     "start_time": "2023-04-30T19:15:02.109388",
     "status": "completed"
    },
    "tags": []
   },
   "outputs": [
    {
     "data": {
      "text/plain": [
       "anime_id    0\n",
       "name        0\n",
       "genre       0\n",
       "type        0\n",
       "episodes    0\n",
       "rating      0\n",
       "dtype: int64"
      ]
     },
     "execution_count": 15,
     "metadata": {},
     "output_type": "execute_result"
    }
   ],
   "source": [
    "# verify null values handling\n",
    "anime_df.isna().sum()"
   ]
  },
  {
   "cell_type": "code",
   "execution_count": 16,
   "id": "e25c6cee",
   "metadata": {
    "execution": {
     "iopub.execute_input": "2023-04-30T19:15:02.171093Z",
     "iopub.status.busy": "2023-04-30T19:15:02.170651Z",
     "iopub.status.idle": "2023-04-30T19:15:02.187934Z",
     "shell.execute_reply": "2023-04-30T19:15:02.186375Z"
    },
    "papermill": {
     "duration": 0.034097,
     "end_time": "2023-04-30T19:15:02.190336",
     "exception": false,
     "start_time": "2023-04-30T19:15:02.156239",
     "status": "completed"
    },
    "tags": []
   },
   "outputs": [
    {
     "name": "stdout",
     "output_type": "stream",
     "text": [
      "<class 'pandas.core.frame.DataFrame'>\n",
      "RangeIndex: 12294 entries, 0 to 12293\n",
      "Data columns (total 6 columns):\n",
      " #   Column    Non-Null Count  Dtype  \n",
      "---  ------    --------------  -----  \n",
      " 0   anime_id  12294 non-null  int64  \n",
      " 1   name      12294 non-null  object \n",
      " 2   genre     12294 non-null  object \n",
      " 3   type      12294 non-null  object \n",
      " 4   episodes  12294 non-null  object \n",
      " 5   rating    12294 non-null  float64\n",
      "dtypes: float64(1), int64(1), object(4)\n",
      "memory usage: 576.4+ KB\n"
     ]
    }
   ],
   "source": [
    "# info\n",
    "anime_df.info()"
   ]
  },
  {
   "cell_type": "code",
   "execution_count": 17,
   "id": "97b0a895",
   "metadata": {
    "execution": {
     "iopub.execute_input": "2023-04-30T19:15:02.219169Z",
     "iopub.status.busy": "2023-04-30T19:15:02.218027Z",
     "iopub.status.idle": "2023-04-30T19:15:02.230539Z",
     "shell.execute_reply": "2023-04-30T19:15:02.228983Z"
    },
    "papermill": {
     "duration": 0.029704,
     "end_time": "2023-04-30T19:15:02.233118",
     "exception": false,
     "start_time": "2023-04-30T19:15:02.203414",
     "status": "completed"
    },
    "tags": []
   },
   "outputs": [],
   "source": [
    "# convert anime_id column to string\n",
    "anime_df['anime_id'] = anime_df['anime_id'].apply(lambda x: str(x))"
   ]
  },
  {
   "cell_type": "code",
   "execution_count": 18,
   "id": "903f7871",
   "metadata": {
    "execution": {
     "iopub.execute_input": "2023-04-30T19:15:02.261923Z",
     "iopub.status.busy": "2023-04-30T19:15:02.260701Z",
     "iopub.status.idle": "2023-04-30T19:15:02.269852Z",
     "shell.execute_reply": "2023-04-30T19:15:02.268432Z"
    },
    "papermill": {
     "duration": 0.026266,
     "end_time": "2023-04-30T19:15:02.272468",
     "exception": false,
     "start_time": "2023-04-30T19:15:02.246202",
     "status": "completed"
    },
    "tags": []
   },
   "outputs": [
    {
     "data": {
      "text/plain": [
       "'Dennou Sentai Voogie&#039;s★Angel: Forever and Ever'"
      ]
     },
     "execution_count": 18,
     "metadata": {},
     "output_type": "execute_result"
    }
   ],
   "source": [
    "# sample anime name with invalid characters\n",
    "anime_df['name'].loc[8441]"
   ]
  },
  {
   "cell_type": "code",
   "execution_count": 19,
   "id": "ec6395dd",
   "metadata": {
    "execution": {
     "iopub.execute_input": "2023-04-30T19:15:02.301688Z",
     "iopub.status.busy": "2023-04-30T19:15:02.300698Z",
     "iopub.status.idle": "2023-04-30T19:15:02.422189Z",
     "shell.execute_reply": "2023-04-30T19:15:02.420746Z"
    },
    "papermill": {
     "duration": 0.139934,
     "end_time": "2023-04-30T19:15:02.425604",
     "exception": false,
     "start_time": "2023-04-30T19:15:02.285670",
     "status": "completed"
    },
    "tags": []
   },
   "outputs": [],
   "source": [
    "# clean anime name column\n",
    "# remove html encodings\n",
    "# convert to regular characters\n",
    "anime_df['name'] = anime_df['name'].apply(html.unescape)\n",
    "\n",
    "# remove emojis and other miscellaneous unicode characters\n",
    "# encode as ascii to remove miscellaneous unicode characters\n",
    "# replaces the characters with '?'\n",
    "# converts str to array of bytes\n",
    "anime_df['name'] = anime_df['name'].map(lambda x: x.encode('ascii', 'replace'))\n",
    "\n",
    "# decode to convert to str\n",
    "anime_df['name'] = anime_df['name'].map(lambda x: x.decode())\n",
    "\n",
    "# replace '?' with a space\n",
    "anime_df['name'] = anime_df['name'].map(lambda x: x.replace('?', ' '))\n",
    "\n",
    "# convert to lower case\n",
    "anime_df['name'] = anime_df['name'].map(lambda x: x.lower())\n",
    "\n",
    "# remove punctuations\n",
    "anime_df['name'] = anime_df['name'].map(lambda x: re.sub(r'[^\\w\\s]', ' ', x))\n",
    "\n",
    "# remove single length words\n",
    "anime_df['name'] = anime_df['name'].map(lambda x: re.sub(r'\\b\\w{1}\\b', '', x))\n",
    "\n",
    "# remove extra spaces\n",
    "anime_df['name'] = anime_df['name'].map(lambda x: re.sub(r' +', ' ', x))"
   ]
  },
  {
   "cell_type": "code",
   "execution_count": 20,
   "id": "fafe2f33",
   "metadata": {
    "execution": {
     "iopub.execute_input": "2023-04-30T19:15:02.456768Z",
     "iopub.status.busy": "2023-04-30T19:15:02.455347Z",
     "iopub.status.idle": "2023-04-30T19:15:02.463585Z",
     "shell.execute_reply": "2023-04-30T19:15:02.462315Z"
    },
    "papermill": {
     "duration": 0.026228,
     "end_time": "2023-04-30T19:15:02.466029",
     "exception": false,
     "start_time": "2023-04-30T19:15:02.439801",
     "status": "completed"
    },
    "tags": []
   },
   "outputs": [
    {
     "data": {
      "text/plain": [
       "'dennou sentai voogie angel forever and ever'"
      ]
     },
     "execution_count": 20,
     "metadata": {},
     "output_type": "execute_result"
    }
   ],
   "source": [
    "# verify cleaning of anime name column\n",
    "anime_df['name'].loc[8441]"
   ]
  },
  {
   "cell_type": "code",
   "execution_count": 21,
   "id": "652c8043",
   "metadata": {
    "execution": {
     "iopub.execute_input": "2023-04-30T19:15:02.497226Z",
     "iopub.status.busy": "2023-04-30T19:15:02.496782Z",
     "iopub.status.idle": "2023-04-30T19:15:02.511693Z",
     "shell.execute_reply": "2023-04-30T19:15:02.510331Z"
    },
    "papermill": {
     "duration": 0.033881,
     "end_time": "2023-04-30T19:15:02.514499",
     "exception": false,
     "start_time": "2023-04-30T19:15:02.480618",
     "status": "completed"
    },
    "tags": []
   },
   "outputs": [
    {
     "data": {
      "text/html": [
       "<div>\n",
       "<style scoped>\n",
       "    .dataframe tbody tr th:only-of-type {\n",
       "        vertical-align: middle;\n",
       "    }\n",
       "\n",
       "    .dataframe tbody tr th {\n",
       "        vertical-align: top;\n",
       "    }\n",
       "\n",
       "    .dataframe thead th {\n",
       "        text-align: right;\n",
       "    }\n",
       "</style>\n",
       "<table border=\"1\" class=\"dataframe\">\n",
       "  <thead>\n",
       "    <tr style=\"text-align: right;\">\n",
       "      <th></th>\n",
       "      <th>anime_id</th>\n",
       "      <th>name</th>\n",
       "      <th>genre</th>\n",
       "      <th>type</th>\n",
       "      <th>episodes</th>\n",
       "      <th>rating</th>\n",
       "    </tr>\n",
       "  </thead>\n",
       "  <tbody>\n",
       "    <tr>\n",
       "      <th>0</th>\n",
       "      <td>32281</td>\n",
       "      <td>kimi no na wa</td>\n",
       "      <td>Drama, Romance, School, Supernatural</td>\n",
       "      <td>Movie</td>\n",
       "      <td>1</td>\n",
       "      <td>9.37</td>\n",
       "    </tr>\n",
       "    <tr>\n",
       "      <th>1</th>\n",
       "      <td>5114</td>\n",
       "      <td>fullmetal alchemist brotherhood</td>\n",
       "      <td>Action, Adventure, Drama, Fantasy, Magic, Mili...</td>\n",
       "      <td>TV</td>\n",
       "      <td>64</td>\n",
       "      <td>9.26</td>\n",
       "    </tr>\n",
       "    <tr>\n",
       "      <th>2</th>\n",
       "      <td>28977</td>\n",
       "      <td>gintama</td>\n",
       "      <td>Action, Comedy, Historical, Parody, Samurai, S...</td>\n",
       "      <td>TV</td>\n",
       "      <td>51</td>\n",
       "      <td>9.25</td>\n",
       "    </tr>\n",
       "    <tr>\n",
       "      <th>3</th>\n",
       "      <td>9253</td>\n",
       "      <td>steins gate</td>\n",
       "      <td>Sci-Fi, Thriller</td>\n",
       "      <td>TV</td>\n",
       "      <td>24</td>\n",
       "      <td>9.17</td>\n",
       "    </tr>\n",
       "    <tr>\n",
       "      <th>4</th>\n",
       "      <td>9969</td>\n",
       "      <td>gintama</td>\n",
       "      <td>Action, Comedy, Historical, Parody, Samurai, S...</td>\n",
       "      <td>TV</td>\n",
       "      <td>51</td>\n",
       "      <td>9.16</td>\n",
       "    </tr>\n",
       "  </tbody>\n",
       "</table>\n",
       "</div>"
      ],
      "text/plain": [
       "  anime_id                             name  \\\n",
       "0    32281                   kimi no na wa    \n",
       "1     5114  fullmetal alchemist brotherhood   \n",
       "2    28977                         gintama    \n",
       "3     9253                      steins gate   \n",
       "4     9969                         gintama    \n",
       "\n",
       "                                               genre   type episodes  rating  \n",
       "0               Drama, Romance, School, Supernatural  Movie        1    9.37  \n",
       "1  Action, Adventure, Drama, Fantasy, Magic, Mili...     TV       64    9.26  \n",
       "2  Action, Comedy, Historical, Parody, Samurai, S...     TV       51    9.25  \n",
       "3                                   Sci-Fi, Thriller     TV       24    9.17  \n",
       "4  Action, Comedy, Historical, Parody, Samurai, S...     TV       51    9.16  "
      ]
     },
     "execution_count": 21,
     "metadata": {},
     "output_type": "execute_result"
    }
   ],
   "source": [
    "anime_df.head()"
   ]
  },
  {
   "cell_type": "code",
   "execution_count": 22,
   "id": "530eb924",
   "metadata": {
    "execution": {
     "iopub.execute_input": "2023-04-30T19:15:02.546091Z",
     "iopub.status.busy": "2023-04-30T19:15:02.545010Z",
     "iopub.status.idle": "2023-04-30T19:15:02.642500Z",
     "shell.execute_reply": "2023-04-30T19:15:02.641118Z"
    },
    "papermill": {
     "duration": 0.116392,
     "end_time": "2023-04-30T19:15:02.645656",
     "exception": false,
     "start_time": "2023-04-30T19:15:02.529264",
     "status": "completed"
    },
    "tags": []
   },
   "outputs": [],
   "source": [
    "# clean and normalize genre column\n",
    "# convert to lower case\n",
    "anime_df['genre'] = anime_df['genre'].map(lambda x: x.lower())\n",
    "\n",
    "# remove punctuations\n",
    "# keep hyphen(-) for sci-fi\n",
    "anime_df['genre'] = anime_df['genre'].map(lambda x: re.sub(r'[^\\w\\s-]', ' ', x))\n",
    "\n",
    "# remove single length characters\n",
    "anime_df['genre'] = anime_df['genre'].map(lambda x: re.sub(r'\\b\\w{1}\\b', '', x))\n",
    "\n",
    "# remove extra spaces\n",
    "anime_df['genre'] = anime_df['genre'].map(lambda x: re.sub(r' +', ' ', x))"
   ]
  },
  {
   "cell_type": "code",
   "execution_count": 23,
   "id": "284bbcb2",
   "metadata": {
    "execution": {
     "iopub.execute_input": "2023-04-30T19:15:02.676555Z",
     "iopub.status.busy": "2023-04-30T19:15:02.676130Z",
     "iopub.status.idle": "2023-04-30T19:15:02.691617Z",
     "shell.execute_reply": "2023-04-30T19:15:02.690485Z"
    },
    "papermill": {
     "duration": 0.03384,
     "end_time": "2023-04-30T19:15:02.694194",
     "exception": false,
     "start_time": "2023-04-30T19:15:02.660354",
     "status": "completed"
    },
    "tags": []
   },
   "outputs": [
    {
     "data": {
      "text/html": [
       "<div>\n",
       "<style scoped>\n",
       "    .dataframe tbody tr th:only-of-type {\n",
       "        vertical-align: middle;\n",
       "    }\n",
       "\n",
       "    .dataframe tbody tr th {\n",
       "        vertical-align: top;\n",
       "    }\n",
       "\n",
       "    .dataframe thead th {\n",
       "        text-align: right;\n",
       "    }\n",
       "</style>\n",
       "<table border=\"1\" class=\"dataframe\">\n",
       "  <thead>\n",
       "    <tr style=\"text-align: right;\">\n",
       "      <th></th>\n",
       "      <th>anime_id</th>\n",
       "      <th>name</th>\n",
       "      <th>genre</th>\n",
       "      <th>type</th>\n",
       "      <th>episodes</th>\n",
       "      <th>rating</th>\n",
       "    </tr>\n",
       "  </thead>\n",
       "  <tbody>\n",
       "    <tr>\n",
       "      <th>0</th>\n",
       "      <td>32281</td>\n",
       "      <td>kimi no na wa</td>\n",
       "      <td>drama romance school supernatural</td>\n",
       "      <td>Movie</td>\n",
       "      <td>1</td>\n",
       "      <td>9.37</td>\n",
       "    </tr>\n",
       "    <tr>\n",
       "      <th>1</th>\n",
       "      <td>5114</td>\n",
       "      <td>fullmetal alchemist brotherhood</td>\n",
       "      <td>action adventure drama fantasy magic military ...</td>\n",
       "      <td>TV</td>\n",
       "      <td>64</td>\n",
       "      <td>9.26</td>\n",
       "    </tr>\n",
       "    <tr>\n",
       "      <th>2</th>\n",
       "      <td>28977</td>\n",
       "      <td>gintama</td>\n",
       "      <td>action comedy historical parody samurai sci-fi...</td>\n",
       "      <td>TV</td>\n",
       "      <td>51</td>\n",
       "      <td>9.25</td>\n",
       "    </tr>\n",
       "    <tr>\n",
       "      <th>3</th>\n",
       "      <td>9253</td>\n",
       "      <td>steins gate</td>\n",
       "      <td>sci-fi thriller</td>\n",
       "      <td>TV</td>\n",
       "      <td>24</td>\n",
       "      <td>9.17</td>\n",
       "    </tr>\n",
       "    <tr>\n",
       "      <th>4</th>\n",
       "      <td>9969</td>\n",
       "      <td>gintama</td>\n",
       "      <td>action comedy historical parody samurai sci-fi...</td>\n",
       "      <td>TV</td>\n",
       "      <td>51</td>\n",
       "      <td>9.16</td>\n",
       "    </tr>\n",
       "  </tbody>\n",
       "</table>\n",
       "</div>"
      ],
      "text/plain": [
       "  anime_id                             name  \\\n",
       "0    32281                   kimi no na wa    \n",
       "1     5114  fullmetal alchemist brotherhood   \n",
       "2    28977                         gintama    \n",
       "3     9253                      steins gate   \n",
       "4     9969                         gintama    \n",
       "\n",
       "                                               genre   type episodes  rating  \n",
       "0                  drama romance school supernatural  Movie        1    9.37  \n",
       "1  action adventure drama fantasy magic military ...     TV       64    9.26  \n",
       "2  action comedy historical parody samurai sci-fi...     TV       51    9.25  \n",
       "3                                    sci-fi thriller     TV       24    9.17  \n",
       "4  action comedy historical parody samurai sci-fi...     TV       51    9.16  "
      ]
     },
     "execution_count": 23,
     "metadata": {},
     "output_type": "execute_result"
    }
   ],
   "source": [
    "anime_df.head()"
   ]
  },
  {
   "cell_type": "code",
   "execution_count": 24,
   "id": "0d9eb2ff",
   "metadata": {
    "execution": {
     "iopub.execute_input": "2023-04-30T19:15:02.724812Z",
     "iopub.status.busy": "2023-04-30T19:15:02.724384Z",
     "iopub.status.idle": "2023-04-30T19:15:02.734472Z",
     "shell.execute_reply": "2023-04-30T19:15:02.733103Z"
    },
    "papermill": {
     "duration": 0.028689,
     "end_time": "2023-04-30T19:15:02.737151",
     "exception": false,
     "start_time": "2023-04-30T19:15:02.708462",
     "status": "completed"
    },
    "tags": []
   },
   "outputs": [],
   "source": [
    "# normalize type column\n",
    "# convert to lower case\n",
    "anime_df['type'] = anime_df['type'].map(lambda x: x.lower())\n",
    "\n",
    "# no further cleaning required for type column"
   ]
  },
  {
   "cell_type": "code",
   "execution_count": 25,
   "id": "f5e5b79a",
   "metadata": {
    "execution": {
     "iopub.execute_input": "2023-04-30T19:15:02.768421Z",
     "iopub.status.busy": "2023-04-30T19:15:02.767610Z",
     "iopub.status.idle": "2023-04-30T19:15:02.781957Z",
     "shell.execute_reply": "2023-04-30T19:15:02.780832Z"
    },
    "papermill": {
     "duration": 0.033251,
     "end_time": "2023-04-30T19:15:02.784645",
     "exception": false,
     "start_time": "2023-04-30T19:15:02.751394",
     "status": "completed"
    },
    "tags": []
   },
   "outputs": [
    {
     "data": {
      "text/html": [
       "<div>\n",
       "<style scoped>\n",
       "    .dataframe tbody tr th:only-of-type {\n",
       "        vertical-align: middle;\n",
       "    }\n",
       "\n",
       "    .dataframe tbody tr th {\n",
       "        vertical-align: top;\n",
       "    }\n",
       "\n",
       "    .dataframe thead th {\n",
       "        text-align: right;\n",
       "    }\n",
       "</style>\n",
       "<table border=\"1\" class=\"dataframe\">\n",
       "  <thead>\n",
       "    <tr style=\"text-align: right;\">\n",
       "      <th></th>\n",
       "      <th>anime_id</th>\n",
       "      <th>name</th>\n",
       "      <th>genre</th>\n",
       "      <th>type</th>\n",
       "      <th>episodes</th>\n",
       "      <th>rating</th>\n",
       "    </tr>\n",
       "  </thead>\n",
       "  <tbody>\n",
       "    <tr>\n",
       "      <th>0</th>\n",
       "      <td>32281</td>\n",
       "      <td>kimi no na wa</td>\n",
       "      <td>drama romance school supernatural</td>\n",
       "      <td>movie</td>\n",
       "      <td>1</td>\n",
       "      <td>9.37</td>\n",
       "    </tr>\n",
       "    <tr>\n",
       "      <th>1</th>\n",
       "      <td>5114</td>\n",
       "      <td>fullmetal alchemist brotherhood</td>\n",
       "      <td>action adventure drama fantasy magic military ...</td>\n",
       "      <td>tv</td>\n",
       "      <td>64</td>\n",
       "      <td>9.26</td>\n",
       "    </tr>\n",
       "    <tr>\n",
       "      <th>2</th>\n",
       "      <td>28977</td>\n",
       "      <td>gintama</td>\n",
       "      <td>action comedy historical parody samurai sci-fi...</td>\n",
       "      <td>tv</td>\n",
       "      <td>51</td>\n",
       "      <td>9.25</td>\n",
       "    </tr>\n",
       "    <tr>\n",
       "      <th>3</th>\n",
       "      <td>9253</td>\n",
       "      <td>steins gate</td>\n",
       "      <td>sci-fi thriller</td>\n",
       "      <td>tv</td>\n",
       "      <td>24</td>\n",
       "      <td>9.17</td>\n",
       "    </tr>\n",
       "    <tr>\n",
       "      <th>4</th>\n",
       "      <td>9969</td>\n",
       "      <td>gintama</td>\n",
       "      <td>action comedy historical parody samurai sci-fi...</td>\n",
       "      <td>tv</td>\n",
       "      <td>51</td>\n",
       "      <td>9.16</td>\n",
       "    </tr>\n",
       "  </tbody>\n",
       "</table>\n",
       "</div>"
      ],
      "text/plain": [
       "  anime_id                             name  \\\n",
       "0    32281                   kimi no na wa    \n",
       "1     5114  fullmetal alchemist brotherhood   \n",
       "2    28977                         gintama    \n",
       "3     9253                      steins gate   \n",
       "4     9969                         gintama    \n",
       "\n",
       "                                               genre   type episodes  rating  \n",
       "0                  drama romance school supernatural  movie        1    9.37  \n",
       "1  action adventure drama fantasy magic military ...     tv       64    9.26  \n",
       "2  action comedy historical parody samurai sci-fi...     tv       51    9.25  \n",
       "3                                    sci-fi thriller     tv       24    9.17  \n",
       "4  action comedy historical parody samurai sci-fi...     tv       51    9.16  "
      ]
     },
     "execution_count": 25,
     "metadata": {},
     "output_type": "execute_result"
    }
   ],
   "source": [
    "anime_df.head()"
   ]
  },
  {
   "cell_type": "code",
   "execution_count": 26,
   "id": "d360e192",
   "metadata": {
    "execution": {
     "iopub.execute_input": "2023-04-30T19:15:02.815811Z",
     "iopub.status.busy": "2023-04-30T19:15:02.815374Z",
     "iopub.status.idle": "2023-04-30T19:15:02.837638Z",
     "shell.execute_reply": "2023-04-30T19:15:02.836234Z"
    },
    "papermill": {
     "duration": 0.041196,
     "end_time": "2023-04-30T19:15:02.840373",
     "exception": false,
     "start_time": "2023-04-30T19:15:02.799177",
     "status": "completed"
    },
    "tags": []
   },
   "outputs": [
    {
     "data": {
      "text/html": [
       "<div>\n",
       "<style scoped>\n",
       "    .dataframe tbody tr th:only-of-type {\n",
       "        vertical-align: middle;\n",
       "    }\n",
       "\n",
       "    .dataframe tbody tr th {\n",
       "        vertical-align: top;\n",
       "    }\n",
       "\n",
       "    .dataframe thead th {\n",
       "        text-align: right;\n",
       "    }\n",
       "</style>\n",
       "<table border=\"1\" class=\"dataframe\">\n",
       "  <thead>\n",
       "    <tr style=\"text-align: right;\">\n",
       "      <th></th>\n",
       "      <th>anime_id</th>\n",
       "      <th>name</th>\n",
       "      <th>genre</th>\n",
       "      <th>type</th>\n",
       "      <th>episodes</th>\n",
       "      <th>rating</th>\n",
       "    </tr>\n",
       "  </thead>\n",
       "  <tbody>\n",
       "    <tr>\n",
       "      <th>74</th>\n",
       "      <td>21</td>\n",
       "      <td>one piece</td>\n",
       "      <td>action adventure comedy drama fantasy shounen ...</td>\n",
       "      <td>tv</td>\n",
       "      <td>Unknown</td>\n",
       "      <td>8.580000</td>\n",
       "    </tr>\n",
       "    <tr>\n",
       "      <th>252</th>\n",
       "      <td>235</td>\n",
       "      <td>detective conan</td>\n",
       "      <td>adventure comedy mystery police shounen</td>\n",
       "      <td>tv</td>\n",
       "      <td>Unknown</td>\n",
       "      <td>8.250000</td>\n",
       "    </tr>\n",
       "    <tr>\n",
       "      <th>615</th>\n",
       "      <td>1735</td>\n",
       "      <td>naruto shippuuden</td>\n",
       "      <td>action comedy martial arts shounen super power</td>\n",
       "      <td>tv</td>\n",
       "      <td>Unknown</td>\n",
       "      <td>7.940000</td>\n",
       "    </tr>\n",
       "    <tr>\n",
       "      <th>991</th>\n",
       "      <td>966</td>\n",
       "      <td>crayon shin chan</td>\n",
       "      <td>comedy ecchi kids school shounen slice of life</td>\n",
       "      <td>tv</td>\n",
       "      <td>Unknown</td>\n",
       "      <td>7.730000</td>\n",
       "    </tr>\n",
       "    <tr>\n",
       "      <th>1021</th>\n",
       "      <td>33157</td>\n",
       "      <td>tanaka kun wa itsumo kedaruge specials</td>\n",
       "      <td>comedy school slice of life</td>\n",
       "      <td>special</td>\n",
       "      <td>Unknown</td>\n",
       "      <td>7.720000</td>\n",
       "    </tr>\n",
       "    <tr>\n",
       "      <th>...</th>\n",
       "      <td>...</td>\n",
       "      <td>...</td>\n",
       "      <td>...</td>\n",
       "      <td>...</td>\n",
       "      <td>...</td>\n",
       "      <td>...</td>\n",
       "    </tr>\n",
       "    <tr>\n",
       "      <th>12265</th>\n",
       "      <td>34361</td>\n",
       "      <td>kyonyuu reijou mc gakuen</td>\n",
       "      <td>hentai</td>\n",
       "      <td>ova</td>\n",
       "      <td>Unknown</td>\n",
       "      <td>6.473902</td>\n",
       "    </tr>\n",
       "    <tr>\n",
       "      <th>12274</th>\n",
       "      <td>34492</td>\n",
       "      <td>nuki doki tenshi to akuma no sakusei battle re...</td>\n",
       "      <td>hentai</td>\n",
       "      <td>ova</td>\n",
       "      <td>Unknown</td>\n",
       "      <td>6.473902</td>\n",
       "    </tr>\n",
       "    <tr>\n",
       "      <th>12280</th>\n",
       "      <td>34312</td>\n",
       "      <td>saimin class</td>\n",
       "      <td>hentai</td>\n",
       "      <td>ova</td>\n",
       "      <td>Unknown</td>\n",
       "      <td>6.473902</td>\n",
       "    </tr>\n",
       "    <tr>\n",
       "      <th>12282</th>\n",
       "      <td>34388</td>\n",
       "      <td>shikkoku no shaga the animation</td>\n",
       "      <td>hentai</td>\n",
       "      <td>ova</td>\n",
       "      <td>Unknown</td>\n",
       "      <td>6.473902</td>\n",
       "    </tr>\n",
       "    <tr>\n",
       "      <th>12285</th>\n",
       "      <td>34399</td>\n",
       "      <td>taimanin asagi</td>\n",
       "      <td>demons hentai supernatural</td>\n",
       "      <td>ova</td>\n",
       "      <td>Unknown</td>\n",
       "      <td>6.473902</td>\n",
       "    </tr>\n",
       "  </tbody>\n",
       "</table>\n",
       "<p>340 rows × 6 columns</p>\n",
       "</div>"
      ],
      "text/plain": [
       "      anime_id                                               name  \\\n",
       "74          21                                          one piece   \n",
       "252        235                                    detective conan   \n",
       "615       1735                                  naruto shippuuden   \n",
       "991        966                                   crayon shin chan   \n",
       "1021     33157             tanaka kun wa itsumo kedaruge specials   \n",
       "...        ...                                                ...   \n",
       "12265    34361                           kyonyuu reijou mc gakuen   \n",
       "12274    34492  nuki doki tenshi to akuma no sakusei battle re...   \n",
       "12280    34312                                       saimin class   \n",
       "12282    34388                    shikkoku no shaga the animation   \n",
       "12285    34399                                    taimanin asagi    \n",
       "\n",
       "                                                   genre     type episodes  \\\n",
       "74     action adventure comedy drama fantasy shounen ...       tv  Unknown   \n",
       "252              adventure comedy mystery police shounen       tv  Unknown   \n",
       "615       action comedy martial arts shounen super power       tv  Unknown   \n",
       "991       comedy ecchi kids school shounen slice of life       tv  Unknown   \n",
       "1021                         comedy school slice of life  special  Unknown   \n",
       "...                                                  ...      ...      ...   \n",
       "12265                                             hentai      ova  Unknown   \n",
       "12274                                             hentai      ova  Unknown   \n",
       "12280                                             hentai      ova  Unknown   \n",
       "12282                                             hentai      ova  Unknown   \n",
       "12285                         demons hentai supernatural      ova  Unknown   \n",
       "\n",
       "         rating  \n",
       "74     8.580000  \n",
       "252    8.250000  \n",
       "615    7.940000  \n",
       "991    7.730000  \n",
       "1021   7.720000  \n",
       "...         ...  \n",
       "12265  6.473902  \n",
       "12274  6.473902  \n",
       "12280  6.473902  \n",
       "12282  6.473902  \n",
       "12285  6.473902  \n",
       "\n",
       "[340 rows x 6 columns]"
      ]
     },
     "execution_count": 26,
     "metadata": {},
     "output_type": "execute_result"
    }
   ],
   "source": [
    "# anime_df['episodes'] = anime_df['episodes'].apply(lambda x: float(x))\n",
    "# errorneous value for episodes column\n",
    "anime_df[anime_df['episodes'] == 'Unknown']"
   ]
  },
  {
   "cell_type": "code",
   "execution_count": 27,
   "id": "9a514813",
   "metadata": {
    "execution": {
     "iopub.execute_input": "2023-04-30T19:15:02.872589Z",
     "iopub.status.busy": "2023-04-30T19:15:02.872145Z",
     "iopub.status.idle": "2023-04-30T19:15:02.887261Z",
     "shell.execute_reply": "2023-04-30T19:15:02.885962Z"
    },
    "papermill": {
     "duration": 0.034504,
     "end_time": "2023-04-30T19:15:02.890067",
     "exception": false,
     "start_time": "2023-04-30T19:15:02.855563",
     "status": "completed"
    },
    "tags": []
   },
   "outputs": [],
   "source": [
    "# handle errorneous .aggregatealue for episodes column\n",
    "anime_df['episodes'] = anime_df['episodes'].replace('Unknown', str(sys.maxsize))\n",
    "\n",
    "# convert episodes column from string to float\n",
    "anime_df['episodes'] = anime_df['episodes'].apply(lambda x: float(x))"
   ]
  },
  {
   "cell_type": "code",
   "execution_count": 28,
   "id": "89128dcf",
   "metadata": {
    "execution": {
     "iopub.execute_input": "2023-04-30T19:15:02.922919Z",
     "iopub.status.busy": "2023-04-30T19:15:02.922270Z",
     "iopub.status.idle": "2023-04-30T19:15:02.930930Z",
     "shell.execute_reply": "2023-04-30T19:15:02.929304Z"
    },
    "papermill": {
     "duration": 0.028063,
     "end_time": "2023-04-30T19:15:02.933428",
     "exception": false,
     "start_time": "2023-04-30T19:15:02.905365",
     "status": "completed"
    },
    "tags": []
   },
   "outputs": [],
   "source": [
    "# rename rating column to avoid confusion with user rating column\n",
    "anime_df = anime_df.rename({'rating': 'score'}, axis=1)"
   ]
  },
  {
   "cell_type": "code",
   "execution_count": 29,
   "id": "fbdbc4e8",
   "metadata": {
    "execution": {
     "iopub.execute_input": "2023-04-30T19:15:02.968434Z",
     "iopub.status.busy": "2023-04-30T19:15:02.967669Z",
     "iopub.status.idle": "2023-04-30T19:15:02.983946Z",
     "shell.execute_reply": "2023-04-30T19:15:02.982466Z"
    },
    "papermill": {
     "duration": 0.03662,
     "end_time": "2023-04-30T19:15:02.986657",
     "exception": false,
     "start_time": "2023-04-30T19:15:02.950037",
     "status": "completed"
    },
    "tags": []
   },
   "outputs": [
    {
     "data": {
      "text/html": [
       "<div>\n",
       "<style scoped>\n",
       "    .dataframe tbody tr th:only-of-type {\n",
       "        vertical-align: middle;\n",
       "    }\n",
       "\n",
       "    .dataframe tbody tr th {\n",
       "        vertical-align: top;\n",
       "    }\n",
       "\n",
       "    .dataframe thead th {\n",
       "        text-align: right;\n",
       "    }\n",
       "</style>\n",
       "<table border=\"1\" class=\"dataframe\">\n",
       "  <thead>\n",
       "    <tr style=\"text-align: right;\">\n",
       "      <th></th>\n",
       "      <th>anime_id</th>\n",
       "      <th>name</th>\n",
       "      <th>genre</th>\n",
       "      <th>type</th>\n",
       "      <th>episodes</th>\n",
       "      <th>score</th>\n",
       "    </tr>\n",
       "  </thead>\n",
       "  <tbody>\n",
       "    <tr>\n",
       "      <th>0</th>\n",
       "      <td>32281</td>\n",
       "      <td>kimi no na wa</td>\n",
       "      <td>drama romance school supernatural</td>\n",
       "      <td>movie</td>\n",
       "      <td>1.0</td>\n",
       "      <td>9.37</td>\n",
       "    </tr>\n",
       "    <tr>\n",
       "      <th>1</th>\n",
       "      <td>5114</td>\n",
       "      <td>fullmetal alchemist brotherhood</td>\n",
       "      <td>action adventure drama fantasy magic military ...</td>\n",
       "      <td>tv</td>\n",
       "      <td>64.0</td>\n",
       "      <td>9.26</td>\n",
       "    </tr>\n",
       "    <tr>\n",
       "      <th>2</th>\n",
       "      <td>28977</td>\n",
       "      <td>gintama</td>\n",
       "      <td>action comedy historical parody samurai sci-fi...</td>\n",
       "      <td>tv</td>\n",
       "      <td>51.0</td>\n",
       "      <td>9.25</td>\n",
       "    </tr>\n",
       "    <tr>\n",
       "      <th>3</th>\n",
       "      <td>9253</td>\n",
       "      <td>steins gate</td>\n",
       "      <td>sci-fi thriller</td>\n",
       "      <td>tv</td>\n",
       "      <td>24.0</td>\n",
       "      <td>9.17</td>\n",
       "    </tr>\n",
       "    <tr>\n",
       "      <th>4</th>\n",
       "      <td>9969</td>\n",
       "      <td>gintama</td>\n",
       "      <td>action comedy historical parody samurai sci-fi...</td>\n",
       "      <td>tv</td>\n",
       "      <td>51.0</td>\n",
       "      <td>9.16</td>\n",
       "    </tr>\n",
       "  </tbody>\n",
       "</table>\n",
       "</div>"
      ],
      "text/plain": [
       "  anime_id                             name  \\\n",
       "0    32281                   kimi no na wa    \n",
       "1     5114  fullmetal alchemist brotherhood   \n",
       "2    28977                         gintama    \n",
       "3     9253                      steins gate   \n",
       "4     9969                         gintama    \n",
       "\n",
       "                                               genre   type  episodes  score  \n",
       "0                  drama romance school supernatural  movie       1.0   9.37  \n",
       "1  action adventure drama fantasy magic military ...     tv      64.0   9.26  \n",
       "2  action comedy historical parody samurai sci-fi...     tv      51.0   9.25  \n",
       "3                                    sci-fi thriller     tv      24.0   9.17  \n",
       "4  action comedy historical parody samurai sci-fi...     tv      51.0   9.16  "
      ]
     },
     "execution_count": 29,
     "metadata": {},
     "output_type": "execute_result"
    }
   ],
   "source": [
    "anime_df.head()"
   ]
  },
  {
   "cell_type": "code",
   "execution_count": 30,
   "id": "eca3e5f4",
   "metadata": {
    "execution": {
     "iopub.execute_input": "2023-04-30T19:15:03.019300Z",
     "iopub.status.busy": "2023-04-30T19:15:03.018844Z",
     "iopub.status.idle": "2023-04-30T19:15:09.602281Z",
     "shell.execute_reply": "2023-04-30T19:15:09.601077Z"
    },
    "papermill": {
     "duration": 6.603661,
     "end_time": "2023-04-30T19:15:09.605774",
     "exception": false,
     "start_time": "2023-04-30T19:15:03.002113",
     "status": "completed"
    },
    "tags": []
   },
   "outputs": [
    {
     "data": {
      "text/plain": [
       "(7813727, 8)"
      ]
     },
     "execution_count": 30,
     "metadata": {},
     "output_type": "execute_result"
    }
   ],
   "source": [
    "# add columns from metadata to ratings dataframe\n",
    "rating_df = pd.merge(rating_df, anime_df, on='anime_id')\n",
    "\n",
    "rating_df.shape"
   ]
  },
  {
   "cell_type": "code",
   "execution_count": 31,
   "id": "5aec5ebf",
   "metadata": {
    "execution": {
     "iopub.execute_input": "2023-04-30T19:15:09.638043Z",
     "iopub.status.busy": "2023-04-30T19:15:09.637575Z",
     "iopub.status.idle": "2023-04-30T19:15:09.654381Z",
     "shell.execute_reply": "2023-04-30T19:15:09.652956Z"
    },
    "papermill": {
     "duration": 0.036584,
     "end_time": "2023-04-30T19:15:09.657596",
     "exception": false,
     "start_time": "2023-04-30T19:15:09.621012",
     "status": "completed"
    },
    "tags": []
   },
   "outputs": [
    {
     "data": {
      "text/html": [
       "<div>\n",
       "<style scoped>\n",
       "    .dataframe tbody tr th:only-of-type {\n",
       "        vertical-align: middle;\n",
       "    }\n",
       "\n",
       "    .dataframe tbody tr th {\n",
       "        vertical-align: top;\n",
       "    }\n",
       "\n",
       "    .dataframe thead th {\n",
       "        text-align: right;\n",
       "    }\n",
       "</style>\n",
       "<table border=\"1\" class=\"dataframe\">\n",
       "  <thead>\n",
       "    <tr style=\"text-align: right;\">\n",
       "      <th></th>\n",
       "      <th>user_id</th>\n",
       "      <th>anime_id</th>\n",
       "      <th>rating</th>\n",
       "      <th>name</th>\n",
       "      <th>genre</th>\n",
       "      <th>type</th>\n",
       "      <th>episodes</th>\n",
       "      <th>score</th>\n",
       "    </tr>\n",
       "  </thead>\n",
       "  <tbody>\n",
       "    <tr>\n",
       "      <th>0</th>\n",
       "      <td>1</td>\n",
       "      <td>20</td>\n",
       "      <td>-1</td>\n",
       "      <td>naruto</td>\n",
       "      <td>action comedy martial arts shounen super power</td>\n",
       "      <td>tv</td>\n",
       "      <td>220.0</td>\n",
       "      <td>7.81</td>\n",
       "    </tr>\n",
       "    <tr>\n",
       "      <th>1</th>\n",
       "      <td>3</td>\n",
       "      <td>20</td>\n",
       "      <td>8</td>\n",
       "      <td>naruto</td>\n",
       "      <td>action comedy martial arts shounen super power</td>\n",
       "      <td>tv</td>\n",
       "      <td>220.0</td>\n",
       "      <td>7.81</td>\n",
       "    </tr>\n",
       "    <tr>\n",
       "      <th>2</th>\n",
       "      <td>5</td>\n",
       "      <td>20</td>\n",
       "      <td>6</td>\n",
       "      <td>naruto</td>\n",
       "      <td>action comedy martial arts shounen super power</td>\n",
       "      <td>tv</td>\n",
       "      <td>220.0</td>\n",
       "      <td>7.81</td>\n",
       "    </tr>\n",
       "    <tr>\n",
       "      <th>3</th>\n",
       "      <td>6</td>\n",
       "      <td>20</td>\n",
       "      <td>-1</td>\n",
       "      <td>naruto</td>\n",
       "      <td>action comedy martial arts shounen super power</td>\n",
       "      <td>tv</td>\n",
       "      <td>220.0</td>\n",
       "      <td>7.81</td>\n",
       "    </tr>\n",
       "    <tr>\n",
       "      <th>4</th>\n",
       "      <td>10</td>\n",
       "      <td>20</td>\n",
       "      <td>-1</td>\n",
       "      <td>naruto</td>\n",
       "      <td>action comedy martial arts shounen super power</td>\n",
       "      <td>tv</td>\n",
       "      <td>220.0</td>\n",
       "      <td>7.81</td>\n",
       "    </tr>\n",
       "  </tbody>\n",
       "</table>\n",
       "</div>"
      ],
      "text/plain": [
       "  user_id anime_id  rating    name  \\\n",
       "0       1       20      -1  naruto   \n",
       "1       3       20       8  naruto   \n",
       "2       5       20       6  naruto   \n",
       "3       6       20      -1  naruto   \n",
       "4      10       20      -1  naruto   \n",
       "\n",
       "                                            genre type  episodes  score  \n",
       "0  action comedy martial arts shounen super power   tv     220.0   7.81  \n",
       "1  action comedy martial arts shounen super power   tv     220.0   7.81  \n",
       "2  action comedy martial arts shounen super power   tv     220.0   7.81  \n",
       "3  action comedy martial arts shounen super power   tv     220.0   7.81  \n",
       "4  action comedy martial arts shounen super power   tv     220.0   7.81  "
      ]
     },
     "execution_count": 31,
     "metadata": {},
     "output_type": "execute_result"
    }
   ],
   "source": [
    "# first 5 data points\n",
    "rating_df.head()"
   ]
  },
  {
   "cell_type": "code",
   "execution_count": 32,
   "id": "63d3b8ef",
   "metadata": {
    "execution": {
     "iopub.execute_input": "2023-04-30T19:15:09.691740Z",
     "iopub.status.busy": "2023-04-30T19:15:09.690771Z",
     "iopub.status.idle": "2023-04-30T19:15:16.558882Z",
     "shell.execute_reply": "2023-04-30T19:15:16.556792Z"
    },
    "papermill": {
     "duration": 6.888513,
     "end_time": "2023-04-30T19:15:16.562363",
     "exception": false,
     "start_time": "2023-04-30T19:15:09.673850",
     "status": "completed"
    },
    "tags": []
   },
   "outputs": [
    {
     "name": "stdout",
     "output_type": "stream",
     "text": [
      "{'anime_title': b'naruto',\n",
      " 'episodes': 220.0,\n",
      " 'genre': b'action comedy martial arts shounen super power',\n",
      " 'score': 7.81,\n",
      " 'type': b'tv',\n",
      " 'user_id': b'1',\n",
      " 'user_rating': -1}\n"
     ]
    }
   ],
   "source": [
    "# convert rating data from dataframe to tensorflow Dataset\n",
    "ratings = tf.data.Dataset.from_tensor_slices(dict(rating_df))\n",
    "\n",
    "# keep only user_id and anime_name column\n",
    "ratings = ratings.map(lambda x: {\n",
    "    'user_id': x['user_id'],\n",
    "    'anime_title': x['name'],\n",
    "    'genre': x['genre'],\n",
    "    'type': x['type'],\n",
    "    'episodes': x['episodes'],\n",
    "    'score': x['score'],\n",
    "    'user_rating': x['rating']\n",
    "})\n",
    "\n",
    "for x in ratings.take(1).as_numpy_iterator():\n",
    "    pprint.pprint(x)"
   ]
  },
  {
   "cell_type": "code",
   "execution_count": 33,
   "id": "c6b73f93",
   "metadata": {
    "execution": {
     "iopub.execute_input": "2023-04-30T19:15:16.597928Z",
     "iopub.status.busy": "2023-04-30T19:15:16.596088Z",
     "iopub.status.idle": "2023-04-30T19:15:16.672418Z",
     "shell.execute_reply": "2023-04-30T19:15:16.670771Z"
    },
    "papermill": {
     "duration": 0.097157,
     "end_time": "2023-04-30T19:15:16.675693",
     "exception": false,
     "start_time": "2023-04-30T19:15:16.578536",
     "status": "completed"
    },
    "tags": []
   },
   "outputs": [
    {
     "name": "stdout",
     "output_type": "stream",
     "text": [
      "b'kimi no na wa '\n"
     ]
    }
   ],
   "source": [
    "# convert anime metadata from dataframe to tensorflow Dataset\n",
    "animes = tf.data.Dataset.from_tensor_slices(dict(anime_df[['name', 'genre', 'type', 'episodes', 'score']].rename({'name': 'anime_title'}, axis=1)))\n",
    "animes = animes.map(lambda x: x['anime_title'])\n",
    "\n",
    "for x in animes.take(1).as_numpy_iterator():\n",
    "    pprint.pprint(x)"
   ]
  },
  {
   "cell_type": "code",
   "execution_count": 34,
   "id": "ae7f4c92",
   "metadata": {
    "execution": {
     "iopub.execute_input": "2023-04-30T19:15:16.713720Z",
     "iopub.status.busy": "2023-04-30T19:15:16.713057Z",
     "iopub.status.idle": "2023-04-30T19:15:21.798221Z",
     "shell.execute_reply": "2023-04-30T19:15:21.796891Z"
    },
    "papermill": {
     "duration": 5.106029,
     "end_time": "2023-04-30T19:15:21.801520",
     "exception": false,
     "start_time": "2023-04-30T19:15:16.695491",
     "status": "completed"
    },
    "tags": []
   },
   "outputs": [],
   "source": [
    "# create vocabulary of all features\n",
    "# vocabulary of user ids\n",
    "vocab_user_ids = rating_df['user_id'].unique().astype(str)\n",
    "\n",
    "# vocabulary of anime titles\n",
    "vocab_anime_titles = rating_df['name'].unique().astype(str)\n",
    "\n",
    "# vocabulary of genres\n",
    "vocab_genres = rating_df['genre'].unique().astype(str)\n",
    "\n",
    "# vocabulary of type\n",
    "vocab_types = rating_df['type'].unique().astype(str)\n",
    "\n",
    "# vocabulary of episodes\n",
    "vocab_episodes = rating_df['episodes'].unique().astype(float)\n",
    "\n",
    "# vocabulary of score\n",
    "vocab_scores = rating_df['score'].unique().astype(float)"
   ]
  },
  {
   "cell_type": "code",
   "execution_count": 35,
   "id": "73e7112e",
   "metadata": {
    "execution": {
     "iopub.execute_input": "2023-04-30T19:15:21.834669Z",
     "iopub.status.busy": "2023-04-30T19:15:21.834231Z",
     "iopub.status.idle": "2023-04-30T19:15:21.883696Z",
     "shell.execute_reply": "2023-04-30T19:15:21.882647Z"
    },
    "papermill": {
     "duration": 0.069924,
     "end_time": "2023-04-30T19:15:21.886857",
     "exception": false,
     "start_time": "2023-04-30T19:15:21.816933",
     "status": "completed"
    },
    "tags": []
   },
   "outputs": [],
   "source": [
    "# shuffle and split data: train, valid, test\n",
    "# set seed\n",
    "tf.random.set_seed(42)\n",
    "\n",
    "# total data points\n",
    "N = rating_df.shape[0]\n",
    "\n",
    "# total train data points\n",
    "N_train = int(0.6 * N)\n",
    "\n",
    "# total valid data points\n",
    "N_valid = int(0.2 * N)\n",
    "\n",
    "# total test data points\n",
    "N_test = N - (N_train + N_valid)\n",
    "\n",
    "# shuffle data\n",
    "shuffled = ratings.shuffle(N, seed=42, reshuffle_each_iteration=False)\n",
    "\n",
    "# # split data\n",
    "train = shuffled.take(N_train)\n",
    "valid = shuffled.skip(N_train).take(N_valid)\n",
    "test = shuffled.skip((N_train + N_valid)).take(N_test)"
   ]
  },
  {
   "cell_type": "markdown",
   "id": "23fed53d",
   "metadata": {
    "papermill": {
     "duration": 0.01526,
     "end_time": "2023-04-30T19:15:21.917650",
     "exception": false,
     "start_time": "2023-04-30T19:15:21.902390",
     "status": "completed"
    },
    "tags": []
   },
   "source": [
    "## Ranking Model using Metadata"
   ]
  },
  {
   "cell_type": "markdown",
   "id": "66afee2e",
   "metadata": {
    "papermill": {
     "duration": 0.015509,
     "end_time": "2023-04-30T19:15:21.949788",
     "exception": false,
     "start_time": "2023-04-30T19:15:21.934279",
     "status": "completed"
    },
    "tags": []
   },
   "source": [
    "### Model Architecture: Base Ranking Model"
   ]
  },
  {
   "cell_type": "code",
   "execution_count": 36,
   "id": "8eda4a12",
   "metadata": {
    "execution": {
     "iopub.execute_input": "2023-04-30T19:15:21.985018Z",
     "iopub.status.busy": "2023-04-30T19:15:21.984558Z",
     "iopub.status.idle": "2023-04-30T19:15:22.001415Z",
     "shell.execute_reply": "2023-04-30T19:15:22.000088Z"
    },
    "papermill": {
     "duration": 0.039445,
     "end_time": "2023-04-30T19:15:22.005087",
     "exception": false,
     "start_time": "2023-04-30T19:15:21.965642",
     "status": "completed"
    },
    "tags": []
   },
   "outputs": [],
   "source": [
    "# Base Ranking Model\n",
    "class RankingModel(tf.keras.Model):\n",
    "\n",
    "    def __init__(self):\n",
    "        super().__init__()\n",
    "        embedding_dimension = 32\n",
    "\n",
    "        # user_id embedding\n",
    "        self.user_id_embedding = tf.keras.Sequential([\n",
    "          tf.keras.layers.StringLookup(vocabulary=vocab_user_ids, mask_token=None),\n",
    "          tf.keras.layers.Embedding(len(vocab_user_ids) + 1, embedding_dimension)\n",
    "        ])\n",
    "        \n",
    "        # anime title embedding\n",
    "        self.anime_title_embedding = tf.keras.Sequential([\n",
    "          tf.keras.layers.StringLookup(vocabulary=vocab_anime_titles, mask_token=None),\n",
    "          tf.keras.layers.Embedding(len(vocab_anime_titles) + 1, embedding_dimension)\n",
    "        ])\n",
    "        \n",
    "        # meta embeddings\n",
    "        # genre embedding\n",
    "        self.genre_embedding = tf.keras.Sequential([\n",
    "          tf.keras.layers.StringLookup(vocabulary=vocab_genres, mask_token=None),\n",
    "          tf.keras.layers.Embedding(len(vocab_genres) + 1, embedding_dimension)\n",
    "        ])\n",
    "        \n",
    "        # type embedding\n",
    "        self.type_embedding = tf.keras.Sequential([\n",
    "          tf.keras.layers.StringLookup(vocabulary=vocab_types, mask_token=None),\n",
    "          tf.keras.layers.Embedding(len(vocab_types) + 1, embedding_dimension)\n",
    "        ])\n",
    "        \n",
    "        # episodes embedding\n",
    "        self.episodes_embedding = tf.keras.Sequential([\n",
    "            tf.keras.layers.IntegerLookup(vocabulary=vocab_episodes, mask_value=None),\n",
    "            tf.keras.layers.Embedding(len(vocab_episodes) + 1, embedding_dimension)\n",
    "        ])\n",
    "        \n",
    "        # score embedding\n",
    "        self.score_embedding = tf.keras.Sequential([\n",
    "            tf.keras.layers.Embedding(len(vocab_scores) + 1, embedding_dimension)\n",
    "        ])\n",
    "\n",
    "        # predicts ratings\n",
    "        self.ratings = tf.keras.Sequential([\n",
    "          tf.keras.layers.Dense(256, activation=\"relu\"),\n",
    "          tf.keras.layers.Dense(128, activation=\"relu\"),\n",
    "          tf.keras.layers.Dense(64, activation=\"relu\"),\n",
    "          tf.keras.layers.Dense(1)\n",
    "        ])\n",
    "\n",
    "    def call(self, inputs):\n",
    "        user_ids, anime_titles, genres, types, episodes, scores  = inputs\n",
    "\n",
    "        # generate embedding for the user ids\n",
    "        user_id_embedding = self.user_id_embedding(user_ids)\n",
    "        \n",
    "        # generate embedding for the anime titles\n",
    "        anime_title_embedding = self.anime_title_embedding(anime_titles)\n",
    "        \n",
    "        # generate embedding for the genres\n",
    "        genre_embedding = self.genre_embedding(genres)\n",
    "        \n",
    "        # generate embedding for the types\n",
    "        type_embedding = self.type_embedding(types)\n",
    "        \n",
    "        # generate embedding for episodes\n",
    "        episodes_embedding = self.episodes_embedding(episodes)\n",
    "        \n",
    "        # generate embedding for scores\n",
    "        score_embedding = self.score_embedding(scores)\n",
    "\n",
    "        # predict and return the ratings\n",
    "        return self.ratings(tf.concat([\n",
    "            user_id_embedding, \n",
    "            anime_title_embedding, \n",
    "            genre_embedding, \n",
    "            type_embedding,\n",
    "            episodes_embedding,\n",
    "            score_embedding\n",
    "        ], axis=1))"
   ]
  },
  {
   "cell_type": "markdown",
   "id": "0059fc3e",
   "metadata": {
    "papermill": {
     "duration": 0.015321,
     "end_time": "2023-04-30T19:15:22.036184",
     "exception": false,
     "start_time": "2023-04-30T19:15:22.020863",
     "status": "completed"
    },
    "tags": []
   },
   "source": [
    "### Model Architecture: AnimeRankingModel"
   ]
  },
  {
   "cell_type": "code",
   "execution_count": 37,
   "id": "42dc49a8",
   "metadata": {
    "execution": {
     "iopub.execute_input": "2023-04-30T19:15:22.069359Z",
     "iopub.status.busy": "2023-04-30T19:15:22.068928Z",
     "iopub.status.idle": "2023-04-30T19:15:22.078851Z",
     "shell.execute_reply": "2023-04-30T19:15:22.077634Z"
    },
    "papermill": {
     "duration": 0.029743,
     "end_time": "2023-04-30T19:15:22.081263",
     "exception": false,
     "start_time": "2023-04-30T19:15:22.051520",
     "status": "completed"
    },
    "tags": []
   },
   "outputs": [],
   "source": [
    "# wrapper for Base Ranking Model\n",
    "class AnimeRankingModel(tfrs.models.Model):\n",
    "    def __init__(self):\n",
    "        super().__init__()\n",
    "        \n",
    "        self.ranking_model: tf.keras.Model = RankingModel()\n",
    "            \n",
    "        self.task: tf.keras.layers.Layer = tfrs.tasks.Ranking(\n",
    "          loss = tf.keras.losses.MeanSquaredError(),\n",
    "          metrics=[tf.keras.metrics.RootMeanSquaredError()]\n",
    "        )\n",
    "\n",
    "    def call(self, features: Dict[str, tf.Tensor]):\n",
    "        return self.ranking_model((\n",
    "            features['user_id'], \n",
    "            features['anime_title'], \n",
    "            features['genre'], \n",
    "            features['type'],\n",
    "            features['episodes'],\n",
    "            features['score']\n",
    "        ))\n",
    "\n",
    "    def compute_loss(self, features: Dict[Text, tf.Tensor], training=False):\n",
    "        labels = features.pop('user_rating')\n",
    "\n",
    "        rating_predictions = self(features)\n",
    "\n",
    "        # computes the loss and the metrics\n",
    "        return self.task(labels=labels, predictions=rating_predictions)"
   ]
  },
  {
   "cell_type": "code",
   "execution_count": 38,
   "id": "bbc3ed30",
   "metadata": {
    "execution": {
     "iopub.execute_input": "2023-04-30T19:15:22.116028Z",
     "iopub.status.busy": "2023-04-30T19:15:22.115455Z",
     "iopub.status.idle": "2023-04-30T19:15:22.580835Z",
     "shell.execute_reply": "2023-04-30T19:15:22.579327Z"
    },
    "papermill": {
     "duration": 0.487142,
     "end_time": "2023-04-30T19:15:22.584181",
     "exception": false,
     "start_time": "2023-04-30T19:15:22.097039",
     "status": "completed"
    },
    "tags": []
   },
   "outputs": [],
   "source": [
    "model = AnimeRankingModel()\n",
    "model.compile(optimizer=tf.keras.optimizers.Adam(learning_rate=0.01))"
   ]
  },
  {
   "cell_type": "code",
   "execution_count": 39,
   "id": "2db1c3a7",
   "metadata": {
    "execution": {
     "iopub.execute_input": "2023-04-30T19:15:22.617810Z",
     "iopub.status.busy": "2023-04-30T19:15:22.617408Z",
     "iopub.status.idle": "2023-04-30T19:15:22.637434Z",
     "shell.execute_reply": "2023-04-30T19:15:22.635962Z"
    },
    "papermill": {
     "duration": 0.040611,
     "end_time": "2023-04-30T19:15:22.640627",
     "exception": false,
     "start_time": "2023-04-30T19:15:22.600016",
     "status": "completed"
    },
    "tags": []
   },
   "outputs": [],
   "source": [
    "# prepare train and validation sets\n",
    "cached_train = train.shuffle(N_train).batch(8192).cache()\n",
    "cached_valid = valid.batch(4096).cache()"
   ]
  },
  {
   "cell_type": "code",
   "execution_count": 40,
   "id": "546aad11",
   "metadata": {
    "execution": {
     "iopub.execute_input": "2023-04-30T19:15:22.675079Z",
     "iopub.status.busy": "2023-04-30T19:15:22.674030Z",
     "iopub.status.idle": "2023-04-30T19:24:39.503415Z",
     "shell.execute_reply": "2023-04-30T19:24:39.502178Z"
    },
    "papermill": {
     "duration": 556.849178,
     "end_time": "2023-04-30T19:24:39.506164",
     "exception": false,
     "start_time": "2023-04-30T19:15:22.656986",
     "status": "completed"
    },
    "tags": []
   },
   "outputs": [
    {
     "name": "stdout",
     "output_type": "stream",
     "text": [
      "Epoch 1/5\n",
      "573/573 [==============================] - 296s 111ms/step - root_mean_squared_error: 2.3596 - loss: 5.5648 - regularization_loss: 0.0000e+00 - total_loss: 5.5648\n",
      "Epoch 2/5\n",
      "573/573 [==============================] - 48s 84ms/step - root_mean_squared_error: 2.1097 - loss: 4.4490 - regularization_loss: 0.0000e+00 - total_loss: 4.4490\n",
      "Epoch 3/5\n",
      "573/573 [==============================] - 48s 83ms/step - root_mean_squared_error: 2.0471 - loss: 4.1879 - regularization_loss: 0.0000e+00 - total_loss: 4.1879\n",
      "Epoch 4/5\n",
      "573/573 [==============================] - 48s 84ms/step - root_mean_squared_error: 2.0044 - loss: 4.0150 - regularization_loss: 0.0000e+00 - total_loss: 4.0150\n",
      "Epoch 5/5\n",
      "573/573 [==============================] - 48s 83ms/step - root_mean_squared_error: 1.9503 - loss: 3.7992 - regularization_loss: 0.0000e+00 - total_loss: 3.7992\n"
     ]
    }
   ],
   "source": [
    "history = model.fit(cached_train, epochs=5)"
   ]
  },
  {
   "cell_type": "code",
   "execution_count": 41,
   "id": "07bc7aa2",
   "metadata": {
    "execution": {
     "iopub.execute_input": "2023-04-30T19:24:39.922180Z",
     "iopub.status.busy": "2023-04-30T19:24:39.920828Z",
     "iopub.status.idle": "2023-04-30T19:29:03.426287Z",
     "shell.execute_reply": "2023-04-30T19:29:03.424724Z"
    },
    "papermill": {
     "duration": 263.942978,
     "end_time": "2023-04-30T19:29:03.657647",
     "exception": false,
     "start_time": "2023-04-30T19:24:39.714669",
     "status": "completed"
    },
    "tags": []
   },
   "outputs": [
    {
     "name": "stdout",
     "output_type": "stream",
     "text": [
      "382/382 [==============================] - 240s 54ms/step - root_mean_squared_error: 2.1857 - loss: 4.7770 - regularization_loss: 0.0000e+00 - total_loss: 4.7770\n"
     ]
    },
    {
     "data": {
      "text/plain": [
       "{'root_mean_squared_error': 2.185739517211914,\n",
       " 'loss': 4.657506942749023,\n",
       " 'regularization_loss': 0,\n",
       " 'total_loss': 4.657506942749023}"
      ]
     },
     "execution_count": 41,
     "metadata": {},
     "output_type": "execute_result"
    }
   ],
   "source": [
    "# evaluate the model\n",
    "model.evaluate(cached_valid, return_dict=True)"
   ]
  },
  {
   "cell_type": "code",
   "execution_count": 42,
   "id": "fc3cb1f4",
   "metadata": {
    "execution": {
     "iopub.execute_input": "2023-04-30T19:29:04.110585Z",
     "iopub.status.busy": "2023-04-30T19:29:04.110129Z",
     "iopub.status.idle": "2023-04-30T19:29:04.115287Z",
     "shell.execute_reply": "2023-04-30T19:29:04.114096Z"
    },
    "papermill": {
     "duration": 0.234037,
     "end_time": "2023-04-30T19:29:04.117668",
     "exception": false,
     "start_time": "2023-04-30T19:29:03.883631",
     "status": "completed"
    },
    "tags": []
   },
   "outputs": [],
   "source": [
    "# test_ratings = {}\n",
    "# test_anime_titles = ['Oppai Infinity ! The Animation']\n",
    "# for anime_title in test_anime_titles:\n",
    "#     test_ratings[anime_title] = model({\n",
    "#         \"user_id\": np.array([\"21060\"]),\n",
    "#         \"anime_title\": np.array([anime_title]),\n",
    "#         \"genre\":np.array(['comedy romance']),\n",
    "#         'type': np.array(['tv'])\n",
    "#     })\n",
    "\n",
    "# print(\"Ratings:\")\n",
    "# for title, score in sorted(test_ratings.items(), key=lambda x: x[1], reverse=True):\n",
    "#   print(f\"{title}: {score}\")"
   ]
  }
 ],
 "metadata": {
  "kernelspec": {
   "display_name": "Python 3 (ipykernel)",
   "language": "python",
   "name": "python3"
  },
  "language_info": {
   "codemirror_mode": {
    "name": "ipython",
    "version": 3
   },
   "file_extension": ".py",
   "mimetype": "text/x-python",
   "name": "python",
   "nbconvert_exporter": "python",
   "pygments_lexer": "ipython3",
   "version": "3.7.0"
  },
  "papermill": {
   "default_parameters": {},
   "duration": 919.747459,
   "end_time": "2023-04-30T19:29:07.858372",
   "environment_variables": {},
   "exception": null,
   "input_path": "__notebook__.ipynb",
   "output_path": "__notebook__.ipynb",
   "parameters": {},
   "start_time": "2023-04-30T19:13:48.110913",
   "version": "2.4.0"
  }
 },
 "nbformat": 4,
 "nbformat_minor": 5
}
